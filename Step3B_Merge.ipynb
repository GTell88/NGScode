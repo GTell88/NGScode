{
 "cells": [
  {
   "cell_type": "markdown",
   "metadata": {},
   "source": [
    "# Import requirements"
   ]
  },
  {
   "cell_type": "code",
   "execution_count": 1,
   "metadata": {
    "collapsed": true
   },
   "outputs": [],
   "source": [
    "from __future__ import division\n",
    "import glob\n",
    "import pandas as pd\n",
    "import numpy as np\n",
    "import itertools\n",
    "from collections import Counter\n",
    "import time\n",
    "import matplotlib as mpl\n",
    "import matplotlib.pyplot as plt\n",
    "%matplotlib inline"
   ]
  },
  {
   "cell_type": "markdown",
   "metadata": {},
   "source": [
    "# Filter frequency files"
   ]
  },
  {
   "cell_type": "code",
   "execution_count": 2,
   "metadata": {
    "collapsed": false
   },
   "outputs": [
    {
     "name": "stdout",
     "output_type": "stream",
     "text": [
      "57\n"
     ]
    }
   ],
   "source": [
    "freq_files = glob.glob('/Users/greg/Desktop/FullNeuroIllumina/Diversity/Tat1/*.csv')\n",
    "\n",
    "quality_freq_files = []\n",
    "passed = 0\n",
    "for freq_file in freq_files:\n",
    "    df = pd.read_csv(freq_file)\n",
    "    q = sum(df['Coverage'] > 100) / 72\n",
    "    if q >= 0.8:\n",
    "        #print freq_file\n",
    "        passed+=1\n",
    "        quality_freq_files.append(freq_file)\n",
    "print passed"
   ]
  },
  {
   "cell_type": "code",
   "execution_count": 3,
   "metadata": {
    "collapsed": false
   },
   "outputs": [
    {
     "name": "stdout",
     "output_type": "stream",
     "text": [
      "57\n"
     ]
    }
   ],
   "source": [
    "freq_files = glob.glob('/Users/greg/Desktop/FullNeuroIllumina/Diversity/Tat2/*.csv')\n",
    "\n",
    "quality_freq_files2 = []\n",
    "passed = 0\n",
    "for freq_file in freq_files:\n",
    "    df = pd.read_csv(freq_file)\n",
    "    q = sum(df['Coverage'] > 100) / 14\n",
    "    if q >= 0.8:\n",
    "        #print freq_file\n",
    "        passed+=1\n",
    "        quality_freq_files2.append(freq_file)\n",
    "print passed"
   ]
  },
  {
   "cell_type": "markdown",
   "metadata": {},
   "source": [
    "# Combine frequency files"
   ]
  },
  {
   "cell_type": "code",
   "execution_count": 6,
   "metadata": {
    "collapsed": false
   },
   "outputs": [
    {
     "name": "stdout",
     "output_type": "stream",
     "text": [
      "['Patient', 'Visit', 'Prot', 'AAPos', 'Coverage', 'A', 'R', 'N', 'D', 'C', 'Q', 'E', 'G', 'H', 'I', 'L', 'K', 'M', 'F', 'P', 'S', 'T', 'W', 'Y', 'V']\n",
      "72 143 215 287 359 432 507 579 650 722 794 867 939 1013 1087 1159 1222 1296 1368 1441 1513 1584 1656 1729 1803 1875 1949 2021 2094 2166 2238 2311 2385 2462 2535 2607 2679 2751 2824 2896 2970 3042 3114 3186 3262 3336 3408 3481 3554 3628 3700 3773 3846 3918 3990 4062 4136\n"
     ]
    }
   ],
   "source": [
    "freq_files = quality_freq_files\n",
    "f = freq_files[0]\n",
    "df1 = pd.read_csv(f)\n",
    "cols = list(df1.columns)\n",
    "print cols\n",
    "main_df = pd.DataFrame(columns=cols)\n",
    "\n",
    "for freq_file in freq_files:\n",
    "    df = pd.read_csv(freq_file)\n",
    "    main_df = pd.concat([main_df, df], ignore_index=True)\n",
    "    print main_df.shape[0],"
   ]
  },
  {
   "cell_type": "code",
   "execution_count": 7,
   "metadata": {
    "collapsed": false
   },
   "outputs": [
    {
     "data": {
      "text/html": [
       "<div>\n",
       "<table border=\"1\" class=\"dataframe\">\n",
       "  <thead>\n",
       "    <tr style=\"text-align: right;\">\n",
       "      <th></th>\n",
       "      <th>Patient</th>\n",
       "      <th>Visit</th>\n",
       "      <th>Prot</th>\n",
       "      <th>AAPos</th>\n",
       "      <th>Coverage</th>\n",
       "      <th>A</th>\n",
       "      <th>R</th>\n",
       "      <th>N</th>\n",
       "      <th>D</th>\n",
       "      <th>C</th>\n",
       "      <th>...</th>\n",
       "      <th>L</th>\n",
       "      <th>K</th>\n",
       "      <th>M</th>\n",
       "      <th>F</th>\n",
       "      <th>P</th>\n",
       "      <th>S</th>\n",
       "      <th>T</th>\n",
       "      <th>W</th>\n",
       "      <th>Y</th>\n",
       "      <th>V</th>\n",
       "    </tr>\n",
       "  </thead>\n",
       "  <tbody>\n",
       "    <tr>\n",
       "      <th>0</th>\n",
       "      <td>A0001</td>\n",
       "      <td>R09</td>\n",
       "      <td>Tat1</td>\n",
       "      <td>1</td>\n",
       "      <td>38938</td>\n",
       "      <td>2</td>\n",
       "      <td>84</td>\n",
       "      <td>2</td>\n",
       "      <td>3</td>\n",
       "      <td>81</td>\n",
       "      <td>...</td>\n",
       "      <td>270</td>\n",
       "      <td>66</td>\n",
       "      <td>22002</td>\n",
       "      <td>1</td>\n",
       "      <td>0</td>\n",
       "      <td>33</td>\n",
       "      <td>5</td>\n",
       "      <td>16223</td>\n",
       "      <td>0</td>\n",
       "      <td>8</td>\n",
       "    </tr>\n",
       "    <tr>\n",
       "      <th>1</th>\n",
       "      <td>A0001</td>\n",
       "      <td>R09</td>\n",
       "      <td>Tat1</td>\n",
       "      <td>2</td>\n",
       "      <td>39254</td>\n",
       "      <td>84</td>\n",
       "      <td>133</td>\n",
       "      <td>4</td>\n",
       "      <td>74</td>\n",
       "      <td>45</td>\n",
       "      <td>...</td>\n",
       "      <td>2</td>\n",
       "      <td>3331</td>\n",
       "      <td>3</td>\n",
       "      <td>1</td>\n",
       "      <td>4</td>\n",
       "      <td>16211</td>\n",
       "      <td>15</td>\n",
       "      <td>0</td>\n",
       "      <td>0</td>\n",
       "      <td>26</td>\n",
       "    </tr>\n",
       "    <tr>\n",
       "      <th>2</th>\n",
       "      <td>A0001</td>\n",
       "      <td>R09</td>\n",
       "      <td>Tat1</td>\n",
       "      <td>3</td>\n",
       "      <td>39623</td>\n",
       "      <td>16</td>\n",
       "      <td>36</td>\n",
       "      <td>0</td>\n",
       "      <td>0</td>\n",
       "      <td>1</td>\n",
       "      <td>...</td>\n",
       "      <td>71</td>\n",
       "      <td>50</td>\n",
       "      <td>1</td>\n",
       "      <td>0</td>\n",
       "      <td>23353</td>\n",
       "      <td>33</td>\n",
       "      <td>56</td>\n",
       "      <td>0</td>\n",
       "      <td>0</td>\n",
       "      <td>4</td>\n",
       "    </tr>\n",
       "    <tr>\n",
       "      <th>3</th>\n",
       "      <td>A0001</td>\n",
       "      <td>R09</td>\n",
       "      <td>Tat1</td>\n",
       "      <td>4</td>\n",
       "      <td>25325</td>\n",
       "      <td>15</td>\n",
       "      <td>23</td>\n",
       "      <td>1</td>\n",
       "      <td>6</td>\n",
       "      <td>0</td>\n",
       "      <td>...</td>\n",
       "      <td>94</td>\n",
       "      <td>79</td>\n",
       "      <td>1</td>\n",
       "      <td>0</td>\n",
       "      <td>0</td>\n",
       "      <td>23</td>\n",
       "      <td>0</td>\n",
       "      <td>5</td>\n",
       "      <td>34</td>\n",
       "      <td>24881</td>\n",
       "    </tr>\n",
       "    <tr>\n",
       "      <th>4</th>\n",
       "      <td>A0001</td>\n",
       "      <td>R09</td>\n",
       "      <td>Tat1</td>\n",
       "      <td>5</td>\n",
       "      <td>25874</td>\n",
       "      <td>137</td>\n",
       "      <td>0</td>\n",
       "      <td>3925</td>\n",
       "      <td>21305</td>\n",
       "      <td>1</td>\n",
       "      <td>...</td>\n",
       "      <td>7</td>\n",
       "      <td>20</td>\n",
       "      <td>1</td>\n",
       "      <td>2</td>\n",
       "      <td>2</td>\n",
       "      <td>36</td>\n",
       "      <td>16</td>\n",
       "      <td>0</td>\n",
       "      <td>49</td>\n",
       "      <td>40</td>\n",
       "    </tr>\n",
       "  </tbody>\n",
       "</table>\n",
       "<p>5 rows × 25 columns</p>\n",
       "</div>"
      ],
      "text/plain": [
       "  Patient Visit  Prot  AAPos  Coverage    A    R     N      D   C  ...      L  \\\n",
       "0   A0001   R09  Tat1      1     38938    2   84     2      3  81  ...    270   \n",
       "1   A0001   R09  Tat1      2     39254   84  133     4     74  45  ...      2   \n",
       "2   A0001   R09  Tat1      3     39623   16   36     0      0   1  ...     71   \n",
       "3   A0001   R09  Tat1      4     25325   15   23     1      6   0  ...     94   \n",
       "4   A0001   R09  Tat1      5     25874  137    0  3925  21305   1  ...      7   \n",
       "\n",
       "      K      M  F      P      S   T      W   Y      V  \n",
       "0    66  22002  1      0     33   5  16223   0      8  \n",
       "1  3331      3  1      4  16211  15      0   0     26  \n",
       "2    50      1  0  23353     33  56      0   0      4  \n",
       "3    79      1  0      0     23   0      5  34  24881  \n",
       "4    20      1  2      2     36  16      0  49     40  \n",
       "\n",
       "[5 rows x 25 columns]"
      ]
     },
     "execution_count": 7,
     "metadata": {},
     "output_type": "execute_result"
    }
   ],
   "source": [
    "main_df.head()"
   ]
  },
  {
   "cell_type": "code",
   "execution_count": 8,
   "metadata": {
    "collapsed": false
   },
   "outputs": [
    {
     "name": "stdout",
     "output_type": "stream",
     "text": [
      "['Patient', 'Visit', 'Prot', 'AAPos', 'Coverage', 'A', 'R', 'N', 'D', 'C', 'Q', 'E', 'G', 'H', 'I', 'L', 'K', 'M', 'F', 'P', 'S', 'T', 'W', 'Y', 'V']\n",
      "31 62 93 123 154 185 216 248 279 309 339 370 400 431 462 492 522 553 584 615 646 676 707 738 768 799 829 860 891 922 953 985 1016 1047 1078 1109 1141 1171 1202 1233 1263 1293 1323 1354 1385 1415 1446 1476 1507 1537 1568 1599 1631 1661 1692 1722 1752\n"
     ]
    }
   ],
   "source": [
    "freq_files = quality_freq_files2\n",
    "f = freq_files[0]\n",
    "df2 = pd.read_csv(f)\n",
    "cols = list(df2.columns)\n",
    "main_df2 = pd.DataFrame(columns=cols)\n",
    "print cols\n",
    "\n",
    "for freq_file in freq_files:\n",
    "    df2 = pd.read_csv(freq_file)\n",
    "    main_df2 = pd.concat([main_df2, df2], ignore_index=True)\n",
    "    print main_df2.shape[0],"
   ]
  },
  {
   "cell_type": "code",
   "execution_count": 9,
   "metadata": {
    "collapsed": false
   },
   "outputs": [
    {
     "data": {
      "text/html": [
       "<div>\n",
       "<table border=\"1\" class=\"dataframe\">\n",
       "  <thead>\n",
       "    <tr style=\"text-align: right;\">\n",
       "      <th></th>\n",
       "      <th>Patient</th>\n",
       "      <th>Visit</th>\n",
       "      <th>Prot</th>\n",
       "      <th>AAPos</th>\n",
       "      <th>Coverage</th>\n",
       "      <th>A</th>\n",
       "      <th>R</th>\n",
       "      <th>N</th>\n",
       "      <th>D</th>\n",
       "      <th>C</th>\n",
       "      <th>...</th>\n",
       "      <th>L</th>\n",
       "      <th>K</th>\n",
       "      <th>M</th>\n",
       "      <th>F</th>\n",
       "      <th>P</th>\n",
       "      <th>S</th>\n",
       "      <th>T</th>\n",
       "      <th>W</th>\n",
       "      <th>Y</th>\n",
       "      <th>V</th>\n",
       "    </tr>\n",
       "  </thead>\n",
       "  <tbody>\n",
       "    <tr>\n",
       "      <th>0</th>\n",
       "      <td>A0001</td>\n",
       "      <td>R09</td>\n",
       "      <td>Tat2</td>\n",
       "      <td>1</td>\n",
       "      <td>32279</td>\n",
       "      <td>2</td>\n",
       "      <td>3</td>\n",
       "      <td>86</td>\n",
       "      <td>0</td>\n",
       "      <td>0</td>\n",
       "      <td>...</td>\n",
       "      <td>175</td>\n",
       "      <td>1</td>\n",
       "      <td>14</td>\n",
       "      <td>33</td>\n",
       "      <td>28</td>\n",
       "      <td>90</td>\n",
       "      <td>13</td>\n",
       "      <td>0</td>\n",
       "      <td>1</td>\n",
       "      <td>5</td>\n",
       "    </tr>\n",
       "    <tr>\n",
       "      <th>1</th>\n",
       "      <td>A0001</td>\n",
       "      <td>R09</td>\n",
       "      <td>Tat2</td>\n",
       "      <td>2</td>\n",
       "      <td>32467</td>\n",
       "      <td>38</td>\n",
       "      <td>32161</td>\n",
       "      <td>0</td>\n",
       "      <td>0</td>\n",
       "      <td>4</td>\n",
       "      <td>...</td>\n",
       "      <td>120</td>\n",
       "      <td>0</td>\n",
       "      <td>0</td>\n",
       "      <td>0</td>\n",
       "      <td>47</td>\n",
       "      <td>64</td>\n",
       "      <td>0</td>\n",
       "      <td>0</td>\n",
       "      <td>0</td>\n",
       "      <td>0</td>\n",
       "    </tr>\n",
       "    <tr>\n",
       "      <th>2</th>\n",
       "      <td>A0001</td>\n",
       "      <td>R09</td>\n",
       "      <td>Tat2</td>\n",
       "      <td>3</td>\n",
       "      <td>32663</td>\n",
       "      <td>17</td>\n",
       "      <td>29</td>\n",
       "      <td>0</td>\n",
       "      <td>0</td>\n",
       "      <td>0</td>\n",
       "      <td>...</td>\n",
       "      <td>7</td>\n",
       "      <td>0</td>\n",
       "      <td>0</td>\n",
       "      <td>0</td>\n",
       "      <td>32420</td>\n",
       "      <td>5</td>\n",
       "      <td>72</td>\n",
       "      <td>0</td>\n",
       "      <td>0</td>\n",
       "      <td>0</td>\n",
       "    </tr>\n",
       "    <tr>\n",
       "      <th>3</th>\n",
       "      <td>A0001</td>\n",
       "      <td>R09</td>\n",
       "      <td>Tat2</td>\n",
       "      <td>4</td>\n",
       "      <td>34590</td>\n",
       "      <td>27</td>\n",
       "      <td>23</td>\n",
       "      <td>15</td>\n",
       "      <td>0</td>\n",
       "      <td>0</td>\n",
       "      <td>...</td>\n",
       "      <td>3</td>\n",
       "      <td>0</td>\n",
       "      <td>0</td>\n",
       "      <td>0</td>\n",
       "      <td>34121</td>\n",
       "      <td>20</td>\n",
       "      <td>55</td>\n",
       "      <td>0</td>\n",
       "      <td>0</td>\n",
       "      <td>0</td>\n",
       "    </tr>\n",
       "    <tr>\n",
       "      <th>4</th>\n",
       "      <td>A0001</td>\n",
       "      <td>R09</td>\n",
       "      <td>Tat2</td>\n",
       "      <td>5</td>\n",
       "      <td>34989</td>\n",
       "      <td>14962</td>\n",
       "      <td>1</td>\n",
       "      <td>16</td>\n",
       "      <td>27</td>\n",
       "      <td>0</td>\n",
       "      <td>...</td>\n",
       "      <td>249</td>\n",
       "      <td>0</td>\n",
       "      <td>0</td>\n",
       "      <td>0</td>\n",
       "      <td>165</td>\n",
       "      <td>103</td>\n",
       "      <td>19462</td>\n",
       "      <td>0</td>\n",
       "      <td>0</td>\n",
       "      <td>2</td>\n",
       "    </tr>\n",
       "  </tbody>\n",
       "</table>\n",
       "<p>5 rows × 25 columns</p>\n",
       "</div>"
      ],
      "text/plain": [
       "  Patient Visit  Prot  AAPos  Coverage      A      R   N   D  C ...    L  K  \\\n",
       "0   A0001   R09  Tat2      1     32279      2      3  86   0  0 ...  175  1   \n",
       "1   A0001   R09  Tat2      2     32467     38  32161   0   0  4 ...  120  0   \n",
       "2   A0001   R09  Tat2      3     32663     17     29   0   0  0 ...    7  0   \n",
       "3   A0001   R09  Tat2      4     34590     27     23  15   0  0 ...    3  0   \n",
       "4   A0001   R09  Tat2      5     34989  14962      1  16  27  0 ...  249  0   \n",
       "\n",
       "    M   F      P    S      T  W  Y  V  \n",
       "0  14  33     28   90     13  0  1  5  \n",
       "1   0   0     47   64      0  0  0  0  \n",
       "2   0   0  32420    5     72  0  0  0  \n",
       "3   0   0  34121   20     55  0  0  0  \n",
       "4   0   0    165  103  19462  0  0  2  \n",
       "\n",
       "[5 rows x 25 columns]"
      ]
     },
     "execution_count": 9,
     "metadata": {},
     "output_type": "execute_result"
    }
   ],
   "source": [
    "main_df2.head()"
   ]
  },
  {
   "cell_type": "markdown",
   "metadata": {},
   "source": [
    "# Sort Dataframe"
   ]
  },
  {
   "cell_type": "code",
   "execution_count": 10,
   "metadata": {
    "collapsed": false
   },
   "outputs": [
    {
     "name": "stdout",
     "output_type": "stream",
     "text": [
      "(4136, 25)\n"
     ]
    }
   ],
   "source": [
    "main_df.sort_values(['AAPos','Patient','Visit'],  inplace=True)\n",
    "print main_df.shape"
   ]
  },
  {
   "cell_type": "code",
   "execution_count": 11,
   "metadata": {
    "collapsed": false
   },
   "outputs": [
    {
     "name": "stdout",
     "output_type": "stream",
     "text": [
      "(1752, 25)\n"
     ]
    }
   ],
   "source": [
    "main_df2.sort_values(['AAPos','Patient','Visit'],  inplace=True)\n",
    "print main_df2.shape"
   ]
  },
  {
   "cell_type": "markdown",
   "metadata": {},
   "source": [
    "# Drop positions > 72"
   ]
  },
  {
   "cell_type": "code",
   "execution_count": 12,
   "metadata": {
    "collapsed": false
   },
   "outputs": [
    {
     "name": "stdout",
     "output_type": "stream",
     "text": [
      "(4092, 25)\n"
     ]
    }
   ],
   "source": [
    "sum(main_df['AAPos'] > 72)\n",
    "main_df = main_df[main_df['AAPos'] <= 72]\n",
    "print main_df.shape\n",
    "#main_df.head()"
   ]
  },
  {
   "cell_type": "code",
   "execution_count": 13,
   "metadata": {
    "collapsed": false
   },
   "outputs": [
    {
     "name": "stdout",
     "output_type": "stream",
     "text": [
      "(1653, 25)\n"
     ]
    }
   ],
   "source": [
    "sum(main_df2['AAPos'] > 29)\n",
    "main_df2 = main_df2[main_df2['AAPos'] <= 29]\n",
    "print main_df2.shape"
   ]
  },
  {
   "cell_type": "markdown",
   "metadata": {},
   "source": [
    "# Drop positions with coverage < 100"
   ]
  },
  {
   "cell_type": "code",
   "execution_count": 14,
   "metadata": {
    "collapsed": false
   },
   "outputs": [
    {
     "name": "stdout",
     "output_type": "stream",
     "text": [
      "(4043, 25)\n"
     ]
    }
   ],
   "source": [
    "sum(main_df['Coverage'] < 100)\n",
    "main_df = main_df[main_df['Coverage'] >= 100]\n",
    "print main_df.shape\n",
    "#main_df.head()"
   ]
  },
  {
   "cell_type": "code",
   "execution_count": 15,
   "metadata": {
    "collapsed": false
   },
   "outputs": [
    {
     "name": "stdout",
     "output_type": "stream",
     "text": [
      "(1653, 25)\n"
     ]
    }
   ],
   "source": [
    "sum(main_df2['Coverage'] < 100)\n",
    "main_df2 = main_df2[main_df2['Coverage'] >= 100]\n",
    "print main_df2.shape\n",
    "#main_df.head()"
   ]
  },
  {
   "cell_type": "markdown",
   "metadata": {},
   "source": [
    "# Summarize"
   ]
  },
  {
   "cell_type": "code",
   "execution_count": 16,
   "metadata": {
    "collapsed": false
   },
   "outputs": [
    {
     "name": "stdout",
     "output_type": "stream",
     "text": [
      "6912\n",
      "4043\n",
      "4043\n",
      "3283\n"
     ]
    }
   ],
   "source": [
    "print 96*72\n",
    "print len(main_df['Coverage'])\n",
    "print sum(main_df['Coverage'] > 100)\n",
    "print sum(main_df['Coverage'] > 1000)"
   ]
  },
  {
   "cell_type": "code",
   "execution_count": 17,
   "metadata": {
    "collapsed": false
   },
   "outputs": [
    {
     "name": "stdout",
     "output_type": "stream",
     "text": [
      "2784\n",
      "1653\n",
      "1653\n",
      "1582\n"
     ]
    }
   ],
   "source": [
    "print 96*29\n",
    "print len(main_df2['Coverage'])\n",
    "print sum(main_df2['Coverage'] > 100)\n",
    "print sum(main_df2['Coverage'] > 1000)"
   ]
  },
  {
   "cell_type": "code",
   "execution_count": 18,
   "metadata": {
    "collapsed": false
   },
   "outputs": [
    {
     "data": {
      "text/html": [
       "<div>\n",
       "<table border=\"1\" class=\"dataframe\">\n",
       "  <thead>\n",
       "    <tr style=\"text-align: right;\">\n",
       "      <th></th>\n",
       "      <th>Patient</th>\n",
       "      <th>Visit</th>\n",
       "      <th>Prot</th>\n",
       "      <th>AAPos</th>\n",
       "      <th>Coverage</th>\n",
       "      <th>A</th>\n",
       "      <th>R</th>\n",
       "      <th>N</th>\n",
       "      <th>D</th>\n",
       "      <th>C</th>\n",
       "      <th>...</th>\n",
       "      <th>L</th>\n",
       "      <th>K</th>\n",
       "      <th>M</th>\n",
       "      <th>F</th>\n",
       "      <th>P</th>\n",
       "      <th>S</th>\n",
       "      <th>T</th>\n",
       "      <th>W</th>\n",
       "      <th>Y</th>\n",
       "      <th>V</th>\n",
       "    </tr>\n",
       "  </thead>\n",
       "  <tbody>\n",
       "    <tr>\n",
       "      <th>3552</th>\n",
       "      <td>A0389</td>\n",
       "      <td>R07</td>\n",
       "      <td>Tat1</td>\n",
       "      <td>72</td>\n",
       "      <td>624</td>\n",
       "      <td>1</td>\n",
       "      <td>4</td>\n",
       "      <td>0</td>\n",
       "      <td>0</td>\n",
       "      <td>0</td>\n",
       "      <td>...</td>\n",
       "      <td>618</td>\n",
       "      <td>0</td>\n",
       "      <td>0</td>\n",
       "      <td>0</td>\n",
       "      <td>0</td>\n",
       "      <td>0</td>\n",
       "      <td>0</td>\n",
       "      <td>0</td>\n",
       "      <td>0</td>\n",
       "      <td>0</td>\n",
       "    </tr>\n",
       "    <tr>\n",
       "      <th>3625</th>\n",
       "      <td>A0415</td>\n",
       "      <td>R04</td>\n",
       "      <td>Tat1</td>\n",
       "      <td>72</td>\n",
       "      <td>124</td>\n",
       "      <td>0</td>\n",
       "      <td>1</td>\n",
       "      <td>1</td>\n",
       "      <td>0</td>\n",
       "      <td>0</td>\n",
       "      <td>...</td>\n",
       "      <td>3</td>\n",
       "      <td>1</td>\n",
       "      <td>0</td>\n",
       "      <td>0</td>\n",
       "      <td>2</td>\n",
       "      <td>0</td>\n",
       "      <td>0</td>\n",
       "      <td>0</td>\n",
       "      <td>0</td>\n",
       "      <td>0</td>\n",
       "    </tr>\n",
       "    <tr>\n",
       "      <th>3771</th>\n",
       "      <td>A0421</td>\n",
       "      <td>R04</td>\n",
       "      <td>Tat1</td>\n",
       "      <td>72</td>\n",
       "      <td>608</td>\n",
       "      <td>0</td>\n",
       "      <td>21</td>\n",
       "      <td>0</td>\n",
       "      <td>0</td>\n",
       "      <td>0</td>\n",
       "      <td>...</td>\n",
       "      <td>383</td>\n",
       "      <td>0</td>\n",
       "      <td>0</td>\n",
       "      <td>0</td>\n",
       "      <td>4</td>\n",
       "      <td>1</td>\n",
       "      <td>0</td>\n",
       "      <td>0</td>\n",
       "      <td>0</td>\n",
       "      <td>0</td>\n",
       "    </tr>\n",
       "    <tr>\n",
       "      <th>3917</th>\n",
       "      <td>A0465</td>\n",
       "      <td>R03</td>\n",
       "      <td>Tat1</td>\n",
       "      <td>72</td>\n",
       "      <td>231</td>\n",
       "      <td>0</td>\n",
       "      <td>0</td>\n",
       "      <td>0</td>\n",
       "      <td>0</td>\n",
       "      <td>0</td>\n",
       "      <td>...</td>\n",
       "      <td>230</td>\n",
       "      <td>0</td>\n",
       "      <td>0</td>\n",
       "      <td>0</td>\n",
       "      <td>0</td>\n",
       "      <td>0</td>\n",
       "      <td>0</td>\n",
       "      <td>0</td>\n",
       "      <td>0</td>\n",
       "      <td>0</td>\n",
       "    </tr>\n",
       "    <tr>\n",
       "      <th>4133</th>\n",
       "      <td>A0500</td>\n",
       "      <td>R03</td>\n",
       "      <td>Tat1</td>\n",
       "      <td>72</td>\n",
       "      <td>676</td>\n",
       "      <td>0</td>\n",
       "      <td>1</td>\n",
       "      <td>0</td>\n",
       "      <td>0</td>\n",
       "      <td>0</td>\n",
       "      <td>...</td>\n",
       "      <td>662</td>\n",
       "      <td>0</td>\n",
       "      <td>0</td>\n",
       "      <td>0</td>\n",
       "      <td>2</td>\n",
       "      <td>0</td>\n",
       "      <td>0</td>\n",
       "      <td>0</td>\n",
       "      <td>0</td>\n",
       "      <td>0</td>\n",
       "    </tr>\n",
       "  </tbody>\n",
       "</table>\n",
       "<p>5 rows × 25 columns</p>\n",
       "</div>"
      ],
      "text/plain": [
       "     Patient Visit  Prot  AAPos  Coverage  A   R  N  D  C ...    L  K  M  F  \\\n",
       "3552   A0389   R07  Tat1     72       624  1   4  0  0  0 ...  618  0  0  0   \n",
       "3625   A0415   R04  Tat1     72       124  0   1  1  0  0 ...    3  1  0  0   \n",
       "3771   A0421   R04  Tat1     72       608  0  21  0  0  0 ...  383  0  0  0   \n",
       "3917   A0465   R03  Tat1     72       231  0   0  0  0  0 ...  230  0  0  0   \n",
       "4133   A0500   R03  Tat1     72       676  0   1  0  0  0 ...  662  0  0  0   \n",
       "\n",
       "      P  S  T  W  Y  V  \n",
       "3552  0  0  0  0  0  0  \n",
       "3625  2  0  0  0  0  0  \n",
       "3771  4  1  0  0  0  0  \n",
       "3917  0  0  0  0  0  0  \n",
       "4133  2  0  0  0  0  0  \n",
       "\n",
       "[5 rows x 25 columns]"
      ]
     },
     "execution_count": 18,
     "metadata": {},
     "output_type": "execute_result"
    }
   ],
   "source": [
    "main_df.tail()"
   ]
  },
  {
   "cell_type": "code",
   "execution_count": 19,
   "metadata": {
    "collapsed": false
   },
   "outputs": [
    {
     "data": {
      "text/html": [
       "<div>\n",
       "<table border=\"1\" class=\"dataframe\">\n",
       "  <thead>\n",
       "    <tr style=\"text-align: right;\">\n",
       "      <th></th>\n",
       "      <th>Patient</th>\n",
       "      <th>Visit</th>\n",
       "      <th>Prot</th>\n",
       "      <th>AAPos</th>\n",
       "      <th>Coverage</th>\n",
       "      <th>A</th>\n",
       "      <th>R</th>\n",
       "      <th>N</th>\n",
       "      <th>D</th>\n",
       "      <th>C</th>\n",
       "      <th>...</th>\n",
       "      <th>L</th>\n",
       "      <th>K</th>\n",
       "      <th>M</th>\n",
       "      <th>F</th>\n",
       "      <th>P</th>\n",
       "      <th>S</th>\n",
       "      <th>T</th>\n",
       "      <th>W</th>\n",
       "      <th>Y</th>\n",
       "      <th>V</th>\n",
       "    </tr>\n",
       "  </thead>\n",
       "  <tbody>\n",
       "    <tr>\n",
       "      <th>1627</th>\n",
       "      <td>A0421</td>\n",
       "      <td>R04</td>\n",
       "      <td>Tat2</td>\n",
       "      <td>29</td>\n",
       "      <td>14845</td>\n",
       "      <td>0</td>\n",
       "      <td>14751</td>\n",
       "      <td>0</td>\n",
       "      <td>49</td>\n",
       "      <td>0</td>\n",
       "      <td>...</td>\n",
       "      <td>10</td>\n",
       "      <td>0</td>\n",
       "      <td>0</td>\n",
       "      <td>0</td>\n",
       "      <td>5</td>\n",
       "      <td>2</td>\n",
       "      <td>0</td>\n",
       "      <td>0</td>\n",
       "      <td>0</td>\n",
       "      <td>5</td>\n",
       "    </tr>\n",
       "    <tr>\n",
       "      <th>1659</th>\n",
       "      <td>A0465</td>\n",
       "      <td>R03</td>\n",
       "      <td>Tat2</td>\n",
       "      <td>29</td>\n",
       "      <td>6104</td>\n",
       "      <td>3</td>\n",
       "      <td>11</td>\n",
       "      <td>0</td>\n",
       "      <td>47</td>\n",
       "      <td>0</td>\n",
       "      <td>...</td>\n",
       "      <td>2</td>\n",
       "      <td>0</td>\n",
       "      <td>0</td>\n",
       "      <td>0</td>\n",
       "      <td>0</td>\n",
       "      <td>0</td>\n",
       "      <td>0</td>\n",
       "      <td>0</td>\n",
       "      <td>0</td>\n",
       "      <td>12</td>\n",
       "    </tr>\n",
       "    <tr>\n",
       "      <th>1689</th>\n",
       "      <td>A0490</td>\n",
       "      <td>R02</td>\n",
       "      <td>Tat2</td>\n",
       "      <td>29</td>\n",
       "      <td>27420</td>\n",
       "      <td>233</td>\n",
       "      <td>26945</td>\n",
       "      <td>0</td>\n",
       "      <td>88</td>\n",
       "      <td>4</td>\n",
       "      <td>...</td>\n",
       "      <td>71</td>\n",
       "      <td>0</td>\n",
       "      <td>0</td>\n",
       "      <td>0</td>\n",
       "      <td>11</td>\n",
       "      <td>21</td>\n",
       "      <td>9</td>\n",
       "      <td>0</td>\n",
       "      <td>8</td>\n",
       "      <td>0</td>\n",
       "    </tr>\n",
       "    <tr>\n",
       "      <th>1720</th>\n",
       "      <td>A0500</td>\n",
       "      <td>R03</td>\n",
       "      <td>Tat2</td>\n",
       "      <td>29</td>\n",
       "      <td>9109</td>\n",
       "      <td>3</td>\n",
       "      <td>16</td>\n",
       "      <td>0</td>\n",
       "      <td>1</td>\n",
       "      <td>0</td>\n",
       "      <td>...</td>\n",
       "      <td>1</td>\n",
       "      <td>0</td>\n",
       "      <td>0</td>\n",
       "      <td>0</td>\n",
       "      <td>8981</td>\n",
       "      <td>1</td>\n",
       "      <td>3</td>\n",
       "      <td>0</td>\n",
       "      <td>0</td>\n",
       "      <td>2</td>\n",
       "    </tr>\n",
       "    <tr>\n",
       "      <th>1750</th>\n",
       "      <td>A0505</td>\n",
       "      <td>R02</td>\n",
       "      <td>Tat2</td>\n",
       "      <td>29</td>\n",
       "      <td>3981</td>\n",
       "      <td>0</td>\n",
       "      <td>6</td>\n",
       "      <td>3</td>\n",
       "      <td>0</td>\n",
       "      <td>0</td>\n",
       "      <td>...</td>\n",
       "      <td>20</td>\n",
       "      <td>10</td>\n",
       "      <td>0</td>\n",
       "      <td>0</td>\n",
       "      <td>4</td>\n",
       "      <td>0</td>\n",
       "      <td>0</td>\n",
       "      <td>0</td>\n",
       "      <td>0</td>\n",
       "      <td>4</td>\n",
       "    </tr>\n",
       "  </tbody>\n",
       "</table>\n",
       "<p>5 rows × 25 columns</p>\n",
       "</div>"
      ],
      "text/plain": [
       "     Patient Visit  Prot  AAPos  Coverage    A      R  N   D  C ...   L   K  \\\n",
       "1627   A0421   R04  Tat2     29     14845    0  14751  0  49  0 ...  10   0   \n",
       "1659   A0465   R03  Tat2     29      6104    3     11  0  47  0 ...   2   0   \n",
       "1689   A0490   R02  Tat2     29     27420  233  26945  0  88  4 ...  71   0   \n",
       "1720   A0500   R03  Tat2     29      9109    3     16  0   1  0 ...   1   0   \n",
       "1750   A0505   R02  Tat2     29      3981    0      6  3   0  0 ...  20  10   \n",
       "\n",
       "      M  F     P   S  T  W  Y   V  \n",
       "1627  0  0     5   2  0  0  0   5  \n",
       "1659  0  0     0   0  0  0  0  12  \n",
       "1689  0  0    11  21  9  0  8   0  \n",
       "1720  0  0  8981   1  3  0  0   2  \n",
       "1750  0  0     4   0  0  0  0   4  \n",
       "\n",
       "[5 rows x 25 columns]"
      ]
     },
     "execution_count": 19,
     "metadata": {},
     "output_type": "execute_result"
    }
   ],
   "source": [
    "main_df2.tail()"
   ]
  },
  {
   "cell_type": "markdown",
   "metadata": {},
   "source": [
    "# Diversity figure"
   ]
  },
  {
   "cell_type": "code",
   "execution_count": 20,
   "metadata": {
    "collapsed": false
   },
   "outputs": [],
   "source": [
    "main_df2['AAPos'] = main_df2['AAPos'] + 72\n",
    "main_df3 = pd.concat([main_df, main_df2], ignore_index=True)\n",
    "#main_df3.to_csv('/Users/greg/Desktop/FullNeuroIllumina/allPatientProfiles3.csv', index=False)"
   ]
  },
  {
   "cell_type": "code",
   "execution_count": 21,
   "metadata": {
    "collapsed": false
   },
   "outputs": [
    {
     "name": "stdout",
     "output_type": "stream",
     "text": [
      "(5696, 25)\n"
     ]
    }
   ],
   "source": [
    "print main_df3.shape"
   ]
  },
  {
   "cell_type": "code",
   "execution_count": 22,
   "metadata": {
    "collapsed": false
   },
   "outputs": [
    {
     "data": {
      "text/html": [
       "<div>\n",
       "<table border=\"1\" class=\"dataframe\">\n",
       "  <thead>\n",
       "    <tr style=\"text-align: right;\">\n",
       "      <th></th>\n",
       "      <th>Patient</th>\n",
       "      <th>Visit</th>\n",
       "      <th>Prot</th>\n",
       "      <th>AAPos</th>\n",
       "      <th>Coverage</th>\n",
       "      <th>A</th>\n",
       "      <th>R</th>\n",
       "      <th>N</th>\n",
       "      <th>D</th>\n",
       "      <th>C</th>\n",
       "      <th>...</th>\n",
       "      <th>L</th>\n",
       "      <th>K</th>\n",
       "      <th>M</th>\n",
       "      <th>F</th>\n",
       "      <th>P</th>\n",
       "      <th>S</th>\n",
       "      <th>T</th>\n",
       "      <th>W</th>\n",
       "      <th>Y</th>\n",
       "      <th>V</th>\n",
       "    </tr>\n",
       "  </thead>\n",
       "  <tbody>\n",
       "    <tr>\n",
       "      <th>5691</th>\n",
       "      <td>A0421</td>\n",
       "      <td>R04</td>\n",
       "      <td>Tat2</td>\n",
       "      <td>101</td>\n",
       "      <td>14845</td>\n",
       "      <td>0</td>\n",
       "      <td>14751</td>\n",
       "      <td>0</td>\n",
       "      <td>49</td>\n",
       "      <td>0</td>\n",
       "      <td>...</td>\n",
       "      <td>10</td>\n",
       "      <td>0</td>\n",
       "      <td>0</td>\n",
       "      <td>0</td>\n",
       "      <td>5</td>\n",
       "      <td>2</td>\n",
       "      <td>0</td>\n",
       "      <td>0</td>\n",
       "      <td>0</td>\n",
       "      <td>5</td>\n",
       "    </tr>\n",
       "    <tr>\n",
       "      <th>5692</th>\n",
       "      <td>A0465</td>\n",
       "      <td>R03</td>\n",
       "      <td>Tat2</td>\n",
       "      <td>101</td>\n",
       "      <td>6104</td>\n",
       "      <td>3</td>\n",
       "      <td>11</td>\n",
       "      <td>0</td>\n",
       "      <td>47</td>\n",
       "      <td>0</td>\n",
       "      <td>...</td>\n",
       "      <td>2</td>\n",
       "      <td>0</td>\n",
       "      <td>0</td>\n",
       "      <td>0</td>\n",
       "      <td>0</td>\n",
       "      <td>0</td>\n",
       "      <td>0</td>\n",
       "      <td>0</td>\n",
       "      <td>0</td>\n",
       "      <td>12</td>\n",
       "    </tr>\n",
       "    <tr>\n",
       "      <th>5693</th>\n",
       "      <td>A0490</td>\n",
       "      <td>R02</td>\n",
       "      <td>Tat2</td>\n",
       "      <td>101</td>\n",
       "      <td>27420</td>\n",
       "      <td>233</td>\n",
       "      <td>26945</td>\n",
       "      <td>0</td>\n",
       "      <td>88</td>\n",
       "      <td>4</td>\n",
       "      <td>...</td>\n",
       "      <td>71</td>\n",
       "      <td>0</td>\n",
       "      <td>0</td>\n",
       "      <td>0</td>\n",
       "      <td>11</td>\n",
       "      <td>21</td>\n",
       "      <td>9</td>\n",
       "      <td>0</td>\n",
       "      <td>8</td>\n",
       "      <td>0</td>\n",
       "    </tr>\n",
       "    <tr>\n",
       "      <th>5694</th>\n",
       "      <td>A0500</td>\n",
       "      <td>R03</td>\n",
       "      <td>Tat2</td>\n",
       "      <td>101</td>\n",
       "      <td>9109</td>\n",
       "      <td>3</td>\n",
       "      <td>16</td>\n",
       "      <td>0</td>\n",
       "      <td>1</td>\n",
       "      <td>0</td>\n",
       "      <td>...</td>\n",
       "      <td>1</td>\n",
       "      <td>0</td>\n",
       "      <td>0</td>\n",
       "      <td>0</td>\n",
       "      <td>8981</td>\n",
       "      <td>1</td>\n",
       "      <td>3</td>\n",
       "      <td>0</td>\n",
       "      <td>0</td>\n",
       "      <td>2</td>\n",
       "    </tr>\n",
       "    <tr>\n",
       "      <th>5695</th>\n",
       "      <td>A0505</td>\n",
       "      <td>R02</td>\n",
       "      <td>Tat2</td>\n",
       "      <td>101</td>\n",
       "      <td>3981</td>\n",
       "      <td>0</td>\n",
       "      <td>6</td>\n",
       "      <td>3</td>\n",
       "      <td>0</td>\n",
       "      <td>0</td>\n",
       "      <td>...</td>\n",
       "      <td>20</td>\n",
       "      <td>10</td>\n",
       "      <td>0</td>\n",
       "      <td>0</td>\n",
       "      <td>4</td>\n",
       "      <td>0</td>\n",
       "      <td>0</td>\n",
       "      <td>0</td>\n",
       "      <td>0</td>\n",
       "      <td>4</td>\n",
       "    </tr>\n",
       "  </tbody>\n",
       "</table>\n",
       "<p>5 rows × 25 columns</p>\n",
       "</div>"
      ],
      "text/plain": [
       "     Patient Visit  Prot  AAPos  Coverage    A      R  N   D  C ...   L   K  \\\n",
       "5691   A0421   R04  Tat2    101     14845    0  14751  0  49  0 ...  10   0   \n",
       "5692   A0465   R03  Tat2    101      6104    3     11  0  47  0 ...   2   0   \n",
       "5693   A0490   R02  Tat2    101     27420  233  26945  0  88  4 ...  71   0   \n",
       "5694   A0500   R03  Tat2    101      9109    3     16  0   1  0 ...   1   0   \n",
       "5695   A0505   R02  Tat2    101      3981    0      6  3   0  0 ...  20  10   \n",
       "\n",
       "      M  F     P   S  T  W  Y   V  \n",
       "5691  0  0     5   2  0  0  0   5  \n",
       "5692  0  0     0   0  0  0  0  12  \n",
       "5693  0  0    11  21  9  0  8   0  \n",
       "5694  0  0  8981   1  3  0  0   2  \n",
       "5695  0  0     4   0  0  0  0   4  \n",
       "\n",
       "[5 rows x 25 columns]"
      ]
     },
     "execution_count": 22,
     "metadata": {},
     "output_type": "execute_result"
    }
   ],
   "source": [
    "main_df3.tail()"
   ]
  },
  {
   "cell_type": "code",
   "execution_count": 67,
   "metadata": {
    "collapsed": false
   },
   "outputs": [],
   "source": [
    "# calculate diversity using a dictionary object as input\n",
    "def diversity_column(counts, hill):\n",
    "    vals = np.array(counts.values(), dtype=np.float64)\n",
    "    vals /= vals.sum()\n",
    "    if hill == 1:\n",
    "        return np.exp(-np.sum(vals*np.log(vals)))\n",
    "    else:\n",
    "        return (vals**hill).sum()**(1/(1-hill))\n",
    "    \n",
    "def modify_dict(d):\n",
    "    for k,v in d.items():\n",
    "        if v == 0.0:\n",
    "           del d[k]\n",
    "    return d\n",
    "\n",
    "cols = ['A','R','N','D','C','Q','E','G','H','I',\n",
    "        'L','K','M','F','P','S','T','W','Y','V']\n",
    "\n",
    "diversity_dict = {'Position':[], 'Diversity':[]}\n",
    "\n",
    "for i, g in main_df3.groupby('AAPos'):\n",
    "    for j, row in g.iterrows():\n",
    "        d = row[cols].to_dict()\n",
    "        d2 = modify_dict(d)\n",
    "        div = diversity_column(d2,1)\n",
    "        diversity_dict['Position'].append(i)\n",
    "        diversity_dict['Diversity'].append(div)\n",
    "        \n",
    "divDF = pd.DataFrame(diversity_dict)"
   ]
  },
  {
   "cell_type": "code",
   "execution_count": 77,
   "metadata": {
    "collapsed": false
   },
   "outputs": [
    {
     "data": {
      "text/html": [
       "<div>\n",
       "<table border=\"1\" class=\"dataframe\">\n",
       "  <thead>\n",
       "    <tr style=\"text-align: right;\">\n",
       "      <th></th>\n",
       "      <th>Maximum</th>\n",
       "      <th>Mean Diversity</th>\n",
       "      <th>Minimum</th>\n",
       "      <th>Position</th>\n",
       "      <th>STD Diversity</th>\n",
       "    </tr>\n",
       "  </thead>\n",
       "  <tbody>\n",
       "    <tr>\n",
       "      <th>0</th>\n",
       "      <td>3.263540</td>\n",
       "      <td>2.441585</td>\n",
       "      <td>2.085797</td>\n",
       "      <td>1</td>\n",
       "      <td>0.356840</td>\n",
       "    </tr>\n",
       "    <tr>\n",
       "      <th>1</th>\n",
       "      <td>3.956289</td>\n",
       "      <td>2.397679</td>\n",
       "      <td>1.872534</td>\n",
       "      <td>2</td>\n",
       "      <td>0.408100</td>\n",
       "    </tr>\n",
       "    <tr>\n",
       "      <th>2</th>\n",
       "      <td>2.343459</td>\n",
       "      <td>2.060685</td>\n",
       "      <td>1.083812</td>\n",
       "      <td>3</td>\n",
       "      <td>0.164713</td>\n",
       "    </tr>\n",
       "    <tr>\n",
       "      <th>3</th>\n",
       "      <td>2.312312</td>\n",
       "      <td>1.269827</td>\n",
       "      <td>1.000000</td>\n",
       "      <td>4</td>\n",
       "      <td>0.343435</td>\n",
       "    </tr>\n",
       "    <tr>\n",
       "      <th>4</th>\n",
       "      <td>2.246121</td>\n",
       "      <td>1.392106</td>\n",
       "      <td>1.086528</td>\n",
       "      <td>5</td>\n",
       "      <td>0.343232</td>\n",
       "    </tr>\n",
       "  </tbody>\n",
       "</table>\n",
       "</div>"
      ],
      "text/plain": [
       "    Maximum  Mean Diversity   Minimum  Position  STD Diversity\n",
       "0  3.263540        2.441585  2.085797         1       0.356840\n",
       "1  3.956289        2.397679  1.872534         2       0.408100\n",
       "2  2.343459        2.060685  1.083812         3       0.164713\n",
       "3  2.312312        1.269827  1.000000         4       0.343435\n",
       "4  2.246121        1.392106  1.086528         5       0.343232"
      ]
     },
     "execution_count": 77,
     "metadata": {},
     "output_type": "execute_result"
    }
   ],
   "source": [
    "div_dict2 = {'Position':[], 'Mean Diversity':[], 'STD Diversity':[],\n",
    "             'Minimum':[], 'Maximum':[]}\n",
    "\n",
    "for i, g in divDF.groupby('Position'):\n",
    "    div_dict2['Position'].append(int(i))\n",
    "    div_dict2['Mean Diversity'].append(np.mean(g['Diversity']))\n",
    "    div_dict2['STD Diversity'].append(np.std(g['Diversity']))\n",
    "    div_dict2['Minimum'].append(min(g['Diversity']))\n",
    "    div_dict2['Maximum'].append(max(g['Diversity']))\n",
    "divDF2 = pd.DataFrame(div_dict2)\n",
    "divDF2.head()"
   ]
  },
  {
   "cell_type": "markdown",
   "metadata": {},
   "source": [
    "# Plot"
   ]
  },
  {
   "cell_type": "code",
   "execution_count": 93,
   "metadata": {
    "collapsed": false
   },
   "outputs": [
    {
     "data": {
      "image/png": "[encoded data removed]",
      "text/plain": [
       "<matplotlib.figure.Figure at 0x1097daa10>"
      ]
     },
     "metadata": {},
     "output_type": "display_data"
    }
   ],
   "source": [
    "# set fonts\n",
    "mpl.rc('font',family='Arial')\n",
    "\n",
    "fig, ax = plt.subplots(figsize=(7,4))\n",
    "L = list(divDF2['Mean Diversity'])\n",
    "L2 = [0] + L\n",
    "E = list(divDF2['STD Diversity'])\n",
    "E2 = [0] + E\n",
    "\n",
    "miny = list(divDF2['Minimum'])\n",
    "maxy = list(divDF2['Maximum'])\n",
    "miny = np.array([0] + miny)\n",
    "maxy = np.array([0] + maxy)\n",
    "\n",
    "y = np.array(L2)\n",
    "x = np.arange(len(L2))\n",
    "\n",
    "# plot it\n",
    "ax.tick_params(axis='both',labelsize=14)\n",
    "ax.plot(x, y, linewidth=2, color='navy')\n",
    "yerr = E2\n",
    "ax.fill_between(x, miny, maxy,facecolor='lightskyblue')\n",
    "\n",
    "ax.set_ylabel('Amino acid diversity',size=18, labelpad=10, weight='bold')\n",
    "ax.set_ylim([1,4])\n",
    "\n",
    "ax.set_xlabel('Tat amino acid position', size=18, labelpad=10, weight='bold')\n",
    "xs = [1,10,20,30,40,50,60,70,80,90,101]\n",
    "ax.set_xticks(xs)\n",
    "ax.set_xlim([1,101])\n",
    "\n",
    "ax.legend([mpl.patches.Patch(color='navy'),\n",
    "           mpl.patches.Patch(color='lightskyblue')],\n",
    "           ['Mean intrapatient diversity', 'Intrapatient diversity min-max range'],\n",
    "           loc=1, ncol=1, fancybox=False, frameon=False,\n",
    "           fontsize=10)\n",
    "\n",
    "plt.tight_layout()\n",
    "plt.show()\n",
    "fig.savefig('/Users/greg/Desktop/TatFigureStuff/illuminadiversity.png',\n",
    "            format='png', dpi=300, bbox_inches='tight')"
   ]
  }
 ],
 "metadata": {
  "kernelspec": {
   "display_name": "Python 2",
   "language": "python",
   "name": "python2"
  },
  "language_info": {
   "codemirror_mode": {
    "name": "ipython",
    "version": 2
   },
   "file_extension": ".py",
   "mimetype": "text/x-python",
   "name": "python",
   "nbconvert_exporter": "python",
   "pygments_lexer": "ipython2",
   "version": "2.7.11"
  }
 },
 "nbformat": 4,
 "nbformat_minor": 0
}
