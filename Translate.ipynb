{
 "cells": [
  {
   "cell_type": "markdown",
   "metadata": {},
   "source": [
    "# Import Requirements"
   ]
  },
  {
   "cell_type": "code",
   "execution_count": 1,
   "metadata": {
    "collapsed": true
   },
   "outputs": [],
   "source": [
    "from __future__ import division\n",
    "import sys\n",
    "import pysam\n",
    "import glob\n",
    "import pandas as pd\n",
    "import numpy as np\n",
    "import itertools\n",
    "from collections import Counter\n",
    "from Bio.Seq import Seq\n",
    "from Bio.Alphabet import generic_dna\n",
    "import time\n",
    "from collections import defaultdict\n",
    "import csv\n",
    "from itertools import islice\n",
    "import matplotlib.pyplot as plt\n",
    "%matplotlib inline"
   ]
  },
  {
   "cell_type": "code",
   "execution_count": 2,
   "metadata": {
    "collapsed": false
   },
   "outputs": [],
   "source": [
    "sys.path.append('/Users/greg/damlarces/')\n",
    "from damlarces.NGSTools import ReadTools"
   ]
  },
  {
   "cell_type": "markdown",
   "metadata": {},
   "source": [
    "# How to read in filepaths"
   ]
  },
  {
   "cell_type": "code",
   "execution_count": 3,
   "metadata": {
    "collapsed": false
   },
   "outputs": [
    {
     "name": "stdout",
     "output_type": "stream",
     "text": [
      "96\n"
     ]
    }
   ],
   "source": [
    "files = glob.glob('/Users/greg/Desktop/FullNeuroIllumina/BAMs/*.bam')\n",
    "f = files[0]\n",
    "print len(files)"
   ]
  },
  {
   "cell_type": "markdown",
   "metadata": {},
   "source": [
    "# Process all Tat 1 files"
   ]
  },
  {
   "cell_type": "code",
   "execution_count": 4,
   "metadata": {
    "collapsed": false
   },
   "outputs": [],
   "source": [
    "files = glob.glob('/Users/greg/Desktop/FullNeuroIllumina/BAMs/*.bam')\n",
    "for f in files:\n",
    "    patient = f.split('/')[-1].split('.')[0].split('-')[0]\n",
    "    visit = f.split('/')[-1].split('.')[0].split('-')[1]"
   ]
  },
  {
   "cell_type": "code",
   "execution_count": 5,
   "metadata": {
    "collapsed": false
   },
   "outputs": [
    {
     "name": "stdout",
     "output_type": "stream",
     "text": [
      "A0001 R09\n",
      "Time: 164.442930937\n",
      "/Users/greg/Desktop/FullNeuroIllumina/AAcounts/A0001-R09.AAcounts.csv\n",
      "A0002 R11\n",
      "Time: 0.341635942459\n",
      "/Users/greg/Desktop/FullNeuroIllumina/AAcounts/A0002-R11.AAcounts.csv\n",
      "A0004 R10\n",
      "Time: 0.108597993851\n",
      "/Users/greg/Desktop/FullNeuroIllumina/AAcounts/A0004-R10.AAcounts.csv\n"
     ]
    },
    {
     "ename": "ValueError",
     "evalue": "Length of new names must be 1, got 5",
     "output_type": "error",
     "traceback": [
      "\u001b[0;31m---------------------------------------------------------------------------\u001b[0m",
      "\u001b[0;31mValueError\u001b[0m                                Traceback (most recent call last)",
      "\u001b[0;32m<ipython-input-5-d47b04111d41>\u001b[0m in \u001b[0;36m<module>\u001b[0;34m()\u001b[0m\n\u001b[1;32m     51\u001b[0m \u001b[0;34m\u001b[0m\u001b[0m\n\u001b[1;32m     52\u001b[0m     \u001b[0mdf\u001b[0m \u001b[0;34m=\u001b[0m \u001b[0mpd\u001b[0m\u001b[0;34m.\u001b[0m\u001b[0mSeries\u001b[0m\u001b[0;34m(\u001b[0m\u001b[0mcounts\u001b[0m\u001b[0;34m)\u001b[0m\u001b[0;34m\u001b[0m\u001b[0m\n\u001b[0;32m---> 53\u001b[0;31m     \u001b[0mdf\u001b[0m\u001b[0;34m.\u001b[0m\u001b[0mindex\u001b[0m\u001b[0;34m.\u001b[0m\u001b[0mnames\u001b[0m \u001b[0;34m=\u001b[0m \u001b[0;34m[\u001b[0m\u001b[0;34m'Patient'\u001b[0m\u001b[0;34m,\u001b[0m \u001b[0;34m'Visit'\u001b[0m\u001b[0;34m,\u001b[0m \u001b[0;34m'ORF'\u001b[0m\u001b[0;34m,\u001b[0m \u001b[0;34m'Position'\u001b[0m\u001b[0;34m,\u001b[0m \u001b[0;34m'AA'\u001b[0m\u001b[0;34m]\u001b[0m\u001b[0;34m\u001b[0m\u001b[0m\n\u001b[0m\u001b[1;32m     54\u001b[0m     \u001b[0mdf\u001b[0m \u001b[0;34m=\u001b[0m \u001b[0mdf\u001b[0m\u001b[0;34m.\u001b[0m\u001b[0mreset_index\u001b[0m\u001b[0;34m(\u001b[0m\u001b[0;34m)\u001b[0m\u001b[0;34m\u001b[0m\u001b[0m\n\u001b[1;32m     55\u001b[0m     \u001b[0mdf\u001b[0m\u001b[0;34m.\u001b[0m\u001b[0mrename\u001b[0m\u001b[0;34m(\u001b[0m\u001b[0mcolumns\u001b[0m\u001b[0;34m=\u001b[0m\u001b[0;34m{\u001b[0m\u001b[0;36m0\u001b[0m\u001b[0;34m:\u001b[0m\u001b[0;34m'Count'\u001b[0m\u001b[0;34m}\u001b[0m\u001b[0;34m,\u001b[0m \u001b[0minplace\u001b[0m\u001b[0;34m=\u001b[0m\u001b[0mTrue\u001b[0m\u001b[0;34m)\u001b[0m\u001b[0;34m\u001b[0m\u001b[0m\n",
      "\u001b[0;32m/Users/greg/anaconda/lib/python2.7/site-packages/pandas/core/index.pyc\u001b[0m in \u001b[0;36m_set_names\u001b[0;34m(self, values, level)\u001b[0m\n\u001b[1;32m    665\u001b[0m         \u001b[0;32mif\u001b[0m \u001b[0mlen\u001b[0m\u001b[0;34m(\u001b[0m\u001b[0mvalues\u001b[0m\u001b[0;34m)\u001b[0m \u001b[0;34m!=\u001b[0m \u001b[0;36m1\u001b[0m\u001b[0;34m:\u001b[0m\u001b[0;34m\u001b[0m\u001b[0m\n\u001b[1;32m    666\u001b[0m             raise ValueError('Length of new names must be 1, got %d'\n\u001b[0;32m--> 667\u001b[0;31m                              % len(values))\n\u001b[0m\u001b[1;32m    668\u001b[0m         \u001b[0mself\u001b[0m\u001b[0;34m.\u001b[0m\u001b[0mname\u001b[0m \u001b[0;34m=\u001b[0m \u001b[0mvalues\u001b[0m\u001b[0;34m[\u001b[0m\u001b[0;36m0\u001b[0m\u001b[0;34m]\u001b[0m\u001b[0;34m\u001b[0m\u001b[0m\n\u001b[1;32m    669\u001b[0m \u001b[0;34m\u001b[0m\u001b[0m\n",
      "\u001b[0;31mValueError\u001b[0m: Length of new names must be 1, got 5"
     ]
    }
   ],
   "source": [
    "files = glob.glob('/Users/greg/Desktop/FullNeuroIllumina/BAMs/*.bam')\n",
    "\n",
    "meta_data = {'Patient':[], 'Visit':[], 'total_reads':[], 'right_length':[], 'no_stop':[]}\n",
    "\n",
    "for f in files:\n",
    "    patient = f.split('/')[-1].split('.')[0].split('-')[0]\n",
    "    visit = f.split('/')[-1].split('.')[0].split('-')[1]\n",
    "    print patient, visit\n",
    "\n",
    "    samfile = pysam.Samfile(f, mode='rb').fetch(region='HXB2:5800-6060')\n",
    "\n",
    "    # time\n",
    "    t = time.time()\n",
    "\n",
    "    counts = defaultdict(int)\n",
    "    it = ReadTools.SeqReadRecord.translate_from_stream(samfile, [('Tat1', 5829, 6046)])\n",
    "    total_reads=0\n",
    "    right_length=0\n",
    "    no_stop=0\n",
    "\n",
    "    all_len = []\n",
    "    for orf in it: \n",
    "        # count total reads\n",
    "        total_reads += 1 \n",
    "        # verify the correct ORF length\n",
    "        if len(orf.seq)==72:\n",
    "            right_length += 1\n",
    "            # check that there is not a premature stop codon\n",
    "            if '*' not in orf.seq:\n",
    "                no_stop+=1\n",
    "                # iterate through the amino acid sequences\n",
    "                for i, aa in enumerate(orf.seq):\n",
    "                    pos = i+1\n",
    "                    # ignore the padded gaps\n",
    "                    if aa != '-':\n",
    "                        counts[(patient, visit, orf.chrom, pos, aa)] += 1\n",
    "\n",
    "    # time\n",
    "    elapsed = time.time() - t\n",
    "    print 'Time:', elapsed\n",
    "\n",
    "    meta_data['Patient'].append(patient)\n",
    "    meta_data['Visit'].append(visit)\n",
    "    meta_data['total_reads'].append(total_reads)\n",
    "    meta_data['right_length'].append(right_length)\n",
    "    meta_data['no_stop'].append(no_stop)\n",
    "    \n",
    "    out_file = f.replace('hivsorted.bam', 'AAcounts.csv')\n",
    "    out_file = out_file.replace('/FullNeuroIllumina/BAMs', '/FullNeuroIllumina/AAcounts')\n",
    "    print out_file\n",
    "    \n",
    "    df = pd.Series(counts)\n",
    "    df.index.names = ['Patient', 'Visit', 'ORF', 'Position', 'AA']\n",
    "    df = df.reset_index()\n",
    "    df.rename(columns={0:'Count'}, inplace=True)\n",
    "    df.to_csv(out_file, index=False)"
   ]
  },
  {
   "cell_type": "code",
   "execution_count": 8,
   "metadata": {
    "collapsed": false
   },
   "outputs": [
    {
     "data": {
      "text/html": [
       "<div>\n",
       "<table border=\"1\" class=\"dataframe\">\n",
       "  <thead>\n",
       "    <tr style=\"text-align: right;\">\n",
       "      <th></th>\n",
       "      <th>Patient</th>\n",
       "      <th>Visit</th>\n",
       "      <th>no_stop</th>\n",
       "      <th>right_length</th>\n",
       "      <th>total_reads</th>\n",
       "    </tr>\n",
       "  </thead>\n",
       "  <tbody>\n",
       "    <tr>\n",
       "      <th>0</th>\n",
       "      <td>A0001</td>\n",
       "      <td>R09</td>\n",
       "      <td>37923</td>\n",
       "      <td>110987</td>\n",
       "      <td>111132</td>\n",
       "    </tr>\n",
       "    <tr>\n",
       "      <th>1</th>\n",
       "      <td>A0002</td>\n",
       "      <td>R11</td>\n",
       "      <td>28</td>\n",
       "      <td>119</td>\n",
       "      <td>119</td>\n",
       "    </tr>\n",
       "    <tr>\n",
       "      <th>2</th>\n",
       "      <td>A0004</td>\n",
       "      <td>R10</td>\n",
       "      <td>0</td>\n",
       "      <td>0</td>\n",
       "      <td>0</td>\n",
       "    </tr>\n",
       "  </tbody>\n",
       "</table>\n",
       "</div>"
      ],
      "text/plain": [
       "  Patient Visit  no_stop  right_length  total_reads\n",
       "0   A0001   R09    37923        110987       111132\n",
       "1   A0002   R11       28           119          119\n",
       "2   A0004   R10        0             0            0"
      ]
     },
     "execution_count": 8,
     "metadata": {},
     "output_type": "execute_result"
    }
   ],
   "source": [
    "pd.DataFrame(meta_data)"
   ]
  },
  {
   "cell_type": "markdown",
   "metadata": {},
   "source": [
    "# Dictionary to dataframe"
   ]
  },
  {
   "cell_type": "code",
   "execution_count": null,
   "metadata": {
    "collapsed": false
   },
   "outputs": [],
   "source": [
    "out_file = f.replace('hivsorted.bam', 'AAcounts.csv')\n",
    "out_file = out_file.replace('/FullNeuroIllumina/BAMs', '/FullNeuroIllumina/AAcounts')\n",
    "print out_file\n",
    "\n",
    "df = pd.Series(counts)\n",
    "df.index.names = ['Patient', 'Visit', 'ORF', 'Position', 'AA']\n",
    "df = df.reset_index()\n",
    "df.rename(columns={0:'Count'}, inplace=True)\n",
    "\n",
    "df.to_csv(out_file, index=False)\n",
    "df.head()"
   ]
  },
  {
   "cell_type": "code",
   "execution_count": null,
   "metadata": {
    "collapsed": false
   },
   "outputs": [],
   "source": [
    "pcts = df.groupby('Position')\n",
    "pcts"
   ]
  },
  {
   "cell_type": "code",
   "execution_count": null,
   "metadata": {
    "collapsed": false
   },
   "outputs": [],
   "source": [
    "df2 = df.groupby(['Position','AA'])['Count'].agg({'Count': 'sum'})\n",
    "df3 = df2.groupby(level=0).apply(lambda x: 100*x/float(x.sum()))\n",
    "df3['Count']"
   ]
  },
  {
   "cell_type": "code",
   "execution_count": null,
   "metadata": {
    "collapsed": false
   },
   "outputs": [],
   "source": [
    "for pos in df.groupby('Position'):\n",
    "    print pos[0], sum(pos[1]['Count'])"
   ]
  }
 ],
 "metadata": {
  "kernelspec": {
   "display_name": "Python 2",
   "language": "python",
   "name": "python2"
  },
  "language_info": {
   "codemirror_mode": {
    "name": "ipython",
    "version": 2
   },
   "file_extension": ".py",
   "mimetype": "text/x-python",
   "name": "python",
   "nbconvert_exporter": "python",
   "pygments_lexer": "ipython2",
   "version": "2.7.11"
  }
 },
 "nbformat": 4,
 "nbformat_minor": 0
}
