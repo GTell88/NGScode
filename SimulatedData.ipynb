{
 "cells": [
  {
   "cell_type": "markdown",
   "metadata": {},
   "source": [
    "# Import requirements"
   ]
  },
  {
   "cell_type": "code",
   "execution_count": 5,
   "metadata": {
    "collapsed": true
   },
   "outputs": [],
   "source": [
    "from __future__ import division\n",
    "import pandas as pd\n",
    "import numpy as np\n",
    "from collections import Counter\n",
    "import time\n",
    "import statsmodels.api as sm\n",
    "import random\n",
    "import matplotlib.pyplot as plt\n",
    "%matplotlib inline"
   ]
  },
  {
   "cell_type": "markdown",
   "metadata": {},
   "source": [
    "# Columns"
   ]
  },
  {
   "cell_type": "code",
   "execution_count": 44,
   "metadata": {
    "collapsed": true
   },
   "outputs": [],
   "source": [
    "sample_col = ['Patient','Visit']\n",
    "demographics_col = ['Age', 'Gender', 'ART']\n",
    "chemistry_col = ['VL','iVL','pVL','CD4','iCD4','nCD4','CD8','iCD8',u'nCD8']\n",
    "neuro_col =['TMHDS','GDS']\n",
    "sequence_col = ['Prot','AAPos','Coverage']\n",
    "aa_col = ['A','R','N','D','C','Q','E','G','H','I','L','K','M','F','P','S','T','W','Y','V']"
   ]
  },
  {
   "cell_type": "code",
   "execution_count": 2,
   "metadata": {
    "collapsed": true
   },
   "outputs": [],
   "source": [
    "def roll(sides, bias_list):\n",
    "    assert len(bias_list) == sides\n",
    "    number = random.uniform(0, sum(bias_list))\n",
    "    current = 0\n",
    "    for i, bias in enumerate(bias_list):\n",
    "        current += bias\n",
    "        if number <= current:\n",
    "            return i + 1\n",
    "        \n",
    "def distributionCounts(coverage, aa_probs):\n",
    "    dist = []\n",
    "    for i in range(coverage):\n",
    "        dist.append(map_dict[roll(20,aa_probs)])\n",
    "    return Counter(dist)"
   ]
  },
  {
   "cell_type": "code",
   "execution_count": 177,
   "metadata": {
    "collapsed": false
   },
   "outputs": [
    {
     "name": "stdout",
     "output_type": "stream",
     "text": [
      "100 20\n",
      "100 20\n"
     ]
    }
   ],
   "source": [
    "aa_prob1 = [80,0,1,10,1,1,1,1,0,0,0,0,1,0,1,1,0,1,0,1]\n",
    "aa_prob2 = [10,0,80,1,1,1,1,1,0,0,0,0,1,0,1,1,0,1,0,1]\n",
    "print sum(aa_prob1), len(aa_prob1)\n",
    "print sum(aa_prob2), len(aa_prob2)\n",
    "aa_num = [1,2,3,4,5,6,7,8,9,10,11,12,13,14,15,16,17,18,19,20]\n",
    "map_dict = dict(zip(aa_num,aa_col))"
   ]
  },
  {
   "cell_type": "markdown",
   "metadata": {},
   "source": [
    "# Fill dictionary"
   ]
  },
  {
   "cell_type": "code",
   "execution_count": 182,
   "metadata": {
    "collapsed": false
   },
   "outputs": [],
   "source": [
    "data_dict = {'GDS':[],\n",
    "             'A':[],'R':[],'N':[],'D':[],'C':[],\n",
    "             'Q':[],'E':[],'G':[],'H':[],'I':[],\n",
    "             'L':[],'K':[],'M':[],'F':[],'P':[],\n",
    "             'S':[],'T':[],'W':[],'Y':[],'V':[]}\n",
    "\n",
    "healthy_samples = 1000\n",
    "disease_samples = 1500\n",
    "others = 5\n",
    "for i in range(healthy_samples):\n",
    "    data_dict['GDS'].append(1)\n",
    "    coverage = random.randint(100,1000)\n",
    "    AACounts = distributionCounts(coverage, aa_prob1)\n",
    "    c = sum(AACounts.values())\n",
    "    for item in aa_col:\n",
    "        #print (item, AACounts[item]/c),\n",
    "        data_dict[item].append((AACounts[item]/c)*100)\n",
    "    \n",
    "for i in range(disease_samples):\n",
    "    data_dict['GDS'].append(0)\n",
    "    coverage = random.randint(100,1000)\n",
    "    AACounts = distributionCounts(coverage, aa_prob2)\n",
    "    c = sum(AACounts.values())\n",
    "    for item in aa_col:\n",
    "        #print (item, AACounts[item]/c),\n",
    "        data_dict[item].append((AACounts[item]/c)*100)\n",
    "        \n",
    "for i in range(others):\n",
    "    data_dict['GDS'].append(0)\n",
    "    coverage = random.randint(100,1000)\n",
    "    AACounts = distributionCounts(coverage, aa_prob1)\n",
    "    c = sum(AACounts.values())\n",
    "    for item in aa_col:\n",
    "        #print (item, AACounts[item]/c),\n",
    "        data_dict[item].append((AACounts[item]/c)*100)"
   ]
  },
  {
   "cell_type": "code",
   "execution_count": 183,
   "metadata": {
    "collapsed": false
   },
   "outputs": [
    {
     "name": "stdout",
     "output_type": "stream",
     "text": [
      "(2505, 21)\n"
     ]
    },
    {
     "data": {
      "text/html": [
       "<div>\n",
       "<table border=\"1\" class=\"dataframe\">\n",
       "  <thead>\n",
       "    <tr style=\"text-align: right;\">\n",
       "      <th></th>\n",
       "      <th>A</th>\n",
       "      <th>C</th>\n",
       "      <th>D</th>\n",
       "      <th>E</th>\n",
       "      <th>F</th>\n",
       "      <th>G</th>\n",
       "      <th>GDS</th>\n",
       "      <th>H</th>\n",
       "      <th>I</th>\n",
       "      <th>K</th>\n",
       "      <th>...</th>\n",
       "      <th>M</th>\n",
       "      <th>N</th>\n",
       "      <th>P</th>\n",
       "      <th>Q</th>\n",
       "      <th>R</th>\n",
       "      <th>S</th>\n",
       "      <th>T</th>\n",
       "      <th>V</th>\n",
       "      <th>W</th>\n",
       "      <th>Y</th>\n",
       "    </tr>\n",
       "  </thead>\n",
       "  <tbody>\n",
       "    <tr>\n",
       "      <th>0</th>\n",
       "      <td>79.907621</td>\n",
       "      <td>0.692841</td>\n",
       "      <td>8.775982</td>\n",
       "      <td>0.692841</td>\n",
       "      <td>0</td>\n",
       "      <td>1.385681</td>\n",
       "      <td>1</td>\n",
       "      <td>0</td>\n",
       "      <td>0</td>\n",
       "      <td>0</td>\n",
       "      <td>...</td>\n",
       "      <td>1.154734</td>\n",
       "      <td>0.692841</td>\n",
       "      <td>1.616628</td>\n",
       "      <td>1.616628</td>\n",
       "      <td>0</td>\n",
       "      <td>0.923788</td>\n",
       "      <td>0</td>\n",
       "      <td>1.385681</td>\n",
       "      <td>1.154734</td>\n",
       "      <td>0</td>\n",
       "    </tr>\n",
       "    <tr>\n",
       "      <th>1</th>\n",
       "      <td>80.569514</td>\n",
       "      <td>0.670017</td>\n",
       "      <td>8.877722</td>\n",
       "      <td>1.005025</td>\n",
       "      <td>0</td>\n",
       "      <td>1.172529</td>\n",
       "      <td>1</td>\n",
       "      <td>0</td>\n",
       "      <td>0</td>\n",
       "      <td>0</td>\n",
       "      <td>...</td>\n",
       "      <td>1.005025</td>\n",
       "      <td>1.172529</td>\n",
       "      <td>0.502513</td>\n",
       "      <td>1.005025</td>\n",
       "      <td>0</td>\n",
       "      <td>1.005025</td>\n",
       "      <td>0</td>\n",
       "      <td>1.842546</td>\n",
       "      <td>1.172529</td>\n",
       "      <td>0</td>\n",
       "    </tr>\n",
       "    <tr>\n",
       "      <th>2</th>\n",
       "      <td>80.813953</td>\n",
       "      <td>0.872093</td>\n",
       "      <td>9.883721</td>\n",
       "      <td>0.581395</td>\n",
       "      <td>0</td>\n",
       "      <td>0.581395</td>\n",
       "      <td>1</td>\n",
       "      <td>0</td>\n",
       "      <td>0</td>\n",
       "      <td>0</td>\n",
       "      <td>...</td>\n",
       "      <td>1.162791</td>\n",
       "      <td>0.872093</td>\n",
       "      <td>0.581395</td>\n",
       "      <td>1.453488</td>\n",
       "      <td>0</td>\n",
       "      <td>1.162791</td>\n",
       "      <td>0</td>\n",
       "      <td>0.581395</td>\n",
       "      <td>1.453488</td>\n",
       "      <td>0</td>\n",
       "    </tr>\n",
       "    <tr>\n",
       "      <th>3</th>\n",
       "      <td>75.121951</td>\n",
       "      <td>0.487805</td>\n",
       "      <td>11.219512</td>\n",
       "      <td>2.439024</td>\n",
       "      <td>0</td>\n",
       "      <td>2.439024</td>\n",
       "      <td>1</td>\n",
       "      <td>0</td>\n",
       "      <td>0</td>\n",
       "      <td>0</td>\n",
       "      <td>...</td>\n",
       "      <td>1.463415</td>\n",
       "      <td>0.487805</td>\n",
       "      <td>0.975610</td>\n",
       "      <td>0.975610</td>\n",
       "      <td>0</td>\n",
       "      <td>0.975610</td>\n",
       "      <td>0</td>\n",
       "      <td>1.463415</td>\n",
       "      <td>1.951220</td>\n",
       "      <td>0</td>\n",
       "    </tr>\n",
       "    <tr>\n",
       "      <th>4</th>\n",
       "      <td>77.302632</td>\n",
       "      <td>0.986842</td>\n",
       "      <td>9.210526</td>\n",
       "      <td>1.809211</td>\n",
       "      <td>0</td>\n",
       "      <td>0.986842</td>\n",
       "      <td>1</td>\n",
       "      <td>0</td>\n",
       "      <td>0</td>\n",
       "      <td>0</td>\n",
       "      <td>...</td>\n",
       "      <td>1.480263</td>\n",
       "      <td>2.138158</td>\n",
       "      <td>1.315789</td>\n",
       "      <td>1.151316</td>\n",
       "      <td>0</td>\n",
       "      <td>2.138158</td>\n",
       "      <td>0</td>\n",
       "      <td>1.151316</td>\n",
       "      <td>0.328947</td>\n",
       "      <td>0</td>\n",
       "    </tr>\n",
       "  </tbody>\n",
       "</table>\n",
       "<p>5 rows × 21 columns</p>\n",
       "</div>"
      ],
      "text/plain": [
       "           A         C          D         E  F         G  GDS  H  I  K ...  \\\n",
       "0  79.907621  0.692841   8.775982  0.692841  0  1.385681    1  0  0  0 ...   \n",
       "1  80.569514  0.670017   8.877722  1.005025  0  1.172529    1  0  0  0 ...   \n",
       "2  80.813953  0.872093   9.883721  0.581395  0  0.581395    1  0  0  0 ...   \n",
       "3  75.121951  0.487805  11.219512  2.439024  0  2.439024    1  0  0  0 ...   \n",
       "4  77.302632  0.986842   9.210526  1.809211  0  0.986842    1  0  0  0 ...   \n",
       "\n",
       "          M         N         P         Q  R         S  T         V         W  \\\n",
       "0  1.154734  0.692841  1.616628  1.616628  0  0.923788  0  1.385681  1.154734   \n",
       "1  1.005025  1.172529  0.502513  1.005025  0  1.005025  0  1.842546  1.172529   \n",
       "2  1.162791  0.872093  0.581395  1.453488  0  1.162791  0  0.581395  1.453488   \n",
       "3  1.463415  0.487805  0.975610  0.975610  0  0.975610  0  1.463415  1.951220   \n",
       "4  1.480263  2.138158  1.315789  1.151316  0  2.138158  0  1.151316  0.328947   \n",
       "\n",
       "   Y  \n",
       "0  0  \n",
       "1  0  \n",
       "2  0  \n",
       "3  0  \n",
       "4  0  \n",
       "\n",
       "[5 rows x 21 columns]"
      ]
     },
     "execution_count": 183,
     "metadata": {},
     "output_type": "execute_result"
    }
   ],
   "source": [
    "sim_data = pd.DataFrame(data_dict)\n",
    "print sim_data.shape\n",
    "sim_data.head()"
   ]
  },
  {
   "cell_type": "code",
   "execution_count": 184,
   "metadata": {
    "collapsed": true
   },
   "outputs": [],
   "source": [
    "def slice_position(df, pos):\n",
    "    m = df['AAPos'] == pos\n",
    "    sliced_df = df[m]\n",
    "    return sliced_df\n",
    "\n",
    "def chooseDataCols(pos_df):\n",
    "    cols = []\n",
    "    cols.extend(['GDS'])\n",
    "    cols.extend(aa_col)\n",
    "    data = pos_df[cols].copy()\n",
    "    data['intercept'] = 1.0\n",
    "    return data\n",
    "\n",
    "def filterX(X, threshold):\n",
    "    t = X.max()>threshold\n",
    "    #t = X.mean()>threshold\n",
    "    filtered_cols = t[t==True].index.tolist()\n",
    "    X = X[filtered_cols]\n",
    "    return X\n",
    "\n",
    "def getXandY(data, threshold):   \n",
    "    train_cols = []\n",
    "    train_cols.extend(aa_col)\n",
    "    train_cols.extend(['intercept'])\n",
    "    y = (data['GDS'] >= 0.5).astype(int)\n",
    "    X = data[train_cols]\n",
    "    X = filterX(X, threshold)\n",
    "    return X, y"
   ]
  },
  {
   "cell_type": "code",
   "execution_count": 185,
   "metadata": {
    "collapsed": false
   },
   "outputs": [
    {
     "name": "stdout",
     "output_type": "stream",
     "text": [
      "Optimization terminated successfully.\n",
      "         Current function value: 0.012114\n",
      "         Iterations 17\n",
      "                           Logit Regression Results                           \n",
      "==============================================================================\n",
      "Dep. Variable:                    GDS   No. Observations:                 2505\n",
      "Model:                          Logit   Df Residuals:                     2500\n",
      "Method:                           MLE   Df Model:                            4\n",
      "Date:                Tue, 29 Mar 2016   Pseudo R-squ.:                  0.9820\n",
      "Time:                        21:49:08   Log-Likelihood:                -30.346\n",
      "converged:                       True   LL-Null:                       -1685.1\n",
      "                                        LLR p-value:                     0.000\n",
      "==============================================================================\n",
      "                 coef    std err          z      P>|z|      [95.0% Conf. Int.]\n",
      "------------------------------------------------------------------------------\n",
      "A              0.1000      0.034      2.941      0.003         0.033     0.167\n",
      "N             -0.4256      0.808     -0.526      0.599        -2.010     1.159\n",
      "D             -0.1585      0.221     -0.718      0.473        -0.592     0.274\n",
      "C             -0.6672      0.603     -1.106      0.269        -1.849     0.515\n",
      "Q              0.1821      0.845      0.215      0.829        -1.475     1.839\n",
      "==============================================================================\n"
     ]
    }
   ],
   "source": [
    "data = chooseDataCols(sim_data)\n",
    "X, y = getXandY(data, 5)\n",
    "# initialize and fit the model\n",
    "logit = sm.Logit(y, X)\n",
    "result = logit.fit()\n",
    "print result.summary()"
   ]
  },
  {
   "cell_type": "code",
   "execution_count": null,
   "metadata": {
    "collapsed": true
   },
   "outputs": [],
   "source": []
  }
 ],
 "metadata": {
  "kernelspec": {
   "display_name": "Python 2",
   "language": "python",
   "name": "python2"
  },
  "language_info": {
   "codemirror_mode": {
    "name": "ipython",
    "version": 2
   },
   "file_extension": ".py",
   "mimetype": "text/x-python",
   "name": "python",
   "nbconvert_exporter": "python",
   "pygments_lexer": "ipython2",
   "version": "2.7.11"
  }
 },
 "nbformat": 4,
 "nbformat_minor": 0
}
