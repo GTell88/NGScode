{
 "cells": [
  {
   "cell_type": "markdown",
   "metadata": {},
   "source": [
    "# Import Requirements"
   ]
  },
  {
   "cell_type": "code",
   "execution_count": 1,
   "metadata": {
    "collapsed": true
   },
   "outputs": [],
   "source": [
    "from __future__ import division\n",
    "import glob\n",
    "import pandas as pd\n",
    "import numpy as np\n",
    "import itertools\n",
    "from collections import Counter\n",
    "import time\n",
    "import matplotlib.pyplot as plt\n",
    "%matplotlib inline"
   ]
  },
  {
   "cell_type": "markdown",
   "metadata": {},
   "source": [
    "# Tat1"
   ]
  },
  {
   "cell_type": "code",
   "execution_count": 4,
   "metadata": {
    "collapsed": false
   },
   "outputs": [
    {
     "data": {
      "text/plain": [
       "96"
      ]
     },
     "execution_count": 4,
     "metadata": {},
     "output_type": "execute_result"
    }
   ],
   "source": [
    "tsv_files = glob.glob('/Users/greg/Desktop/FullNeuroIllumina/Counts/Tat1/*.tsv')\n",
    "len(tsv_files)"
   ]
  },
  {
   "cell_type": "markdown",
   "metadata": {},
   "source": [
    "# Old Functions"
   ]
  },
  {
   "cell_type": "code",
   "execution_count": null,
   "metadata": {
    "collapsed": true
   },
   "outputs": [],
   "source": [
    "def makeFreqDict(csv_file):\n",
    "    #intialize dictionary\n",
    "    aminoacids = 'ARNDCQEGHILKMFPSTWYV'\n",
    "    freq_dict = {'Patient':[], 'Visit':[], 'ORF':[], 'Position':[], 'Coverage':[],\n",
    "                 'A':[],'R':[],'N':[],'D':[],'C':[],'Q':[],'E':[],'G':[],'H':[],'I':[],\n",
    "                 'L':[],'K':[],'M':[],'F':[],'P':[],'S':[],'T':[],'W':[],'Y':[],'V':[]}\n",
    "    #csv to dataframe\n",
    "    df = pd.read_csv(csv_file)\n",
    "    for i, group in df.groupby('Position'):  \n",
    "        #convert counts to percentages\n",
    "        total = sum(group['Count'])\n",
    "        group['Percent'] = group['Count']/total\n",
    "        #print group\n",
    "        #get values for each position\n",
    "        patient = list(group['Patient'])[0]\n",
    "        visit = list(group['Visit'])[0]\n",
    "        orf = list(group['ORF'])[0]\n",
    "        pos = list(group['Position'])[0]\n",
    "        cov = total\n",
    "        #fill up dictionary with values\n",
    "        freq_dict['Patient'].append(patient)\n",
    "        freq_dict['Visit'].append(visit)\n",
    "        freq_dict['ORF'].append(orf)\n",
    "        freq_dict['Position'].append(pos)\n",
    "        freq_dict['Coverage'].append(cov)  \n",
    "        #fill up dictionary with frequencies\n",
    "        for aa in aminoacids:\n",
    "            x = group[group['AA'] == aa]\n",
    "            if x.shape[0] == 0:\n",
    "                freq_dict[aa].append(0)\n",
    "            else:\n",
    "                freq_dict[aa].append(list(x['Percent'])[0])\n",
    "    return freq_dict\n",
    "\n",
    "def freqToDataframe(freq_dict):\n",
    "    col_order = ['Patient','Visit','ORF','Position','Coverage',\n",
    "             'A','R','N','D','C','Q','E','G','H','I',\n",
    "             'L','K','M','F','P','S','T','W','Y','V']\n",
    "    df = pd.DataFrame(freq_dict)[col_order]\n",
    "    return df"
   ]
  }
 ],
 "metadata": {
  "kernelspec": {
   "display_name": "Python 2",
   "language": "python",
   "name": "python2"
  },
  "language_info": {
   "codemirror_mode": {
    "name": "ipython",
    "version": 2
   },
   "file_extension": ".py",
   "mimetype": "text/x-python",
   "name": "python",
   "nbconvert_exporter": "python",
   "pygments_lexer": "ipython2",
   "version": "2.7.11"
  }
 },
 "nbformat": 4,
 "nbformat_minor": 0
}
