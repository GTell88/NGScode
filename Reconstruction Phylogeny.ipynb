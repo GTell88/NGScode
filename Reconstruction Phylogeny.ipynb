{
 "cells": [
  {
   "cell_type": "markdown",
   "metadata": {},
   "source": [
    "# Import requirements"
   ]
  },
  {
   "cell_type": "code",
   "execution_count": 11,
   "metadata": {
    "collapsed": true
   },
   "outputs": [],
   "source": [
    "import pandas as pd\n",
    "import numpy as np\n",
    "import glob\n",
    "from collections import Counter\n",
    "import matplotlib.pyplot as plt\n",
    "%matplotlib inline\n",
    "\n",
    "from Bio import SeqIO\n",
    "from scipy import stats\n",
    "from Bio.Seq import Seq\n",
    "#from Bio.Alphabet import generic_dna"
   ]
  },
  {
   "cell_type": "markdown",
   "metadata": {},
   "source": [
    "# fasta reader function"
   ]
  },
  {
   "cell_type": "code",
   "execution_count": 4,
   "metadata": {
    "collapsed": true
   },
   "outputs": [],
   "source": [
    "def quick_fasta_reader(filepath):\n",
    "    sequence_list = []\n",
    "    for seq_record in SeqIO.parse(filepath,'fasta'):\n",
    "        full_id = seq_record.id\n",
    "        seq = seq_record.seq\n",
    "        x = (full_id, seq)\n",
    "        sequence_list.append(x)\n",
    "    return sequence_list"
   ]
  },
  {
   "cell_type": "markdown",
   "metadata": {},
   "source": [
    "# import QC samples"
   ]
  },
  {
   "cell_type": "code",
   "execution_count": 28,
   "metadata": {
    "collapsed": false
   },
   "outputs": [
    {
     "data": {
      "text/html": [
       "<div>\n",
       "<table border=\"1\" class=\"dataframe\">\n",
       "  <thead>\n",
       "    <tr style=\"text-align: right;\">\n",
       "      <th></th>\n",
       "      <th>Patient</th>\n",
       "      <th>Visit</th>\n",
       "      <th>DateOfVisit</th>\n",
       "      <th>Age</th>\n",
       "      <th>Gender</th>\n",
       "      <th>ART</th>\n",
       "      <th>VL</th>\n",
       "      <th>iVL</th>\n",
       "      <th>pVL</th>\n",
       "      <th>CD4</th>\n",
       "      <th>...</th>\n",
       "      <th>L</th>\n",
       "      <th>K</th>\n",
       "      <th>M</th>\n",
       "      <th>F</th>\n",
       "      <th>P</th>\n",
       "      <th>S</th>\n",
       "      <th>T</th>\n",
       "      <th>W</th>\n",
       "      <th>Y</th>\n",
       "      <th>V</th>\n",
       "    </tr>\n",
       "  </thead>\n",
       "  <tbody>\n",
       "    <tr>\n",
       "      <th>0</th>\n",
       "      <td>A0001</td>\n",
       "      <td>R09</td>\n",
       "      <td>2014-11-10</td>\n",
       "      <td>59</td>\n",
       "      <td>Male</td>\n",
       "      <td>on</td>\n",
       "      <td>20</td>\n",
       "      <td>987</td>\n",
       "      <td>987</td>\n",
       "      <td>797</td>\n",
       "      <td>...</td>\n",
       "      <td>270</td>\n",
       "      <td>66</td>\n",
       "      <td>22002</td>\n",
       "      <td>1</td>\n",
       "      <td>0</td>\n",
       "      <td>33</td>\n",
       "      <td>5</td>\n",
       "      <td>16223</td>\n",
       "      <td>0</td>\n",
       "      <td>8</td>\n",
       "    </tr>\n",
       "    <tr>\n",
       "      <th>1</th>\n",
       "      <td>A0010</td>\n",
       "      <td>R08</td>\n",
       "      <td>2014-11-12</td>\n",
       "      <td>59</td>\n",
       "      <td>Male</td>\n",
       "      <td>on</td>\n",
       "      <td>20</td>\n",
       "      <td>50</td>\n",
       "      <td>470</td>\n",
       "      <td>1167</td>\n",
       "      <td>...</td>\n",
       "      <td>1</td>\n",
       "      <td>1</td>\n",
       "      <td>100</td>\n",
       "      <td>0</td>\n",
       "      <td>0</td>\n",
       "      <td>0</td>\n",
       "      <td>0</td>\n",
       "      <td>69</td>\n",
       "      <td>0</td>\n",
       "      <td>0</td>\n",
       "    </tr>\n",
       "    <tr>\n",
       "      <th>2</th>\n",
       "      <td>A0013</td>\n",
       "      <td>R09</td>\n",
       "      <td>2014-11-10</td>\n",
       "      <td>68</td>\n",
       "      <td>Male</td>\n",
       "      <td>on</td>\n",
       "      <td>20</td>\n",
       "      <td>144</td>\n",
       "      <td>39373</td>\n",
       "      <td>771</td>\n",
       "      <td>...</td>\n",
       "      <td>1</td>\n",
       "      <td>3</td>\n",
       "      <td>170</td>\n",
       "      <td>0</td>\n",
       "      <td>0</td>\n",
       "      <td>1</td>\n",
       "      <td>0</td>\n",
       "      <td>126</td>\n",
       "      <td>0</td>\n",
       "      <td>0</td>\n",
       "    </tr>\n",
       "    <tr>\n",
       "      <th>3</th>\n",
       "      <td>A0019</td>\n",
       "      <td>R12</td>\n",
       "      <td>2015-02-02</td>\n",
       "      <td>46</td>\n",
       "      <td>Female</td>\n",
       "      <td>on</td>\n",
       "      <td>20</td>\n",
       "      <td>99</td>\n",
       "      <td>164020</td>\n",
       "      <td>1130</td>\n",
       "      <td>...</td>\n",
       "      <td>12</td>\n",
       "      <td>5</td>\n",
       "      <td>782</td>\n",
       "      <td>0</td>\n",
       "      <td>0</td>\n",
       "      <td>2</td>\n",
       "      <td>1</td>\n",
       "      <td>672</td>\n",
       "      <td>0</td>\n",
       "      <td>0</td>\n",
       "    </tr>\n",
       "    <tr>\n",
       "      <th>4</th>\n",
       "      <td>A0026</td>\n",
       "      <td>R09</td>\n",
       "      <td>2015-04-30</td>\n",
       "      <td>55</td>\n",
       "      <td>Male</td>\n",
       "      <td>on</td>\n",
       "      <td>67859</td>\n",
       "      <td>100000</td>\n",
       "      <td>100000</td>\n",
       "      <td>137</td>\n",
       "      <td>...</td>\n",
       "      <td>3</td>\n",
       "      <td>0</td>\n",
       "      <td>197</td>\n",
       "      <td>0</td>\n",
       "      <td>0</td>\n",
       "      <td>1</td>\n",
       "      <td>0</td>\n",
       "      <td>130</td>\n",
       "      <td>0</td>\n",
       "      <td>0</td>\n",
       "    </tr>\n",
       "  </tbody>\n",
       "</table>\n",
       "<p>5 rows × 57 columns</p>\n",
       "</div>"
      ],
      "text/plain": [
       "  Patient Visit DateOfVisit  Age  Gender ART     VL     iVL     pVL   CD4 ...  \\\n",
       "0   A0001   R09  2014-11-10   59    Male  on     20     987     987   797 ...   \n",
       "1   A0010   R08  2014-11-12   59    Male  on     20      50     470  1167 ...   \n",
       "2   A0013   R09  2014-11-10   68    Male  on     20     144   39373   771 ...   \n",
       "3   A0019   R12  2015-02-02   46  Female  on     20      99  164020  1130 ...   \n",
       "4   A0026   R09  2015-04-30   55    Male  on  67859  100000  100000   137 ...   \n",
       "\n",
       "     L   K      M  F  P   S  T      W  Y  V  \n",
       "0  270  66  22002  1  0  33  5  16223  0  8  \n",
       "1    1   1    100  0  0   0  0     69  0  0  \n",
       "2    1   3    170  0  0   1  0    126  0  0  \n",
       "3   12   5    782  0  0   2  1    672  0  0  \n",
       "4    3   0    197  0  0   1  0    130  0  0  \n",
       "\n",
       "[5 rows x 57 columns]"
      ]
     },
     "execution_count": 28,
     "metadata": {},
     "output_type": "execute_result"
    }
   ],
   "source": [
    "NGScounts_df = pd.read_csv('/Users/greg/Desktop/FullNeuroIllumina/MergedData/NGS_GDS_counts.csv')\n",
    "NGScounts_df.head()"
   ]
  },
  {
   "cell_type": "code",
   "execution_count": 37,
   "metadata": {
    "collapsed": false
   },
   "outputs": [],
   "source": [
    "qc_list = list(NGScounts_df.Patient + '-' + NGScounts_df.Visit)"
   ]
  },
  {
   "cell_type": "markdown",
   "metadata": {},
   "source": [
    "# import reconstruction files"
   ]
  },
  {
   "cell_type": "code",
   "execution_count": 39,
   "metadata": {
    "collapsed": false
   },
   "outputs": [
    {
     "name": "stdout",
     "output_type": "stream",
     "text": [
      "('A0001-R09', 4)\n",
      "('A0002-R11', 1)\n",
      "('A0010-R08', 1)\n",
      "('A0013-R09', 2)\n",
      "('A0019-R12', 1)\n",
      "('A0026-R09', 2)\n",
      "('A0034-R04', 3)\n",
      "('A0044-R10', 8)\n",
      "('A0045-R03', 1)\n",
      "('A0059-R08', 34)\n",
      "('A0078-R04', 1)\n",
      "('A0082-R06', 17)\n",
      "('A0083-R06', 2)\n",
      "('A0086-R04', 1)\n",
      "('A0097-R03', 1)\n",
      "('A0100-R08', 1)\n",
      "('A0109-R11', 10)\n",
      "('A0111-R05', 1)\n",
      "('A0120-R08', 5)\n",
      "('A0139-R10', 1)\n",
      "('A0145-R08', 1)\n",
      "('A0151-R03', 1)\n",
      "('A0156-R06', 3)\n",
      "('A0171-R05', 2)\n",
      "('A0184-R06', 66)\n",
      "('A0190-R03', 2)\n",
      "('A0208-R05', 1)\n",
      "('A0209-R07', 2)\n",
      "('A0215-R09', 1)\n",
      "('A0218-R04', 4)\n",
      "('A0227-R04', 33)\n",
      "('A0237-R03', 106)\n",
      "('A0239-R05', 13)\n",
      "('A0247-R08', 1)\n",
      "('A0254-R03', 4)\n",
      "('A0256-R05', 2)\n",
      "('A0257-R05', 1)\n",
      "('A0258-R04', 2)\n",
      "('A0268-R02', 10)\n",
      "('A0274-R06', 10)\n",
      "('A0278-R05', 4)\n",
      "('A0284-R09', 3)\n",
      "('A0285-R05', 1)\n",
      "('A0303-R02', 7)\n",
      "('A0310-R04', 2)\n",
      "('A0325-R03', 2)\n",
      "('A0333-R06', 1)\n",
      "('A0342-R03', 1)\n",
      "('A0343-R05', 7)\n",
      "('A0349-R04', 1)\n",
      "('A0357-R04', 1)\n",
      "('A0359-R07', 1)\n",
      "('A0364-R03', 1)\n",
      "('A0367-R07', 51)\n",
      "('A0379-R06', 19)\n",
      "('A0380-R05', 1)\n",
      "('A0388-R04', 71)\n",
      "('A0389-R07', 1)\n",
      "('A0413-R07', 1)\n",
      "('A0415-R04', 6)\n",
      "('A0417-R03', 8)\n",
      "('A0421-R04', 18)\n",
      "('A0429-R04', 4)\n",
      "('A0465-R03', 2)\n",
      "('A0470-R02', 128)\n"
     ]
    }
   ],
   "source": [
    "files = glob.glob('/Users/greg/Desktop/FullNeuroIllumina/Reconstructions/TatRecons/*.fasta')\n",
    "for fpath in files:\n",
    "    seq_list = quick_fasta_reader(fpath)\n",
    "    sample = fpath.split('/')[-1].split('.')[0]\n",
    "    if sample in qc_list:\n",
    "        print (sample, len(seq_list))"
   ]
  },
  {
   "cell_type": "code",
   "execution_count": 38,
   "metadata": {
    "collapsed": false
   },
   "outputs": [
    {
     "name": "stdout",
     "output_type": "stream",
     "text": [
      "[('read0_1.0', Seq('ACAGTCCGACTCATCAAGTTTCTCTATCAAAGCAGTAA', SingleLetterAlphabet()))]\n"
     ]
    }
   ],
   "source": [
    "print seq_list"
   ]
  },
  {
   "cell_type": "code",
   "execution_count": null,
   "metadata": {
    "collapsed": true
   },
   "outputs": [],
   "source": []
  }
 ],
 "metadata": {
  "kernelspec": {
   "display_name": "Python 2",
   "language": "python",
   "name": "python2"
  },
  "language_info": {
   "codemirror_mode": {
    "name": "ipython",
    "version": 2
   },
   "file_extension": ".py",
   "mimetype": "text/x-python",
   "name": "python",
   "nbconvert_exporter": "python",
   "pygments_lexer": "ipython2",
   "version": "2.7.11"
  }
 },
 "nbformat": 4,
 "nbformat_minor": 0
}
