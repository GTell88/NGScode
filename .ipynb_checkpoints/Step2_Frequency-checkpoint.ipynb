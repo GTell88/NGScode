{
 "cells": [
  {
   "cell_type": "markdown",
   "metadata": {},
   "source": [
    "# Import Requirements"
   ]
  },
  {
   "cell_type": "code",
   "execution_count": 1,
   "metadata": {
    "collapsed": true
   },
   "outputs": [],
   "source": [
    "from __future__ import division\n",
    "import glob\n",
    "import pandas as pd\n",
    "import numpy as np\n",
    "import itertools\n",
    "from collections import Counter\n",
    "import time\n",
    "import matplotlib.pyplot as plt\n",
    "%matplotlib inline"
   ]
  },
  {
   "cell_type": "markdown",
   "metadata": {},
   "source": [
    "# Define functions"
   ]
  },
  {
   "cell_type": "code",
   "execution_count": 2,
   "metadata": {
    "collapsed": false
   },
   "outputs": [],
   "source": [
    "def tsvfile_to_df(tsv_file):\n",
    "    patient = tsv_file.split('/')[-1].split('.')[0].split('-')[0]\n",
    "    visit = tsv_file.split('/')[-1].split('.')[0].split('-')[1]\n",
    "    df = pd.read_csv(tsv_file, delimiter='\\t')\n",
    "    df['AAPos'] = df['AAPos']+1\n",
    "    df['Patient'] = patient\n",
    "    df['Visit'] = visit\n",
    "    order = ['Patient','Visit','Prot','AAPos','AA','Count']\n",
    "    df = df[order]\n",
    "    return df\n",
    "\n",
    "def remove_gaps(df):\n",
    "    nogaps_df = df[df['AA']!='*']\n",
    "    return nogaps_df\n",
    "\n",
    "def makeFreqDict(df):\n",
    "    #intialize dictionary\n",
    "    aminoacids = 'ARNDCQEGHILKMFPSTWYV'\n",
    "    freq_dict = {'Patient':[], 'Visit':[], 'Prot':[], 'AAPos':[], 'Coverage':[],\n",
    "                 'A':[],'R':[],'N':[],'D':[],'C':[],'Q':[],'E':[],'G':[],'H':[],'I':[],\n",
    "                 'L':[],'K':[],'M':[],'F':[],'P':[],'S':[],'T':[],'W':[],'Y':[],'V':[],}\n",
    "\n",
    "    for i, group in df.groupby('AAPos'):  \n",
    "        #convert counts to percentages\n",
    "        total = sum(group['Count'])\n",
    "        group['Percent'] = group['Count']/total\n",
    "        #print group\n",
    "        #get values for each position\n",
    "        patient = list(group['Patient'])[0]\n",
    "        visit = list(group['Visit'])[0]\n",
    "        orf = list(group['Prot'])[0]\n",
    "        pos = list(group['AAPos'])[0]\n",
    "        cov = total\n",
    "        #fill up dictionary with values\n",
    "        freq_dict['Patient'].append(patient)\n",
    "        freq_dict['Visit'].append(visit)\n",
    "        freq_dict['Prot'].append(orf)\n",
    "        freq_dict['AAPos'].append(pos)\n",
    "        freq_dict['Coverage'].append(cov)  \n",
    "        #fill up dictionary with frequencies\n",
    "        for aa in aminoacids:\n",
    "            x = group[group['AA'] == aa]\n",
    "            if x.shape[0] == 0:\n",
    "                freq_dict[aa].append(0)\n",
    "            else:\n",
    "                freq_dict[aa].append(list(x['Percent'])[0])\n",
    "    return freq_dict\n",
    "\n",
    "def freqToDataframe(freq_dict):\n",
    "    col_order = ['Patient','Visit','Prot','AAPos','Coverage',\n",
    "             'A','R','N','D','C','Q','E','G','H','I',\n",
    "             'L','K','M','F','P','S','T','W','Y','V']\n",
    "    freq_df = pd.DataFrame(freq_dict)[col_order]\n",
    "    return freq_df"
   ]
  },
  {
   "cell_type": "markdown",
   "metadata": {},
   "source": [
    "# Process Tat 1"
   ]
  },
  {
   "cell_type": "code",
   "execution_count": 3,
   "metadata": {
    "collapsed": false
   },
   "outputs": [
    {
     "name": "stdout",
     "output_type": "stream",
     "text": [
      "179.859394073\n"
     ]
    },
    {
     "name": "stderr",
     "output_type": "stream",
     "text": [
      "/Users/greg/anaconda/lib/python2.7/site-packages/ipykernel/__main__.py:26: SettingWithCopyWarning: \n",
      "A value is trying to be set on a copy of a slice from a DataFrame.\n",
      "Try using .loc[row_indexer,col_indexer] = value instead\n",
      "\n",
      "See the caveats in the documentation: http://pandas.pydata.org/pandas-docs/stable/indexing.html#indexing-view-versus-copy\n"
     ]
    }
   ],
   "source": [
    "t = time.time()\n",
    "\n",
    "tsv_files = glob.glob('/Users/greg/Desktop/FullNeuroIllumina/Counts/Tat1/*.tsv')\n",
    "\n",
    "for tsv_file in tsv_files:\n",
    "    \n",
    "    out_file = tsv_file.replace('/Counts/','/Frequency/').replace('.AAcounts.tsv','.AAfreq.csv')\n",
    "    df = tsvfile_to_df(tsv_file)\n",
    "    nogap_df = remove_gaps(df)\n",
    "    freq_dict = makeFreqDict(nogap_df)\n",
    "    freq_df = freqToDataframe(freq_dict)\n",
    "    freq_df.to_csv(out_file, index=False)\n",
    "    \n",
    "elapsed = time.time() - t\n",
    "print elapsed"
   ]
  },
  {
   "cell_type": "markdown",
   "metadata": {},
   "source": [
    "# Process Tat 2"
   ]
  },
  {
   "cell_type": "code",
   "execution_count": 4,
   "metadata": {
    "collapsed": false
   },
   "outputs": [
    {
     "name": "stdout",
     "output_type": "stream",
     "text": [
      "84.8360261917\n"
     ]
    },
    {
     "name": "stderr",
     "output_type": "stream",
     "text": [
      "/Users/greg/anaconda/lib/python2.7/site-packages/ipykernel/__main__.py:26: SettingWithCopyWarning: \n",
      "A value is trying to be set on a copy of a slice from a DataFrame.\n",
      "Try using .loc[row_indexer,col_indexer] = value instead\n",
      "\n",
      "See the caveats in the documentation: http://pandas.pydata.org/pandas-docs/stable/indexing.html#indexing-view-versus-copy\n"
     ]
    }
   ],
   "source": [
    "t = time.time()\n",
    "\n",
    "tsv_files = glob.glob('/Users/greg/Desktop/FullNeuroIllumina/Counts/Tat2/*.tsv')\n",
    "\n",
    "for tsv_file in tsv_files:\n",
    "    \n",
    "    out_file = tsv_file.replace('/Counts/','/Frequency/').replace('.AAcounts.tsv','.AAfreq.csv')\n",
    "    df = tsvfile_to_df(tsv_file)\n",
    "    nogap_df = remove_gaps(df)\n",
    "    freq_dict = makeFreqDict(nogap_df)\n",
    "    freq_df = freqToDataframe(freq_dict)\n",
    "    freq_df.to_csv(out_file, index=False)\n",
    "    \n",
    "elapsed = time.time() - t\n",
    "print elapsed"
   ]
  },
  {
   "cell_type": "markdown",
   "metadata": {},
   "source": [
    "# Consensus"
   ]
  },
  {
   "cell_type": "code",
   "execution_count": 5,
   "metadata": {
    "collapsed": false
   },
   "outputs": [
    {
     "name": "stdout",
     "output_type": "stream",
     "text": [
      "MEPVDPSLEPWKHPGSQPRTPCTACYCKKCCFHCQVCFTRKGLGISYGRKKRGQRRRPPQDSEAHQVSLPKQ\n",
      "MEPVDPRLEPWKHPGSQPKTPCTHCYCKRCCFHCQVCFITKGLGISYGRKKRRQRRRAPPDSETHQTSLSK\n",
      "MEPVDPRLEPWEHPGSQPKTACNNCYCKGCCYHCQVCFITKGLGISYGRKKRRQRRRAPQDNQTHQEYLSK\n",
      "IEPVNPKLKPWKHPGSQPKTACTNCYYKKCCFHCQVCFITKGLGISYGRKKRKQKRKTPQGGQTHQVSLSKQ\n",
      "MEPVDPSLEPWKHPGSQPKTACNSCYCKKCCFHCQVCFTTKGLGISYGRKKRRQRRRASQDSQTDQVSLSKQ\n",
      "MEPVDPRLEPWKHPGSQPRTACNNCYCKKCCFHCQVCFTTKGLGISYGRKKRRQRRRAPCGSQSHQDSLSKQ\n",
      "MDPVDPRLEPWKHPGSQPKTACNNCYCKKCCWHCQLCFLTKGLGISYGRKKRRQRRRTNQGRQTHQGDLSKQW\n",
      "MEPVDPRLEPWKHPGSQPMTPCTNCYCKKCCFHCQVCFITKGLGISYGRKKRRQRRRSPRSPENSQTHQVSLSKL\n",
      "MDPVDPKLEPWRHPGSQPKTACTNCYCKQCCFHCQVCFITKGLGISYGRKKRRQRRRINQDNQSHQVPLPKQ\n",
      "MDPVDPKLEPWKHPGSQPRTACTKCYCKKCCFHCQVCFTTKALGISYGRKKRRQRRRTPQDSQTHQGSLPK\n",
      "MEPVDPRLEPWKHPGSQPETPCNACYCKKCCFHCQWCFTRKGLGISYGRKKRGQRRRPPQDSQAHQVPLPKQ\n",
      "MEPVDPSLEPWKHPGSQPKTACTNCYCKKCCFHCQVCFVTKGLGISYGRKKRRQRRRAHQDSQIHQVSLPKQ\n",
      "IEPVNPKLKPCKHPESQPRTACTNCYCKICCWHCQLCFITKGLGISYGRKKQKQQQKAPQGSKTHQVSPSK\n",
      "PEPVDPRLEPWKHPGSQPKTPCTTCYCKQCCFHCQVCFITKGLGISYGRKKRRQRRRAPQDSQTHQASLPK\n",
      "MEPVDPRLEPWKHPGSQPKTACNNCYCKKCCFHCQVCFTRKGLGISYGRKKRRQRRRPAQDSQTHQVSLSKHS\n",
      "MEPVDPSLEPWKHPGSQPKTPCTNCYCKQCCFHCQKCFVTKGLGISYGRKKRRQRRTAPYDSQTHQESLSKQ\n",
      "INPVNPKLKPKHPGSQPKTACTTCYCKKCCLHCQVCFITKGLGISYGRKKRKKQQKAPQDSQTHQVSLSKQ\n",
      "MEPVDPSLEPWKHPGSQPKTACTPCYCKQCCFHCQVCFITKGLGISYGRKKRSKRRRAPQDSQTHQVSLSKLTL\n",
      "MEPVDPRLEPWKHPGSQPKTPCTNCYCKKCCFHCQVCFIKKGLGISYGRKKRRQRRRSPQGSETHQVSLSKLSV\n",
      "MDPVDPRLEPWKHPGSQPKTACNTCYCKQCCFHCQVCFTKKGLGISYGRKKRRQRRRASQGSETHQDSLSKQ\n",
      "IEPVNPKLKPKKHPRSQPKTACTPCYCKKCCFHCQVCFITKSLGISYGKKKRRQRRRAHQDSETHQANLSK\n",
      "MEPVDPSLEPWKHPGSQPKTACNNCFCKKCCFHCQKCFVTKGLGISYGRKKRRQRRRAHQGNQSHQSSLPK\n",
      "MEPVDPRLEPWKHPGSQPKTACTQCYCKKCCFHCQVCFMKKGLGISYGRKKRGQRRRSPQGSEIHQAPLSKLIA\n",
      "MEPVDPRLEPWKHPGSQPKTACTACYCKKCCYHCPVCFVTKGLGISYGRKKRRRRRRADQGSQTHQVSLSEL\n",
      "WIPVDPRLEPWKHPGSQPKTACTNCYCKKCCFHCQVCFMQKGLGISYGRKKRRQRRRAPQGSKTRQASLSKPI\n",
      "MEPVDPRLEPWKHPGSQPKTPCTKCYCKICCFHCQVCFTQKGLGISYGRKKRRQRRRPPQDSQTHQVSLPKR\n",
      "WIPVDPRLEPWKHPGSQPKTACTPCFCKKCCYHCQVCFISKGLGISYGRKKRRQRRRPPQDNQANQVSLSK\n",
      "MEPVDPKLEPWKHPGSQPKTACTNCYCKICCFHCQVCFTRKGLGISYGRKKRRQRRRPPQDGQTDQASLSKL\n",
      "IDPVDPNLEPKKHPGSQPKTAYTKCYYKKYCFHCQHCFVTKGLGISYGKKKQRQRRKAHPDNQIHQNSLSKQ\n",
      "MEPVDPRLEPWEHPGSQPKTACTTCYCKKCCFHCQVCFTTKGLGISYGRKKRRKRRRAPQDNQTHQVSLSKKK\n",
      "MEPVDPRLEPWKHPGSQPATACTSCYCKKCCFHCQVCFITKGLGISYGRKKRRQRRRAPQNSQTHQDSLSKLVK\n",
      "MEPVDPRLEPWKHPGSQPKTACTPCYCKKCCYHCQVCFLTKGLGISYGRKKRRQRRGPPQGSPAHQDSLSKL\n",
      "MEPVDPRLEPWKHPGSQPRTACTKCYCKKCCFHCQVCFITKALGISYGRKKRRQRRRASENNQTHQASLPKQVP\n",
      "SQPVDPRLEPWKHPGSQPKTPCNKCYCKRCCFHCYKCFITKGLGISYGRKKRRQRRRAPQDSQAHQGPLSKQ\n",
      "MEPVDHKLEPWKHPGSQPKTPCTNCYCKKCCFHCQVCFTKKGLGISYGRKKRRQRRRTSQDSETHQASLSKLN\n",
      "IKPVNPKLKPWKHPGSQPRTPCTACYCKKCCYHCSVCFITKGLGISYGRKKRKQQQKTPQDSQTHQASLPKP\n",
      "MDPVDPRLEPWKHPGSQPKTACTTCYCKQCCYHCQVCFITKGLGISYGRKKRRQRRRSPQDSETHQGSLSKQ\n",
      "MEPVDPSLEPWKHPGSQPKTACTPCYCKRCCFHCQVCFITKGLGISYGRKKRRQRRRPPRDSPHHQAPLSKQI\n",
      "MEPVDPNLEPWKHPGSQPKTACTKCYCKRCCFHCQVCFITKGLGISYGRKKRRQRRRASQDSQTRQVSLSKLIL\n",
      "MSPVDPRLEPWKHPGSQPKTPCTNCYCKKCCFHCQKCFTTKGLGISYGRKKRRQRRRADQDSQTHQVSLSKPLQLSV\n",
      "MDPVDPRLEPWNHPGSQPKTACTKCYCKKCCLHCQVCFIKKGLGISYGRKKRRQRRRTPQGSQTHQVSLPKLK\n",
      "MDPVDPRLEPWKHPGSQPKTPCTKCYCKKCCLHCQVCFITKGLGISYGRKKRRQRRRTPQDSQTNQVPASEQ\n",
      "MEPVDPRLEPWKHPGSQPRTACTNCYCKKCCFHCQVCFITKGLGISYGRKKRRQRRRSPQDNQTHQVSLPKL\n",
      "WIPVDPSLEPWKHPGSQPKTPCTPCYCKKCCYHCQVCFITKGLGISYGRKKWRQRRRAHQDSQTHQADLSKL\n",
      "WDPVDPSLEPWKHPGSQPKTACTKCYCKKCCFHCQVCFITKGLGISYGRKKRRQRRRAPQGSENYQDSLPKQR\n",
      "SPPVDPRLEPWKHPGSQPKTACTTCYCKKCCFHCQVCFTQKGLGISYGRKKRRQRRRSPQDSQTHQASLSKL\n",
      "MEPVDPRLEPWKHPGSQPKTACTNCYCKKCCFHCQVCFTTKGLGISYGRKKRRQRRRAHQNGQTHQASLSKQEK\n",
      "SQPVDPRLEPWKHPGSQPKTACTPCYCKQCCFHCQVCFITKGLGISYGRKKRRQRRRAPQGSEAHQVSPSKL\n",
      "MEPVDPKLEPWKHPGSQPRTACTNCYCKKCCFHCQVCFTKKALGISYGRKKRRQRRRAPQSSQIDQVSPSKL\n",
      "IEPVDPRLESWKHPGSQPKTACTTYYCKKCCFHCQVCFTTKSLGISYGRKKRRQRRRAPQDSKAHQASLPKL\n",
      "MEPVDPRLEPWKHPGSQPRTACTNCYCKKCCLHCQVCFTQKGLGISYGRKKRRQRRRAPQHSQTNQASLSKH\n",
      "MEPVDPRLEPWKHPGSQPKTACTPCFCKVCCYHCQVCFISKGLGISYGRKKRRQRRRAPQDSEIHQVSLPKPIDTF\n",
      "MDPVDPRLEPWQHPGSQPKTPCTNCYCKKCCFHCQSCFTRKALGISYGRKKRRQRRRAHQDSQTHQASLSKPFS\n",
      "MEPVDPRLEPWKHPGSQPRTPCNSCYCKKCCFHCQVCFTTKGLGISYGRKKRGQRRRSHQDSETHQAPLPKQ\n",
      "MEPVDPRLEPWKHPGSQPRTPCTTCYCKKCCFHCQVCFITKGLGISYGRKKRRQRRRSPQDSQTHQAPLPKLY\n",
      "MEPVDPRLEPWKHPGSQPQTPCTPCYCKKCCFHCQVCFTKKALGISYGRKKRSKRRRAHQDSETRQASLPELV\n",
      "WEPVDPKLEPWKHPGSQPKTACTPCYCKKCCYHCPHCFITKGLGISYGRKKRRQRRRAPEESQNHQVSLSKQSL\n",
      "MEPVDPNLDPWKHPGSQPKTPCTNCYCKKCCFHCQVCFITKGLGISYGRKKRRQRRRSPQGSQTNQVSPSKQ\n",
      "MEPVDPRLEPWKHPGSQPRTACTTCYCKRCCYHCQVCFITKGLGISYGRKKRRQRRRAPQGNQTHQVPLSKLK\n",
      "MDPVDPRLEPWKHPGSRPKTACTTCYCKKCCFHCQVCFITKGLGISYGRKKRRQRRRPPPDSPTNQVSLSKLI\n",
      "MEPVDPRLEPWKHPGSQPKTACTNCYCKKCCFHCQKCFTTKGLGISYGRKKWRQRRGANQDRQSHQVPLSKL\n",
      "IEPVDPRIEPWNHPGSQPKTACTTCYCKKCCFHCQVCFTSKGLSISYGRKKQRPRRKAPQDSETHQGYLSKQ\n",
      "NRPVDPRLEPWKHPGSQPKTPCTNCYCKKCCFHCQVCFVTKGLGISYGRKKRGQRRRTSLDGPSHQVPLPKP\n",
      "WIQVDPKLEPWKHPGSQPNTPCTNCYCKKCCFHCQVCFTKKALGISYGRKKRIKRRRPSQDSQTHQGPLPKP\n",
      "MEPIDPRLEPWKHPGSQPRTPCTNCYCKKCCFHCQVCFTTKGLGISYGRKKRRQRRRASQDSQTHQVSLSKLQI\n"
     ]
    }
   ],
   "source": [
    "freq_files = glob.glob('/Users/greg/Desktop/FullNeuroIllumina/Frequency/Tat1/*.csv')\n",
    "\n",
    "cols = ['A','R','N','D','C','Q','E','G','H','I',\n",
    "        'L','K','M','F','P','S','T','W','Y','V']\n",
    "\n",
    "for freq_file in freq_files:\n",
    "    df = pd.read_csv(freq_file)\n",
    "    if df.shape[0] > 70:\n",
    "        a = df[cols].idxmax(axis=1, skipna=True)\n",
    "        print ''.join(list(a))"
   ]
  },
  {
   "cell_type": "code",
   "execution_count": 6,
   "metadata": {
    "collapsed": false
   },
   "outputs": [
    {
     "name": "stdout",
     "output_type": "stream",
     "text": [
      "IRPPTPRGPDRPEGIEEGGGERDRDRSGGSV\n",
      "TRRPAPRGPDRPEGIEEEGGERDRDRSGYSV\n",
      "TRFPAPRGPDRPEGIEEEGGDRDRDRSNRLL\n",
      "THFPAPRGPDRPEGIEEEGGERDKDRSIRL\n",
      "TLLPAPRGPDRPEGIEEEGGERGRDRSIRLV\n",
      "TRHPAPRGPDRPEGIEEEGGERDRDRSGPLV\n",
      "TLLPAPRGPDRPEETEERGGERDRDRSGQLL\n",
      "TRFPAPRGPDRPEGTEEEGGEQDRDRSIRLEL\n",
      "THRPTPRGPDRPEGIEEEGGERDRDRSGQSV\n",
      "THLPARRGPDRPEGIEEEGGDRDRDRSSRL\n",
      "THHPAQGGPDRPEGIEEEGGERDRDGSRRL\n",
      "TRLPTQRGPDRPGGIEEEGGERDRDRSTPLN\n",
      "THLPARRGPDRPEGIEEEGGERDRDRSSPL\n",
      "IRPPASRGPDRPEGIEEEGGERDRDRSGQLV\n",
      "TRFPAPRGPDRPEGTEEEGGERDRDRSLRL\n",
      "THFPAPRGPDRPEGTEEEGGDRGRDRSIRLL\n",
      "TLLPTQREPDRPGGIEEEGGERDRDRSTQL\n",
      "TLLPAPRGPERPEGIEEEGGERDRDRSVRL\n",
      "THFPAPRGPDRPEGTEEEGGERDRDRS\n",
      "THLPARRGPDRPEGIEEEGGERDRGRSGPLV\n",
      "THLPAPRGPDRPEGIEEEGGERDRDRSGQLV\n",
      "TLLPAPRGPDRPEGTEEEGGERDNGRSVRLV\n",
      "THLPAPRGPDRPEGIEEEGGERDRDRSRQLV\n",
      "TRLPAPRGPDRPEGIAEEGGEQDSDRSIRL\n",
      "SLLPARRGPDRPDGREERDRDR\n",
      "TRLPVRREPDRPEGIEEEGGEQDRDRSGRLI\n",
      "PAPRGPDRPEGTEEEGGERDNGRSVRL\n",
      "TRLPAPRGPDRPEGTEEEGGERDRDRSIRLL\n",
      "TPLPVPREPDRPGGTEEEGGERGRDRSIRL\n",
      "THLPAPRGPDGPEGIEEEGGERDRDR\n",
      "THLPAQRGPDRPERIAEEGGERDRDRSRSLV\n",
      "THLPAPRGPDRPEGIEEEGGERNRDRSGRL\n",
      "THLPARRGPDRPEGIEEEGGEKDRDRSTHLA\n",
      "IRLPNPRGPDRPEGIGEEGGERDRDRSNQLL\n",
      "THLPARRGPDRPEGTEEEGGERDRDRS\n",
      "THLPTPRGPDRPGGTEEEGGERDRDRSGPLI\n",
      "THLPAARGPDRPEGIEEEGGERGRDRSGPLV\n",
      "TRLPARRGPDRPEGIEEEGGEQDRDRSSRLSG\n",
      "THLPTPRGPDRPEGTEEEGGERDRDRSRTLV\n",
      "TRLPARRGPDRPEGTEEEGGERDRD\n",
      "TRLPTQRGPDRPEGIEEEGGERDRDRSGPLL\n",
      "THPPAARGPDRPEGIEGEGGERDSGRSVRLD\n",
      "TRLPTQRGPDRPEGIGEEGGERDRDRSEGLA\n",
      "THLPAQRGPDRPEGIEEEGGERDRGGSGRLVD\n",
      "TRLPARRGPDRPGGIEEEGGGNDRDTSTRL\n",
      "THLPARRGPDRPEGIEEEGGERDRDRSGPLS\n",
      "TRLPARREPDRPEGIEEEGGERDRDRSSPLD\n",
      "TLLPAPREPDRPEGIAEEGGERDRDRSGRL\n",
      "TLLPVPRGPDRPEGIEEEGGERDRDRSVRL\n",
      "TLLPTQRGPDRPGGIEEEGGERDRDRSGPL\n",
      "IRLPTPRGPDRPEGIEEGGGERDRDRSGGS\n",
      "THLPARRGPDRPEGIEEEGGERDRNGSIRLL\n",
      "THHPARREPDRPEGIEEEGGERDRDRSGQLV\n",
      "THLPAQRGPDRPEGIGEEGGERDRDGSGRL\n",
      "TRLPAQRGPDRPEGIDEEGGERDRGRSEQLV\n",
      "TRLPARRGPDRPEGIEEEGGERDRDRSTRL\n",
      "THHPAQRGQERPGGIEEEGGERDRDTSRPL\n",
      "THLPVRRGPDRPEGIGEEGGERDRDTSIRL\n",
      "TLLPTQRGPDRPGGIEEEGGEQDRDRSRPLV\n",
      "TRLPTQRGPDRPEGIEEEGGERNRDGSSQL\n",
      "THLPAPRGPDRPGGTEEEGGERDRGRSGILV\n",
      "THLPARRGPDRPEEIEEGGGERDSDRSRPLL\n",
      "THRPAPGGPDRPDGIEEGGGERDRDRSTQLV\n",
      "TRHPAPRGPDRPEGIEEEGGERDRDRS\n",
      "IRPPAPKGPDRPEGIGEEGGERDRDRSSRLRL\n",
      "IRPPAPKGPDRPEGIGEEGGQRDRDRSGPL\n",
      "TRFPAQRGPGRPGGIEEEGGERDREGSSGL\n",
      "THLPTPRGPDRPEGTEEEGGERDRDRS\n",
      "THLPARRGPDRPEGTEEEGGERDRDRSIRLL\n",
      "THHPTPRGPDRPEGIEEEGGERDRDRSRRL\n",
      "THLPARRGPDRPEGIEEEGGERDRDGSSPL\n",
      "THIPARRGPDRPEGTEEEGGERDRDRSIRL\n",
      "TRRPGPRGPDRPEGIEEEGGERDRDRSGQL\n"
     ]
    }
   ],
   "source": [
    "freq_files = glob.glob('/Users/greg/Desktop/FullNeuroIllumina/Frequency/Tat2/*.csv')\n",
    "\n",
    "cols = ['A','R','N','D','C','Q','E','G','H','I',\n",
    "        'L','K','M','F','P','S','T','W','Y','V']\n",
    "\n",
    "for freq_file in freq_files:\n",
    "    df = pd.read_csv(freq_file)\n",
    "    if df.shape[0] > 12:\n",
    "        a = df[cols].idxmax(axis=1, skipna=True)\n",
    "        print ''.join(list(a))"
   ]
  }
 ],
 "metadata": {
  "kernelspec": {
   "display_name": "Python 2",
   "language": "python",
   "name": "python2"
  },
  "language_info": {
   "codemirror_mode": {
    "name": "ipython",
    "version": 2
   },
   "file_extension": ".py",
   "mimetype": "text/x-python",
   "name": "python",
   "nbconvert_exporter": "python",
   "pygments_lexer": "ipython2",
   "version": "2.7.11"
  }
 },
 "nbformat": 4,
 "nbformat_minor": 0
}
