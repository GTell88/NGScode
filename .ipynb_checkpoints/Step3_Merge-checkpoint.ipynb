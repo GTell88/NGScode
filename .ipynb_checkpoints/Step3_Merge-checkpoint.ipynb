{
 "cells": [
  {
   "cell_type": "markdown",
   "metadata": {},
   "source": [
    "# Import requirements"
   ]
  },
  {
   "cell_type": "code",
   "execution_count": 1,
   "metadata": {
    "collapsed": true
   },
   "outputs": [],
   "source": [
    "from __future__ import division\n",
    "import glob\n",
    "import pandas as pd\n",
    "import numpy as np\n",
    "import itertools\n",
    "from collections import Counter\n",
    "import time\n",
    "import matplotlib as mpl\n",
    "import matplotlib.pyplot as plt\n",
    "%matplotlib inline"
   ]
  },
  {
   "cell_type": "markdown",
   "metadata": {},
   "source": [
    "# Filter frequency files"
   ]
  },
  {
   "cell_type": "code",
   "execution_count": 2,
   "metadata": {
    "collapsed": false
   },
   "outputs": [
    {
     "name": "stdout",
     "output_type": "stream",
     "text": [
      "57\n"
     ]
    }
   ],
   "source": [
    "freq_files = glob.glob('/Users/greg/Desktop/FullNeuroIllumina/Frequency/Tat1/*.csv')\n",
    "\n",
    "quality_freq_files = []\n",
    "passed = 0\n",
    "for freq_file in freq_files:\n",
    "    df = pd.read_csv(freq_file)\n",
    "    q = sum(df['Coverage'] > 100) / 72\n",
    "    if q >= 0.8:\n",
    "        #print freq_file\n",
    "        passed+=1\n",
    "        quality_freq_files.append(freq_file)\n",
    "print passed"
   ]
  },
  {
   "cell_type": "code",
   "execution_count": 3,
   "metadata": {
    "collapsed": false
   },
   "outputs": [
    {
     "name": "stdout",
     "output_type": "stream",
     "text": [
      "57\n"
     ]
    }
   ],
   "source": [
    "freq_files = glob.glob('/Users/greg/Desktop/FullNeuroIllumina/Frequency/Tat2/*.csv')\n",
    "\n",
    "quality_freq_files2 = []\n",
    "passed = 0\n",
    "for freq_file in freq_files:\n",
    "    df = pd.read_csv(freq_file)\n",
    "    q = sum(df['Coverage'] > 100) / 14\n",
    "    if q >= 0.8:\n",
    "        #print freq_file\n",
    "        passed+=1\n",
    "        quality_freq_files2.append(freq_file)\n",
    "print passed"
   ]
  },
  {
   "cell_type": "markdown",
   "metadata": {},
   "source": [
    "# Combine frequency files"
   ]
  },
  {
   "cell_type": "code",
   "execution_count": 4,
   "metadata": {
    "collapsed": false
   },
   "outputs": [
    {
     "name": "stdout",
     "output_type": "stream",
     "text": [
      "['Patient', 'Visit', 'Prot', 'AAPos', 'Coverage', 'A', 'R', 'N', 'D', 'C', 'Q', 'E', 'G', 'H', 'I', 'L', 'K', 'M', 'F', 'P', 'S', 'T', 'W', 'Y', 'V']\n",
      "72 143 215 287 359 432 507 579 650 722 794 867 939 1013 1087 1159 1222 1296 1368 1441 1513 1584 1656 1729 1803 1875 1949 2021 2094 2166 2238 2311 2385 2462 2535 2607 2679 2751 2824 2896 2970 3042 3114 3186 3262 3336 3408 3481 3554 3628 3700 3773 3846 3918 3990 4062 4136\n"
     ]
    }
   ],
   "source": [
    "freq_files = quality_freq_files\n",
    "f = freq_files[0]\n",
    "df1 = pd.read_csv(f)\n",
    "cols = list(df1.columns)\n",
    "print cols\n",
    "main_df = pd.DataFrame(columns=cols)\n",
    "\n",
    "for freq_file in freq_files:\n",
    "    df = pd.read_csv(freq_file)\n",
    "    main_df = pd.concat([main_df, df], ignore_index=True)\n",
    "    print main_df.shape[0],"
   ]
  },
  {
   "cell_type": "code",
   "execution_count": 5,
   "metadata": {
    "collapsed": false
   },
   "outputs": [
    {
     "data": {
      "text/html": [
       "<div>\n",
       "<table border=\"1\" class=\"dataframe\">\n",
       "  <thead>\n",
       "    <tr style=\"text-align: right;\">\n",
       "      <th></th>\n",
       "      <th>Patient</th>\n",
       "      <th>Visit</th>\n",
       "      <th>Prot</th>\n",
       "      <th>AAPos</th>\n",
       "      <th>Coverage</th>\n",
       "      <th>A</th>\n",
       "      <th>R</th>\n",
       "      <th>N</th>\n",
       "      <th>D</th>\n",
       "      <th>C</th>\n",
       "      <th>...</th>\n",
       "      <th>L</th>\n",
       "      <th>K</th>\n",
       "      <th>M</th>\n",
       "      <th>F</th>\n",
       "      <th>P</th>\n",
       "      <th>S</th>\n",
       "      <th>T</th>\n",
       "      <th>W</th>\n",
       "      <th>Y</th>\n",
       "      <th>V</th>\n",
       "    </tr>\n",
       "  </thead>\n",
       "  <tbody>\n",
       "    <tr>\n",
       "      <th>0</th>\n",
       "      <td>A0001</td>\n",
       "      <td>R09</td>\n",
       "      <td>Tat1</td>\n",
       "      <td>1</td>\n",
       "      <td>38938</td>\n",
       "      <td>0.000051</td>\n",
       "      <td>0.002157</td>\n",
       "      <td>0.000051</td>\n",
       "      <td>0.000077</td>\n",
       "      <td>0.002080</td>\n",
       "      <td>...</td>\n",
       "      <td>0.006934</td>\n",
       "      <td>0.001695</td>\n",
       "      <td>0.565052</td>\n",
       "      <td>0.000026</td>\n",
       "      <td>0.000000</td>\n",
       "      <td>0.000848</td>\n",
       "      <td>0.000128</td>\n",
       "      <td>0.416637</td>\n",
       "      <td>0.000000</td>\n",
       "      <td>0.000205</td>\n",
       "    </tr>\n",
       "    <tr>\n",
       "      <th>1</th>\n",
       "      <td>A0001</td>\n",
       "      <td>R09</td>\n",
       "      <td>Tat1</td>\n",
       "      <td>2</td>\n",
       "      <td>39254</td>\n",
       "      <td>0.002140</td>\n",
       "      <td>0.003388</td>\n",
       "      <td>0.000102</td>\n",
       "      <td>0.001885</td>\n",
       "      <td>0.001146</td>\n",
       "      <td>...</td>\n",
       "      <td>0.000051</td>\n",
       "      <td>0.084858</td>\n",
       "      <td>0.000076</td>\n",
       "      <td>0.000025</td>\n",
       "      <td>0.000102</td>\n",
       "      <td>0.412977</td>\n",
       "      <td>0.000382</td>\n",
       "      <td>0.000000</td>\n",
       "      <td>0.000000</td>\n",
       "      <td>0.000662</td>\n",
       "    </tr>\n",
       "    <tr>\n",
       "      <th>2</th>\n",
       "      <td>A0001</td>\n",
       "      <td>R09</td>\n",
       "      <td>Tat1</td>\n",
       "      <td>3</td>\n",
       "      <td>39623</td>\n",
       "      <td>0.000404</td>\n",
       "      <td>0.000909</td>\n",
       "      <td>0.000000</td>\n",
       "      <td>0.000000</td>\n",
       "      <td>0.000025</td>\n",
       "      <td>...</td>\n",
       "      <td>0.001792</td>\n",
       "      <td>0.001262</td>\n",
       "      <td>0.000025</td>\n",
       "      <td>0.000000</td>\n",
       "      <td>0.589380</td>\n",
       "      <td>0.000833</td>\n",
       "      <td>0.001413</td>\n",
       "      <td>0.000000</td>\n",
       "      <td>0.000000</td>\n",
       "      <td>0.000101</td>\n",
       "    </tr>\n",
       "    <tr>\n",
       "      <th>3</th>\n",
       "      <td>A0001</td>\n",
       "      <td>R09</td>\n",
       "      <td>Tat1</td>\n",
       "      <td>4</td>\n",
       "      <td>25325</td>\n",
       "      <td>0.000592</td>\n",
       "      <td>0.000908</td>\n",
       "      <td>0.000039</td>\n",
       "      <td>0.000237</td>\n",
       "      <td>0.000000</td>\n",
       "      <td>...</td>\n",
       "      <td>0.003712</td>\n",
       "      <td>0.003119</td>\n",
       "      <td>0.000039</td>\n",
       "      <td>0.000000</td>\n",
       "      <td>0.000000</td>\n",
       "      <td>0.000908</td>\n",
       "      <td>0.000000</td>\n",
       "      <td>0.000197</td>\n",
       "      <td>0.001343</td>\n",
       "      <td>0.982468</td>\n",
       "    </tr>\n",
       "    <tr>\n",
       "      <th>4</th>\n",
       "      <td>A0001</td>\n",
       "      <td>R09</td>\n",
       "      <td>Tat1</td>\n",
       "      <td>5</td>\n",
       "      <td>25874</td>\n",
       "      <td>0.005295</td>\n",
       "      <td>0.000000</td>\n",
       "      <td>0.151697</td>\n",
       "      <td>0.823413</td>\n",
       "      <td>0.000039</td>\n",
       "      <td>...</td>\n",
       "      <td>0.000271</td>\n",
       "      <td>0.000773</td>\n",
       "      <td>0.000039</td>\n",
       "      <td>0.000077</td>\n",
       "      <td>0.000077</td>\n",
       "      <td>0.001391</td>\n",
       "      <td>0.000618</td>\n",
       "      <td>0.000000</td>\n",
       "      <td>0.001894</td>\n",
       "      <td>0.001546</td>\n",
       "    </tr>\n",
       "  </tbody>\n",
       "</table>\n",
       "<p>5 rows × 25 columns</p>\n",
       "</div>"
      ],
      "text/plain": [
       "  Patient Visit  Prot  AAPos  Coverage         A         R         N  \\\n",
       "0   A0001   R09  Tat1      1     38938  0.000051  0.002157  0.000051   \n",
       "1   A0001   R09  Tat1      2     39254  0.002140  0.003388  0.000102   \n",
       "2   A0001   R09  Tat1      3     39623  0.000404  0.000909  0.000000   \n",
       "3   A0001   R09  Tat1      4     25325  0.000592  0.000908  0.000039   \n",
       "4   A0001   R09  Tat1      5     25874  0.005295  0.000000  0.151697   \n",
       "\n",
       "          D         C    ...            L         K         M         F  \\\n",
       "0  0.000077  0.002080    ...     0.006934  0.001695  0.565052  0.000026   \n",
       "1  0.001885  0.001146    ...     0.000051  0.084858  0.000076  0.000025   \n",
       "2  0.000000  0.000025    ...     0.001792  0.001262  0.000025  0.000000   \n",
       "3  0.000237  0.000000    ...     0.003712  0.003119  0.000039  0.000000   \n",
       "4  0.823413  0.000039    ...     0.000271  0.000773  0.000039  0.000077   \n",
       "\n",
       "          P         S         T         W         Y         V  \n",
       "0  0.000000  0.000848  0.000128  0.416637  0.000000  0.000205  \n",
       "1  0.000102  0.412977  0.000382  0.000000  0.000000  0.000662  \n",
       "2  0.589380  0.000833  0.001413  0.000000  0.000000  0.000101  \n",
       "3  0.000000  0.000908  0.000000  0.000197  0.001343  0.982468  \n",
       "4  0.000077  0.001391  0.000618  0.000000  0.001894  0.001546  \n",
       "\n",
       "[5 rows x 25 columns]"
      ]
     },
     "execution_count": 5,
     "metadata": {},
     "output_type": "execute_result"
    }
   ],
   "source": [
    "main_df.head()"
   ]
  },
  {
   "cell_type": "code",
   "execution_count": 6,
   "metadata": {
    "collapsed": false
   },
   "outputs": [
    {
     "name": "stdout",
     "output_type": "stream",
     "text": [
      "['Patient', 'Visit', 'Prot', 'AAPos', 'Coverage', 'A', 'R', 'N', 'D', 'C', 'Q', 'E', 'G', 'H', 'I', 'L', 'K', 'M', 'F', 'P', 'S', 'T', 'W', 'Y', 'V']\n",
      "31 62 93 123 154 185 216 248 279 309 339 370 400 431 462 492 522 553 584 615 646 676 707 738 768 799 829 860 891 922 953 985 1016 1047 1078 1109 1141 1171 1202 1233 1263 1293 1323 1354 1385 1415 1446 1476 1507 1537 1568 1599 1631 1661 1692 1722 1752\n"
     ]
    }
   ],
   "source": [
    "freq_files = quality_freq_files2\n",
    "f = freq_files[0]\n",
    "df2 = pd.read_csv(f)\n",
    "cols = list(df2.columns)\n",
    "main_df2 = pd.DataFrame(columns=cols)\n",
    "print cols\n",
    "\n",
    "for freq_file in freq_files:\n",
    "    df2 = pd.read_csv(freq_file)\n",
    "    main_df2 = pd.concat([main_df2, df2], ignore_index=True)\n",
    "    print main_df2.shape[0],"
   ]
  },
  {
   "cell_type": "code",
   "execution_count": 7,
   "metadata": {
    "collapsed": false
   },
   "outputs": [
    {
     "data": {
      "text/html": [
       "<div>\n",
       "<table border=\"1\" class=\"dataframe\">\n",
       "  <thead>\n",
       "    <tr style=\"text-align: right;\">\n",
       "      <th></th>\n",
       "      <th>Patient</th>\n",
       "      <th>Visit</th>\n",
       "      <th>Prot</th>\n",
       "      <th>AAPos</th>\n",
       "      <th>Coverage</th>\n",
       "      <th>A</th>\n",
       "      <th>R</th>\n",
       "      <th>N</th>\n",
       "      <th>D</th>\n",
       "      <th>C</th>\n",
       "      <th>...</th>\n",
       "      <th>L</th>\n",
       "      <th>K</th>\n",
       "      <th>M</th>\n",
       "      <th>F</th>\n",
       "      <th>P</th>\n",
       "      <th>S</th>\n",
       "      <th>T</th>\n",
       "      <th>W</th>\n",
       "      <th>Y</th>\n",
       "      <th>V</th>\n",
       "    </tr>\n",
       "  </thead>\n",
       "  <tbody>\n",
       "    <tr>\n",
       "      <th>0</th>\n",
       "      <td>A0001</td>\n",
       "      <td>R09</td>\n",
       "      <td>Tat2</td>\n",
       "      <td>1</td>\n",
       "      <td>32279</td>\n",
       "      <td>0.000062</td>\n",
       "      <td>0.000093</td>\n",
       "      <td>0.002664</td>\n",
       "      <td>0.000000</td>\n",
       "      <td>0.000000</td>\n",
       "      <td>...</td>\n",
       "      <td>0.005421</td>\n",
       "      <td>0.000031</td>\n",
       "      <td>0.000434</td>\n",
       "      <td>0.001022</td>\n",
       "      <td>0.000867</td>\n",
       "      <td>0.002788</td>\n",
       "      <td>0.000403</td>\n",
       "      <td>0</td>\n",
       "      <td>0.000031</td>\n",
       "      <td>0.000155</td>\n",
       "    </tr>\n",
       "    <tr>\n",
       "      <th>1</th>\n",
       "      <td>A0001</td>\n",
       "      <td>R09</td>\n",
       "      <td>Tat2</td>\n",
       "      <td>2</td>\n",
       "      <td>32467</td>\n",
       "      <td>0.001170</td>\n",
       "      <td>0.990575</td>\n",
       "      <td>0.000000</td>\n",
       "      <td>0.000000</td>\n",
       "      <td>0.000123</td>\n",
       "      <td>...</td>\n",
       "      <td>0.003696</td>\n",
       "      <td>0.000000</td>\n",
       "      <td>0.000000</td>\n",
       "      <td>0.000000</td>\n",
       "      <td>0.001448</td>\n",
       "      <td>0.001971</td>\n",
       "      <td>0.000000</td>\n",
       "      <td>0</td>\n",
       "      <td>0.000000</td>\n",
       "      <td>0.000000</td>\n",
       "    </tr>\n",
       "    <tr>\n",
       "      <th>2</th>\n",
       "      <td>A0001</td>\n",
       "      <td>R09</td>\n",
       "      <td>Tat2</td>\n",
       "      <td>3</td>\n",
       "      <td>32663</td>\n",
       "      <td>0.000520</td>\n",
       "      <td>0.000888</td>\n",
       "      <td>0.000000</td>\n",
       "      <td>0.000000</td>\n",
       "      <td>0.000000</td>\n",
       "      <td>...</td>\n",
       "      <td>0.000214</td>\n",
       "      <td>0.000000</td>\n",
       "      <td>0.000000</td>\n",
       "      <td>0.000000</td>\n",
       "      <td>0.992560</td>\n",
       "      <td>0.000153</td>\n",
       "      <td>0.002204</td>\n",
       "      <td>0</td>\n",
       "      <td>0.000000</td>\n",
       "      <td>0.000000</td>\n",
       "    </tr>\n",
       "    <tr>\n",
       "      <th>3</th>\n",
       "      <td>A0001</td>\n",
       "      <td>R09</td>\n",
       "      <td>Tat2</td>\n",
       "      <td>4</td>\n",
       "      <td>34590</td>\n",
       "      <td>0.000781</td>\n",
       "      <td>0.000665</td>\n",
       "      <td>0.000434</td>\n",
       "      <td>0.000000</td>\n",
       "      <td>0.000000</td>\n",
       "      <td>...</td>\n",
       "      <td>0.000087</td>\n",
       "      <td>0.000000</td>\n",
       "      <td>0.000000</td>\n",
       "      <td>0.000000</td>\n",
       "      <td>0.986441</td>\n",
       "      <td>0.000578</td>\n",
       "      <td>0.001590</td>\n",
       "      <td>0</td>\n",
       "      <td>0.000000</td>\n",
       "      <td>0.000000</td>\n",
       "    </tr>\n",
       "    <tr>\n",
       "      <th>4</th>\n",
       "      <td>A0001</td>\n",
       "      <td>R09</td>\n",
       "      <td>Tat2</td>\n",
       "      <td>5</td>\n",
       "      <td>34989</td>\n",
       "      <td>0.427620</td>\n",
       "      <td>0.000029</td>\n",
       "      <td>0.000457</td>\n",
       "      <td>0.000772</td>\n",
       "      <td>0.000000</td>\n",
       "      <td>...</td>\n",
       "      <td>0.007117</td>\n",
       "      <td>0.000000</td>\n",
       "      <td>0.000000</td>\n",
       "      <td>0.000000</td>\n",
       "      <td>0.004716</td>\n",
       "      <td>0.002944</td>\n",
       "      <td>0.556232</td>\n",
       "      <td>0</td>\n",
       "      <td>0.000000</td>\n",
       "      <td>0.000057</td>\n",
       "    </tr>\n",
       "  </tbody>\n",
       "</table>\n",
       "<p>5 rows × 25 columns</p>\n",
       "</div>"
      ],
      "text/plain": [
       "  Patient Visit  Prot  AAPos  Coverage         A         R         N  \\\n",
       "0   A0001   R09  Tat2      1     32279  0.000062  0.000093  0.002664   \n",
       "1   A0001   R09  Tat2      2     32467  0.001170  0.990575  0.000000   \n",
       "2   A0001   R09  Tat2      3     32663  0.000520  0.000888  0.000000   \n",
       "3   A0001   R09  Tat2      4     34590  0.000781  0.000665  0.000434   \n",
       "4   A0001   R09  Tat2      5     34989  0.427620  0.000029  0.000457   \n",
       "\n",
       "          D         C    ...            L         K         M         F  \\\n",
       "0  0.000000  0.000000    ...     0.005421  0.000031  0.000434  0.001022   \n",
       "1  0.000000  0.000123    ...     0.003696  0.000000  0.000000  0.000000   \n",
       "2  0.000000  0.000000    ...     0.000214  0.000000  0.000000  0.000000   \n",
       "3  0.000000  0.000000    ...     0.000087  0.000000  0.000000  0.000000   \n",
       "4  0.000772  0.000000    ...     0.007117  0.000000  0.000000  0.000000   \n",
       "\n",
       "          P         S         T  W         Y         V  \n",
       "0  0.000867  0.002788  0.000403  0  0.000031  0.000155  \n",
       "1  0.001448  0.001971  0.000000  0  0.000000  0.000000  \n",
       "2  0.992560  0.000153  0.002204  0  0.000000  0.000000  \n",
       "3  0.986441  0.000578  0.001590  0  0.000000  0.000000  \n",
       "4  0.004716  0.002944  0.556232  0  0.000000  0.000057  \n",
       "\n",
       "[5 rows x 25 columns]"
      ]
     },
     "execution_count": 7,
     "metadata": {},
     "output_type": "execute_result"
    }
   ],
   "source": [
    "main_df2.head()"
   ]
  },
  {
   "cell_type": "markdown",
   "metadata": {},
   "source": [
    "# Sort Dataframe"
   ]
  },
  {
   "cell_type": "code",
   "execution_count": 8,
   "metadata": {
    "collapsed": false
   },
   "outputs": [
    {
     "name": "stdout",
     "output_type": "stream",
     "text": [
      "(4136, 25)\n"
     ]
    }
   ],
   "source": [
    "main_df.sort_values(['AAPos','Patient','Visit'],  inplace=True)\n",
    "print main_df.shape"
   ]
  },
  {
   "cell_type": "code",
   "execution_count": 9,
   "metadata": {
    "collapsed": false
   },
   "outputs": [
    {
     "name": "stdout",
     "output_type": "stream",
     "text": [
      "(1752, 25)\n"
     ]
    }
   ],
   "source": [
    "main_df2.sort_values(['AAPos','Patient','Visit'],  inplace=True)\n",
    "print main_df2.shape"
   ]
  },
  {
   "cell_type": "markdown",
   "metadata": {},
   "source": [
    "# Drop positions > 72"
   ]
  },
  {
   "cell_type": "code",
   "execution_count": 10,
   "metadata": {
    "collapsed": false
   },
   "outputs": [
    {
     "name": "stdout",
     "output_type": "stream",
     "text": [
      "(4092, 25)\n"
     ]
    }
   ],
   "source": [
    "sum(main_df['AAPos'] > 72)\n",
    "main_df = main_df[main_df['AAPos'] <= 72]\n",
    "print main_df.shape\n",
    "#main_df.head()"
   ]
  },
  {
   "cell_type": "code",
   "execution_count": 11,
   "metadata": {
    "collapsed": false
   },
   "outputs": [
    {
     "name": "stdout",
     "output_type": "stream",
     "text": [
      "(1653, 25)\n"
     ]
    }
   ],
   "source": [
    "sum(main_df2['AAPos'] > 29)\n",
    "main_df2 = main_df2[main_df2['AAPos'] <= 29]\n",
    "print main_df2.shape"
   ]
  },
  {
   "cell_type": "markdown",
   "metadata": {},
   "source": [
    "# Drop positions with coverage < 100"
   ]
  },
  {
   "cell_type": "code",
   "execution_count": 12,
   "metadata": {
    "collapsed": false
   },
   "outputs": [
    {
     "name": "stdout",
     "output_type": "stream",
     "text": [
      "(4043, 25)\n"
     ]
    }
   ],
   "source": [
    "sum(main_df['Coverage'] < 100)\n",
    "main_df = main_df[main_df['Coverage'] >= 100]\n",
    "print main_df.shape\n",
    "#main_df.head()"
   ]
  },
  {
   "cell_type": "code",
   "execution_count": 13,
   "metadata": {
    "collapsed": false
   },
   "outputs": [
    {
     "name": "stdout",
     "output_type": "stream",
     "text": [
      "(1653, 25)\n"
     ]
    }
   ],
   "source": [
    "sum(main_df2['Coverage'] < 100)\n",
    "main_df2 = main_df2[main_df2['Coverage'] >= 100]\n",
    "print main_df2.shape\n",
    "#main_df.head()"
   ]
  },
  {
   "cell_type": "markdown",
   "metadata": {},
   "source": [
    "# Summarize"
   ]
  },
  {
   "cell_type": "code",
   "execution_count": 14,
   "metadata": {
    "collapsed": false
   },
   "outputs": [
    {
     "name": "stdout",
     "output_type": "stream",
     "text": [
      "6912\n",
      "4043\n",
      "4043\n",
      "3283\n"
     ]
    }
   ],
   "source": [
    "print 96*72\n",
    "print len(main_df['Coverage'])\n",
    "print sum(main_df['Coverage'] > 100)\n",
    "print sum(main_df['Coverage'] > 1000)"
   ]
  },
  {
   "cell_type": "code",
   "execution_count": 15,
   "metadata": {
    "collapsed": false
   },
   "outputs": [
    {
     "name": "stdout",
     "output_type": "stream",
     "text": [
      "2784\n",
      "1653\n",
      "1653\n",
      "1582\n"
     ]
    }
   ],
   "source": [
    "print 96*29\n",
    "print len(main_df2['Coverage'])\n",
    "print sum(main_df2['Coverage'] > 100)\n",
    "print sum(main_df2['Coverage'] > 1000)"
   ]
  },
  {
   "cell_type": "markdown",
   "metadata": {},
   "source": [
    "# Save to file"
   ]
  },
  {
   "cell_type": "code",
   "execution_count": 16,
   "metadata": {
    "collapsed": true
   },
   "outputs": [],
   "source": [
    "main_df.to_csv('/Users/greg/Desktop/FullNeuroIllumina/allPatientProfiles.csv', index=False)\n",
    "main_df2.to_csv('/Users/greg/Desktop/FullNeuroIllumina/allPatientProfiles2.csv', index=False)"
   ]
  },
  {
   "cell_type": "code",
   "execution_count": 17,
   "metadata": {
    "collapsed": false
   },
   "outputs": [
    {
     "data": {
      "text/html": [
       "<div>\n",
       "<table border=\"1\" class=\"dataframe\">\n",
       "  <thead>\n",
       "    <tr style=\"text-align: right;\">\n",
       "      <th></th>\n",
       "      <th>Patient</th>\n",
       "      <th>Visit</th>\n",
       "      <th>Prot</th>\n",
       "      <th>AAPos</th>\n",
       "      <th>Coverage</th>\n",
       "      <th>A</th>\n",
       "      <th>R</th>\n",
       "      <th>N</th>\n",
       "      <th>D</th>\n",
       "      <th>C</th>\n",
       "      <th>...</th>\n",
       "      <th>L</th>\n",
       "      <th>K</th>\n",
       "      <th>M</th>\n",
       "      <th>F</th>\n",
       "      <th>P</th>\n",
       "      <th>S</th>\n",
       "      <th>T</th>\n",
       "      <th>W</th>\n",
       "      <th>Y</th>\n",
       "      <th>V</th>\n",
       "    </tr>\n",
       "  </thead>\n",
       "  <tbody>\n",
       "    <tr>\n",
       "      <th>3552</th>\n",
       "      <td>A0389</td>\n",
       "      <td>R07</td>\n",
       "      <td>Tat1</td>\n",
       "      <td>72</td>\n",
       "      <td>624</td>\n",
       "      <td>0.001603</td>\n",
       "      <td>0.006410</td>\n",
       "      <td>0.000000</td>\n",
       "      <td>0</td>\n",
       "      <td>0</td>\n",
       "      <td>...</td>\n",
       "      <td>0.990385</td>\n",
       "      <td>0.000000</td>\n",
       "      <td>0</td>\n",
       "      <td>0</td>\n",
       "      <td>0.000000</td>\n",
       "      <td>0.000000</td>\n",
       "      <td>0</td>\n",
       "      <td>0</td>\n",
       "      <td>0</td>\n",
       "      <td>0</td>\n",
       "    </tr>\n",
       "    <tr>\n",
       "      <th>3625</th>\n",
       "      <td>A0415</td>\n",
       "      <td>R04</td>\n",
       "      <td>Tat1</td>\n",
       "      <td>72</td>\n",
       "      <td>124</td>\n",
       "      <td>0.000000</td>\n",
       "      <td>0.008065</td>\n",
       "      <td>0.008065</td>\n",
       "      <td>0</td>\n",
       "      <td>0</td>\n",
       "      <td>...</td>\n",
       "      <td>0.024194</td>\n",
       "      <td>0.008065</td>\n",
       "      <td>0</td>\n",
       "      <td>0</td>\n",
       "      <td>0.016129</td>\n",
       "      <td>0.000000</td>\n",
       "      <td>0</td>\n",
       "      <td>0</td>\n",
       "      <td>0</td>\n",
       "      <td>0</td>\n",
       "    </tr>\n",
       "    <tr>\n",
       "      <th>3771</th>\n",
       "      <td>A0421</td>\n",
       "      <td>R04</td>\n",
       "      <td>Tat1</td>\n",
       "      <td>72</td>\n",
       "      <td>608</td>\n",
       "      <td>0.000000</td>\n",
       "      <td>0.034539</td>\n",
       "      <td>0.000000</td>\n",
       "      <td>0</td>\n",
       "      <td>0</td>\n",
       "      <td>...</td>\n",
       "      <td>0.629934</td>\n",
       "      <td>0.000000</td>\n",
       "      <td>0</td>\n",
       "      <td>0</td>\n",
       "      <td>0.006579</td>\n",
       "      <td>0.001645</td>\n",
       "      <td>0</td>\n",
       "      <td>0</td>\n",
       "      <td>0</td>\n",
       "      <td>0</td>\n",
       "    </tr>\n",
       "    <tr>\n",
       "      <th>3917</th>\n",
       "      <td>A0465</td>\n",
       "      <td>R03</td>\n",
       "      <td>Tat1</td>\n",
       "      <td>72</td>\n",
       "      <td>231</td>\n",
       "      <td>0.000000</td>\n",
       "      <td>0.000000</td>\n",
       "      <td>0.000000</td>\n",
       "      <td>0</td>\n",
       "      <td>0</td>\n",
       "      <td>...</td>\n",
       "      <td>0.995671</td>\n",
       "      <td>0.000000</td>\n",
       "      <td>0</td>\n",
       "      <td>0</td>\n",
       "      <td>0.000000</td>\n",
       "      <td>0.000000</td>\n",
       "      <td>0</td>\n",
       "      <td>0</td>\n",
       "      <td>0</td>\n",
       "      <td>0</td>\n",
       "    </tr>\n",
       "    <tr>\n",
       "      <th>4133</th>\n",
       "      <td>A0500</td>\n",
       "      <td>R03</td>\n",
       "      <td>Tat1</td>\n",
       "      <td>72</td>\n",
       "      <td>676</td>\n",
       "      <td>0.000000</td>\n",
       "      <td>0.001479</td>\n",
       "      <td>0.000000</td>\n",
       "      <td>0</td>\n",
       "      <td>0</td>\n",
       "      <td>...</td>\n",
       "      <td>0.979290</td>\n",
       "      <td>0.000000</td>\n",
       "      <td>0</td>\n",
       "      <td>0</td>\n",
       "      <td>0.002959</td>\n",
       "      <td>0.000000</td>\n",
       "      <td>0</td>\n",
       "      <td>0</td>\n",
       "      <td>0</td>\n",
       "      <td>0</td>\n",
       "    </tr>\n",
       "  </tbody>\n",
       "</table>\n",
       "<p>5 rows × 25 columns</p>\n",
       "</div>"
      ],
      "text/plain": [
       "     Patient Visit  Prot  AAPos  Coverage         A         R         N  D  C  \\\n",
       "3552   A0389   R07  Tat1     72       624  0.001603  0.006410  0.000000  0  0   \n",
       "3625   A0415   R04  Tat1     72       124  0.000000  0.008065  0.008065  0  0   \n",
       "3771   A0421   R04  Tat1     72       608  0.000000  0.034539  0.000000  0  0   \n",
       "3917   A0465   R03  Tat1     72       231  0.000000  0.000000  0.000000  0  0   \n",
       "4133   A0500   R03  Tat1     72       676  0.000000  0.001479  0.000000  0  0   \n",
       "\n",
       "     ...         L         K  M  F         P         S  T  W  Y  V  \n",
       "3552 ...  0.990385  0.000000  0  0  0.000000  0.000000  0  0  0  0  \n",
       "3625 ...  0.024194  0.008065  0  0  0.016129  0.000000  0  0  0  0  \n",
       "3771 ...  0.629934  0.000000  0  0  0.006579  0.001645  0  0  0  0  \n",
       "3917 ...  0.995671  0.000000  0  0  0.000000  0.000000  0  0  0  0  \n",
       "4133 ...  0.979290  0.000000  0  0  0.002959  0.000000  0  0  0  0  \n",
       "\n",
       "[5 rows x 25 columns]"
      ]
     },
     "execution_count": 17,
     "metadata": {},
     "output_type": "execute_result"
    }
   ],
   "source": [
    "main_df.tail()"
   ]
  },
  {
   "cell_type": "code",
   "execution_count": 18,
   "metadata": {
    "collapsed": false
   },
   "outputs": [
    {
     "data": {
      "text/html": [
       "<div>\n",
       "<table border=\"1\" class=\"dataframe\">\n",
       "  <thead>\n",
       "    <tr style=\"text-align: right;\">\n",
       "      <th></th>\n",
       "      <th>Patient</th>\n",
       "      <th>Visit</th>\n",
       "      <th>Prot</th>\n",
       "      <th>AAPos</th>\n",
       "      <th>Coverage</th>\n",
       "      <th>A</th>\n",
       "      <th>R</th>\n",
       "      <th>N</th>\n",
       "      <th>D</th>\n",
       "      <th>C</th>\n",
       "      <th>...</th>\n",
       "      <th>L</th>\n",
       "      <th>K</th>\n",
       "      <th>M</th>\n",
       "      <th>F</th>\n",
       "      <th>P</th>\n",
       "      <th>S</th>\n",
       "      <th>T</th>\n",
       "      <th>W</th>\n",
       "      <th>Y</th>\n",
       "      <th>V</th>\n",
       "    </tr>\n",
       "  </thead>\n",
       "  <tbody>\n",
       "    <tr>\n",
       "      <th>1627</th>\n",
       "      <td>A0421</td>\n",
       "      <td>R04</td>\n",
       "      <td>Tat2</td>\n",
       "      <td>29</td>\n",
       "      <td>14845</td>\n",
       "      <td>0.000000</td>\n",
       "      <td>0.993668</td>\n",
       "      <td>0.000000</td>\n",
       "      <td>0.003301</td>\n",
       "      <td>0.000000</td>\n",
       "      <td>...</td>\n",
       "      <td>0.000674</td>\n",
       "      <td>0.000000</td>\n",
       "      <td>0</td>\n",
       "      <td>0</td>\n",
       "      <td>0.000337</td>\n",
       "      <td>0.000135</td>\n",
       "      <td>0.000000</td>\n",
       "      <td>0</td>\n",
       "      <td>0.000000</td>\n",
       "      <td>0.000337</td>\n",
       "    </tr>\n",
       "    <tr>\n",
       "      <th>1659</th>\n",
       "      <td>A0465</td>\n",
       "      <td>R03</td>\n",
       "      <td>Tat2</td>\n",
       "      <td>29</td>\n",
       "      <td>6104</td>\n",
       "      <td>0.000491</td>\n",
       "      <td>0.001802</td>\n",
       "      <td>0.000000</td>\n",
       "      <td>0.007700</td>\n",
       "      <td>0.000000</td>\n",
       "      <td>...</td>\n",
       "      <td>0.000328</td>\n",
       "      <td>0.000000</td>\n",
       "      <td>0</td>\n",
       "      <td>0</td>\n",
       "      <td>0.000000</td>\n",
       "      <td>0.000000</td>\n",
       "      <td>0.000000</td>\n",
       "      <td>0</td>\n",
       "      <td>0.000000</td>\n",
       "      <td>0.001966</td>\n",
       "    </tr>\n",
       "    <tr>\n",
       "      <th>1689</th>\n",
       "      <td>A0490</td>\n",
       "      <td>R02</td>\n",
       "      <td>Tat2</td>\n",
       "      <td>29</td>\n",
       "      <td>27420</td>\n",
       "      <td>0.008497</td>\n",
       "      <td>0.982677</td>\n",
       "      <td>0.000000</td>\n",
       "      <td>0.003209</td>\n",
       "      <td>0.000146</td>\n",
       "      <td>...</td>\n",
       "      <td>0.002589</td>\n",
       "      <td>0.000000</td>\n",
       "      <td>0</td>\n",
       "      <td>0</td>\n",
       "      <td>0.000401</td>\n",
       "      <td>0.000766</td>\n",
       "      <td>0.000328</td>\n",
       "      <td>0</td>\n",
       "      <td>0.000292</td>\n",
       "      <td>0.000000</td>\n",
       "    </tr>\n",
       "    <tr>\n",
       "      <th>1720</th>\n",
       "      <td>A0500</td>\n",
       "      <td>R03</td>\n",
       "      <td>Tat2</td>\n",
       "      <td>29</td>\n",
       "      <td>9109</td>\n",
       "      <td>0.000329</td>\n",
       "      <td>0.001757</td>\n",
       "      <td>0.000000</td>\n",
       "      <td>0.000110</td>\n",
       "      <td>0.000000</td>\n",
       "      <td>...</td>\n",
       "      <td>0.000110</td>\n",
       "      <td>0.000000</td>\n",
       "      <td>0</td>\n",
       "      <td>0</td>\n",
       "      <td>0.985948</td>\n",
       "      <td>0.000110</td>\n",
       "      <td>0.000329</td>\n",
       "      <td>0</td>\n",
       "      <td>0.000000</td>\n",
       "      <td>0.000220</td>\n",
       "    </tr>\n",
       "    <tr>\n",
       "      <th>1750</th>\n",
       "      <td>A0505</td>\n",
       "      <td>R02</td>\n",
       "      <td>Tat2</td>\n",
       "      <td>29</td>\n",
       "      <td>3981</td>\n",
       "      <td>0.000000</td>\n",
       "      <td>0.001507</td>\n",
       "      <td>0.000754</td>\n",
       "      <td>0.000000</td>\n",
       "      <td>0.000000</td>\n",
       "      <td>...</td>\n",
       "      <td>0.005024</td>\n",
       "      <td>0.002512</td>\n",
       "      <td>0</td>\n",
       "      <td>0</td>\n",
       "      <td>0.001005</td>\n",
       "      <td>0.000000</td>\n",
       "      <td>0.000000</td>\n",
       "      <td>0</td>\n",
       "      <td>0.000000</td>\n",
       "      <td>0.001005</td>\n",
       "    </tr>\n",
       "  </tbody>\n",
       "</table>\n",
       "<p>5 rows × 25 columns</p>\n",
       "</div>"
      ],
      "text/plain": [
       "     Patient Visit  Prot  AAPos  Coverage         A         R         N  \\\n",
       "1627   A0421   R04  Tat2     29     14845  0.000000  0.993668  0.000000   \n",
       "1659   A0465   R03  Tat2     29      6104  0.000491  0.001802  0.000000   \n",
       "1689   A0490   R02  Tat2     29     27420  0.008497  0.982677  0.000000   \n",
       "1720   A0500   R03  Tat2     29      9109  0.000329  0.001757  0.000000   \n",
       "1750   A0505   R02  Tat2     29      3981  0.000000  0.001507  0.000754   \n",
       "\n",
       "             D         C    ...            L         K  M  F         P  \\\n",
       "1627  0.003301  0.000000    ...     0.000674  0.000000  0  0  0.000337   \n",
       "1659  0.007700  0.000000    ...     0.000328  0.000000  0  0  0.000000   \n",
       "1689  0.003209  0.000146    ...     0.002589  0.000000  0  0  0.000401   \n",
       "1720  0.000110  0.000000    ...     0.000110  0.000000  0  0  0.985948   \n",
       "1750  0.000000  0.000000    ...     0.005024  0.002512  0  0  0.001005   \n",
       "\n",
       "             S         T  W         Y         V  \n",
       "1627  0.000135  0.000000  0  0.000000  0.000337  \n",
       "1659  0.000000  0.000000  0  0.000000  0.001966  \n",
       "1689  0.000766  0.000328  0  0.000292  0.000000  \n",
       "1720  0.000110  0.000329  0  0.000000  0.000220  \n",
       "1750  0.000000  0.000000  0  0.000000  0.001005  \n",
       "\n",
       "[5 rows x 25 columns]"
      ]
     },
     "execution_count": 18,
     "metadata": {},
     "output_type": "execute_result"
    }
   ],
   "source": [
    "main_df2.tail()"
   ]
  },
  {
   "cell_type": "markdown",
   "metadata": {},
   "source": [
    "# NGS coverage figure"
   ]
  },
  {
   "cell_type": "code",
   "execution_count": 19,
   "metadata": {
    "collapsed": false
   },
   "outputs": [],
   "source": [
    "main_df2['AAPos'] = main_df2['AAPos'] + 72\n",
    "main_df3 = pd.concat([main_df, main_df2], ignore_index=True)\n",
    "main_df3.to_csv('/Users/greg/Desktop/FullNeuroIllumina/allPatientProfiles3.csv', index=False)"
   ]
  },
  {
   "cell_type": "code",
   "execution_count": 20,
   "metadata": {
    "collapsed": false
   },
   "outputs": [
    {
     "name": "stdout",
     "output_type": "stream",
     "text": [
      "(5696, 25)\n"
     ]
    }
   ],
   "source": [
    "print main_df3.shape"
   ]
  },
  {
   "cell_type": "code",
   "execution_count": 35,
   "metadata": {
    "collapsed": false
   },
   "outputs": [],
   "source": [
    "ngs_seq_metadata = {'position':[], 'samples':[], 'mean log coverage':[], 'std log coverage':[]}\n",
    "\n",
    "for i, g in main_df3.groupby('AAPos'):\n",
    "    ngs_seq_metadata['mean log coverage'].append(np.mean(np.log10(g['Coverage'])))\n",
    "    ngs_seq_metadata['std log coverage'].append(np.std(np.log10(g['Coverage'])))\n",
    "    ngs_seq_metadata['samples'].append(g.shape[0])\n",
    "    ngs_seq_metadata['position'].append(i)\n",
    "    \n",
    "ngs_seq_meta_df = pd.DataFrame(ngs_seq_metadata)\n",
    "ngs_seq_meta_df.to_csv('/Users/greg/Desktop/TatFigureStuff/ngs_seq_meta_df.csv', index=False)"
   ]
  },
  {
   "cell_type": "code",
   "execution_count": 37,
   "metadata": {
    "collapsed": false
   },
   "outputs": [
    {
     "data": {
      "text/html": [
       "<div>\n",
       "<table border=\"1\" class=\"dataframe\">\n",
       "  <thead>\n",
       "    <tr style=\"text-align: right;\">\n",
       "      <th></th>\n",
       "      <th>mean log coverage</th>\n",
       "      <th>position</th>\n",
       "      <th>samples</th>\n",
       "      <th>std log coverage</th>\n",
       "    </tr>\n",
       "  </thead>\n",
       "  <tbody>\n",
       "    <tr>\n",
       "      <th>0</th>\n",
       "      <td>3.726385</td>\n",
       "      <td>1</td>\n",
       "      <td>56</td>\n",
       "      <td>0.642156</td>\n",
       "    </tr>\n",
       "    <tr>\n",
       "      <th>1</th>\n",
       "      <td>3.729321</td>\n",
       "      <td>2</td>\n",
       "      <td>56</td>\n",
       "      <td>0.642772</td>\n",
       "    </tr>\n",
       "    <tr>\n",
       "      <th>2</th>\n",
       "      <td>3.688344</td>\n",
       "      <td>3</td>\n",
       "      <td>57</td>\n",
       "      <td>0.658490</td>\n",
       "    </tr>\n",
       "    <tr>\n",
       "      <th>3</th>\n",
       "      <td>3.505753</td>\n",
       "      <td>4</td>\n",
       "      <td>57</td>\n",
       "      <td>0.655057</td>\n",
       "    </tr>\n",
       "    <tr>\n",
       "      <th>4</th>\n",
       "      <td>3.515611</td>\n",
       "      <td>5</td>\n",
       "      <td>57</td>\n",
       "      <td>0.656137</td>\n",
       "    </tr>\n",
       "  </tbody>\n",
       "</table>\n",
       "</div>"
      ],
      "text/plain": [
       "   mean log coverage  position  samples  std log coverage\n",
       "0           3.726385         1       56          0.642156\n",
       "1           3.729321         2       56          0.642772\n",
       "2           3.688344         3       57          0.658490\n",
       "3           3.505753         4       57          0.655057\n",
       "4           3.515611         5       57          0.656137"
      ]
     },
     "execution_count": 37,
     "metadata": {},
     "output_type": "execute_result"
    }
   ],
   "source": [
    "ngs_seq_meta_df.head()"
   ]
  },
  {
   "cell_type": "code",
   "execution_count": 97,
   "metadata": {
    "collapsed": false
   },
   "outputs": [
    {
     "data": {
      "image/png": "[encoded data removed]",
      "text/plain": [
       "<matplotlib.figure.Figure at 0x1061d3e50>"
      ]
     },
     "metadata": {},
     "output_type": "display_data"
    }
   ],
   "source": [
    "# set fonts\n",
    "mpl.rc('font',family='Arial')\n",
    "\n",
    "fig, ax = plt.subplots(figsize=(7,4))\n",
    "L = list(ngs_seq_meta_df['mean log coverage'])\n",
    "L2 = [0] + L\n",
    "E = list(ngs_seq_meta_df['std log coverage'])\n",
    "E2 = [0] + E\n",
    "y = np.array(L2)\n",
    "x = np.arange(len(L2))\n",
    "\n",
    "# plot it\n",
    "ax.tick_params(axis='both',labelsize=12)\n",
    "ax.plot(x, y, linewidth=2, color='firebrick')\n",
    "yerr = E2\n",
    "ax.fill_between(x, y-yerr, y+yerr,facecolor='lightpink')\n",
    "\n",
    "ax.set_ylabel('Mean Log10 Read Coverage',size=14, labelpad=10, weight='bold')\n",
    "ax.set_ylim([2,5.5])\n",
    "\n",
    "ax.set_xlabel('Tat amino acid position', size=14, labelpad=10, weight='bold')\n",
    "xs = [1,10,20,30,40,50,60,70,80,90,101]\n",
    "ax.set_xticks(xs)\n",
    "ax.set_xlim([1,101])\n",
    "\n",
    "ax.legend([mpl.patches.Patch(color='firebrick'),\n",
    "           mpl.patches.Patch(color='lightpink')],\n",
    "           ['Mean read coverage', 'Stdev. read coverage'],\n",
    "           loc=1, ncol=1, fancybox=False, frameon=False,\n",
    "           fontsize=10)\n",
    "\n",
    "plt.tight_layout()\n",
    "plt.show()\n",
    "fig.savefig('/Users/greg/Desktop/TatFigureStuff/illuminareadcoverage.png',\n",
    "            format='png', dpi=300, bbox_inches='tight')"
   ]
  }
 ],
 "metadata": {
  "kernelspec": {
   "display_name": "Python 2",
   "language": "python",
   "name": "python2"
  },
  "language_info": {
   "codemirror_mode": {
    "name": "ipython",
    "version": 2
   },
   "file_extension": ".py",
   "mimetype": "text/x-python",
   "name": "python",
   "nbconvert_exporter": "python",
   "pygments_lexer": "ipython2",
   "version": "2.7.11"
  }
 },
 "nbformat": 4,
 "nbformat_minor": 0
}
