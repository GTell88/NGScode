{
 "cells": [
  {
   "cell_type": "markdown",
   "metadata": {},
   "source": [
    "# Import requirements"
   ]
  },
  {
   "cell_type": "code",
   "execution_count": 1,
   "metadata": {
    "collapsed": true
   },
   "outputs": [],
   "source": [
    "from __future__ import division\n",
    "import glob\n",
    "import pandas as pd\n",
    "import numpy as np\n",
    "import itertools\n",
    "from collections import Counter\n",
    "import time\n",
    "import matplotlib.pyplot as plt\n",
    "%matplotlib inline"
   ]
  },
  {
   "cell_type": "markdown",
   "metadata": {},
   "source": [
    "# Import dataframe"
   ]
  },
  {
   "cell_type": "code",
   "execution_count": 2,
   "metadata": {
    "collapsed": false
   },
   "outputs": [
    {
     "data": {
      "text/html": [
       "<div>\n",
       "<table border=\"1\" class=\"dataframe\">\n",
       "  <thead>\n",
       "    <tr style=\"text-align: right;\">\n",
       "      <th></th>\n",
       "      <th>Patient</th>\n",
       "      <th>Visit</th>\n",
       "      <th>GDS</th>\n",
       "      <th>Prot</th>\n",
       "      <th>AAPos</th>\n",
       "      <th>Coverage</th>\n",
       "      <th>A</th>\n",
       "      <th>R</th>\n",
       "      <th>N</th>\n",
       "      <th>D</th>\n",
       "      <th>...</th>\n",
       "      <th>L</th>\n",
       "      <th>K</th>\n",
       "      <th>M</th>\n",
       "      <th>F</th>\n",
       "      <th>P</th>\n",
       "      <th>S</th>\n",
       "      <th>T</th>\n",
       "      <th>W</th>\n",
       "      <th>Y</th>\n",
       "      <th>V</th>\n",
       "    </tr>\n",
       "  </thead>\n",
       "  <tbody>\n",
       "    <tr>\n",
       "      <th>0</th>\n",
       "      <td>A0001</td>\n",
       "      <td>R09</td>\n",
       "      <td>0.583333</td>\n",
       "      <td>Tat1</td>\n",
       "      <td>1</td>\n",
       "      <td>38938</td>\n",
       "      <td>0.000051</td>\n",
       "      <td>0.002157</td>\n",
       "      <td>0.000051</td>\n",
       "      <td>0.000077</td>\n",
       "      <td>...</td>\n",
       "      <td>0.006934</td>\n",
       "      <td>0.001695</td>\n",
       "      <td>0.565052</td>\n",
       "      <td>0.000026</td>\n",
       "      <td>0</td>\n",
       "      <td>0.000848</td>\n",
       "      <td>0.000128</td>\n",
       "      <td>0.416637</td>\n",
       "      <td>0</td>\n",
       "      <td>0.000205</td>\n",
       "    </tr>\n",
       "    <tr>\n",
       "      <th>1</th>\n",
       "      <td>A0010</td>\n",
       "      <td>R08</td>\n",
       "      <td>1.416667</td>\n",
       "      <td>Tat1</td>\n",
       "      <td>1</td>\n",
       "      <td>171</td>\n",
       "      <td>0.000000</td>\n",
       "      <td>0.000000</td>\n",
       "      <td>0.000000</td>\n",
       "      <td>0.000000</td>\n",
       "      <td>...</td>\n",
       "      <td>0.005848</td>\n",
       "      <td>0.005848</td>\n",
       "      <td>0.584795</td>\n",
       "      <td>0.000000</td>\n",
       "      <td>0</td>\n",
       "      <td>0.000000</td>\n",
       "      <td>0.000000</td>\n",
       "      <td>0.403509</td>\n",
       "      <td>0</td>\n",
       "      <td>0.000000</td>\n",
       "    </tr>\n",
       "    <tr>\n",
       "      <th>2</th>\n",
       "      <td>A0013</td>\n",
       "      <td>R09</td>\n",
       "      <td>0.000000</td>\n",
       "      <td>Tat1</td>\n",
       "      <td>1</td>\n",
       "      <td>602</td>\n",
       "      <td>0.000000</td>\n",
       "      <td>0.001661</td>\n",
       "      <td>0.000000</td>\n",
       "      <td>0.000000</td>\n",
       "      <td>...</td>\n",
       "      <td>0.001661</td>\n",
       "      <td>0.004983</td>\n",
       "      <td>0.282392</td>\n",
       "      <td>0.000000</td>\n",
       "      <td>0</td>\n",
       "      <td>0.001661</td>\n",
       "      <td>0.000000</td>\n",
       "      <td>0.209302</td>\n",
       "      <td>0</td>\n",
       "      <td>0.000000</td>\n",
       "    </tr>\n",
       "    <tr>\n",
       "      <th>3</th>\n",
       "      <td>A0019</td>\n",
       "      <td>R12</td>\n",
       "      <td>0.250000</td>\n",
       "      <td>Tat1</td>\n",
       "      <td>1</td>\n",
       "      <td>1485</td>\n",
       "      <td>0.000000</td>\n",
       "      <td>0.001347</td>\n",
       "      <td>0.000673</td>\n",
       "      <td>0.000000</td>\n",
       "      <td>...</td>\n",
       "      <td>0.008081</td>\n",
       "      <td>0.003367</td>\n",
       "      <td>0.526599</td>\n",
       "      <td>0.000000</td>\n",
       "      <td>0</td>\n",
       "      <td>0.001347</td>\n",
       "      <td>0.000673</td>\n",
       "      <td>0.452525</td>\n",
       "      <td>0</td>\n",
       "      <td>0.000000</td>\n",
       "    </tr>\n",
       "    <tr>\n",
       "      <th>4</th>\n",
       "      <td>A0026</td>\n",
       "      <td>R09</td>\n",
       "      <td>0.583333</td>\n",
       "      <td>Tat1</td>\n",
       "      <td>1</td>\n",
       "      <td>334</td>\n",
       "      <td>0.000000</td>\n",
       "      <td>0.002994</td>\n",
       "      <td>0.000000</td>\n",
       "      <td>0.000000</td>\n",
       "      <td>...</td>\n",
       "      <td>0.008982</td>\n",
       "      <td>0.000000</td>\n",
       "      <td>0.589820</td>\n",
       "      <td>0.000000</td>\n",
       "      <td>0</td>\n",
       "      <td>0.002994</td>\n",
       "      <td>0.000000</td>\n",
       "      <td>0.389222</td>\n",
       "      <td>0</td>\n",
       "      <td>0.000000</td>\n",
       "    </tr>\n",
       "  </tbody>\n",
       "</table>\n",
       "<p>5 rows × 26 columns</p>\n",
       "</div>"
      ],
      "text/plain": [
       "  Patient Visit       GDS  Prot  AAPos  Coverage         A         R  \\\n",
       "0   A0001   R09  0.583333  Tat1      1     38938  0.000051  0.002157   \n",
       "1   A0010   R08  1.416667  Tat1      1       171  0.000000  0.000000   \n",
       "2   A0013   R09  0.000000  Tat1      1       602  0.000000  0.001661   \n",
       "3   A0019   R12  0.250000  Tat1      1      1485  0.000000  0.001347   \n",
       "4   A0026   R09  0.583333  Tat1      1       334  0.000000  0.002994   \n",
       "\n",
       "          N         D    ...            L         K         M         F  P  \\\n",
       "0  0.000051  0.000077    ...     0.006934  0.001695  0.565052  0.000026  0   \n",
       "1  0.000000  0.000000    ...     0.005848  0.005848  0.584795  0.000000  0   \n",
       "2  0.000000  0.000000    ...     0.001661  0.004983  0.282392  0.000000  0   \n",
       "3  0.000673  0.000000    ...     0.008081  0.003367  0.526599  0.000000  0   \n",
       "4  0.000000  0.000000    ...     0.008982  0.000000  0.589820  0.000000  0   \n",
       "\n",
       "          S         T         W  Y         V  \n",
       "0  0.000848  0.000128  0.416637  0  0.000205  \n",
       "1  0.000000  0.000000  0.403509  0  0.000000  \n",
       "2  0.001661  0.000000  0.209302  0  0.000000  \n",
       "3  0.001347  0.000673  0.452525  0  0.000000  \n",
       "4  0.002994  0.000000  0.389222  0  0.000000  \n",
       "\n",
       "[5 rows x 26 columns]"
      ]
     },
     "execution_count": 2,
     "metadata": {},
     "output_type": "execute_result"
    }
   ],
   "source": [
    "DF = pd.read_csv('/Users/greg/Desktop/FullNeuroIllumina/complete_data.csv')\n",
    "DF.head()"
   ]
  },
  {
   "cell_type": "markdown",
   "metadata": {},
   "source": [
    "# Define functions"
   ]
  },
  {
   "cell_type": "code",
   "execution_count": 3,
   "metadata": {
    "collapsed": true
   },
   "outputs": [],
   "source": [
    "def slice_position(df, pos):\n",
    "    m = df['AAPos'] == pos\n",
    "    sliced_df = df[m]\n",
    "    return sliced_df\n",
    "\n",
    "def GDS_split(df, parameter, threshold):\n",
    "    mask1 = df[parameter] < threshold\n",
    "    mask2 = df[parameter] >= threshold\n",
    "    df1 = df[mask1]\n",
    "    df2 = df[mask2]\n",
    "    return df1, df2\n",
    "\n",
    "def identify_diffs(df, parameter, threshold):\n",
    "    mask = df[parameter] > threshold\n",
    "    new_df = df[mask]\n",
    "    return new_df"
   ]
  },
  {
   "cell_type": "markdown",
   "metadata": {},
   "source": [
    "# Data Exploration"
   ]
  },
  {
   "cell_type": "code",
   "execution_count": 4,
   "metadata": {
    "collapsed": false
   },
   "outputs": [
    {
     "name": "stdout",
     "output_type": "stream",
     "text": [
      "1 (54, 26) 2 (54, 26) 3 (55, 26) 4 (55, 26) 5 (55, 26) 6 (55, 26) 7 (55, 26) 8 (55, 26) 9 (55, 26) 10 (55, 26) 11 (54, 26) 12 (54, 26) 13 (54, 26) 14 (54, 26) 15 (54, 26) 16 (54, 26) 17 (54, 26) 18 (55, 26) 19 (55, 26) 20 (55, 26) 21 (55, 26) 22 (55, 26) 23 (55, 26) 24 (55, 26) 25 (55, 26) 26 (55, 26) 27 (55, 26) 28 (55, 26) 29 (55, 26) 30 (55, 26) 31 (55, 26) 32 (55, 26) 33 (55, 26) 34 (55, 26) 35 (55, 26) 36 (55, 26) 37 (55, 26) 38 (55, 26) 39 (55, 26) 40 (55, 26) 41 (55, 26) 42 (55, 26) 43 (55, 26) 44 (55, 26) 45 (55, 26) 46 (55, 26) 47 (55, 26) 48 (55, 26) 49 (55, 26) 50 (55, 26) 51 (55, 26) 52 (55, 26) 53 (55, 26) 54 (55, 26) 55 (55, 26) 56 (55, 26) 57 (55, 26) 58 (55, 26) 59 (53, 26) 60 (53, 26) 61 (53, 26) 62 (53, 26) 63 (53, 26) 64 (53, 26) 65 (54, 26) 66 (54, 26) 67 (54, 26) 68 (54, 26) 69 (55, 26) 70 (55, 26) 71 (55, 26) 72 (20, 26)"
     ]
    },
    {
     "data": {
      "text/html": [
       "<div>\n",
       "<table border=\"1\" class=\"dataframe\">\n",
       "  <thead>\n",
       "    <tr style=\"text-align: right;\">\n",
       "      <th></th>\n",
       "      <th>Position</th>\n",
       "      <th>Variant</th>\n",
       "      <th>Non-impaired</th>\n",
       "      <th>Impaired</th>\n",
       "      <th>Difference</th>\n",
       "      <th>Log2FC</th>\n",
       "    </tr>\n",
       "  </thead>\n",
       "  <tbody>\n",
       "    <tr>\n",
       "      <th>0</th>\n",
       "      <td>7</td>\n",
       "      <td>R</td>\n",
       "      <td>0.549994</td>\n",
       "      <td>0.712700</td>\n",
       "      <td>0.162706</td>\n",
       "      <td>0.373879</td>\n",
       "    </tr>\n",
       "    <tr>\n",
       "      <th>1</th>\n",
       "      <td>7</td>\n",
       "      <td>S</td>\n",
       "      <td>0.262935</td>\n",
       "      <td>0.068443</td>\n",
       "      <td>0.194492</td>\n",
       "      <td>-1.941727</td>\n",
       "    </tr>\n",
       "    <tr>\n",
       "      <th>2</th>\n",
       "      <td>24</td>\n",
       "      <td>N</td>\n",
       "      <td>0.291948</td>\n",
       "      <td>0.443861</td>\n",
       "      <td>0.151914</td>\n",
       "      <td>0.604398</td>\n",
       "    </tr>\n",
       "    <tr>\n",
       "      <th>3</th>\n",
       "      <td>24</td>\n",
       "      <td>P</td>\n",
       "      <td>0.243821</td>\n",
       "      <td>0.115902</td>\n",
       "      <td>0.127919</td>\n",
       "      <td>-1.072913</td>\n",
       "    </tr>\n",
       "    <tr>\n",
       "      <th>4</th>\n",
       "      <td>24</td>\n",
       "      <td>S</td>\n",
       "      <td>0.126076</td>\n",
       "      <td>0.004252</td>\n",
       "      <td>0.121823</td>\n",
       "      <td>-4.889861</td>\n",
       "    </tr>\n",
       "  </tbody>\n",
       "</table>\n",
       "</div>"
      ],
      "text/plain": [
       "   Position Variant  Non-impaired  Impaired  Difference    Log2FC\n",
       "0         7       R      0.549994  0.712700    0.162706  0.373879\n",
       "1         7       S      0.262935  0.068443    0.194492 -1.941727\n",
       "2        24       N      0.291948  0.443861    0.151914  0.604398\n",
       "3        24       P      0.243821  0.115902    0.127919 -1.072913\n",
       "4        24       S      0.126076  0.004252    0.121823 -4.889861"
      ]
     },
     "execution_count": 4,
     "metadata": {},
     "output_type": "execute_result"
    },
    {
     "name": "stdout",
     "output_type": "stream",
     "text": [
      "\n"
     ]
    }
   ],
   "source": [
    "tat1_length = 72\n",
    "AAs = ['A','R','N','D','C','Q','E','G','H','I',\n",
    "       'L','K','M','F','P','S','T','W','Y','V']\n",
    "\n",
    "candidates_dict = {'Position':[], 'Variant':[], 'Non-impaired':[],\n",
    "                   'Impaired':[], 'Difference':[], 'Log2FC':[]}\n",
    "\n",
    "for i in range(1,tat1_length+1):\n",
    "    pos_df = slice_position(DF, i)\n",
    "    print i, pos_df.shape,\n",
    "    df1, df2 = GDS_split(pos_df, 'GDS', 0.5)\n",
    "    df1 = df1[AAs].copy()\n",
    "    df2 = df2[AAs].copy()\n",
    "\n",
    "    mean1 = df1.mean()\n",
    "    mean2 = df2.mean()\n",
    "    objs = [mean1, mean2]\n",
    "    mean_df = pd.concat(objs, axis=1, join='outer')\n",
    "    mean_df.rename(columns={0: 'Non-impaired', 1: 'Impaired'},inplace=True)\n",
    "    mean_df['Difference'] = abs((mean_df['Non-impaired'] - mean_df['Impaired']))\n",
    "    mean_df['Log2FC'] = np.log2(mean_df['Impaired'] / mean_df['Non-impaired'])\n",
    "    \n",
    "    filtered_df = identify_diffs(mean_df, 'Difference', 0.1)\n",
    "    if filtered_df.shape[0] > 0:\n",
    "        for idx, row in filtered_df.iterrows():\n",
    "            candidates_dict['Position'].append(i)\n",
    "            candidates_dict['Variant'].append(idx)\n",
    "            candidates_dict['Non-impaired'].append(row['Non-impaired'])\n",
    "            candidates_dict['Impaired'].append(row['Impaired'])\n",
    "            candidates_dict['Difference'].append(row['Difference'])\n",
    "            candidates_dict['Log2FC'].append(row['Log2FC'])\n",
    "\n",
    "order = ['Position','Variant','Non-impaired','Impaired','Difference','Log2FC']\n",
    "candidates_df = pd.DataFrame(candidates_dict)[order]\n",
    "candidates_df.to_csv('/Users/greg/Desktop/FullNeuroIllumina/Tat1_candidates.csv')\n",
    "\n",
    "candidates_df.head()"
   ]
  },
  {
   "cell_type": "markdown",
   "metadata": {},
   "source": [
    "# Reformat"
   ]
  },
  {
   "cell_type": "code",
   "execution_count": 5,
   "metadata": {
    "collapsed": false
   },
   "outputs": [],
   "source": [
    "def reformat_section(df):\n",
    "    '''Must be a dataframe containing only 1 position'''\n",
    "    pos = str(int(list(df.AAPos)[0]))\n",
    "    AAs = ['A','R','N','D','C','Q','E','G','H','I',\n",
    "           'L','K','M','F','P','S','T','W','Y','V']\n",
    "    newnames_dict = {}\n",
    "    for item in AAs:\n",
    "        newnames_dict[item]= pos+item\n",
    "    df_renamed = df.rename(columns = newnames_dict)\n",
    "    df_renamed.drop(['AAPos','Coverage'], axis=1, inplace=True)\n",
    "    return df_renamed"
   ]
  },
  {
   "cell_type": "code",
   "execution_count": 6,
   "metadata": {
    "collapsed": false
   },
   "outputs": [
    {
     "name": "stdout",
     "output_type": "stream",
     "text": [
      "(55, 1444)\n"
     ]
    },
    {
     "data": {
      "text/html": [
       "<div>\n",
       "<table border=\"1\" class=\"dataframe\">\n",
       "  <thead>\n",
       "    <tr style=\"text-align: right;\">\n",
       "      <th></th>\n",
       "      <th>Patient</th>\n",
       "      <th>Visit</th>\n",
       "      <th>GDS</th>\n",
       "      <th>Prot</th>\n",
       "      <th>1A</th>\n",
       "      <th>1R</th>\n",
       "      <th>1N</th>\n",
       "      <th>1D</th>\n",
       "      <th>1C</th>\n",
       "      <th>1Q</th>\n",
       "      <th>...</th>\n",
       "      <th>72L</th>\n",
       "      <th>72K</th>\n",
       "      <th>72M</th>\n",
       "      <th>72F</th>\n",
       "      <th>72P</th>\n",
       "      <th>72S</th>\n",
       "      <th>72T</th>\n",
       "      <th>72W</th>\n",
       "      <th>72Y</th>\n",
       "      <th>72V</th>\n",
       "    </tr>\n",
       "  </thead>\n",
       "  <tbody>\n",
       "    <tr>\n",
       "      <th>0</th>\n",
       "      <td>A0001</td>\n",
       "      <td>R09</td>\n",
       "      <td>0.583333</td>\n",
       "      <td>Tat1</td>\n",
       "      <td>0.000051</td>\n",
       "      <td>0.002157</td>\n",
       "      <td>0.000051</td>\n",
       "      <td>0.000077</td>\n",
       "      <td>0.002080</td>\n",
       "      <td>0.000051</td>\n",
       "      <td>...</td>\n",
       "      <td>NaN</td>\n",
       "      <td>NaN</td>\n",
       "      <td>NaN</td>\n",
       "      <td>NaN</td>\n",
       "      <td>NaN</td>\n",
       "      <td>NaN</td>\n",
       "      <td>NaN</td>\n",
       "      <td>NaN</td>\n",
       "      <td>NaN</td>\n",
       "      <td>NaN</td>\n",
       "    </tr>\n",
       "    <tr>\n",
       "      <th>1</th>\n",
       "      <td>A0010</td>\n",
       "      <td>R08</td>\n",
       "      <td>1.416667</td>\n",
       "      <td>Tat1</td>\n",
       "      <td>0.000000</td>\n",
       "      <td>0.000000</td>\n",
       "      <td>0.000000</td>\n",
       "      <td>0.000000</td>\n",
       "      <td>0.000000</td>\n",
       "      <td>0.000000</td>\n",
       "      <td>...</td>\n",
       "      <td>NaN</td>\n",
       "      <td>NaN</td>\n",
       "      <td>NaN</td>\n",
       "      <td>NaN</td>\n",
       "      <td>NaN</td>\n",
       "      <td>NaN</td>\n",
       "      <td>NaN</td>\n",
       "      <td>NaN</td>\n",
       "      <td>NaN</td>\n",
       "      <td>NaN</td>\n",
       "    </tr>\n",
       "    <tr>\n",
       "      <th>2</th>\n",
       "      <td>A0013</td>\n",
       "      <td>R09</td>\n",
       "      <td>0.000000</td>\n",
       "      <td>Tat1</td>\n",
       "      <td>0.000000</td>\n",
       "      <td>0.001661</td>\n",
       "      <td>0.000000</td>\n",
       "      <td>0.000000</td>\n",
       "      <td>0.000000</td>\n",
       "      <td>0.000000</td>\n",
       "      <td>...</td>\n",
       "      <td>NaN</td>\n",
       "      <td>NaN</td>\n",
       "      <td>NaN</td>\n",
       "      <td>NaN</td>\n",
       "      <td>NaN</td>\n",
       "      <td>NaN</td>\n",
       "      <td>NaN</td>\n",
       "      <td>NaN</td>\n",
       "      <td>NaN</td>\n",
       "      <td>NaN</td>\n",
       "    </tr>\n",
       "    <tr>\n",
       "      <th>3</th>\n",
       "      <td>A0019</td>\n",
       "      <td>R12</td>\n",
       "      <td>0.250000</td>\n",
       "      <td>Tat1</td>\n",
       "      <td>0.000000</td>\n",
       "      <td>0.001347</td>\n",
       "      <td>0.000673</td>\n",
       "      <td>0.000000</td>\n",
       "      <td>0.000673</td>\n",
       "      <td>0.000000</td>\n",
       "      <td>...</td>\n",
       "      <td>NaN</td>\n",
       "      <td>NaN</td>\n",
       "      <td>NaN</td>\n",
       "      <td>NaN</td>\n",
       "      <td>NaN</td>\n",
       "      <td>NaN</td>\n",
       "      <td>NaN</td>\n",
       "      <td>NaN</td>\n",
       "      <td>NaN</td>\n",
       "      <td>NaN</td>\n",
       "    </tr>\n",
       "    <tr>\n",
       "      <th>4</th>\n",
       "      <td>A0026</td>\n",
       "      <td>R09</td>\n",
       "      <td>0.583333</td>\n",
       "      <td>Tat1</td>\n",
       "      <td>0.000000</td>\n",
       "      <td>0.002994</td>\n",
       "      <td>0.000000</td>\n",
       "      <td>0.000000</td>\n",
       "      <td>0.000000</td>\n",
       "      <td>0.000000</td>\n",
       "      <td>...</td>\n",
       "      <td>NaN</td>\n",
       "      <td>NaN</td>\n",
       "      <td>NaN</td>\n",
       "      <td>NaN</td>\n",
       "      <td>NaN</td>\n",
       "      <td>NaN</td>\n",
       "      <td>NaN</td>\n",
       "      <td>NaN</td>\n",
       "      <td>NaN</td>\n",
       "      <td>NaN</td>\n",
       "    </tr>\n",
       "  </tbody>\n",
       "</table>\n",
       "<p>5 rows × 1444 columns</p>\n",
       "</div>"
      ],
      "text/plain": [
       "  Patient Visit       GDS  Prot        1A        1R        1N        1D  \\\n",
       "0   A0001   R09  0.583333  Tat1  0.000051  0.002157  0.000051  0.000077   \n",
       "1   A0010   R08  1.416667  Tat1  0.000000  0.000000  0.000000  0.000000   \n",
       "2   A0013   R09  0.000000  Tat1  0.000000  0.001661  0.000000  0.000000   \n",
       "3   A0019   R12  0.250000  Tat1  0.000000  0.001347  0.000673  0.000000   \n",
       "4   A0026   R09  0.583333  Tat1  0.000000  0.002994  0.000000  0.000000   \n",
       "\n",
       "         1C        1Q ...   72L  72K  72M  72F  72P  72S  72T  72W  72Y  72V  \n",
       "0  0.002080  0.000051 ...   NaN  NaN  NaN  NaN  NaN  NaN  NaN  NaN  NaN  NaN  \n",
       "1  0.000000  0.000000 ...   NaN  NaN  NaN  NaN  NaN  NaN  NaN  NaN  NaN  NaN  \n",
       "2  0.000000  0.000000 ...   NaN  NaN  NaN  NaN  NaN  NaN  NaN  NaN  NaN  NaN  \n",
       "3  0.000673  0.000000 ...   NaN  NaN  NaN  NaN  NaN  NaN  NaN  NaN  NaN  NaN  \n",
       "4  0.000000  0.000000 ...   NaN  NaN  NaN  NaN  NaN  NaN  NaN  NaN  NaN  NaN  \n",
       "\n",
       "[5 rows x 1444 columns]"
      ]
     },
     "execution_count": 6,
     "metadata": {},
     "output_type": "execute_result"
    }
   ],
   "source": [
    "tat1_length = 72\n",
    "\n",
    "wide_df = slice_position(DF, 1)\n",
    "wide_df2 = reformat_section(wide_df)\n",
    "for i in range(2,tat1_length+1):\n",
    "    pos_df = slice_position(DF, i)\n",
    "    pos_df2 = reformat_section(pos_df)\n",
    "    wide_df2 = pd.merge(wide_df2, pos_df2,\n",
    "               left_on=['Patient','Visit','GDS','Prot',],\n",
    "               right_on=['Patient','Visit','GDS','Prot'],\n",
    "               how='outer')\n",
    "    \n",
    "print wide_df2.shape\n",
    "wide_df2.head()"
   ]
  },
  {
   "cell_type": "markdown",
   "metadata": {},
   "source": [
    "# Deal with NaNs"
   ]
  },
  {
   "cell_type": "code",
   "execution_count": 7,
   "metadata": {
    "collapsed": false
   },
   "outputs": [
    {
     "name": "stdout",
     "output_type": "stream",
     "text": [
      "(55, 1444)\n"
     ]
    }
   ],
   "source": [
    "wide_df2.fillna(wide_df2.mean(), inplace=True)\n",
    "print wide_df2.shape"
   ]
  },
  {
   "cell_type": "markdown",
   "metadata": {},
   "source": [
    "# Set y threshold"
   ]
  },
  {
   "cell_type": "code",
   "execution_count": 8,
   "metadata": {
    "collapsed": false
   },
   "outputs": [
    {
     "data": {
      "text/html": [
       "<div>\n",
       "<table border=\"1\" class=\"dataframe\">\n",
       "  <thead>\n",
       "    <tr style=\"text-align: right;\">\n",
       "      <th></th>\n",
       "      <th>Patient</th>\n",
       "      <th>Visit</th>\n",
       "      <th>GDS</th>\n",
       "      <th>Prot</th>\n",
       "      <th>1A</th>\n",
       "      <th>1R</th>\n",
       "      <th>1N</th>\n",
       "      <th>1D</th>\n",
       "      <th>1C</th>\n",
       "      <th>1Q</th>\n",
       "      <th>...</th>\n",
       "      <th>72K</th>\n",
       "      <th>72M</th>\n",
       "      <th>72F</th>\n",
       "      <th>72P</th>\n",
       "      <th>72S</th>\n",
       "      <th>72T</th>\n",
       "      <th>72W</th>\n",
       "      <th>72Y</th>\n",
       "      <th>72V</th>\n",
       "      <th>GDS_Threshold</th>\n",
       "    </tr>\n",
       "  </thead>\n",
       "  <tbody>\n",
       "    <tr>\n",
       "      <th>0</th>\n",
       "      <td>A0001</td>\n",
       "      <td>R09</td>\n",
       "      <td>0.583333</td>\n",
       "      <td>Tat1</td>\n",
       "      <td>0.000051</td>\n",
       "      <td>0.002157</td>\n",
       "      <td>0.000051</td>\n",
       "      <td>0.000077</td>\n",
       "      <td>0.002080</td>\n",
       "      <td>0.000051</td>\n",
       "      <td>...</td>\n",
       "      <td>0.049947</td>\n",
       "      <td>0.000117</td>\n",
       "      <td>0.000115</td>\n",
       "      <td>0.115569</td>\n",
       "      <td>0.00037</td>\n",
       "      <td>0.000166</td>\n",
       "      <td>0</td>\n",
       "      <td>0.000057</td>\n",
       "      <td>0.000062</td>\n",
       "      <td>1</td>\n",
       "    </tr>\n",
       "    <tr>\n",
       "      <th>1</th>\n",
       "      <td>A0010</td>\n",
       "      <td>R08</td>\n",
       "      <td>1.416667</td>\n",
       "      <td>Tat1</td>\n",
       "      <td>0.000000</td>\n",
       "      <td>0.000000</td>\n",
       "      <td>0.000000</td>\n",
       "      <td>0.000000</td>\n",
       "      <td>0.000000</td>\n",
       "      <td>0.000000</td>\n",
       "      <td>...</td>\n",
       "      <td>0.049947</td>\n",
       "      <td>0.000117</td>\n",
       "      <td>0.000115</td>\n",
       "      <td>0.115569</td>\n",
       "      <td>0.00037</td>\n",
       "      <td>0.000166</td>\n",
       "      <td>0</td>\n",
       "      <td>0.000057</td>\n",
       "      <td>0.000062</td>\n",
       "      <td>1</td>\n",
       "    </tr>\n",
       "    <tr>\n",
       "      <th>2</th>\n",
       "      <td>A0013</td>\n",
       "      <td>R09</td>\n",
       "      <td>0.000000</td>\n",
       "      <td>Tat1</td>\n",
       "      <td>0.000000</td>\n",
       "      <td>0.001661</td>\n",
       "      <td>0.000000</td>\n",
       "      <td>0.000000</td>\n",
       "      <td>0.000000</td>\n",
       "      <td>0.000000</td>\n",
       "      <td>...</td>\n",
       "      <td>0.049947</td>\n",
       "      <td>0.000117</td>\n",
       "      <td>0.000115</td>\n",
       "      <td>0.115569</td>\n",
       "      <td>0.00037</td>\n",
       "      <td>0.000166</td>\n",
       "      <td>0</td>\n",
       "      <td>0.000057</td>\n",
       "      <td>0.000062</td>\n",
       "      <td>0</td>\n",
       "    </tr>\n",
       "    <tr>\n",
       "      <th>3</th>\n",
       "      <td>A0019</td>\n",
       "      <td>R12</td>\n",
       "      <td>0.250000</td>\n",
       "      <td>Tat1</td>\n",
       "      <td>0.000000</td>\n",
       "      <td>0.001347</td>\n",
       "      <td>0.000673</td>\n",
       "      <td>0.000000</td>\n",
       "      <td>0.000673</td>\n",
       "      <td>0.000000</td>\n",
       "      <td>...</td>\n",
       "      <td>0.049947</td>\n",
       "      <td>0.000117</td>\n",
       "      <td>0.000115</td>\n",
       "      <td>0.115569</td>\n",
       "      <td>0.00037</td>\n",
       "      <td>0.000166</td>\n",
       "      <td>0</td>\n",
       "      <td>0.000057</td>\n",
       "      <td>0.000062</td>\n",
       "      <td>0</td>\n",
       "    </tr>\n",
       "    <tr>\n",
       "      <th>4</th>\n",
       "      <td>A0026</td>\n",
       "      <td>R09</td>\n",
       "      <td>0.583333</td>\n",
       "      <td>Tat1</td>\n",
       "      <td>0.000000</td>\n",
       "      <td>0.002994</td>\n",
       "      <td>0.000000</td>\n",
       "      <td>0.000000</td>\n",
       "      <td>0.000000</td>\n",
       "      <td>0.000000</td>\n",
       "      <td>...</td>\n",
       "      <td>0.049947</td>\n",
       "      <td>0.000117</td>\n",
       "      <td>0.000115</td>\n",
       "      <td>0.115569</td>\n",
       "      <td>0.00037</td>\n",
       "      <td>0.000166</td>\n",
       "      <td>0</td>\n",
       "      <td>0.000057</td>\n",
       "      <td>0.000062</td>\n",
       "      <td>1</td>\n",
       "    </tr>\n",
       "  </tbody>\n",
       "</table>\n",
       "<p>5 rows × 1445 columns</p>\n",
       "</div>"
      ],
      "text/plain": [
       "  Patient Visit       GDS  Prot        1A        1R        1N        1D  \\\n",
       "0   A0001   R09  0.583333  Tat1  0.000051  0.002157  0.000051  0.000077   \n",
       "1   A0010   R08  1.416667  Tat1  0.000000  0.000000  0.000000  0.000000   \n",
       "2   A0013   R09  0.000000  Tat1  0.000000  0.001661  0.000000  0.000000   \n",
       "3   A0019   R12  0.250000  Tat1  0.000000  0.001347  0.000673  0.000000   \n",
       "4   A0026   R09  0.583333  Tat1  0.000000  0.002994  0.000000  0.000000   \n",
       "\n",
       "         1C        1Q      ...             72K       72M       72F       72P  \\\n",
       "0  0.002080  0.000051      ...        0.049947  0.000117  0.000115  0.115569   \n",
       "1  0.000000  0.000000      ...        0.049947  0.000117  0.000115  0.115569   \n",
       "2  0.000000  0.000000      ...        0.049947  0.000117  0.000115  0.115569   \n",
       "3  0.000673  0.000000      ...        0.049947  0.000117  0.000115  0.115569   \n",
       "4  0.000000  0.000000      ...        0.049947  0.000117  0.000115  0.115569   \n",
       "\n",
       "       72S       72T  72W       72Y       72V  GDS_Threshold  \n",
       "0  0.00037  0.000166    0  0.000057  0.000062              1  \n",
       "1  0.00037  0.000166    0  0.000057  0.000062              1  \n",
       "2  0.00037  0.000166    0  0.000057  0.000062              0  \n",
       "3  0.00037  0.000166    0  0.000057  0.000062              0  \n",
       "4  0.00037  0.000166    0  0.000057  0.000062              1  \n",
       "\n",
       "[5 rows x 1445 columns]"
      ]
     },
     "execution_count": 8,
     "metadata": {},
     "output_type": "execute_result"
    }
   ],
   "source": [
    "wide_df2['GDS_Threshold'] = wide_df2['GDS'] > 0.5\n",
    "wide_df2['GDS_Threshold'] = wide_df2['GDS_Threshold'].astype(int)\n",
    "wide_df2.head()"
   ]
  },
  {
   "cell_type": "markdown",
   "metadata": {},
   "source": [
    "# Linear Discriminant Analysis (AA variation only)"
   ]
  },
  {
   "cell_type": "code",
   "execution_count": 9,
   "metadata": {
    "collapsed": true
   },
   "outputs": [],
   "source": [
    "from sklearn.decomposition import PCA\n",
    "from sklearn.lda import LDA"
   ]
  },
  {
   "cell_type": "code",
   "execution_count": 10,
   "metadata": {
    "collapsed": false
   },
   "outputs": [
    {
     "name": "stdout",
     "output_type": "stream",
     "text": [
      "(55, 1440)\n",
      "(55,)\n",
      "(55, 2)\n",
      "(55, 1)\n"
     ]
    },
    {
     "name": "stderr",
     "output_type": "stream",
     "text": [
      "/Users/greg/anaconda/lib/python2.7/site-packages/sklearn/lda.py:371: UserWarning: Variables are collinear.\n",
      "  warnings.warn(\"Variables are collinear.\")\n"
     ]
    }
   ],
   "source": [
    "y = np.ravel(wide_df2['GDS_Threshold'])\n",
    "X = wide_df2.drop(['Patient','Visit','GDS','Prot','GDS_Threshold'], axis=1)\n",
    "X = X.as_matrix()\n",
    "print X.shape\n",
    "print y.shape\n",
    "\n",
    "pca = PCA(n_components=2)\n",
    "X_r = pca.fit(X).transform(X)\n",
    "\n",
    "lda = LDA(n_components=2, shrinkage=None)\n",
    "X_r2 = lda.fit(X, y).transform(X)\n",
    "\n",
    "print X_r.shape\n",
    "print X_r2.shape # Why?"
   ]
  },
  {
   "cell_type": "code",
   "execution_count": 11,
   "metadata": {
    "collapsed": false
   },
   "outputs": [
    {
     "name": "stdout",
     "output_type": "stream",
     "text": [
      "25 30\n"
     ]
    }
   ],
   "source": [
    "A = np.array(wide_df2[wide_df2['GDS'] > 0.5]['GDS']) #impaired\n",
    "B = np.array(wide_df2[wide_df2['GDS'] <= 0.5]['GDS']) # non-impaired\n",
    "print len(A), len(B)"
   ]
  },
  {
   "cell_type": "code",
   "execution_count": 12,
   "metadata": {
    "collapsed": false
   },
   "outputs": [
    {
     "name": "stderr",
     "output_type": "stream",
     "text": [
      "/Users/greg/anaconda/lib/python2.7/site-packages/matplotlib/axes/_axes.py:475: UserWarning: No labelled objects found. Use label='...' kwarg on individual plots.\n",
      "  warnings.warn(\"No labelled objects found. \"\n",
      "/Users/greg/anaconda/lib/python2.7/site-packages/matplotlib/collections.py:590: FutureWarning: elementwise comparison failed; returning scalar instead, but in the future will perform elementwise comparison\n",
      "  if self._edgecolors == str('face'):\n"
     ]
    },
    {
     "data": {
      "image/png": "[encoded data removed]",
      "text/plain": [
       "<matplotlib.figure.Figure at 0x10b5e88d0>"
      ]
     },
     "metadata": {},
     "output_type": "display_data"
    }
   ],
   "source": [
    "plt.figure()\n",
    "for c, i in zip(\"rb\", [0, 1]):\n",
    "    plt.scatter(X_r[y == i, 0], X_r[y == i, 1], c=c)\n",
    "plt.legend()\n",
    "plt.title('PCA of NGS Results')\n",
    "plt.show()"
   ]
  },
  {
   "cell_type": "code",
   "execution_count": 13,
   "metadata": {
    "collapsed": false
   },
   "outputs": [
    {
     "data": {
      "image/png": "[encoded data removed]",
      "text/plain": [
       "<matplotlib.figure.Figure at 0x10b5e8b90>"
      ]
     },
     "metadata": {},
     "output_type": "display_data"
    }
   ],
   "source": [
    "plt.figure()\n",
    "plt.scatter(X_r2[y == 0, 0], B, c='r')\n",
    "plt.scatter(X_r2[y == 1, 0], A, c='b')\n",
    "plt.title('LDA of NGS Results')\n",
    "plt.show()"
   ]
  },
  {
   "cell_type": "code",
   "execution_count": 14,
   "metadata": {
    "collapsed": false
   },
   "outputs": [
    {
     "data": {
      "image/png": "[encoded data removed]",
      "text/plain": [
       "<matplotlib.figure.Figure at 0x10931d610>"
      ]
     },
     "metadata": {},
     "output_type": "display_data"
    },
    {
     "data": {
      "text/plain": [
       "<matplotlib.figure.Figure at 0x1093f2f90>"
      ]
     },
     "metadata": {},
     "output_type": "display_data"
    }
   ],
   "source": [
    "plt.figure()\n",
    "plt.scatter(X_r2[y == 0, 0], y[y==0], c='r')\n",
    "plt.scatter(X_r2[y == 1, 0], y[y==1], c='b')\n",
    "plt.title('LDA of NGS Results')\n",
    "plt.show()\n",
    "plt.savefig('/Users/greg/Desktop/')"
   ]
  },
  {
   "cell_type": "code",
   "execution_count": 19,
   "metadata": {
    "collapsed": false
   },
   "outputs": [],
   "source": [
    "x1 = X_r2[y == 0, 0]\n",
    "x2 = X_r2[y == 1, 0]"
   ]
  },
  {
   "cell_type": "code",
   "execution_count": 24,
   "metadata": {
    "collapsed": false
   },
   "outputs": [
    {
     "name": "stdout",
     "output_type": "stream",
     "text": [
      "[-0.9519779  -0.62218791 -0.10247517 -0.81353719 -1.05992502 -1.73062914\n",
      "  2.30885776  0.3813093  -0.29199674 -0.37623498 -1.76514709 -1.14686237\n",
      "  0.02346786 -1.35800588 -0.75679044  0.35307346 -1.13114072 -0.81652704\n",
      " -0.53748362 -0.74109848 -0.82825365 -1.32905906 -1.01844624  0.97468412\n",
      " -1.54703686  1.14378377  0.52782138 -0.92142708 -0.21378698  0.27950647]\n"
     ]
    }
   ],
   "source": [
    "print x1"
   ]
  },
  {
   "cell_type": "code",
   "execution_count": 74,
   "metadata": {
    "collapsed": false
   },
   "outputs": [
    {
     "data": {
      "image/png": "[encoded data removed]",
      "text/plain": [
       "<matplotlib.figure.Figure at 0x10ce2fb10>"
      ]
     },
     "metadata": {},
     "output_type": "display_data"
    }
   ],
   "source": [
    "from scipy import stats\n",
    "import matplotlib as mpl\n",
    "\n",
    "mpl.rc('font',family='Arial')\n",
    "\n",
    "kde1 = stats.gaussian_kde(x1)\n",
    "kde2 = stats.gaussian_kde(x2)\n",
    "#pdf1 = stats.t.pdf(x1)\n",
    "#pdf2 = stats.t.pdf(x2)\n",
    "fig, ax = plt.subplots(figsize=(7,4))\n",
    "\n",
    "x_eval = np.linspace(-4, 4, num=200)\n",
    "ax.scatter(x1, np.zeros(x1.shape), color='firebrick',marker='|', s=200)\n",
    "ax.scatter(x2, np.zeros(x2.shape), color='steelblue',marker='|', s=200)\n",
    "ax.plot(x_eval, kde1(x_eval), color='firebrick', ls = '--')\n",
    "ax.plot(x_eval, kde2(x_eval), color='steelblue', ls = '--')\n",
    "ax.fill_between(x_eval, kde1(x_eval), color='firebrick', alpha = 0.1)\n",
    "ax.fill_between(x_eval, kde2(x_eval), color='steelblue', alpha = 0.1)\n",
    "ax.set_xlim([-3,3])\n",
    "ax.set_ylim([0,0.5])\n",
    "\n",
    "ax.set_ylabel('Probability density',size=18, labelpad=10, weight='bold')\n",
    "ax.set_xlabel('Linear Discriminant',size=18, labelpad=10, weight='bold')\n",
    "ax.tick_params(axis='both',labelsize=14)\n",
    "\n",
    "ax.legend([mpl.patches.Patch(color='firebrick',alpha=0.1),\n",
    "           mpl.patches.Patch(color='steelblue',alpha=0.1)],\n",
    "           ['Impaired', 'Non-impaired'],\n",
    "           loc=1, ncol=1, fancybox=False, frameon=False,\n",
    "           fontsize=10)\n",
    "\n",
    "plt.tight_layout()\n",
    "plt.show()\n",
    "fig.savefig('/Users/greg/Desktop/TatFigureStuff/lineardiscriminant.png',\n",
    "            format='png', dpi=300, bbox_inches='tight')"
   ]
  },
  {
   "cell_type": "code",
   "execution_count": null,
   "metadata": {
    "collapsed": true
   },
   "outputs": [],
   "source": []
  }
 ],
 "metadata": {
  "kernelspec": {
   "display_name": "Python 2",
   "language": "python",
   "name": "python2"
  },
  "language_info": {
   "codemirror_mode": {
    "name": "ipython",
    "version": 2
   },
   "file_extension": ".py",
   "mimetype": "text/x-python",
   "name": "python",
   "nbconvert_exporter": "python",
   "pygments_lexer": "ipython2",
   "version": "2.7.11"
  }
 },
 "nbformat": 4,
 "nbformat_minor": 0
}
