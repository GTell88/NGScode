{
 "cells": [
  {
   "cell_type": "markdown",
   "metadata": {},
   "source": [
    "# Import requirements"
   ]
  },
  {
   "cell_type": "code",
   "execution_count": 13,
   "metadata": {
    "collapsed": true
   },
   "outputs": [],
   "source": [
    "from __future__ import division\n",
    "import glob\n",
    "import pandas as pd\n",
    "import numpy as np\n",
    "from itertools import combinations\n",
    "from collections import Counter\n",
    "import time\n",
    "from scipy import stats\n",
    "import math\n",
    "import matplotlib as mpl\n",
    "import matplotlib.pyplot as plt\n",
    "%matplotlib inline"
   ]
  },
  {
   "cell_type": "code",
   "execution_count": 77,
   "metadata": {
    "collapsed": true
   },
   "outputs": [],
   "source": [
    "from sklearn.lda import LDA\n",
    "from sklearn.ensemble import RandomForestClassifier\n",
    "from sklearn import cross_validation as cv\n",
    "from sklearn import metrics\n",
    "from scipy import interp"
   ]
  },
  {
   "cell_type": "markdown",
   "metadata": {},
   "source": [
    "# Functions"
   ]
  },
  {
   "cell_type": "code",
   "execution_count": 105,
   "metadata": {
    "collapsed": false
   },
   "outputs": [],
   "source": [
    "def import_data(filepath):\n",
    "    DF = pd.read_csv(filepath)\n",
    "    C = ['Patient','Visit','DateOfVisit','Age','Gender','ART','VL','iVL','pVL',\n",
    "     'CD4','iCD4','nCD4','CD8','iCD8','nCD8','TMHDS','VisitDate','GDS','Prot', \n",
    "     'AAPos','Coverage','A','R','N','D','C','Q','E','G','H','I','L','K','M',\n",
    "     'F','P','S','T','W','Y','V']\n",
    "    DF = DF[C]\n",
    "    return DF\n",
    "\n",
    "def slice_position(df, pos):\n",
    "    m = df['AAPos'] == pos\n",
    "    sliced_df = df[m]\n",
    "    return sliced_df\n",
    "\n",
    "def reformat_section(df):\n",
    "    '''Must be a dataframe containing only 1 position'''\n",
    "    pos = str(int(list(df.AAPos)[0]))\n",
    "    AAs = ['A','R','N','D','C','Q','E','G','H','I',\n",
    "           'L','K','M','F','P','S','T','W','Y','V']\n",
    "    newnames_dict = {}\n",
    "    for item in AAs:\n",
    "        newnames_dict[item]= pos+item\n",
    "    df_renamed = df.rename(columns = newnames_dict)\n",
    "    df_renamed.drop(['AAPos','Coverage', 'Prot', 'DateOfVisit', 'VisitDate'], axis=1, inplace=True)\n",
    "    return df_renamed\n",
    "    \n",
    "def reformat_dataframe(DF, tat_length):\n",
    "    on_columns = ['Patient', 'Visit', 'Age', 'Gender', 'ART', 'VL','iVL', 'pVL', 'CD4', 'iCD4', \n",
    "                  'nCD4', 'CD8', 'iCD8', 'nCD8', 'TMHDS', 'GDS']\n",
    "    start_df = slice_position(DF, 1)\n",
    "    sklearn_df = reformat_section(start_df)\n",
    "    for i in range(2,tat_length+1):\n",
    "        pos_df = slice_position(DF, i)\n",
    "        pos_df2 = reformat_section(pos_df)\n",
    "        sklearn_df = pd.merge(sklearn_df, pos_df2,\n",
    "                   left_on=on_columns,\n",
    "                   right_on=on_columns,\n",
    "                   how='outer')    \n",
    "    return sklearn_df\n",
    "\n",
    "def get_GDS_threshold(sklearn_df):\n",
    "    sklearn_df['GDS_Threshold'] = sklearn_df['GDS'] > 0.5\n",
    "    sklearn_df['GDS_Threshold'] = sklearn_df['GDS_Threshold'].astype(int)\n",
    "    return sklearn_df\n",
    "\n",
    "\n",
    "### DIVERSITY FILTERING RELATED FUNCTIONS ########################\n",
    "\n",
    "def import_diversity_data(filepath):\n",
    "    AAs = ['A','R','N','D','C','Q','E','G','H','I','L','K','M','F','P','S','T','W','Y','V']\n",
    "    div_DF = pd.read_csv(filepath)\n",
    "    div_positions = [int(a) for a in Counter(div_DF.AAPos)]\n",
    "    return div_positions\n",
    "\n",
    "def diversityColumnConverter(div_positions):\n",
    "    keep_positions = []\n",
    "    for i in div_positions:\n",
    "        for aa in AAs:\n",
    "            keep_positions.append(str(i)+(aa))\n",
    "    return keep_positions\n",
    "\n",
    "### PLOTTING FUNCTIONS ###########################################\n",
    "\n",
    "def lda_plot(x1, x2):\n",
    "    mpl.rc('font',family='Arial')\n",
    "    kde1 = stats.gaussian_kde(x1)\n",
    "    kde2 = stats.gaussian_kde(x2)\n",
    "    fig, ax = plt.subplots(figsize=(7,4))\n",
    "    \n",
    "    x1_median = np.median(x1)\n",
    "    x2_median = np.median(x2)\n",
    "    globmin = min([min(x1),min(x2)])\n",
    "    globmax = max([max(x1),max(x2)])   \n",
    "    x_eval = np.linspace(globmin-1, globmax+1, num=200)\n",
    "    ax.axvline(x1_median, color='firebrick', linestyle='--')\n",
    "    ax.axvline(x2_median, color='steelblue', linestyle='--')\n",
    "    \n",
    "    ax.scatter(x1, np.zeros(x1.shape), color='firebrick',marker='|', s=200)\n",
    "    ax.scatter(x2, np.zeros(x2.shape), color='steelblue',marker='|', s=200)\n",
    "    ax.plot(x_eval, kde1(x_eval), color='firebrick', ls = '-')\n",
    "    ax.plot(x_eval, kde2(x_eval), color='steelblue', ls = '-')\n",
    "    ax.fill_between(x_eval, kde1(x_eval), color='firebrick', alpha = 0.1)\n",
    "    ax.fill_between(x_eval, kde2(x_eval), color='steelblue', alpha = 0.1)\n",
    "    ax.set_xlim([-3,3])\n",
    "    ax.set_ylim([0,0.9])\n",
    "\n",
    "    ax.set_ylabel('Probability density',size=18, labelpad=10, weight='bold')\n",
    "    ax.set_xlabel('Linear Discriminant',size=18, labelpad=10, weight='bold')\n",
    "    ax.tick_params(axis='both',labelsize=14)\n",
    "\n",
    "    ax.legend([mpl.patches.Patch(color='firebrick',alpha=0.1),\n",
    "               mpl.patches.Patch(color='steelblue',alpha=0.1)],\n",
    "               ['Impaired', 'Non-impaired'],\n",
    "               loc=1, ncol=1, fancybox=False, frameon=False,\n",
    "               fontsize=10)\n",
    "\n",
    "    plt.tight_layout()\n",
    "    plt.show()\n",
    "    fig.savefig('/Users/greg/Desktop/TatFigureStuff/lineardiscriminant.png',\n",
    "                format='png', dpi=300, bbox_inches='tight')"
   ]
  },
  {
   "cell_type": "markdown",
   "metadata": {},
   "source": [
    "# Dataframe Prep"
   ]
  },
  {
   "cell_type": "code",
   "execution_count": 113,
   "metadata": {
    "collapsed": false
   },
   "outputs": [],
   "source": [
    "DF = import_data('/Users/greg/Desktop/FullNeuroIllumina/MergedData/NGS_GDS_abundance.csv') # import\n",
    "sklearn_df = reformat_dataframe(DF, 101) # reformat\n",
    "sklearn_df.fillna(sklearn_df.mean(), inplace=True) #fillna\n",
    "sklearn_df = get_GDS_threshold(sklearn_df) # convert GDS to a threshold\n",
    "\n",
    "# Diversity filter\n",
    "div_positions = import_diversity_data('/Users/greg/Desktop/FullNeuroIllumina/Diversity/filterDF.csv')\n",
    "div_columns = diversityColumnConverter(div_positions)\n",
    "sklearn_filter_df = sklearn_df[['GDS_Threshold']+div_columns]"
   ]
  },
  {
   "cell_type": "markdown",
   "metadata": {},
   "source": [
    "# Sklearn Prep"
   ]
  },
  {
   "cell_type": "code",
   "execution_count": 121,
   "metadata": {
    "collapsed": false
   },
   "outputs": [],
   "source": [
    "col_list = list(sklearn_df.columns)\n",
    "\n",
    "l3 = [x for x in l1 if x not in l2]"
   ]
  },
  {
   "cell_type": "code",
   "execution_count": null,
   "metadata": {
    "collapsed": true
   },
   "outputs": [],
   "source": [
    "def sklearn_prep(df):   \n",
    "    on_columns = ['Patient', 'Visit', 'Age', 'Gender', 'ART', 'VL','iVL', 'pVL',\n",
    "                  'CD4','iCD4', 'nCD4', 'CD8', 'iCD8', 'nCD8', 'TMHDS', 'GDS']\n",
    "    y = np.ravel(df['GDS_Threshold'])"
   ]
  },
  {
   "cell_type": "code",
   "execution_count": null,
   "metadata": {
    "collapsed": true
   },
   "outputs": [],
   "source": [
    "\n",
    "    \n",
    "\n",
    "# prep for sklearn\n",
    "#y = np.ravel(sklearn_df['GDS_Threshold'])\n",
    "#drop_cols = on_columns + ['GDS_Threshold']\n",
    "#X = sklearn_df.drop(drop_cols, axis=1)\n",
    "#X = X.as_matrix()\n",
    "#print X.shape\n",
    "\n",
    "# prep for sklearn_filter\n",
    "y = np.ravel(sklearn_filter_df['GDS_Threshold'])\n",
    "X = sklearn_filter_df\n",
    "X = X.as_matrix()\n",
    "print X.shape"
   ]
  },
  {
   "cell_type": "markdown",
   "metadata": {},
   "source": [
    "# Linear Discriminant Analysis (AA variation only)"
   ]
  },
  {
   "cell_type": "code",
   "execution_count": 61,
   "metadata": {
    "collapsed": false
   },
   "outputs": [
    {
     "name": "stdout",
     "output_type": "stream",
     "text": [
      "(72, 1041)\n"
     ]
    }
   ],
   "source": [
    "# prep for sklearn\n",
    "#y = np.ravel(sklearn_df['GDS_Threshold'])\n",
    "#drop_cols = on_columns + ['GDS_Threshold']\n",
    "#X = sklearn_df.drop(drop_cols, axis=1)\n",
    "#X = X.as_matrix()\n",
    "#print X.shape\n",
    "\n",
    "# prep for sklearn_filter\n",
    "y = np.ravel(sklearn_filter_df['GDS_Threshold'])\n",
    "X = sklearn_filter_df\n",
    "X = X.as_matrix()\n",
    "print X.shape"
   ]
  },
  {
   "cell_type": "code",
   "execution_count": 62,
   "metadata": {
    "collapsed": false
   },
   "outputs": [
    {
     "data": {
      "image/png": "[encoded data removed]",
      "text/plain": [
       "<matplotlib.figure.Figure at 0x10aae7450>"
      ]
     },
     "metadata": {},
     "output_type": "display_data"
    }
   ],
   "source": [
    "# LDA dimensional reduction\n",
    "model = LDA(n_components=2, shrinkage=None)\n",
    "X_transform = model.fit(X, y).transform(X)\n",
    "x1 = X_transform[y == 0, 0]\n",
    "x2 = X_transform[y == 1, 0]\n",
    "\n",
    "u, p  = stats.mannwhitneyu(x1, x2)\n",
    "#print u,p\n",
    "#print np.mean(x1), np.mean(x2)\n",
    "#print np.median(x1), np.median(x2)\n",
    "\n",
    "# plot\n",
    "lda_plot(x1,x2)"
   ]
  },
  {
   "cell_type": "markdown",
   "metadata": {},
   "source": [
    "# Calculate distance"
   ]
  },
  {
   "cell_type": "code",
   "execution_count": 63,
   "metadata": {
    "collapsed": false
   },
   "outputs": [],
   "source": [
    "def bhatta(x1, x2, nbins):    \n",
    "    global_min = min([min(x1), min(x2)])\n",
    "    global_max = max([max(x1), max(x2)])\n",
    "    h1, b1 = np.histogram(x1, bins=nbins, range=(global_min, global_max))\n",
    "    h2, b2 = np.histogram(x2, bins=nbins, range=(global_min, global_max))    \n",
    "    h1_ = h1/sum(h1)\n",
    "    h2_ = h2/sum(h2)\n",
    "    coeff = 0;\n",
    "    for i in range(len(h1_)):\n",
    "        coeff += math.sqrt(h1_[i]*h2_[i])\n",
    "    distance = -np.log(coeff)\n",
    "    return coeff, distance"
   ]
  },
  {
   "cell_type": "code",
   "execution_count": 64,
   "metadata": {
    "collapsed": false
   },
   "outputs": [],
   "source": [
    "def new_histoplot(x1, x2, nbins):\n",
    "    global_min = min([min(x1), min(x2)])\n",
    "    global_max = max([max(x1), max(x2)])\n",
    "    plt.hist(x1, bins=nbins, range=(global_min, global_max), color='firebrick', alpha=0.3)\n",
    "    plt.hist(x2, bins=nbins, range=(global_min, global_max), color='steelblue', alpha=0.3)\n",
    "    plt.show()"
   ]
  },
  {
   "cell_type": "code",
   "execution_count": 65,
   "metadata": {
    "collapsed": false
   },
   "outputs": [
    {
     "name": "stdout",
     "output_type": "stream",
     "text": [
      "(0.39153144189647193, 0.93768945541853643)\n"
     ]
    },
    {
     "data": {
      "image/png": "[encoded data removed]",
      "text/plain": [
       "<matplotlib.figure.Figure at 0x10ad447d0>"
      ]
     },
     "metadata": {},
     "output_type": "display_data"
    }
   ],
   "source": [
    "print bhatta(x1,x2,10)\n",
    "new_histoplot(x1,x2,10)"
   ]
  },
  {
   "cell_type": "markdown",
   "metadata": {},
   "source": [
    "# Check each position"
   ]
  },
  {
   "cell_type": "code",
   "execution_count": null,
   "metadata": {
    "collapsed": false
   },
   "outputs": [],
   "source": [
    "# prep for sklearn\n",
    "y = np.ravel(sklearn_df['GDS_Threshold'])\n",
    "drop_cols = on_columns + ['GDS_Threshold']\n",
    "print drop_cols\n",
    "X = sklearn_df.drop(drop_cols, axis=1)\n",
    "X = X.as_matrix()\n",
    "print X.shape\n",
    "print y.shape"
   ]
  },
  {
   "cell_type": "code",
   "execution_count": null,
   "metadata": {
    "collapsed": false,
    "scrolled": false
   },
   "outputs": [],
   "source": [
    "AAs = ['A','R','N','D','C','Q','E','G','H','I',\n",
    "       'L','K','M','F','P','S','T','W','Y','V']\n",
    "y = np.ravel(sklearn_df['GDS_Threshold'])\n",
    "X = sklearn_df.drop(drop_cols, axis=1)\n",
    "\n",
    "bhatta_dict = {'Position':[], 'Coefficient':[], 'Distance':[]}\n",
    "\n",
    "for i in range(101):\n",
    "    pos_cols = []\n",
    "    n = i+1\n",
    "    for aa in AAs:\n",
    "        pos_cols.append(str(n)+aa)\n",
    "    Xdf = X[pos_cols]\n",
    "    X_position = Xdf.as_matrix()\n",
    "    \n",
    "    \n",
    "    model = LDA(n_components=2, shrinkage=None)\n",
    "    X_transform = model.fit(X_position, y).transform(X_position)\n",
    "    x1 = X_transform[y == 0, 0]\n",
    "    x2 = X_transform[y == 1, 0]\n",
    "    \n",
    "    coeff, distance = bhatta(x1,x2,10)\n",
    "    bhatta_dict['Position'].append(n)\n",
    "    bhatta_dict['Coefficient'].append(coeff)\n",
    "    bhatta_dict['Distance'].append(distance)\n",
    "    #lda_plot(x1,x2)\n",
    "    \n",
    "bhatta_df = pd.DataFrame(bhatta_dict)\n",
    "bhatta_df.sort_values(by='Distance', inplace=True, ascending=False)\n",
    "bhatta_df.head()"
   ]
  },
  {
   "cell_type": "markdown",
   "metadata": {},
   "source": [
    "# Cross Validation AUC - LDA"
   ]
  },
  {
   "cell_type": "code",
   "execution_count": 67,
   "metadata": {
    "collapsed": false
   },
   "outputs": [
    {
     "name": "stdout",
     "output_type": "stream",
     "text": [
      "(72, 1041)\n"
     ]
    }
   ],
   "source": [
    "# prep for sklearn\n",
    "#y = np.ravel(sklearn_df['GDS_Threshold'])\n",
    "#drop_cols = on_columns + ['GDS_Threshold']\n",
    "#X = sklearn_df.drop(drop_cols, axis=1)\n",
    "#X = X.as_matrix()\n",
    "#print X.shape\n",
    "\n",
    "# prep for sklearn_filter\n",
    "y = np.ravel(sklearn_filter_df['GDS_Threshold'])\n",
    "X = sklearn_filter_df\n",
    "X = X.as_matrix()\n",
    "print X.shape"
   ]
  },
  {
   "cell_type": "code",
   "execution_count": 91,
   "metadata": {
    "collapsed": false,
    "scrolled": false
   },
   "outputs": [
    {
     "data": {
      "image/png": "[encoded data removed]",
      "text/plain": [
       "<matplotlib.figure.Figure at 0x10bd84f90>"
      ]
     },
     "metadata": {},
     "output_type": "display_data"
    }
   ],
   "source": [
    "folds=4\n",
    "\n",
    "mean_tpr = 0.0\n",
    "mean_fpr = np.linspace(0, 1, 100)\n",
    "all_tpr = []\n",
    "\n",
    "cvK = cv.KFold(n=X.shape[0], n_folds=folds, random_state=1)\n",
    "for train_index, test_index in cvK:\n",
    "    X_train, X_test = X[train_index], X[test_index]\n",
    "    y_train, y_test = y[train_index], y[test_index]\n",
    "\n",
    "    LDA_model = LDA(n_components=2)\n",
    "    LDA_model.fit(X_train,y_train)\n",
    "    score = LDA_model.score(X_test, y_test)\n",
    "    probas_ = LDA_model.fit(X_train, y_train).predict_proba(X_test)\n",
    "    fpr, tpr, thresholds = metrics.roc_curve(y_test, probas_[:, 1])\n",
    "    mean_tpr += interp(mean_fpr, fpr, tpr)\n",
    "    mean_tpr[0] = 0.0\n",
    "    roc_auc = metrics.auc(fpr, tpr)\n",
    "\n",
    "mean_tpr /= folds\n",
    "mean_tpr[-1] = 1.0\n",
    "mean_auc = metrics.auc(mean_fpr, mean_tpr)\n",
    "\n",
    "plt.plot(mean_fpr, mean_tpr, 'r--',\n",
    "         label='Mean ROC (area = %0.2f)' % mean_auc, lw=2)    \n",
    "plt.plot([0, 1], [0, 1], '--', color=(0.6, 0.6, 0.6), label='Luck')\n",
    "plt.xlabel('False Positive Rate')\n",
    "plt.ylabel('True Positive Rate')\n",
    "plt.title('Receiver operating characteristic')\n",
    "plt.legend(loc=\"lower right\")\n",
    "plt.show()"
   ]
  },
  {
   "cell_type": "markdown",
   "metadata": {},
   "source": [
    "# CV - Random Forest"
   ]
  },
  {
   "cell_type": "code",
   "execution_count": 75,
   "metadata": {
    "collapsed": false
   },
   "outputs": [
    {
     "name": "stdout",
     "output_type": "stream",
     "text": [
      "(72, 1041)\n"
     ]
    }
   ],
   "source": [
    "# prep for sklearn\n",
    "#y = np.ravel(sklearn_df['GDS_Threshold'])\n",
    "#drop_cols = on_columns + ['GDS_Threshold']\n",
    "#X = sklearn_df.drop(drop_cols, axis=1)\n",
    "#X = X.as_matrix()\n",
    "#print X.shape\n",
    "\n",
    "# prep for sklearn_filter\n",
    "y = np.ravel(sklearn_filter_df['GDS_Threshold'])\n",
    "X = sklearn_filter_df\n",
    "X = X.as_matrix()\n",
    "print X.shape"
   ]
  },
  {
   "cell_type": "code",
   "execution_count": 89,
   "metadata": {
    "collapsed": false
   },
   "outputs": [
    {
     "data": {
      "image/png": "[encoded data removed]",
      "text/plain": [
       "<matplotlib.figure.Figure at 0x10c044310>"
      ]
     },
     "metadata": {},
     "output_type": "display_data"
    }
   ],
   "source": [
    "folds=8\n",
    "\n",
    "mean_tpr = 0.0\n",
    "mean_fpr = np.linspace(0, 1, 100)\n",
    "all_tpr = []\n",
    "\n",
    "cvK = cv.KFold(n=X.shape[0], n_folds=folds, random_state=1)\n",
    "for train_index, test_index in cvK:\n",
    "    X_train, X_test = X[train_index], X[test_index]\n",
    "    y_train, y_test = y[train_index], y[test_index]\n",
    "    \n",
    "    RF_model = RandomForestClassifier(n_estimators=10, random_state=1)\n",
    "    RF_model.fit(X_train,y_train)\n",
    "    score = RF_model.score(X_test, y_test)\n",
    "    probas_ = RF_model.fit(X_train, y_train).predict_proba(X_test)\n",
    "    fpr, tpr, thresholds = metrics.roc_curve(y_test, probas_[:, 1])\n",
    "    mean_tpr += interp(mean_fpr, fpr, tpr)\n",
    "    mean_tpr[0] = 0.0\n",
    "    roc_auc = metrics.auc(fpr, tpr)\n",
    "\n",
    "mean_tpr /= folds\n",
    "mean_tpr[-1] = 1.0\n",
    "mean_auc = metrics.auc(mean_fpr, mean_tpr)\n",
    "\n",
    "plt.plot(mean_fpr, mean_tpr, 'r--',\n",
    "         label='Mean ROC (area = %0.2f)' % mean_auc, lw=2)    \n",
    "plt.plot([0, 1], [0, 1], '--', color=(0.6, 0.6, 0.6), label='Luck')\n",
    "plt.xlabel('False Positive Rate')\n",
    "plt.ylabel('True Positive Rate')\n",
    "plt.title('Receiver operating characteristic')\n",
    "plt.legend(loc=\"lower right\")\n",
    "plt.show()"
   ]
  },
  {
   "cell_type": "code",
   "execution_count": null,
   "metadata": {
    "collapsed": true
   },
   "outputs": [],
   "source": []
  }
 ],
 "metadata": {
  "kernelspec": {
   "display_name": "Python 2",
   "language": "python",
   "name": "python2"
  },
  "language_info": {
   "codemirror_mode": {
    "name": "ipython",
    "version": 2
   },
   "file_extension": ".py",
   "mimetype": "text/x-python",
   "name": "python",
   "nbconvert_exporter": "python",
   "pygments_lexer": "ipython2",
   "version": "2.7.11"
  }
 },
 "nbformat": 4,
 "nbformat_minor": 0
}
