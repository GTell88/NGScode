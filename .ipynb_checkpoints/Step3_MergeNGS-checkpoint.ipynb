{
 "cells": [
  {
   "cell_type": "markdown",
   "metadata": {},
   "source": [
    "# Abstract"
   ]
  },
  {
   "cell_type": "markdown",
   "metadata": {},
   "source": [
    "<p>This notebook first filters frequency files by requiring a minimal amount of coverage for each position. The files that pass QC are saved in a list termed quality_files1 or quality_files2 - depending on the exon</p>\n",
    "\n",
    "<p>A script for plotting NGS coverage (post-translation and QC) is included below</p>"
   ]
  },
  {
   "cell_type": "markdown",
   "metadata": {},
   "source": [
    "# Import requirements"
   ]
  },
  {
   "cell_type": "code",
   "execution_count": 1,
   "metadata": {
    "collapsed": true
   },
   "outputs": [],
   "source": [
    "from __future__ import division\n",
    "import glob\n",
    "import pandas as pd\n",
    "import numpy as np\n",
    "import itertools\n",
    "from collections import Counter\n",
    "import time\n",
    "import matplotlib as mpl\n",
    "import matplotlib.pyplot as plt\n",
    "%matplotlib inline"
   ]
  },
  {
   "cell_type": "markdown",
   "metadata": {},
   "source": [
    "# Filter frequency files"
   ]
  },
  {
   "cell_type": "code",
   "execution_count": 22,
   "metadata": {
    "collapsed": true
   },
   "outputs": [],
   "source": [
    "def filter_freq_files(wildcard_path, n):\n",
    "    freq_files = glob.glob(wildcard_path)\n",
    "    quality_freq_files = []\n",
    "    passed = 0\n",
    "    for freq_file in freq_files:\n",
    "        df = pd.read_csv(freq_file)\n",
    "        q = sum(df['Coverage'] > 100) / n\n",
    "        if q >= 0.8:\n",
    "            #print freq_file.split('/')[-1].split('.')[0],\n",
    "            passed+=1\n",
    "            quality_freq_files.append(freq_file)\n",
    "    print passed, 'files passed QC filter'\n",
    "    return quality_freq_files"
   ]
  },
  {
   "cell_type": "code",
   "execution_count": 23,
   "metadata": {
    "collapsed": false
   },
   "outputs": [
    {
     "name": "stdout",
     "output_type": "stream",
     "text": [
      "59 files passed QC filter\n",
      "57 files passed QC filter\n"
     ]
    }
   ],
   "source": [
    "# proportional abundance\n",
    "wildcard_path1 = '/Users/greg/Desktop/FullNeuroIllumina/Frequency/Tat1/*AAfreq.csv'\n",
    "quality_files1 = filter_freq_files(wildcard_path1, 70)\n",
    "\n",
    "wildcard_path2 = '/Users/greg/Desktop/FullNeuroIllumina/Frequency/Tat2/*AAfreq.csv'\n",
    "quality_files2 = filter_freq_files(wildcard_path2, 12)"
   ]
  },
  {
   "cell_type": "code",
   "execution_count": 70,
   "metadata": {
    "collapsed": false
   },
   "outputs": [
    {
     "name": "stdout",
     "output_type": "stream",
     "text": [
      "59 files passed QC filter\n",
      "57 files passed QC filter\n"
     ]
    }
   ],
   "source": [
    "# raw counts\n",
    "wildcard_path3 = '/Users/greg/Desktop/FullNeuroIllumina/Frequency/Tat1/*AAfreqcount.csv'\n",
    "quality_files3 = filter_freq_files(wildcard_path3, 70)\n",
    "\n",
    "wildcard_path4 = '/Users/greg/Desktop/FullNeuroIllumina/Frequency/Tat2/*AAfreqcount.csv'\n",
    "quality_files4 = filter_freq_files(wildcard_path4, 12)"
   ]
  },
  {
   "cell_type": "markdown",
   "metadata": {},
   "source": [
    "# Combine frequency files"
   ]
  },
  {
   "cell_type": "code",
   "execution_count": 54,
   "metadata": {
    "collapsed": true
   },
   "outputs": [],
   "source": [
    "def drop_positions(df, position):\n",
    "    df = df[df['AAPos'] <= position]\n",
    "    return df\n",
    "\n",
    "def combine_quality_files(quality_files, position):\n",
    "    freq_files = quality_files\n",
    "    f = freq_files[0]\n",
    "    df1 = pd.read_csv(f)\n",
    "    cols = list(df1.columns)\n",
    "    main_df = pd.DataFrame(columns=cols)\n",
    "    for freq_file in freq_files:\n",
    "        df = pd.read_csv(freq_file)\n",
    "        main_df = pd.concat([main_df, df], ignore_index=True)\n",
    "    # sorts dataframe output\n",
    "    main_df.sort_values(['AAPos','Patient','Visit'],  inplace=True)\n",
    "    # requires 100x read coverage\n",
    "    main_df = main_df[main_df['Coverage'] >= 100]\n",
    "    # drop positions > some position number\n",
    "    main_df = drop_positions(main_df, position)\n",
    "    return main_df"
   ]
  },
  {
   "cell_type": "code",
   "execution_count": 71,
   "metadata": {
    "collapsed": false
   },
   "outputs": [
    {
     "name": "stdout",
     "output_type": "stream",
     "text": [
      "(5809, 25)\n"
     ]
    },
    {
     "data": {
      "text/html": [
       "<div>\n",
       "<table border=\"1\" class=\"dataframe\">\n",
       "  <thead>\n",
       "    <tr style=\"text-align: right;\">\n",
       "      <th></th>\n",
       "      <th>Patient</th>\n",
       "      <th>Visit</th>\n",
       "      <th>Prot</th>\n",
       "      <th>AAPos</th>\n",
       "      <th>Coverage</th>\n",
       "      <th>A</th>\n",
       "      <th>R</th>\n",
       "      <th>N</th>\n",
       "      <th>D</th>\n",
       "      <th>C</th>\n",
       "      <th>...</th>\n",
       "      <th>L</th>\n",
       "      <th>K</th>\n",
       "      <th>M</th>\n",
       "      <th>F</th>\n",
       "      <th>P</th>\n",
       "      <th>S</th>\n",
       "      <th>T</th>\n",
       "      <th>W</th>\n",
       "      <th>Y</th>\n",
       "      <th>V</th>\n",
       "    </tr>\n",
       "  </thead>\n",
       "  <tbody>\n",
       "    <tr>\n",
       "      <th>0</th>\n",
       "      <td>A0001</td>\n",
       "      <td>R09</td>\n",
       "      <td>Tat1</td>\n",
       "      <td>1</td>\n",
       "      <td>38938</td>\n",
       "      <td>0.000051</td>\n",
       "      <td>0.002157</td>\n",
       "      <td>0.000051</td>\n",
       "      <td>0.000077</td>\n",
       "      <td>0.002080</td>\n",
       "      <td>...</td>\n",
       "      <td>0.006934</td>\n",
       "      <td>0.001695</td>\n",
       "      <td>0.565052</td>\n",
       "      <td>0.000026</td>\n",
       "      <td>0</td>\n",
       "      <td>0.000848</td>\n",
       "      <td>0.000128</td>\n",
       "      <td>0.416637</td>\n",
       "      <td>0</td>\n",
       "      <td>0.000205</td>\n",
       "    </tr>\n",
       "    <tr>\n",
       "      <th>1</th>\n",
       "      <td>A0010</td>\n",
       "      <td>R08</td>\n",
       "      <td>Tat1</td>\n",
       "      <td>1</td>\n",
       "      <td>171</td>\n",
       "      <td>0.000000</td>\n",
       "      <td>0.000000</td>\n",
       "      <td>0.000000</td>\n",
       "      <td>0.000000</td>\n",
       "      <td>0.000000</td>\n",
       "      <td>...</td>\n",
       "      <td>0.005848</td>\n",
       "      <td>0.005848</td>\n",
       "      <td>0.584795</td>\n",
       "      <td>0.000000</td>\n",
       "      <td>0</td>\n",
       "      <td>0.000000</td>\n",
       "      <td>0.000000</td>\n",
       "      <td>0.403509</td>\n",
       "      <td>0</td>\n",
       "      <td>0.000000</td>\n",
       "    </tr>\n",
       "    <tr>\n",
       "      <th>2</th>\n",
       "      <td>A0013</td>\n",
       "      <td>R09</td>\n",
       "      <td>Tat1</td>\n",
       "      <td>1</td>\n",
       "      <td>602</td>\n",
       "      <td>0.000000</td>\n",
       "      <td>0.001661</td>\n",
       "      <td>0.000000</td>\n",
       "      <td>0.000000</td>\n",
       "      <td>0.000000</td>\n",
       "      <td>...</td>\n",
       "      <td>0.001661</td>\n",
       "      <td>0.004983</td>\n",
       "      <td>0.282392</td>\n",
       "      <td>0.000000</td>\n",
       "      <td>0</td>\n",
       "      <td>0.001661</td>\n",
       "      <td>0.000000</td>\n",
       "      <td>0.209302</td>\n",
       "      <td>0</td>\n",
       "      <td>0.000000</td>\n",
       "    </tr>\n",
       "    <tr>\n",
       "      <th>3</th>\n",
       "      <td>A0019</td>\n",
       "      <td>R12</td>\n",
       "      <td>Tat1</td>\n",
       "      <td>1</td>\n",
       "      <td>1485</td>\n",
       "      <td>0.000000</td>\n",
       "      <td>0.001347</td>\n",
       "      <td>0.000673</td>\n",
       "      <td>0.000000</td>\n",
       "      <td>0.000673</td>\n",
       "      <td>...</td>\n",
       "      <td>0.008081</td>\n",
       "      <td>0.003367</td>\n",
       "      <td>0.526599</td>\n",
       "      <td>0.000000</td>\n",
       "      <td>0</td>\n",
       "      <td>0.001347</td>\n",
       "      <td>0.000673</td>\n",
       "      <td>0.452525</td>\n",
       "      <td>0</td>\n",
       "      <td>0.000000</td>\n",
       "    </tr>\n",
       "    <tr>\n",
       "      <th>4</th>\n",
       "      <td>A0026</td>\n",
       "      <td>R09</td>\n",
       "      <td>Tat1</td>\n",
       "      <td>1</td>\n",
       "      <td>334</td>\n",
       "      <td>0.000000</td>\n",
       "      <td>0.002994</td>\n",
       "      <td>0.000000</td>\n",
       "      <td>0.000000</td>\n",
       "      <td>0.000000</td>\n",
       "      <td>...</td>\n",
       "      <td>0.008982</td>\n",
       "      <td>0.000000</td>\n",
       "      <td>0.589820</td>\n",
       "      <td>0.000000</td>\n",
       "      <td>0</td>\n",
       "      <td>0.002994</td>\n",
       "      <td>0.000000</td>\n",
       "      <td>0.389222</td>\n",
       "      <td>0</td>\n",
       "      <td>0.000000</td>\n",
       "    </tr>\n",
       "  </tbody>\n",
       "</table>\n",
       "<p>5 rows × 25 columns</p>\n",
       "</div>"
      ],
      "text/plain": [
       "  Patient Visit  Prot  AAPos  Coverage         A         R         N  \\\n",
       "0   A0001   R09  Tat1      1     38938  0.000051  0.002157  0.000051   \n",
       "1   A0010   R08  Tat1      1       171  0.000000  0.000000  0.000000   \n",
       "2   A0013   R09  Tat1      1       602  0.000000  0.001661  0.000000   \n",
       "3   A0019   R12  Tat1      1      1485  0.000000  0.001347  0.000673   \n",
       "4   A0026   R09  Tat1      1       334  0.000000  0.002994  0.000000   \n",
       "\n",
       "          D         C    ...            L         K         M         F  P  \\\n",
       "0  0.000077  0.002080    ...     0.006934  0.001695  0.565052  0.000026  0   \n",
       "1  0.000000  0.000000    ...     0.005848  0.005848  0.584795  0.000000  0   \n",
       "2  0.000000  0.000000    ...     0.001661  0.004983  0.282392  0.000000  0   \n",
       "3  0.000000  0.000673    ...     0.008081  0.003367  0.526599  0.000000  0   \n",
       "4  0.000000  0.000000    ...     0.008982  0.000000  0.589820  0.000000  0   \n",
       "\n",
       "          S         T         W  Y         V  \n",
       "0  0.000848  0.000128  0.416637  0  0.000205  \n",
       "1  0.000000  0.000000  0.403509  0  0.000000  \n",
       "2  0.001661  0.000000  0.209302  0  0.000000  \n",
       "3  0.001347  0.000673  0.452525  0  0.000000  \n",
       "4  0.002994  0.000000  0.389222  0  0.000000  \n",
       "\n",
       "[5 rows x 25 columns]"
      ]
     },
     "execution_count": 71,
     "metadata": {},
     "output_type": "execute_result"
    }
   ],
   "source": [
    "combo_df1 = combine_quality_files(quality_files1, 72)\n",
    "combo_df2 = combine_quality_files(quality_files2, 29)\n",
    "combo_df2['AAPos'] = combo_df2['AAPos'] + 72\n",
    "combo_df = pd.concat([combo_df1, combo_df2], ignore_index=True)\n",
    "print combo_df.shape\n",
    "combo_df.head()"
   ]
  },
  {
   "cell_type": "code",
   "execution_count": 72,
   "metadata": {
    "collapsed": false
   },
   "outputs": [
    {
     "name": "stdout",
     "output_type": "stream",
     "text": [
      "(5809, 25)\n"
     ]
    },
    {
     "data": {
      "text/html": [
       "<div>\n",
       "<table border=\"1\" class=\"dataframe\">\n",
       "  <thead>\n",
       "    <tr style=\"text-align: right;\">\n",
       "      <th></th>\n",
       "      <th>Patient</th>\n",
       "      <th>Visit</th>\n",
       "      <th>Prot</th>\n",
       "      <th>AAPos</th>\n",
       "      <th>Coverage</th>\n",
       "      <th>A</th>\n",
       "      <th>R</th>\n",
       "      <th>N</th>\n",
       "      <th>D</th>\n",
       "      <th>C</th>\n",
       "      <th>...</th>\n",
       "      <th>L</th>\n",
       "      <th>K</th>\n",
       "      <th>M</th>\n",
       "      <th>F</th>\n",
       "      <th>P</th>\n",
       "      <th>S</th>\n",
       "      <th>T</th>\n",
       "      <th>W</th>\n",
       "      <th>Y</th>\n",
       "      <th>V</th>\n",
       "    </tr>\n",
       "  </thead>\n",
       "  <tbody>\n",
       "    <tr>\n",
       "      <th>0</th>\n",
       "      <td>A0001</td>\n",
       "      <td>R09</td>\n",
       "      <td>Tat1</td>\n",
       "      <td>1</td>\n",
       "      <td>38938</td>\n",
       "      <td>2</td>\n",
       "      <td>84</td>\n",
       "      <td>2</td>\n",
       "      <td>3</td>\n",
       "      <td>81</td>\n",
       "      <td>...</td>\n",
       "      <td>270</td>\n",
       "      <td>66</td>\n",
       "      <td>22002</td>\n",
       "      <td>1</td>\n",
       "      <td>0</td>\n",
       "      <td>33</td>\n",
       "      <td>5</td>\n",
       "      <td>16223</td>\n",
       "      <td>0</td>\n",
       "      <td>8</td>\n",
       "    </tr>\n",
       "    <tr>\n",
       "      <th>1</th>\n",
       "      <td>A0010</td>\n",
       "      <td>R08</td>\n",
       "      <td>Tat1</td>\n",
       "      <td>1</td>\n",
       "      <td>171</td>\n",
       "      <td>0</td>\n",
       "      <td>0</td>\n",
       "      <td>0</td>\n",
       "      <td>0</td>\n",
       "      <td>0</td>\n",
       "      <td>...</td>\n",
       "      <td>1</td>\n",
       "      <td>1</td>\n",
       "      <td>100</td>\n",
       "      <td>0</td>\n",
       "      <td>0</td>\n",
       "      <td>0</td>\n",
       "      <td>0</td>\n",
       "      <td>69</td>\n",
       "      <td>0</td>\n",
       "      <td>0</td>\n",
       "    </tr>\n",
       "    <tr>\n",
       "      <th>2</th>\n",
       "      <td>A0013</td>\n",
       "      <td>R09</td>\n",
       "      <td>Tat1</td>\n",
       "      <td>1</td>\n",
       "      <td>602</td>\n",
       "      <td>0</td>\n",
       "      <td>1</td>\n",
       "      <td>0</td>\n",
       "      <td>0</td>\n",
       "      <td>0</td>\n",
       "      <td>...</td>\n",
       "      <td>1</td>\n",
       "      <td>3</td>\n",
       "      <td>170</td>\n",
       "      <td>0</td>\n",
       "      <td>0</td>\n",
       "      <td>1</td>\n",
       "      <td>0</td>\n",
       "      <td>126</td>\n",
       "      <td>0</td>\n",
       "      <td>0</td>\n",
       "    </tr>\n",
       "    <tr>\n",
       "      <th>3</th>\n",
       "      <td>A0019</td>\n",
       "      <td>R12</td>\n",
       "      <td>Tat1</td>\n",
       "      <td>1</td>\n",
       "      <td>1485</td>\n",
       "      <td>0</td>\n",
       "      <td>2</td>\n",
       "      <td>1</td>\n",
       "      <td>0</td>\n",
       "      <td>1</td>\n",
       "      <td>...</td>\n",
       "      <td>12</td>\n",
       "      <td>5</td>\n",
       "      <td>782</td>\n",
       "      <td>0</td>\n",
       "      <td>0</td>\n",
       "      <td>2</td>\n",
       "      <td>1</td>\n",
       "      <td>672</td>\n",
       "      <td>0</td>\n",
       "      <td>0</td>\n",
       "    </tr>\n",
       "    <tr>\n",
       "      <th>4</th>\n",
       "      <td>A0026</td>\n",
       "      <td>R09</td>\n",
       "      <td>Tat1</td>\n",
       "      <td>1</td>\n",
       "      <td>334</td>\n",
       "      <td>0</td>\n",
       "      <td>1</td>\n",
       "      <td>0</td>\n",
       "      <td>0</td>\n",
       "      <td>0</td>\n",
       "      <td>...</td>\n",
       "      <td>3</td>\n",
       "      <td>0</td>\n",
       "      <td>197</td>\n",
       "      <td>0</td>\n",
       "      <td>0</td>\n",
       "      <td>1</td>\n",
       "      <td>0</td>\n",
       "      <td>130</td>\n",
       "      <td>0</td>\n",
       "      <td>0</td>\n",
       "    </tr>\n",
       "  </tbody>\n",
       "</table>\n",
       "<p>5 rows × 25 columns</p>\n",
       "</div>"
      ],
      "text/plain": [
       "  Patient Visit  Prot  AAPos  Coverage  A   R  N  D   C ...    L   K      M  \\\n",
       "0   A0001   R09  Tat1      1     38938  2  84  2  3  81 ...  270  66  22002   \n",
       "1   A0010   R08  Tat1      1       171  0   0  0  0   0 ...    1   1    100   \n",
       "2   A0013   R09  Tat1      1       602  0   1  0  0   0 ...    1   3    170   \n",
       "3   A0019   R12  Tat1      1      1485  0   2  1  0   1 ...   12   5    782   \n",
       "4   A0026   R09  Tat1      1       334  0   1  0  0   0 ...    3   0    197   \n",
       "\n",
       "   F  P   S  T      W  Y  V  \n",
       "0  1  0  33  5  16223  0  8  \n",
       "1  0  0   0  0     69  0  0  \n",
       "2  0  0   1  0    126  0  0  \n",
       "3  0  0   2  1    672  0  0  \n",
       "4  0  0   1  0    130  0  0  \n",
       "\n",
       "[5 rows x 25 columns]"
      ]
     },
     "execution_count": 72,
     "metadata": {},
     "output_type": "execute_result"
    }
   ],
   "source": [
    "combo_counts_df1 = combine_quality_files(quality_files3, 72)\n",
    "combo_counts_df2 = combine_quality_files(quality_files4, 29)\n",
    "combo_counts_df2['AAPos'] = combo_counts_df2['AAPos'] + 72\n",
    "combo_counts_df = pd.concat([combo_counts_df1, combo_counts_df2], ignore_index=True)\n",
    "print combo_counts_df.shape\n",
    "combo_counts_df.head()"
   ]
  },
  {
   "cell_type": "markdown",
   "metadata": {},
   "source": [
    "# Save NGS summary to file"
   ]
  },
  {
   "cell_type": "code",
   "execution_count": 73,
   "metadata": {
    "collapsed": true
   },
   "outputs": [],
   "source": [
    "# proportional abundance\n",
    "combo_df1.to_csv('/Users/greg/Desktop/FullNeuroIllumina/NGSProfiles/NGSprofile1.csv', index=False)\n",
    "combo_df2.to_csv('/Users/greg/Desktop/FullNeuroIllumina/NGSProfiles/NGSprofile2.csv', index=False)\n",
    "combo_df.to_csv('/Users/greg/Desktop/FullNeuroIllumina/NGSProfiles/NGSprofile.csv', index=False)\n",
    "\n",
    "# raw counts\n",
    "combo_counts_df1.to_csv('/Users/greg/Desktop/FullNeuroIllumina/NGSProfiles/NGScounts1.csv', index=False)\n",
    "combo_counts_df2.to_csv('/Users/greg/Desktop/FullNeuroIllumina/NGSProfiles/NGScounts2.csv', index=False)\n",
    "combo_counts_df.to_csv('/Users/greg/Desktop/FullNeuroIllumina/NGSProfiles/NGScounts.csv', index=False)"
   ]
  },
  {
   "cell_type": "markdown",
   "metadata": {},
   "source": [
    "# NGS coverage figure"
   ]
  },
  {
   "cell_type": "code",
   "execution_count": 74,
   "metadata": {
    "collapsed": false
   },
   "outputs": [],
   "source": [
    "ngs_seq_metadata = {'position':[], 'samples':[], 'mean log coverage':[], 'std log coverage':[]}\n",
    "\n",
    "for i, g in combo_df.groupby('AAPos'):\n",
    "    ngs_seq_metadata['mean log coverage'].append(np.mean(np.log10(g['Coverage'])))\n",
    "    ngs_seq_metadata['std log coverage'].append(np.std(np.log10(g['Coverage'])))\n",
    "    ngs_seq_metadata['samples'].append(g.shape[0])\n",
    "    ngs_seq_metadata['position'].append(i)\n",
    "    \n",
    "ngs_seq_meta_df = pd.DataFrame(ngs_seq_metadata)\n",
    "ngs_seq_meta_df.to_csv('/Users/greg/Desktop/FullNeuroIllumina/NGSProfiles/ngs_seq_meta_df.csv', index=False)"
   ]
  },
  {
   "cell_type": "code",
   "execution_count": 75,
   "metadata": {
    "collapsed": false
   },
   "outputs": [
    {
     "data": {
      "image/png": "[encoded data removed]",
      "text/plain": [
       "<matplotlib.figure.Figure at 0x109798b90>"
      ]
     },
     "metadata": {},
     "output_type": "display_data"
    }
   ],
   "source": [
    "# set fonts\n",
    "mpl.rc('font',family='Arial')\n",
    "\n",
    "fig, ax = plt.subplots(figsize=(7,4))\n",
    "L = list(ngs_seq_meta_df['mean log coverage'])\n",
    "L2 = [0] + L\n",
    "E = list(ngs_seq_meta_df['std log coverage'])\n",
    "E2 = [0] + E\n",
    "y = np.array(L2)\n",
    "x = np.arange(len(L2))\n",
    "\n",
    "# plot it\n",
    "ax.tick_params(axis='both',labelsize=12)\n",
    "ax.plot(x, y, linewidth=2, color='firebrick')\n",
    "yerr = E2\n",
    "ax.fill_between(x, y-yerr, y+yerr,facecolor='lightpink')\n",
    "\n",
    "ax.set_ylabel('Mean Log10 Read Coverage',size=14, labelpad=10, weight='bold')\n",
    "ax.set_ylim([2,5.5])\n",
    "\n",
    "ax.set_xlabel('Tat amino acid position', size=14, labelpad=10, weight='bold')\n",
    "xs = [1,10,20,30,40,50,60,70,80,90,101]\n",
    "ax.set_xticks(xs)\n",
    "ax.set_xlim([1,101])\n",
    "\n",
    "ax.legend([mpl.patches.Patch(color='firebrick'),\n",
    "           mpl.patches.Patch(color='lightpink')],\n",
    "           ['Mean read coverage', 'Stdev. read coverage'],\n",
    "           loc=1, ncol=1, fancybox=False, frameon=False,\n",
    "           fontsize=10)\n",
    "\n",
    "plt.tight_layout()\n",
    "plt.show()\n",
    "fig.savefig('/Users/greg/Desktop/FullNeuroIllumina/Figures/GDSIlluminaCoverage.png',\n",
    "            format='png', dpi=300, bbox_inches='tight')"
   ]
  }
 ],
 "metadata": {
  "kernelspec": {
   "display_name": "Python 2",
   "language": "python",
   "name": "python2"
  },
  "language_info": {
   "codemirror_mode": {
    "name": "ipython",
    "version": 2
   },
   "file_extension": ".py",
   "mimetype": "text/x-python",
   "name": "python",
   "nbconvert_exporter": "python",
   "pygments_lexer": "ipython2",
   "version": "2.7.11"
  }
 },
 "nbformat": 4,
 "nbformat_minor": 0
}
