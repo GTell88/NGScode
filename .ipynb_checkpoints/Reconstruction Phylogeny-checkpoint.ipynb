{
 "cells": [
  {
   "cell_type": "code",
   "execution_count": 11,
   "metadata": {
    "collapsed": true
   },
   "outputs": [],
   "source": [
    "import pandas as pd\n",
    "import numpy as np\n",
    "import glob\n",
    "from collections import Counter\n",
    "import matplotlib.pyplot as plt\n",
    "%matplotlib inline\n",
    "\n",
    "from Bio import SeqIO\n",
    "from scipy import stats\n",
    "from Bio.Seq import Seq\n",
    "#from Bio.Alphabet import generic_dna"
   ]
  },
  {
   "cell_type": "code",
   "execution_count": 4,
   "metadata": {
    "collapsed": true
   },
   "outputs": [],
   "source": [
    "def quick_fasta_reader(filepath):\n",
    "    sequence_list = []\n",
    "    for seq_record in SeqIO.parse(filepath,'fasta'):\n",
    "        full_id = seq_record.id\n",
    "        seq = seq_record.seq\n",
    "        x = (full_id, seq)\n",
    "        sequence_list.append(x)\n",
    "    return sequence_list"
   ]
  },
  {
   "cell_type": "code",
   "execution_count": 16,
   "metadata": {
    "collapsed": false
   },
   "outputs": [
    {
     "name": "stdout",
     "output_type": "stream",
     "text": [
      "4\n",
      "1\n",
      "1\n",
      "2\n",
      "1\n",
      "2\n",
      "5\n",
      "3\n",
      "1\n",
      "8\n",
      "1\n",
      "1\n",
      "34\n",
      "1\n",
      "1\n",
      "1\n",
      "1\n",
      "17\n",
      "2\n",
      "1\n",
      "1\n",
      "1\n",
      "1\n",
      "10\n",
      "1\n",
      "5\n",
      "1\n",
      "1\n",
      "1\n",
      "1\n",
      "3\n",
      "2\n",
      "66\n",
      "2\n",
      "1\n",
      "2\n",
      "1\n",
      "4\n",
      "33\n",
      "106\n",
      "13\n",
      "1\n",
      "1\n",
      "4\n",
      "2\n",
      "1\n",
      "2\n",
      "10\n",
      "10\n",
      "4\n",
      "3\n",
      "1\n",
      "7\n",
      "2\n",
      "1\n",
      "2\n",
      "1\n",
      "1\n",
      "7\n",
      "1\n",
      "1\n",
      "1\n",
      "1\n",
      "51\n",
      "19\n",
      "1\n",
      "71\n",
      "1\n",
      "1\n",
      "6\n",
      "8\n",
      "1\n",
      "18\n",
      "4\n",
      "4\n",
      "1\n",
      "2\n",
      "128\n",
      "1\n"
     ]
    }
   ],
   "source": [
    "files = glob.glob('/Users/greg/Desktop/FullNeuroIllumina/Reconstructions/TatRecons/*.fasta')\n",
    "for fpath in files:\n",
    "    seq_list = quick_fasta_reader(fpath)\n",
    "    print len(seq_list)"
   ]
  },
  {
   "cell_type": "code",
   "execution_count": 9,
   "metadata": {
    "collapsed": false
   },
   "outputs": [
    {
     "data": {
      "text/plain": [
       "[('read0_0.4009',\n",
       "  Seq('GAGAGCAAGAAATGGAGCCAGTAGATCCTAGCCTAGAGCCCTGGAAGCATCCAG...TAA', SingleLetterAlphabet())),\n",
       " ('read1_0.2909',\n",
       "  Seq('GAGAGCAAGAAATGGAGCCAGTAGATCCTAGACTAGAGCCCTGGAAGCACCCAG...TAA', SingleLetterAlphabet())),\n",
       " ('read2_0.1926',\n",
       "  Seq('AAAAGCAAAAAATGAAGCCAGTAAATCCTAGACTAAAGCCCTAAAAGCATCCAG...TAA', SingleLetterAlphabet())),\n",
       " ('read3_0.1156',\n",
       "  Seq('GAGAGCAAGAAATGGAGCCAGTAGATCCTAGCCTAGAGCCCTGGAAGCATCCAG...TAA', SingleLetterAlphabet()))]"
      ]
     },
     "execution_count": 9,
     "metadata": {},
     "output_type": "execute_result"
    }
   ],
   "source": [
    "seq_list"
   ]
  },
  {
   "cell_type": "code",
   "execution_count": null,
   "metadata": {
    "collapsed": true
   },
   "outputs": [],
   "source": []
  }
 ],
 "metadata": {
  "kernelspec": {
   "display_name": "Python 2",
   "language": "python",
   "name": "python2"
  },
  "language_info": {
   "codemirror_mode": {
    "name": "ipython",
    "version": 2
   },
   "file_extension": ".py",
   "mimetype": "text/x-python",
   "name": "python",
   "nbconvert_exporter": "python",
   "pygments_lexer": "ipython2",
   "version": "2.7.11"
  }
 },
 "nbformat": 4,
 "nbformat_minor": 0
}
