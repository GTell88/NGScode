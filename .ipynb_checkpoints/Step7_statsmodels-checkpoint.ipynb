{
 "cells": [
  {
   "cell_type": "markdown",
   "metadata": {},
   "source": [
    "# Import Requirements"
   ]
  },
  {
   "cell_type": "code",
   "execution_count": 1,
   "metadata": {
    "collapsed": true
   },
   "outputs": [],
   "source": [
    "from __future__ import division\n",
    "import pandas as pd\n",
    "import numpy as np\n",
    "from collections import Counter\n",
    "import time\n",
    "import matplotlib.pyplot as plt\n",
    "%matplotlib inline"
   ]
  },
  {
   "cell_type": "code",
   "execution_count": 2,
   "metadata": {
    "collapsed": false
   },
   "outputs": [
    {
     "data": {
      "text/html": [
       "<div>\n",
       "<table border=\"1\" class=\"dataframe\">\n",
       "  <thead>\n",
       "    <tr style=\"text-align: right;\">\n",
       "      <th></th>\n",
       "      <th>Patient</th>\n",
       "      <th>Visit</th>\n",
       "      <th>GDS</th>\n",
       "      <th>Prot</th>\n",
       "      <th>AAPos</th>\n",
       "      <th>Coverage</th>\n",
       "      <th>A</th>\n",
       "      <th>R</th>\n",
       "      <th>N</th>\n",
       "      <th>D</th>\n",
       "      <th>...</th>\n",
       "      <th>L</th>\n",
       "      <th>K</th>\n",
       "      <th>M</th>\n",
       "      <th>F</th>\n",
       "      <th>P</th>\n",
       "      <th>S</th>\n",
       "      <th>T</th>\n",
       "      <th>W</th>\n",
       "      <th>Y</th>\n",
       "      <th>V</th>\n",
       "    </tr>\n",
       "  </thead>\n",
       "  <tbody>\n",
       "    <tr>\n",
       "      <th>0</th>\n",
       "      <td>A0001</td>\n",
       "      <td>R09</td>\n",
       "      <td>0.583333</td>\n",
       "      <td>Tat1</td>\n",
       "      <td>1</td>\n",
       "      <td>38938</td>\n",
       "      <td>0.000051</td>\n",
       "      <td>0.002157</td>\n",
       "      <td>0.000051</td>\n",
       "      <td>0.000077</td>\n",
       "      <td>...</td>\n",
       "      <td>0.006934</td>\n",
       "      <td>0.001695</td>\n",
       "      <td>0.565052</td>\n",
       "      <td>0.000026</td>\n",
       "      <td>0</td>\n",
       "      <td>0.000848</td>\n",
       "      <td>0.000128</td>\n",
       "      <td>0.416637</td>\n",
       "      <td>0</td>\n",
       "      <td>0.000205</td>\n",
       "    </tr>\n",
       "    <tr>\n",
       "      <th>1</th>\n",
       "      <td>A0010</td>\n",
       "      <td>R08</td>\n",
       "      <td>1.416667</td>\n",
       "      <td>Tat1</td>\n",
       "      <td>1</td>\n",
       "      <td>171</td>\n",
       "      <td>0.000000</td>\n",
       "      <td>0.000000</td>\n",
       "      <td>0.000000</td>\n",
       "      <td>0.000000</td>\n",
       "      <td>...</td>\n",
       "      <td>0.005848</td>\n",
       "      <td>0.005848</td>\n",
       "      <td>0.584795</td>\n",
       "      <td>0.000000</td>\n",
       "      <td>0</td>\n",
       "      <td>0.000000</td>\n",
       "      <td>0.000000</td>\n",
       "      <td>0.403509</td>\n",
       "      <td>0</td>\n",
       "      <td>0.000000</td>\n",
       "    </tr>\n",
       "    <tr>\n",
       "      <th>2</th>\n",
       "      <td>A0013</td>\n",
       "      <td>R09</td>\n",
       "      <td>0.000000</td>\n",
       "      <td>Tat1</td>\n",
       "      <td>1</td>\n",
       "      <td>602</td>\n",
       "      <td>0.000000</td>\n",
       "      <td>0.001661</td>\n",
       "      <td>0.000000</td>\n",
       "      <td>0.000000</td>\n",
       "      <td>...</td>\n",
       "      <td>0.001661</td>\n",
       "      <td>0.004983</td>\n",
       "      <td>0.282392</td>\n",
       "      <td>0.000000</td>\n",
       "      <td>0</td>\n",
       "      <td>0.001661</td>\n",
       "      <td>0.000000</td>\n",
       "      <td>0.209302</td>\n",
       "      <td>0</td>\n",
       "      <td>0.000000</td>\n",
       "    </tr>\n",
       "    <tr>\n",
       "      <th>3</th>\n",
       "      <td>A0019</td>\n",
       "      <td>R12</td>\n",
       "      <td>0.250000</td>\n",
       "      <td>Tat1</td>\n",
       "      <td>1</td>\n",
       "      <td>1485</td>\n",
       "      <td>0.000000</td>\n",
       "      <td>0.001347</td>\n",
       "      <td>0.000673</td>\n",
       "      <td>0.000000</td>\n",
       "      <td>...</td>\n",
       "      <td>0.008081</td>\n",
       "      <td>0.003367</td>\n",
       "      <td>0.526599</td>\n",
       "      <td>0.000000</td>\n",
       "      <td>0</td>\n",
       "      <td>0.001347</td>\n",
       "      <td>0.000673</td>\n",
       "      <td>0.452525</td>\n",
       "      <td>0</td>\n",
       "      <td>0.000000</td>\n",
       "    </tr>\n",
       "    <tr>\n",
       "      <th>4</th>\n",
       "      <td>A0026</td>\n",
       "      <td>R09</td>\n",
       "      <td>0.583333</td>\n",
       "      <td>Tat1</td>\n",
       "      <td>1</td>\n",
       "      <td>334</td>\n",
       "      <td>0.000000</td>\n",
       "      <td>0.002994</td>\n",
       "      <td>0.000000</td>\n",
       "      <td>0.000000</td>\n",
       "      <td>...</td>\n",
       "      <td>0.008982</td>\n",
       "      <td>0.000000</td>\n",
       "      <td>0.589820</td>\n",
       "      <td>0.000000</td>\n",
       "      <td>0</td>\n",
       "      <td>0.002994</td>\n",
       "      <td>0.000000</td>\n",
       "      <td>0.389222</td>\n",
       "      <td>0</td>\n",
       "      <td>0.000000</td>\n",
       "    </tr>\n",
       "  </tbody>\n",
       "</table>\n",
       "<p>5 rows × 26 columns</p>\n",
       "</div>"
      ],
      "text/plain": [
       "  Patient Visit       GDS  Prot  AAPos  Coverage         A         R  \\\n",
       "0   A0001   R09  0.583333  Tat1      1     38938  0.000051  0.002157   \n",
       "1   A0010   R08  1.416667  Tat1      1       171  0.000000  0.000000   \n",
       "2   A0013   R09  0.000000  Tat1      1       602  0.000000  0.001661   \n",
       "3   A0019   R12  0.250000  Tat1      1      1485  0.000000  0.001347   \n",
       "4   A0026   R09  0.583333  Tat1      1       334  0.000000  0.002994   \n",
       "\n",
       "          N         D    ...            L         K         M         F  P  \\\n",
       "0  0.000051  0.000077    ...     0.006934  0.001695  0.565052  0.000026  0   \n",
       "1  0.000000  0.000000    ...     0.005848  0.005848  0.584795  0.000000  0   \n",
       "2  0.000000  0.000000    ...     0.001661  0.004983  0.282392  0.000000  0   \n",
       "3  0.000673  0.000000    ...     0.008081  0.003367  0.526599  0.000000  0   \n",
       "4  0.000000  0.000000    ...     0.008982  0.000000  0.589820  0.000000  0   \n",
       "\n",
       "          S         T         W  Y         V  \n",
       "0  0.000848  0.000128  0.416637  0  0.000205  \n",
       "1  0.000000  0.000000  0.403509  0  0.000000  \n",
       "2  0.001661  0.000000  0.209302  0  0.000000  \n",
       "3  0.001347  0.000673  0.452525  0  0.000000  \n",
       "4  0.002994  0.000000  0.389222  0  0.000000  \n",
       "\n",
       "[5 rows x 26 columns]"
      ]
     },
     "execution_count": 2,
     "metadata": {},
     "output_type": "execute_result"
    }
   ],
   "source": [
    "DF = pd.read_csv('/Users/greg/Desktop/FullNeuroIllumina/complete_data.csv')\n",
    "DF.head()"
   ]
  },
  {
   "cell_type": "code",
   "execution_count": 5,
   "metadata": {
    "collapsed": true
   },
   "outputs": [],
   "source": [
    "def slice_position(df, pos):\n",
    "    m = df['AAPos'] == pos\n",
    "    sliced_df = df[m]\n",
    "    return sliced_df"
   ]
  },
  {
   "cell_type": "code",
   "execution_count": 7,
   "metadata": {
    "collapsed": false
   },
   "outputs": [
    {
     "name": "stdout",
     "output_type": "stream",
     "text": [
      "(1, 54) (2, 54) (3, 55) (4, 55) (5, 55) (6, 55) (7, 55) (8, 55) (9, 55) (10, 55) (11, 54) (12, 54) (13, 54) (14, 54) (15, 54) (16, 54) (17, 54) (18, 55) (19, 55) (20, 55) (21, 55) (22, 55) (23, 55) (24, 55) (25, 55) (26, 55) (27, 55) (28, 55) (29, 55) (30, 55) (31, 55) (32, 55) (33, 55) (34, 55) (35, 55) (36, 55) (37, 55) (38, 55) (39, 55) (40, 55) (41, 55) (42, 55) (43, 55) (44, 55) (45, 55) (46, 55) (47, 55) (48, 55) (49, 55) (50, 55) (51, 55) (52, 55) (53, 55) (54, 55) (55, 55) (56, 55) (57, 55) (58, 55) (59, 53) (60, 53) (61, 53) (62, 53) (63, 53) (64, 53) (65, 54) (66, 54) (67, 54) (68, 54) (69, 55) (70, 55) (71, 55) (72, 20)\n"
     ]
    }
   ],
   "source": [
    "tat1_length=72\n",
    "for i in range(1,tat1_length+1):\n",
    "    pos_df = slice_position(DF, i)\n",
    "    print (i,pos_df.shape[0]),"
   ]
  },
  {
   "cell_type": "code",
   "execution_count": null,
   "metadata": {
    "collapsed": true
   },
   "outputs": [],
   "source": []
  }
 ],
 "metadata": {
  "kernelspec": {
   "display_name": "Python 2",
   "language": "python",
   "name": "python2"
  },
  "language_info": {
   "codemirror_mode": {
    "name": "ipython",
    "version": 2
   },
   "file_extension": ".py",
   "mimetype": "text/x-python",
   "name": "python",
   "nbconvert_exporter": "python",
   "pygments_lexer": "ipython2",
   "version": "2.7.11"
  }
 },
 "nbformat": 4,
 "nbformat_minor": 0
}
