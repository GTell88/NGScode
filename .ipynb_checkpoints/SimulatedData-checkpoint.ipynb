{
 "cells": [
  {
   "cell_type": "markdown",
   "metadata": {},
   "source": [
    "# Import requirements"
   ]
  },
  {
   "cell_type": "code",
   "execution_count": 5,
   "metadata": {
    "collapsed": true
   },
   "outputs": [],
   "source": [
    "from __future__ import division\n",
    "import pandas as pd\n",
    "import numpy as np\n",
    "from collections import Counter\n",
    "import time\n",
    "import statsmodels.api as sm\n",
    "import random\n",
    "import matplotlib.pyplot as plt\n",
    "%matplotlib inline"
   ]
  },
  {
   "cell_type": "markdown",
   "metadata": {},
   "source": [
    "# Columns"
   ]
  },
  {
   "cell_type": "code",
   "execution_count": 44,
   "metadata": {
    "collapsed": true
   },
   "outputs": [],
   "source": [
    "sample_col = ['Patient','Visit']\n",
    "demographics_col = ['Age', 'Gender', 'ART']\n",
    "chemistry_col = ['VL','iVL','pVL','CD4','iCD4','nCD4','CD8','iCD8',u'nCD8']\n",
    "neuro_col =['TMHDS','GDS']\n",
    "sequence_col = ['Prot','AAPos','Coverage']\n",
    "aa_col = ['A','R','N','D','C','Q','E','G','H','I','L','K','M','F','P','S','T','W','Y','V']"
   ]
  },
  {
   "cell_type": "code",
   "execution_count": 2,
   "metadata": {
    "collapsed": true
   },
   "outputs": [],
   "source": [
    "def roll(sides, bias_list):\n",
    "    assert len(bias_list) == sides\n",
    "    number = random.uniform(0, sum(bias_list))\n",
    "    current = 0\n",
    "    for i, bias in enumerate(bias_list):\n",
    "        current += bias\n",
    "        if number <= current:\n",
    "            return i + 1\n",
    "        \n",
    "def distributionCounts(coverage, aa_probs):\n",
    "    dist = []\n",
    "    for i in range(coverage):\n",
    "        dist.append(map_dict[roll(20,aa_probs)])\n",
    "    return Counter(dist)"
   ]
  },
  {
   "cell_type": "code",
   "execution_count": 150,
   "metadata": {
    "collapsed": false
   },
   "outputs": [
    {
     "name": "stdout",
     "output_type": "stream",
     "text": [
      "100 20\n",
      "100 20\n"
     ]
    }
   ],
   "source": [
    "aa_prob1 = [80,0,10,1,1,1,1,1,0,0,0,0,1,0,1,1,0,1,0,1]\n",
    "aa_prob2 = [10,0,80,1,1,1,1,1,0,0,0,0,1,0,1,1,0,1,0,1]\n",
    "print sum(aa_prob1), len(aa_prob1)\n",
    "print sum(aa_prob2), len(aa_prob2)\n",
    "aa_num = [1,2,3,4,5,6,7,8,9,10,11,12,13,14,15,16,17,18,19,20]\n",
    "map_dict = dict(zip(aa_num,aa_col))"
   ]
  },
  {
   "cell_type": "markdown",
   "metadata": {},
   "source": [
    "# Fill dictionary"
   ]
  },
  {
   "cell_type": "code",
   "execution_count": 173,
   "metadata": {
    "collapsed": false
   },
   "outputs": [],
   "source": [
    "data_dict = {'GDS':[],\n",
    "             'A':[],'R':[],'N':[],'D':[],'C':[],\n",
    "             'Q':[],'E':[],'G':[],'H':[],'I':[],\n",
    "             'L':[],'K':[],'M':[],'F':[],'P':[],\n",
    "             'S':[],'T':[],'W':[],'Y':[],'V':[]}\n",
    "\n",
    "healthy_samples = 50\n",
    "disease_samples = 50\n",
    "others = 5\n",
    "for i in range(healthy_samples):\n",
    "    data_dict['GDS'].append(1)\n",
    "    coverage = random.randint(100,1000)\n",
    "    AACounts = distributionCounts(coverage, aa_prob1)\n",
    "    c = sum(AACounts.values())\n",
    "    for item in aa_col:\n",
    "        #print (item, AACounts[item]/c),\n",
    "        data_dict[item].append((AACounts[item]/c)*100)\n",
    "    \n",
    "for i in range(disease_samples):\n",
    "    data_dict['GDS'].append(0)\n",
    "    coverage = random.randint(100,1000)\n",
    "    AACounts = distributionCounts(coverage, aa_prob2)\n",
    "    c = sum(AACounts.values())\n",
    "    for item in aa_col:\n",
    "        #print (item, AACounts[item]/c),\n",
    "        data_dict[item].append((AACounts[item]/c)*100)\n",
    "        \n",
    "for i in range(others):\n",
    "    data_dict['GDS'].append(0)\n",
    "    coverage = random.randint(100,1000)\n",
    "    AACounts = distributionCounts(coverage, aa_prob1)\n",
    "    c = sum(AACounts.values())\n",
    "    for item in aa_col:\n",
    "        #print (item, AACounts[item]/c),\n",
    "        data_dict[item].append((AACounts[item]/c)*100)"
   ]
  },
  {
   "cell_type": "code",
   "execution_count": 174,
   "metadata": {
    "collapsed": false
   },
   "outputs": [
    {
     "name": "stdout",
     "output_type": "stream",
     "text": [
      "(105, 21)\n"
     ]
    },
    {
     "data": {
      "text/html": [
       "<div>\n",
       "<table border=\"1\" class=\"dataframe\">\n",
       "  <thead>\n",
       "    <tr style=\"text-align: right;\">\n",
       "      <th></th>\n",
       "      <th>A</th>\n",
       "      <th>C</th>\n",
       "      <th>D</th>\n",
       "      <th>E</th>\n",
       "      <th>F</th>\n",
       "      <th>G</th>\n",
       "      <th>GDS</th>\n",
       "      <th>H</th>\n",
       "      <th>I</th>\n",
       "      <th>K</th>\n",
       "      <th>...</th>\n",
       "      <th>M</th>\n",
       "      <th>N</th>\n",
       "      <th>P</th>\n",
       "      <th>Q</th>\n",
       "      <th>R</th>\n",
       "      <th>S</th>\n",
       "      <th>T</th>\n",
       "      <th>V</th>\n",
       "      <th>W</th>\n",
       "      <th>Y</th>\n",
       "    </tr>\n",
       "  </thead>\n",
       "  <tbody>\n",
       "    <tr>\n",
       "      <th>0</th>\n",
       "      <td>80.913978</td>\n",
       "      <td>1.075269</td>\n",
       "      <td>1.881720</td>\n",
       "      <td>2.419355</td>\n",
       "      <td>0</td>\n",
       "      <td>0.268817</td>\n",
       "      <td>1</td>\n",
       "      <td>0</td>\n",
       "      <td>0</td>\n",
       "      <td>0</td>\n",
       "      <td>...</td>\n",
       "      <td>0.537634</td>\n",
       "      <td>7.795699</td>\n",
       "      <td>0.268817</td>\n",
       "      <td>0.537634</td>\n",
       "      <td>0</td>\n",
       "      <td>1.075269</td>\n",
       "      <td>0</td>\n",
       "      <td>1.612903</td>\n",
       "      <td>1.612903</td>\n",
       "      <td>0</td>\n",
       "    </tr>\n",
       "    <tr>\n",
       "      <th>1</th>\n",
       "      <td>81.750000</td>\n",
       "      <td>1.750000</td>\n",
       "      <td>1.250000</td>\n",
       "      <td>0.500000</td>\n",
       "      <td>0</td>\n",
       "      <td>1.750000</td>\n",
       "      <td>1</td>\n",
       "      <td>0</td>\n",
       "      <td>0</td>\n",
       "      <td>0</td>\n",
       "      <td>...</td>\n",
       "      <td>0.500000</td>\n",
       "      <td>8.000000</td>\n",
       "      <td>1.250000</td>\n",
       "      <td>0.750000</td>\n",
       "      <td>0</td>\n",
       "      <td>1.250000</td>\n",
       "      <td>0</td>\n",
       "      <td>0.250000</td>\n",
       "      <td>1.000000</td>\n",
       "      <td>0</td>\n",
       "    </tr>\n",
       "    <tr>\n",
       "      <th>2</th>\n",
       "      <td>78.917379</td>\n",
       "      <td>0.854701</td>\n",
       "      <td>1.994302</td>\n",
       "      <td>1.139601</td>\n",
       "      <td>0</td>\n",
       "      <td>1.139601</td>\n",
       "      <td>1</td>\n",
       "      <td>0</td>\n",
       "      <td>0</td>\n",
       "      <td>0</td>\n",
       "      <td>...</td>\n",
       "      <td>1.139601</td>\n",
       "      <td>9.116809</td>\n",
       "      <td>0.854701</td>\n",
       "      <td>2.279202</td>\n",
       "      <td>0</td>\n",
       "      <td>1.709402</td>\n",
       "      <td>0</td>\n",
       "      <td>0.569801</td>\n",
       "      <td>0.284900</td>\n",
       "      <td>0</td>\n",
       "    </tr>\n",
       "    <tr>\n",
       "      <th>3</th>\n",
       "      <td>83.823529</td>\n",
       "      <td>0.735294</td>\n",
       "      <td>0.735294</td>\n",
       "      <td>0.735294</td>\n",
       "      <td>0</td>\n",
       "      <td>0.735294</td>\n",
       "      <td>1</td>\n",
       "      <td>0</td>\n",
       "      <td>0</td>\n",
       "      <td>0</td>\n",
       "      <td>...</td>\n",
       "      <td>0.735294</td>\n",
       "      <td>5.882353</td>\n",
       "      <td>1.470588</td>\n",
       "      <td>0.735294</td>\n",
       "      <td>0</td>\n",
       "      <td>1.470588</td>\n",
       "      <td>0</td>\n",
       "      <td>2.205882</td>\n",
       "      <td>0.735294</td>\n",
       "      <td>0</td>\n",
       "    </tr>\n",
       "    <tr>\n",
       "      <th>4</th>\n",
       "      <td>77.470356</td>\n",
       "      <td>1.185771</td>\n",
       "      <td>1.317523</td>\n",
       "      <td>1.185771</td>\n",
       "      <td>0</td>\n",
       "      <td>1.185771</td>\n",
       "      <td>1</td>\n",
       "      <td>0</td>\n",
       "      <td>0</td>\n",
       "      <td>0</td>\n",
       "      <td>...</td>\n",
       "      <td>0.658762</td>\n",
       "      <td>12.516469</td>\n",
       "      <td>0.658762</td>\n",
       "      <td>0.790514</td>\n",
       "      <td>0</td>\n",
       "      <td>0.527009</td>\n",
       "      <td>0</td>\n",
       "      <td>1.712780</td>\n",
       "      <td>0.790514</td>\n",
       "      <td>0</td>\n",
       "    </tr>\n",
       "  </tbody>\n",
       "</table>\n",
       "<p>5 rows × 21 columns</p>\n",
       "</div>"
      ],
      "text/plain": [
       "           A         C         D         E  F         G  GDS  H  I  K ...  \\\n",
       "0  80.913978  1.075269  1.881720  2.419355  0  0.268817    1  0  0  0 ...   \n",
       "1  81.750000  1.750000  1.250000  0.500000  0  1.750000    1  0  0  0 ...   \n",
       "2  78.917379  0.854701  1.994302  1.139601  0  1.139601    1  0  0  0 ...   \n",
       "3  83.823529  0.735294  0.735294  0.735294  0  0.735294    1  0  0  0 ...   \n",
       "4  77.470356  1.185771  1.317523  1.185771  0  1.185771    1  0  0  0 ...   \n",
       "\n",
       "          M          N         P         Q  R         S  T         V  \\\n",
       "0  0.537634   7.795699  0.268817  0.537634  0  1.075269  0  1.612903   \n",
       "1  0.500000   8.000000  1.250000  0.750000  0  1.250000  0  0.250000   \n",
       "2  1.139601   9.116809  0.854701  2.279202  0  1.709402  0  0.569801   \n",
       "3  0.735294   5.882353  1.470588  0.735294  0  1.470588  0  2.205882   \n",
       "4  0.658762  12.516469  0.658762  0.790514  0  0.527009  0  1.712780   \n",
       "\n",
       "          W  Y  \n",
       "0  1.612903  0  \n",
       "1  1.000000  0  \n",
       "2  0.284900  0  \n",
       "3  0.735294  0  \n",
       "4  0.790514  0  \n",
       "\n",
       "[5 rows x 21 columns]"
      ]
     },
     "execution_count": 174,
     "metadata": {},
     "output_type": "execute_result"
    }
   ],
   "source": [
    "sim_data = pd.DataFrame(data_dict)\n",
    "print sim_data.shape\n",
    "sim_data.head()"
   ]
  },
  {
   "cell_type": "code",
   "execution_count": 175,
   "metadata": {
    "collapsed": true
   },
   "outputs": [],
   "source": [
    "def slice_position(df, pos):\n",
    "    m = df['AAPos'] == pos\n",
    "    sliced_df = df[m]\n",
    "    return sliced_df\n",
    "\n",
    "def chooseDataCols(pos_df):\n",
    "    cols = []\n",
    "    cols.extend(['GDS'])\n",
    "    cols.extend(aa_col)\n",
    "    data = pos_df[cols].copy()\n",
    "    data['intercept'] = 1.0\n",
    "    return data\n",
    "\n",
    "def filterX(X, threshold):\n",
    "    t = X.max()>threshold\n",
    "    #t = X.mean()>threshold\n",
    "    filtered_cols = t[t==True].index.tolist()\n",
    "    X = X[filtered_cols]\n",
    "    return X\n",
    "\n",
    "def getXandY(data, threshold):   \n",
    "    train_cols = []\n",
    "    train_cols.extend(aa_col)\n",
    "    train_cols.extend(['intercept'])\n",
    "    y = (data['GDS'] >= 0.5).astype(int)\n",
    "    X = data[train_cols]\n",
    "    X = filterX(X, threshold)\n",
    "    return X, y"
   ]
  },
  {
   "cell_type": "code",
   "execution_count": 176,
   "metadata": {
    "collapsed": false
   },
   "outputs": [
    {
     "name": "stdout",
     "output_type": "stream",
     "text": [
      "Optimization terminated successfully.\n",
      "         Current function value: 0.159852\n",
      "         Iterations 12\n",
      "                           Logit Regression Results                           \n",
      "==============================================================================\n",
      "Dep. Variable:                    GDS   No. Observations:                  105\n",
      "Model:                          Logit   Df Residuals:                      103\n",
      "Method:                           MLE   Df Model:                            1\n",
      "Date:                Tue, 29 Mar 2016   Pseudo R-squ.:                  0.7690\n",
      "Time:                        21:13:23   Log-Likelihood:                -16.784\n",
      "converged:                       True   LL-Null:                       -72.661\n",
      "                                        LLR p-value:                 4.045e-26\n",
      "==============================================================================\n",
      "                 coef    std err          z      P>|z|      [95.0% Conf. Int.]\n",
      "------------------------------------------------------------------------------\n",
      "A              0.0425      0.016      2.690      0.007         0.012     0.073\n",
      "N             -0.1123      0.118     -0.950      0.342        -0.344     0.119\n",
      "==============================================================================\n"
     ]
    }
   ],
   "source": [
    "data = chooseDataCols(sim_data)\n",
    "X, y = getXandY(data, 5)\n",
    "# initialize and fit the model\n",
    "logit = sm.Logit(y, X)\n",
    "result = logit.fit()\n",
    "print result.summary()"
   ]
  },
  {
   "cell_type": "code",
   "execution_count": null,
   "metadata": {
    "collapsed": true
   },
   "outputs": [],
   "source": []
  }
 ],
 "metadata": {
  "kernelspec": {
   "display_name": "Python 2",
   "language": "python",
   "name": "python2"
  },
  "language_info": {
   "codemirror_mode": {
    "name": "ipython",
    "version": 2
   },
   "file_extension": ".py",
   "mimetype": "text/x-python",
   "name": "python",
   "nbconvert_exporter": "python",
   "pygments_lexer": "ipython2",
   "version": "2.7.11"
  }
 },
 "nbformat": 4,
 "nbformat_minor": 0
}
