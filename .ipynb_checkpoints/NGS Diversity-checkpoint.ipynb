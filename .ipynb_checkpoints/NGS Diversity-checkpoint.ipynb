{
 "cells": [
  {
   "cell_type": "markdown",
   "metadata": {},
   "source": [
    "# Import requirements"
   ]
  },
  {
   "cell_type": "code",
   "execution_count": 1,
   "metadata": {
    "collapsed": true
   },
   "outputs": [],
   "source": [
    "from __future__ import division\n",
    "import glob\n",
    "import pandas as pd\n",
    "import numpy as np\n",
    "import itertools\n",
    "from collections import Counter\n",
    "import operator\n",
    "import time\n",
    "import matplotlib as mpl\n",
    "import matplotlib.pyplot as plt\n",
    "%matplotlib inline\n",
    "\n",
    "# set fonts\n",
    "mpl.rc('font',family='Arial')"
   ]
  },
  {
   "cell_type": "markdown",
   "metadata": {},
   "source": [
    "# Import data"
   ]
  },
  {
   "cell_type": "code",
   "execution_count": 2,
   "metadata": {
    "collapsed": false
   },
   "outputs": [
    {
     "data": {
      "text/html": [
       "<div>\n",
       "<table border=\"1\" class=\"dataframe\">\n",
       "  <thead>\n",
       "    <tr style=\"text-align: right;\">\n",
       "      <th></th>\n",
       "      <th>Patient</th>\n",
       "      <th>Visit</th>\n",
       "      <th>DateOfVisit</th>\n",
       "      <th>Age</th>\n",
       "      <th>Gender</th>\n",
       "      <th>ART</th>\n",
       "      <th>VL</th>\n",
       "      <th>iVL</th>\n",
       "      <th>pVL</th>\n",
       "      <th>CD4</th>\n",
       "      <th>...</th>\n",
       "      <th>L</th>\n",
       "      <th>K</th>\n",
       "      <th>M</th>\n",
       "      <th>F</th>\n",
       "      <th>P</th>\n",
       "      <th>S</th>\n",
       "      <th>T</th>\n",
       "      <th>W</th>\n",
       "      <th>Y</th>\n",
       "      <th>V</th>\n",
       "    </tr>\n",
       "  </thead>\n",
       "  <tbody>\n",
       "    <tr>\n",
       "      <th>0</th>\n",
       "      <td>A0001</td>\n",
       "      <td>R09</td>\n",
       "      <td>2014-11-10</td>\n",
       "      <td>59</td>\n",
       "      <td>Male</td>\n",
       "      <td>on</td>\n",
       "      <td>20</td>\n",
       "      <td>987</td>\n",
       "      <td>987</td>\n",
       "      <td>797</td>\n",
       "      <td>...</td>\n",
       "      <td>270</td>\n",
       "      <td>66</td>\n",
       "      <td>22002</td>\n",
       "      <td>1</td>\n",
       "      <td>0</td>\n",
       "      <td>33</td>\n",
       "      <td>5</td>\n",
       "      <td>16223</td>\n",
       "      <td>0</td>\n",
       "      <td>8</td>\n",
       "    </tr>\n",
       "    <tr>\n",
       "      <th>1</th>\n",
       "      <td>A0010</td>\n",
       "      <td>R08</td>\n",
       "      <td>2014-11-12</td>\n",
       "      <td>59</td>\n",
       "      <td>Male</td>\n",
       "      <td>on</td>\n",
       "      <td>20</td>\n",
       "      <td>50</td>\n",
       "      <td>470</td>\n",
       "      <td>1167</td>\n",
       "      <td>...</td>\n",
       "      <td>1</td>\n",
       "      <td>1</td>\n",
       "      <td>100</td>\n",
       "      <td>0</td>\n",
       "      <td>0</td>\n",
       "      <td>0</td>\n",
       "      <td>0</td>\n",
       "      <td>69</td>\n",
       "      <td>0</td>\n",
       "      <td>0</td>\n",
       "    </tr>\n",
       "    <tr>\n",
       "      <th>2</th>\n",
       "      <td>A0013</td>\n",
       "      <td>R09</td>\n",
       "      <td>2014-11-10</td>\n",
       "      <td>68</td>\n",
       "      <td>Male</td>\n",
       "      <td>on</td>\n",
       "      <td>20</td>\n",
       "      <td>144</td>\n",
       "      <td>39373</td>\n",
       "      <td>771</td>\n",
       "      <td>...</td>\n",
       "      <td>1</td>\n",
       "      <td>3</td>\n",
       "      <td>170</td>\n",
       "      <td>0</td>\n",
       "      <td>0</td>\n",
       "      <td>1</td>\n",
       "      <td>0</td>\n",
       "      <td>126</td>\n",
       "      <td>0</td>\n",
       "      <td>0</td>\n",
       "    </tr>\n",
       "    <tr>\n",
       "      <th>3</th>\n",
       "      <td>A0019</td>\n",
       "      <td>R12</td>\n",
       "      <td>2015-02-02</td>\n",
       "      <td>46</td>\n",
       "      <td>Female</td>\n",
       "      <td>on</td>\n",
       "      <td>20</td>\n",
       "      <td>99</td>\n",
       "      <td>164020</td>\n",
       "      <td>1130</td>\n",
       "      <td>...</td>\n",
       "      <td>12</td>\n",
       "      <td>5</td>\n",
       "      <td>782</td>\n",
       "      <td>0</td>\n",
       "      <td>0</td>\n",
       "      <td>2</td>\n",
       "      <td>1</td>\n",
       "      <td>672</td>\n",
       "      <td>0</td>\n",
       "      <td>0</td>\n",
       "    </tr>\n",
       "    <tr>\n",
       "      <th>4</th>\n",
       "      <td>A0026</td>\n",
       "      <td>R09</td>\n",
       "      <td>2015-04-30</td>\n",
       "      <td>55</td>\n",
       "      <td>Male</td>\n",
       "      <td>on</td>\n",
       "      <td>67859</td>\n",
       "      <td>100000</td>\n",
       "      <td>100000</td>\n",
       "      <td>137</td>\n",
       "      <td>...</td>\n",
       "      <td>3</td>\n",
       "      <td>0</td>\n",
       "      <td>197</td>\n",
       "      <td>0</td>\n",
       "      <td>0</td>\n",
       "      <td>1</td>\n",
       "      <td>0</td>\n",
       "      <td>130</td>\n",
       "      <td>0</td>\n",
       "      <td>0</td>\n",
       "    </tr>\n",
       "  </tbody>\n",
       "</table>\n",
       "<p>5 rows × 57 columns</p>\n",
       "</div>"
      ],
      "text/plain": [
       "  Patient Visit DateOfVisit  Age  Gender ART     VL     iVL     pVL   CD4 ...  \\\n",
       "0   A0001   R09  2014-11-10   59    Male  on     20     987     987   797 ...   \n",
       "1   A0010   R08  2014-11-12   59    Male  on     20      50     470  1167 ...   \n",
       "2   A0013   R09  2014-11-10   68    Male  on     20     144   39373   771 ...   \n",
       "3   A0019   R12  2015-02-02   46  Female  on     20      99  164020  1130 ...   \n",
       "4   A0026   R09  2015-04-30   55    Male  on  67859  100000  100000   137 ...   \n",
       "\n",
       "     L   K      M  F  P   S  T      W  Y  V  \n",
       "0  270  66  22002  1  0  33  5  16223  0  8  \n",
       "1    1   1    100  0  0   0  0     69  0  0  \n",
       "2    1   3    170  0  0   1  0    126  0  0  \n",
       "3   12   5    782  0  0   2  1    672  0  0  \n",
       "4    3   0    197  0  0   1  0    130  0  0  \n",
       "\n",
       "[5 rows x 57 columns]"
      ]
     },
     "execution_count": 2,
     "metadata": {},
     "output_type": "execute_result"
    }
   ],
   "source": [
    "NGScounts_df = pd.read_csv('/Users/greg/Desktop/FullNeuroIllumina/MergedData/NGS_GDS_counts.csv')\n",
    "NGScounts_df.head()"
   ]
  },
  {
   "cell_type": "markdown",
   "metadata": {},
   "source": [
    "# Define diversity functions"
   ]
  },
  {
   "cell_type": "code",
   "execution_count": 3,
   "metadata": {
    "collapsed": true
   },
   "outputs": [],
   "source": [
    "# calculate diversity using a dictionary object as input\n",
    "def diversity_column(counts, hill):\n",
    "    vals = np.array(counts.values(), dtype=np.float64)\n",
    "    vals /= vals.sum()\n",
    "    if hill == 1:\n",
    "        return np.exp(-np.sum(vals*np.log(vals)))\n",
    "    else:\n",
    "        return (vals**hill).sum()**(1/(1-hill))\n",
    "\n",
    "# drop empty keys\n",
    "def modify_dict(d):\n",
    "    for k,v in d.items():\n",
    "        if v == 0.0:\n",
    "           del d[k]\n",
    "    return d"
   ]
  },
  {
   "cell_type": "code",
   "execution_count": 4,
   "metadata": {
    "collapsed": true
   },
   "outputs": [],
   "source": [
    "def getIntrapatientDiversity(counts_df, hill_number):\n",
    "    cols = ['A','R','N','D','C','Q','E','G','H','I',\n",
    "            'L','K','M','F','P','S','T','W','Y','V']\n",
    "    diversity_dict = {'Position':[], 'Diversity':[]}\n",
    "    \n",
    "    for i, g in counts_df.groupby('AAPos'):\n",
    "        for j, row in g.iterrows():\n",
    "            d = row[cols].to_dict()\n",
    "            d2 = modify_dict(d)\n",
    "            div = diversity_column(d2, hill_number)\n",
    "            diversity_dict['Position'].append(i)\n",
    "            diversity_dict['Diversity'].append(div)\n",
    "            \n",
    "    divDF = pd.DataFrame(diversity_dict)\n",
    "    div_dict2 = {'Position':[], 'Mean Diversity':[], 'Std Diversity':[],\n",
    "             'Minimum':[], 'Maximum':[]}\n",
    "\n",
    "    # information to return\n",
    "    for i, g in divDF.groupby('Position'):\n",
    "        div_dict2['Position'].append(int(i))\n",
    "        div_dict2['Mean Diversity'].append(np.mean(g['Diversity']))\n",
    "        div_dict2['Std Diversity'].append(np.std(g['Diversity']))\n",
    "        div_dict2['Minimum'].append(min(g['Diversity']))\n",
    "        div_dict2['Maximum'].append(max(g['Diversity']))\n",
    "    divDF2 = pd.DataFrame(div_dict2)\n",
    "    return divDF2"
   ]
  },
  {
   "cell_type": "code",
   "execution_count": 5,
   "metadata": {
    "collapsed": false
   },
   "outputs": [
    {
     "data": {
      "text/html": [
       "<div>\n",
       "<table border=\"1\" class=\"dataframe\">\n",
       "  <thead>\n",
       "    <tr style=\"text-align: right;\">\n",
       "      <th></th>\n",
       "      <th>Maximum</th>\n",
       "      <th>Mean Diversity</th>\n",
       "      <th>Minimum</th>\n",
       "      <th>Position</th>\n",
       "      <th>Std Diversity</th>\n",
       "    </tr>\n",
       "  </thead>\n",
       "  <tbody>\n",
       "    <tr>\n",
       "      <th>0</th>\n",
       "      <td>3.263540</td>\n",
       "      <td>2.402391</td>\n",
       "      <td>1.042956</td>\n",
       "      <td>1</td>\n",
       "      <td>0.436168</td>\n",
       "    </tr>\n",
       "    <tr>\n",
       "      <th>1</th>\n",
       "      <td>3.956289</td>\n",
       "      <td>2.348515</td>\n",
       "      <td>1.037875</td>\n",
       "      <td>2</td>\n",
       "      <td>0.470407</td>\n",
       "    </tr>\n",
       "    <tr>\n",
       "      <th>2</th>\n",
       "      <td>2.343459</td>\n",
       "      <td>2.024093</td>\n",
       "      <td>1.034579</td>\n",
       "      <td>3</td>\n",
       "      <td>0.246198</td>\n",
       "    </tr>\n",
       "    <tr>\n",
       "      <th>3</th>\n",
       "      <td>2.312312</td>\n",
       "      <td>1.266866</td>\n",
       "      <td>1.000000</td>\n",
       "      <td>4</td>\n",
       "      <td>0.344993</td>\n",
       "    </tr>\n",
       "    <tr>\n",
       "      <th>4</th>\n",
       "      <td>2.246121</td>\n",
       "      <td>1.393548</td>\n",
       "      <td>1.069108</td>\n",
       "      <td>5</td>\n",
       "      <td>0.343414</td>\n",
       "    </tr>\n",
       "  </tbody>\n",
       "</table>\n",
       "</div>"
      ],
      "text/plain": [
       "    Maximum  Mean Diversity   Minimum  Position  Std Diversity\n",
       "0  3.263540        2.402391  1.042956         1       0.436168\n",
       "1  3.956289        2.348515  1.037875         2       0.470407\n",
       "2  2.343459        2.024093  1.034579         3       0.246198\n",
       "3  2.312312        1.266866  1.000000         4       0.344993\n",
       "4  2.246121        1.393548  1.069108         5       0.343414"
      ]
     },
     "execution_count": 5,
     "metadata": {},
     "output_type": "execute_result"
    }
   ],
   "source": [
    "divDF = getIntrapatientDiversity(NGScounts_df, 1)\n",
    "divDF.head()"
   ]
  },
  {
   "cell_type": "code",
   "execution_count": 6,
   "metadata": {
    "collapsed": false
   },
   "outputs": [
    {
     "data": {
      "text/html": [
       "<div>\n",
       "<table border=\"1\" class=\"dataframe\">\n",
       "  <thead>\n",
       "    <tr style=\"text-align: right;\">\n",
       "      <th></th>\n",
       "      <th>Maximum</th>\n",
       "      <th>Mean Diversity</th>\n",
       "      <th>Minimum</th>\n",
       "      <th>Position</th>\n",
       "      <th>Std Diversity</th>\n",
       "    </tr>\n",
       "  </thead>\n",
       "  <tbody>\n",
       "    <tr>\n",
       "      <th>0</th>\n",
       "      <td>19</td>\n",
       "      <td>11.785714</td>\n",
       "      <td>3</td>\n",
       "      <td>1</td>\n",
       "      <td>4.073934</td>\n",
       "    </tr>\n",
       "    <tr>\n",
       "      <th>1</th>\n",
       "      <td>20</td>\n",
       "      <td>12.553571</td>\n",
       "      <td>2</td>\n",
       "      <td>2</td>\n",
       "      <td>4.543125</td>\n",
       "    </tr>\n",
       "    <tr>\n",
       "      <th>2</th>\n",
       "      <td>16</td>\n",
       "      <td>9.859649</td>\n",
       "      <td>2</td>\n",
       "      <td>3</td>\n",
       "      <td>3.677521</td>\n",
       "    </tr>\n",
       "    <tr>\n",
       "      <th>3</th>\n",
       "      <td>17</td>\n",
       "      <td>9.719298</td>\n",
       "      <td>1</td>\n",
       "      <td>4</td>\n",
       "      <td>4.327612</td>\n",
       "    </tr>\n",
       "    <tr>\n",
       "      <th>4</th>\n",
       "      <td>18</td>\n",
       "      <td>10.859649</td>\n",
       "      <td>3</td>\n",
       "      <td>5</td>\n",
       "      <td>4.186187</td>\n",
       "    </tr>\n",
       "  </tbody>\n",
       "</table>\n",
       "</div>"
      ],
      "text/plain": [
       "   Maximum  Mean Diversity  Minimum  Position  Std Diversity\n",
       "0       19       11.785714        3         1       4.073934\n",
       "1       20       12.553571        2         2       4.543125\n",
       "2       16        9.859649        2         3       3.677521\n",
       "3       17        9.719298        1         4       4.327612\n",
       "4       18       10.859649        3         5       4.186187"
      ]
     },
     "execution_count": 6,
     "metadata": {},
     "output_type": "execute_result"
    }
   ],
   "source": [
    "richDF = getIntrapatientDiversity(NGScounts_df, 0)\n",
    "richDF.head()"
   ]
  },
  {
   "cell_type": "markdown",
   "metadata": {},
   "source": [
    "# Plot intrapatient diversity"
   ]
  },
  {
   "cell_type": "code",
   "execution_count": 7,
   "metadata": {
    "collapsed": false
   },
   "outputs": [
    {
     "name": "stderr",
     "output_type": "stream",
     "text": [
      "/Users/greg/anaconda/lib/python2.7/site-packages/matplotlib/collections.py:590: FutureWarning: elementwise comparison failed; returning scalar instead, but in the future will perform elementwise comparison\n",
      "  if self._edgecolors == str('face'):\n"
     ]
    },
    {
     "data": {
      "image/png": "[encoded data removed]",
      "text/plain": [
       "<matplotlib.figure.Figure at 0x106294f50>"
      ]
     },
     "metadata": {},
     "output_type": "display_data"
    }
   ],
   "source": [
    "fig, ax = plt.subplots(figsize=(7,4))\n",
    "L = list(divDF['Mean Diversity'])\n",
    "L2 = [0] + L\n",
    "E = list(divDF['Std Diversity'])\n",
    "E2 = [0] + E\n",
    "\n",
    "y = np.array(L2)\n",
    "x = np.arange(len(L2))\n",
    "miny = y - np.array(E2)\n",
    "maxy = y + np.array(E2)\n",
    "\n",
    "# plot it\n",
    "ax.tick_params(axis='both',labelsize=14)\n",
    "ax.plot(x, y, linewidth=2, color='navy')\n",
    "yerr = E2\n",
    "ax.fill_between(x, miny, maxy,facecolor='lightskyblue')\n",
    "ax.set_ylabel('Amino acid diversity',size=18, labelpad=10, weight='bold')\n",
    "ax.set_ylim([1,4])\n",
    "ax.set_xlabel('Tat amino acid position', size=18, labelpad=10, weight='bold')\n",
    "xs = [1,10,20,30,40,50,60,70,80,90,101]\n",
    "ax.set_xticks(xs)\n",
    "ax.set_xlim([1,101])\n",
    "\n",
    "ax.legend([mpl.patches.Patch(color='navy'),\n",
    "           mpl.patches.Patch(color='lightskyblue')],\n",
    "           ['Mean intrapatient diversity', 'Standard deviation'],\n",
    "           loc=1, ncol=1, fancybox=False, frameon=False,\n",
    "           fontsize=10)\n",
    "\n",
    "plt.tight_layout()\n",
    "plt.show()\n",
    "fig.savefig('/Users/greg/Desktop/TatFigureStuff/illuminadiversity.png',\n",
    "            format='png', dpi=300, bbox_inches='tight')"
   ]
  },
  {
   "cell_type": "markdown",
   "metadata": {},
   "source": [
    "# Plot intrapatient richness"
   ]
  },
  {
   "cell_type": "code",
   "execution_count": 8,
   "metadata": {
    "collapsed": false
   },
   "outputs": [
    {
     "data": {
      "image/png": "[encoded data removed]",
      "text/plain": [
       "<matplotlib.figure.Figure at 0x1093fa4d0>"
      ]
     },
     "metadata": {},
     "output_type": "display_data"
    }
   ],
   "source": [
    "fig, ax = plt.subplots(figsize=(7,4))\n",
    "L = list(richDF['Mean Diversity'])\n",
    "L2 = [0] + L\n",
    "E = list(richDF['Std Diversity'])\n",
    "E2 = [0] + E\n",
    "\n",
    "y = np.array(L2)\n",
    "x = np.arange(len(L2))\n",
    "miny = y - np.array(E2)\n",
    "maxy = y + np.array(E2)\n",
    "\n",
    "# plot it\n",
    "ax.tick_params(axis='both',labelsize=14)\n",
    "ax.plot(x, y, linewidth=2, color='navy')\n",
    "yerr = E2\n",
    "ax.fill_between(x, miny, maxy,facecolor='lightskyblue')\n",
    "ax.set_ylabel('Amino acid diversity',size=18, labelpad=10, weight='bold')\n",
    "ax.set_ylim([1,20])\n",
    "ax.set_xlabel('Tat amino acid position', size=18, labelpad=10, weight='bold')\n",
    "xs = [1,10,20,30,40,50,60,70,80,90,101]\n",
    "ax.set_xticks(xs)\n",
    "ax.set_xlim([1,101])\n",
    "\n",
    "ax.legend([mpl.patches.Patch(color='navy'),\n",
    "           mpl.patches.Patch(color='lightskyblue')],\n",
    "           ['Mean intrapatient richness', 'Standard deviation'],\n",
    "           loc=1, ncol=1, fancybox=False, frameon=False,\n",
    "           fontsize=10)\n",
    "\n",
    "plt.tight_layout()\n",
    "plt.show()\n",
    "fig.savefig('/Users/greg/Desktop/TatFigureStuff/illuminarichness.png',\n",
    "            format='png', dpi=300, bbox_inches='tight')"
   ]
  },
  {
   "cell_type": "markdown",
   "metadata": {},
   "source": [
    "# Interpatient Stuff"
   ]
  },
  {
   "cell_type": "markdown",
   "metadata": {},
   "source": [
    "# Interpatient diversity"
   ]
  },
  {
   "cell_type": "code",
   "execution_count": 11,
   "metadata": {
    "collapsed": false
   },
   "outputs": [
    {
     "data": {
      "text/html": [
       "<div>\n",
       "<table border=\"1\" class=\"dataframe\">\n",
       "  <thead>\n",
       "    <tr style=\"text-align: right;\">\n",
       "      <th></th>\n",
       "      <th>InterDiversity</th>\n",
       "      <th>IntraDiversity</th>\n",
       "      <th>Position</th>\n",
       "    </tr>\n",
       "  </thead>\n",
       "  <tbody>\n",
       "    <tr>\n",
       "      <th>0</th>\n",
       "      <td>3.433133</td>\n",
       "      <td>2.402391</td>\n",
       "      <td>1</td>\n",
       "    </tr>\n",
       "    <tr>\n",
       "      <th>1</th>\n",
       "      <td>5.483579</td>\n",
       "      <td>2.348515</td>\n",
       "      <td>2</td>\n",
       "    </tr>\n",
       "    <tr>\n",
       "      <th>2</th>\n",
       "      <td>2.273316</td>\n",
       "      <td>2.024093</td>\n",
       "      <td>3</td>\n",
       "    </tr>\n",
       "    <tr>\n",
       "      <th>3</th>\n",
       "      <td>1.637101</td>\n",
       "      <td>1.266866</td>\n",
       "      <td>4</td>\n",
       "    </tr>\n",
       "    <tr>\n",
       "      <th>4</th>\n",
       "      <td>2.018744</td>\n",
       "      <td>1.393548</td>\n",
       "      <td>5</td>\n",
       "    </tr>\n",
       "  </tbody>\n",
       "</table>\n",
       "</div>"
      ],
      "text/plain": [
       "   InterDiversity  IntraDiversity  Position\n",
       "0        3.433133        2.402391         1\n",
       "1        5.483579        2.348515         2\n",
       "2        2.273316        2.024093         3\n",
       "3        1.637101        1.266866         4\n",
       "4        2.018744        1.393548         5"
      ]
     },
     "execution_count": 11,
     "metadata": {},
     "output_type": "execute_result"
    }
   ],
   "source": [
    "cols = ['A','R','N','D','C','Q','E','G','H','I',\n",
    "        'L','K','M','F','P','S','T','W','Y','V']\n",
    "\n",
    "inter_intra_dict = {'Position':[], 'InterDiversity':[], 'IntraDiversity':[]}\n",
    "for i, g in NGScounts_df.groupby('AAPos'):\n",
    "    Alist = []\n",
    "    for j, row in g.iterrows():\n",
    "        d = row[cols].to_dict()\n",
    "        d2 = modify_dict(d)\n",
    "        div_round = int(round(diversity_column(d2, 1)))\n",
    "        sorted_d = sorted(d2.items(), key=operator.itemgetter(1), reverse=True)\n",
    "        top_variants = [var[0] for var in sorted_d[:div_round]]\n",
    "        Alist += top_variants\n",
    "    Adict = dict(Counter(Alist))\n",
    "    inter_div = diversity_column(Adict, 1)\n",
    "    intra_div = list(divDF[divDF['Position'] == int(i)]['Mean Diversity'])[0]\n",
    "    \n",
    "    # append to dictionary\n",
    "    inter_intra_dict['Position'].append(int(i))\n",
    "    inter_intra_dict['InterDiversity'].append(inter_div)\n",
    "    inter_intra_dict['IntraDiversity'].append(intra_div)\n",
    "    \n",
    "inter_intra_diversity_df = pd.DataFrame(inter_intra_dict)\n",
    "inter_intra_diversity_df.head()"
   ]
  },
  {
   "cell_type": "markdown",
   "metadata": {},
   "source": [
    "# Interpatient richness"
   ]
  },
  {
   "cell_type": "code",
   "execution_count": null,
   "metadata": {
    "collapsed": false
   },
   "outputs": [],
   "source": [
    "inter_intra_dict = {'Position':[], 'InterDiversity':[], 'IntraDiversity':[]}\n",
    "for i, g in NGScounts_df.groupby('AAPos'):\n",
    "    Alist = []\n",
    "    for j, row in g.iterrows():\n",
    "        d = row[cols].to_dict()\n",
    "        d2 = modify_dict(d)\n",
    "        div_round = int(round(diversity_column(d2, 0)))\n",
    "        sorted_d = sorted(d2.items(), key=operator.itemgetter(1), reverse=True)\n",
    "        top_variants = [var[0] for var in sorted_d[:div_round]]\n",
    "        Alist += top_variants\n",
    "    Adict = dict(Counter(Alist))\n",
    "    inter_div = diversity_column(Adict, 0)\n",
    "    intra_div = list(richDF[richDF['Position'] == int(i)]['Mean Diversity'])[0]\n",
    "    \n",
    "    # append to dictionary\n",
    "    inter_intra_dict['Position'].append(int(i))\n",
    "    inter_intra_dict['InterDiversity'].append(inter_div)\n",
    "    inter_intra_dict['IntraDiversity'].append(intra_div)\n",
    "    \n",
    "inter_intra_richness_df = pd.DataFrame(inter_intra_dict)\n",
    "inter_intra_richness_df.head()"
   ]
  },
  {
   "cell_type": "markdown",
   "metadata": {},
   "source": [
    "# Plot Inter- vs Intra- patient diversity"
   ]
  },
  {
   "cell_type": "code",
   "execution_count": 12,
   "metadata": {
    "collapsed": false
   },
   "outputs": [
    {
     "data": {
      "image/png": "[encoded data removed]",
      "text/plain": [
       "<matplotlib.figure.Figure at 0x10c029b90>"
      ]
     },
     "metadata": {},
     "output_type": "display_data"
    }
   ],
   "source": [
    "fig, ax = plt.subplots(figsize=(7,4))\n",
    "\n",
    "inter = list(inter_intra_diversity_df['InterDiversity'])\n",
    "L1 = [0] + inter\n",
    "y1 = np.array(L1)\n",
    "\n",
    "L = list(divDF['Mean Diversity'])\n",
    "E = list(divDF['Std Diversity'])\n",
    "L2 = [0] + L\n",
    "E2 = [0] + E\n",
    "\n",
    "\n",
    "y = np.array(L2)\n",
    "y1 = np.array(L1)\n",
    "x = np.arange(len(L2))\n",
    "miny = y - np.array(E2)\n",
    "maxy = y + np.array(E2)\n",
    "\n",
    "# plot it\n",
    "ax.tick_params(axis='both',labelsize=14)\n",
    "ax.plot(x, y, linewidth=2, color='navy')\n",
    "ax.plot(x, y1, linewidth=2, color='firebrick')\n",
    "yerr = E2\n",
    "ax.fill_between(x, miny, maxy,facecolor='lightskyblue')\n",
    "ax.set_ylabel('Amino acid diversity',size=18, labelpad=10, weight='bold')\n",
    "ax.set_ylim([1,7])\n",
    "ax.set_xlabel('Tat amino acid position', size=18, labelpad=10, weight='bold')\n",
    "xs = [1,10,20,30,40,50,60,70,80,90,101]\n",
    "ax.set_xticks(xs)\n",
    "ax.set_xlim([1,101])\n",
    "\n",
    "ax.legend([mpl.patches.Patch(color='firebrick'),\n",
    "           mpl.patches.Patch(color='navy'),\n",
    "           mpl.patches.Patch(color='lightskyblue')],\n",
    "           ['Interpatient diversity','Mean intrapatient diversity', 'Std. intrapatient diversity'],\n",
    "           loc=1, ncol=1, fancybox=False, frameon=False,\n",
    "           fontsize=12)\n",
    "\n",
    "plt.tight_layout()\n",
    "plt.show()\n",
    "fig.savefig('/Users/greg/Desktop/TatFigureStuff/diversity_comparisons.png',\n",
    "            format='png', dpi=300, bbox_inches='tight')"
   ]
  },
  {
   "cell_type": "code",
   "execution_count": 20,
   "metadata": {
    "collapsed": false
   },
   "outputs": [],
   "source": [
    "inter_intra_diversity_df.to_csv('/Users/greg/Desktop/FullNeuroIllumina/Diversity/diversitydf.csv', index=False)"
   ]
  },
  {
   "cell_type": "markdown",
   "metadata": {},
   "source": [
    "# Diversity Filter"
   ]
  },
  {
   "cell_type": "code",
   "execution_count": 22,
   "metadata": {
    "collapsed": false
   },
   "outputs": [
    {
     "data": {
      "text/html": [
       "<div>\n",
       "<table border=\"1\" class=\"dataframe\">\n",
       "  <thead>\n",
       "    <tr style=\"text-align: right;\">\n",
       "      <th></th>\n",
       "      <th>InterDiversity</th>\n",
       "      <th>IntraDiversity</th>\n",
       "      <th>Position</th>\n",
       "    </tr>\n",
       "  </thead>\n",
       "  <tbody>\n",
       "    <tr>\n",
       "      <th>0</th>\n",
       "      <td>3.433133</td>\n",
       "      <td>2.402391</td>\n",
       "      <td>1</td>\n",
       "    </tr>\n",
       "    <tr>\n",
       "      <th>1</th>\n",
       "      <td>5.483579</td>\n",
       "      <td>2.348515</td>\n",
       "      <td>2</td>\n",
       "    </tr>\n",
       "    <tr>\n",
       "      <th>2</th>\n",
       "      <td>2.273316</td>\n",
       "      <td>2.024093</td>\n",
       "      <td>3</td>\n",
       "    </tr>\n",
       "    <tr>\n",
       "      <th>3</th>\n",
       "      <td>1.637101</td>\n",
       "      <td>1.266866</td>\n",
       "      <td>4</td>\n",
       "    </tr>\n",
       "    <tr>\n",
       "      <th>4</th>\n",
       "      <td>2.018744</td>\n",
       "      <td>1.393548</td>\n",
       "      <td>5</td>\n",
       "    </tr>\n",
       "  </tbody>\n",
       "</table>\n",
       "</div>"
      ],
      "text/plain": [
       "   InterDiversity  IntraDiversity  Position\n",
       "0        3.433133        2.402391         1\n",
       "1        5.483579        2.348515         2\n",
       "2        2.273316        2.024093         3\n",
       "3        1.637101        1.266866         4\n",
       "4        2.018744        1.393548         5"
      ]
     },
     "execution_count": 22,
     "metadata": {},
     "output_type": "execute_result"
    }
   ],
   "source": [
    "inter_intra_diversity_df.head()"
   ]
  },
  {
   "cell_type": "code",
   "execution_count": 23,
   "metadata": {
    "collapsed": false
   },
   "outputs": [
    {
     "name": "stdout",
     "output_type": "stream",
     "text": [
      "(5608, 41)\n"
     ]
    },
    {
     "data": {
      "text/html": [
       "<div>\n",
       "<table border=\"1\" class=\"dataframe\">\n",
       "  <thead>\n",
       "    <tr style=\"text-align: right;\">\n",
       "      <th></th>\n",
       "      <th>Patient</th>\n",
       "      <th>Visit</th>\n",
       "      <th>DateOfVisit</th>\n",
       "      <th>Age</th>\n",
       "      <th>Gender</th>\n",
       "      <th>ART</th>\n",
       "      <th>VL</th>\n",
       "      <th>iVL</th>\n",
       "      <th>pVL</th>\n",
       "      <th>CD4</th>\n",
       "      <th>...</th>\n",
       "      <th>L</th>\n",
       "      <th>K</th>\n",
       "      <th>M</th>\n",
       "      <th>F</th>\n",
       "      <th>P</th>\n",
       "      <th>S</th>\n",
       "      <th>T</th>\n",
       "      <th>W</th>\n",
       "      <th>Y</th>\n",
       "      <th>V</th>\n",
       "    </tr>\n",
       "  </thead>\n",
       "  <tbody>\n",
       "    <tr>\n",
       "      <th>0</th>\n",
       "      <td>A0001</td>\n",
       "      <td>R09</td>\n",
       "      <td>2014-11-10</td>\n",
       "      <td>59</td>\n",
       "      <td>Male</td>\n",
       "      <td>on</td>\n",
       "      <td>20</td>\n",
       "      <td>987</td>\n",
       "      <td>987</td>\n",
       "      <td>797</td>\n",
       "      <td>...</td>\n",
       "      <td>0.006934</td>\n",
       "      <td>0.001695</td>\n",
       "      <td>0.565052</td>\n",
       "      <td>0.000026</td>\n",
       "      <td>0</td>\n",
       "      <td>0.000848</td>\n",
       "      <td>0.000128</td>\n",
       "      <td>0.416637</td>\n",
       "      <td>0</td>\n",
       "      <td>0.000205</td>\n",
       "    </tr>\n",
       "    <tr>\n",
       "      <th>1</th>\n",
       "      <td>A0010</td>\n",
       "      <td>R08</td>\n",
       "      <td>2014-11-12</td>\n",
       "      <td>59</td>\n",
       "      <td>Male</td>\n",
       "      <td>on</td>\n",
       "      <td>20</td>\n",
       "      <td>50</td>\n",
       "      <td>470</td>\n",
       "      <td>1167</td>\n",
       "      <td>...</td>\n",
       "      <td>0.005848</td>\n",
       "      <td>0.005848</td>\n",
       "      <td>0.584795</td>\n",
       "      <td>0.000000</td>\n",
       "      <td>0</td>\n",
       "      <td>0.000000</td>\n",
       "      <td>0.000000</td>\n",
       "      <td>0.403509</td>\n",
       "      <td>0</td>\n",
       "      <td>0.000000</td>\n",
       "    </tr>\n",
       "    <tr>\n",
       "      <th>2</th>\n",
       "      <td>A0013</td>\n",
       "      <td>R09</td>\n",
       "      <td>2014-11-10</td>\n",
       "      <td>68</td>\n",
       "      <td>Male</td>\n",
       "      <td>on</td>\n",
       "      <td>20</td>\n",
       "      <td>144</td>\n",
       "      <td>39373</td>\n",
       "      <td>771</td>\n",
       "      <td>...</td>\n",
       "      <td>0.001661</td>\n",
       "      <td>0.004983</td>\n",
       "      <td>0.282392</td>\n",
       "      <td>0.000000</td>\n",
       "      <td>0</td>\n",
       "      <td>0.001661</td>\n",
       "      <td>0.000000</td>\n",
       "      <td>0.209302</td>\n",
       "      <td>0</td>\n",
       "      <td>0.000000</td>\n",
       "    </tr>\n",
       "    <tr>\n",
       "      <th>3</th>\n",
       "      <td>A0019</td>\n",
       "      <td>R12</td>\n",
       "      <td>2015-02-02</td>\n",
       "      <td>46</td>\n",
       "      <td>Female</td>\n",
       "      <td>on</td>\n",
       "      <td>20</td>\n",
       "      <td>99</td>\n",
       "      <td>164020</td>\n",
       "      <td>1130</td>\n",
       "      <td>...</td>\n",
       "      <td>0.008081</td>\n",
       "      <td>0.003367</td>\n",
       "      <td>0.526599</td>\n",
       "      <td>0.000000</td>\n",
       "      <td>0</td>\n",
       "      <td>0.001347</td>\n",
       "      <td>0.000673</td>\n",
       "      <td>0.452525</td>\n",
       "      <td>0</td>\n",
       "      <td>0.000000</td>\n",
       "    </tr>\n",
       "    <tr>\n",
       "      <th>4</th>\n",
       "      <td>A0026</td>\n",
       "      <td>R09</td>\n",
       "      <td>2015-04-30</td>\n",
       "      <td>55</td>\n",
       "      <td>Male</td>\n",
       "      <td>on</td>\n",
       "      <td>67859</td>\n",
       "      <td>100000</td>\n",
       "      <td>100000</td>\n",
       "      <td>137</td>\n",
       "      <td>...</td>\n",
       "      <td>0.008982</td>\n",
       "      <td>0.000000</td>\n",
       "      <td>0.589820</td>\n",
       "      <td>0.000000</td>\n",
       "      <td>0</td>\n",
       "      <td>0.002994</td>\n",
       "      <td>0.000000</td>\n",
       "      <td>0.389222</td>\n",
       "      <td>0</td>\n",
       "      <td>0.000000</td>\n",
       "    </tr>\n",
       "  </tbody>\n",
       "</table>\n",
       "<p>5 rows × 41 columns</p>\n",
       "</div>"
      ],
      "text/plain": [
       "  Patient Visit DateOfVisit  Age  Gender ART     VL     iVL     pVL   CD4  \\\n",
       "0   A0001   R09  2014-11-10   59    Male  on     20     987     987   797   \n",
       "1   A0010   R08  2014-11-12   59    Male  on     20      50     470  1167   \n",
       "2   A0013   R09  2014-11-10   68    Male  on     20     144   39373   771   \n",
       "3   A0019   R12  2015-02-02   46  Female  on     20      99  164020  1130   \n",
       "4   A0026   R09  2015-04-30   55    Male  on  67859  100000  100000   137   \n",
       "\n",
       "     ...            L         K         M         F  P         S         T  \\\n",
       "0    ...     0.006934  0.001695  0.565052  0.000026  0  0.000848  0.000128   \n",
       "1    ...     0.005848  0.005848  0.584795  0.000000  0  0.000000  0.000000   \n",
       "2    ...     0.001661  0.004983  0.282392  0.000000  0  0.001661  0.000000   \n",
       "3    ...     0.008081  0.003367  0.526599  0.000000  0  0.001347  0.000673   \n",
       "4    ...     0.008982  0.000000  0.589820  0.000000  0  0.002994  0.000000   \n",
       "\n",
       "          W  Y         V  \n",
       "0  0.416637  0  0.000205  \n",
       "1  0.403509  0  0.000000  \n",
       "2  0.209302  0  0.000000  \n",
       "3  0.452525  0  0.000000  \n",
       "4  0.389222  0  0.000000  \n",
       "\n",
       "[5 rows x 41 columns]"
      ]
     },
     "execution_count": 23,
     "metadata": {},
     "output_type": "execute_result"
    }
   ],
   "source": [
    "DF = pd.read_csv('/Users/greg/Desktop/FullNeuroIllumina/MergedData/NGS_GDS_abundance.csv')\n",
    "\n",
    "# trim columns\n",
    "C = ['Patient','Visit','DateOfVisit','Age','Gender','ART','VL','iVL','pVL',\n",
    "     'CD4','iCD4','nCD4','CD8','iCD8','nCD8','TMHDS','VisitDate','GDS','Prot', \n",
    "     'AAPos','Coverage','A','R','N','D','C','Q','E','G','H','I','L','K','M',\n",
    "     'F','P','S','T','W','Y','V']\n",
    "DF = DF[C]\n",
    "print DF.shape\n",
    "DF.head()"
   ]
  }
 ],
 "metadata": {
  "kernelspec": {
   "display_name": "Python 2",
   "language": "python",
   "name": "python2"
  },
  "language_info": {
   "codemirror_mode": {
    "name": "ipython",
    "version": 2
   },
   "file_extension": ".py",
   "mimetype": "text/x-python",
   "name": "python",
   "nbconvert_exporter": "python",
   "pygments_lexer": "ipython2",
   "version": "2.7.11"
  }
 },
 "nbformat": 4,
 "nbformat_minor": 0
}
