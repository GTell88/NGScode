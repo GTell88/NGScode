{
 "cells": [
  {
   "cell_type": "markdown",
   "metadata": {},
   "source": [
    "# Import Requirements"
   ]
  },
  {
   "cell_type": "code",
   "execution_count": 3,
   "metadata": {
    "collapsed": true
   },
   "outputs": [],
   "source": [
    "from __future__ import division\n",
    "import glob\n",
    "import pandas as pd\n",
    "import numpy as np\n",
    "import itertools\n",
    "from collections import Counter\n",
    "import time\n",
    "import matplotlib.pyplot as plt\n",
    "%matplotlib inline"
   ]
  },
  {
   "cell_type": "markdown",
   "metadata": {},
   "source": [
    "# Import data"
   ]
  },
  {
   "cell_type": "code",
   "execution_count": 7,
   "metadata": {
    "collapsed": false
   },
   "outputs": [
    {
     "name": "stdout",
     "output_type": "stream",
     "text": [
      "(3900, 26)\n"
     ]
    },
    {
     "data": {
      "text/html": [
       "<div>\n",
       "<table border=\"1\" class=\"dataframe\">\n",
       "  <thead>\n",
       "    <tr style=\"text-align: right;\">\n",
       "      <th></th>\n",
       "      <th>Patient</th>\n",
       "      <th>Visit</th>\n",
       "      <th>GDS</th>\n",
       "      <th>Prot</th>\n",
       "      <th>AAPos</th>\n",
       "      <th>Coverage</th>\n",
       "      <th>A</th>\n",
       "      <th>R</th>\n",
       "      <th>N</th>\n",
       "      <th>D</th>\n",
       "      <th>...</th>\n",
       "      <th>L</th>\n",
       "      <th>K</th>\n",
       "      <th>M</th>\n",
       "      <th>F</th>\n",
       "      <th>P</th>\n",
       "      <th>S</th>\n",
       "      <th>T</th>\n",
       "      <th>W</th>\n",
       "      <th>Y</th>\n",
       "      <th>V</th>\n",
       "    </tr>\n",
       "  </thead>\n",
       "  <tbody>\n",
       "    <tr>\n",
       "      <th>0</th>\n",
       "      <td>A0001</td>\n",
       "      <td>R09</td>\n",
       "      <td>0.583333</td>\n",
       "      <td>Tat1</td>\n",
       "      <td>1</td>\n",
       "      <td>38938</td>\n",
       "      <td>0.000051</td>\n",
       "      <td>0.002157</td>\n",
       "      <td>0.000051</td>\n",
       "      <td>0.000077</td>\n",
       "      <td>...</td>\n",
       "      <td>0.006934</td>\n",
       "      <td>0.001695</td>\n",
       "      <td>0.565052</td>\n",
       "      <td>0.000026</td>\n",
       "      <td>0</td>\n",
       "      <td>0.000848</td>\n",
       "      <td>0.000128</td>\n",
       "      <td>0.416637</td>\n",
       "      <td>0</td>\n",
       "      <td>0.000205</td>\n",
       "    </tr>\n",
       "    <tr>\n",
       "      <th>1</th>\n",
       "      <td>A0010</td>\n",
       "      <td>R08</td>\n",
       "      <td>1.416667</td>\n",
       "      <td>Tat1</td>\n",
       "      <td>1</td>\n",
       "      <td>171</td>\n",
       "      <td>0.000000</td>\n",
       "      <td>0.000000</td>\n",
       "      <td>0.000000</td>\n",
       "      <td>0.000000</td>\n",
       "      <td>...</td>\n",
       "      <td>0.005848</td>\n",
       "      <td>0.005848</td>\n",
       "      <td>0.584795</td>\n",
       "      <td>0.000000</td>\n",
       "      <td>0</td>\n",
       "      <td>0.000000</td>\n",
       "      <td>0.000000</td>\n",
       "      <td>0.403509</td>\n",
       "      <td>0</td>\n",
       "      <td>0.000000</td>\n",
       "    </tr>\n",
       "    <tr>\n",
       "      <th>2</th>\n",
       "      <td>A0013</td>\n",
       "      <td>R09</td>\n",
       "      <td>0.000000</td>\n",
       "      <td>Tat1</td>\n",
       "      <td>1</td>\n",
       "      <td>602</td>\n",
       "      <td>0.000000</td>\n",
       "      <td>0.001661</td>\n",
       "      <td>0.000000</td>\n",
       "      <td>0.000000</td>\n",
       "      <td>...</td>\n",
       "      <td>0.001661</td>\n",
       "      <td>0.004983</td>\n",
       "      <td>0.282392</td>\n",
       "      <td>0.000000</td>\n",
       "      <td>0</td>\n",
       "      <td>0.001661</td>\n",
       "      <td>0.000000</td>\n",
       "      <td>0.209302</td>\n",
       "      <td>0</td>\n",
       "      <td>0.000000</td>\n",
       "    </tr>\n",
       "    <tr>\n",
       "      <th>3</th>\n",
       "      <td>A0019</td>\n",
       "      <td>R12</td>\n",
       "      <td>0.250000</td>\n",
       "      <td>Tat1</td>\n",
       "      <td>1</td>\n",
       "      <td>1485</td>\n",
       "      <td>0.000000</td>\n",
       "      <td>0.001347</td>\n",
       "      <td>0.000673</td>\n",
       "      <td>0.000000</td>\n",
       "      <td>...</td>\n",
       "      <td>0.008081</td>\n",
       "      <td>0.003367</td>\n",
       "      <td>0.526599</td>\n",
       "      <td>0.000000</td>\n",
       "      <td>0</td>\n",
       "      <td>0.001347</td>\n",
       "      <td>0.000673</td>\n",
       "      <td>0.452525</td>\n",
       "      <td>0</td>\n",
       "      <td>0.000000</td>\n",
       "    </tr>\n",
       "    <tr>\n",
       "      <th>4</th>\n",
       "      <td>A0026</td>\n",
       "      <td>R09</td>\n",
       "      <td>0.583333</td>\n",
       "      <td>Tat1</td>\n",
       "      <td>1</td>\n",
       "      <td>334</td>\n",
       "      <td>0.000000</td>\n",
       "      <td>0.002994</td>\n",
       "      <td>0.000000</td>\n",
       "      <td>0.000000</td>\n",
       "      <td>...</td>\n",
       "      <td>0.008982</td>\n",
       "      <td>0.000000</td>\n",
       "      <td>0.589820</td>\n",
       "      <td>0.000000</td>\n",
       "      <td>0</td>\n",
       "      <td>0.002994</td>\n",
       "      <td>0.000000</td>\n",
       "      <td>0.389222</td>\n",
       "      <td>0</td>\n",
       "      <td>0.000000</td>\n",
       "    </tr>\n",
       "  </tbody>\n",
       "</table>\n",
       "<p>5 rows × 26 columns</p>\n",
       "</div>"
      ],
      "text/plain": [
       "  Patient Visit       GDS  Prot  AAPos  Coverage         A         R  \\\n",
       "0   A0001   R09  0.583333  Tat1      1     38938  0.000051  0.002157   \n",
       "1   A0010   R08  1.416667  Tat1      1       171  0.000000  0.000000   \n",
       "2   A0013   R09  0.000000  Tat1      1       602  0.000000  0.001661   \n",
       "3   A0019   R12  0.250000  Tat1      1      1485  0.000000  0.001347   \n",
       "4   A0026   R09  0.583333  Tat1      1       334  0.000000  0.002994   \n",
       "\n",
       "          N         D    ...            L         K         M         F  P  \\\n",
       "0  0.000051  0.000077    ...     0.006934  0.001695  0.565052  0.000026  0   \n",
       "1  0.000000  0.000000    ...     0.005848  0.005848  0.584795  0.000000  0   \n",
       "2  0.000000  0.000000    ...     0.001661  0.004983  0.282392  0.000000  0   \n",
       "3  0.000673  0.000000    ...     0.008081  0.003367  0.526599  0.000000  0   \n",
       "4  0.000000  0.000000    ...     0.008982  0.000000  0.589820  0.000000  0   \n",
       "\n",
       "          S         T         W  Y         V  \n",
       "0  0.000848  0.000128  0.416637  0  0.000205  \n",
       "1  0.000000  0.000000  0.403509  0  0.000000  \n",
       "2  0.001661  0.000000  0.209302  0  0.000000  \n",
       "3  0.001347  0.000673  0.452525  0  0.000000  \n",
       "4  0.002994  0.000000  0.389222  0  0.000000  \n",
       "\n",
       "[5 rows x 26 columns]"
      ]
     },
     "execution_count": 7,
     "metadata": {},
     "output_type": "execute_result"
    }
   ],
   "source": [
    "DF = pd.read_csv('/Users/greg/Desktop/FullNeuroIllumina/complete_data.csv')\n",
    "print DF.shape\n",
    "DF.head()"
   ]
  },
  {
   "cell_type": "markdown",
   "metadata": {},
   "source": [
    "# Functions"
   ]
  },
  {
   "cell_type": "code",
   "execution_count": 5,
   "metadata": {
    "collapsed": false
   },
   "outputs": [],
   "source": [
    "def slice_position(df, pos):\n",
    "    m = df['AAPos'] == pos\n",
    "    sliced_df = df[m]\n",
    "    return sliced_df\n",
    "\n",
    "def reformat_section(df):\n",
    "    '''Must be a dataframe containing only 1 position'''\n",
    "    pos = str(int(list(df.AAPos)[0]))\n",
    "    AAs = ['A','R','N','D','C','Q','E','G','H','I',\n",
    "           'L','K','M','F','P','S','T','W','Y','V']\n",
    "    newnames_dict = {}\n",
    "    for item in AAs:\n",
    "        newnames_dict[item]= pos+item\n",
    "    df_renamed = df.rename(columns = newnames_dict)\n",
    "    df_renamed.drop(['AAPos','Coverage'], axis=1, inplace=True)\n",
    "    return df_renamed"
   ]
  },
  {
   "cell_type": "markdown",
   "metadata": {},
   "source": [
    "# Reformat"
   ]
  },
  {
   "cell_type": "code",
   "execution_count": 9,
   "metadata": {
    "collapsed": false
   },
   "outputs": [
    {
     "name": "stdout",
     "output_type": "stream",
     "text": [
      "(55, 1444)\n"
     ]
    },
    {
     "data": {
      "text/html": [
       "<div>\n",
       "<table border=\"1\" class=\"dataframe\">\n",
       "  <thead>\n",
       "    <tr style=\"text-align: right;\">\n",
       "      <th></th>\n",
       "      <th>Patient</th>\n",
       "      <th>Visit</th>\n",
       "      <th>GDS</th>\n",
       "      <th>Prot</th>\n",
       "      <th>1A</th>\n",
       "      <th>1R</th>\n",
       "      <th>1N</th>\n",
       "      <th>1D</th>\n",
       "      <th>1C</th>\n",
       "      <th>1Q</th>\n",
       "      <th>...</th>\n",
       "      <th>72L</th>\n",
       "      <th>72K</th>\n",
       "      <th>72M</th>\n",
       "      <th>72F</th>\n",
       "      <th>72P</th>\n",
       "      <th>72S</th>\n",
       "      <th>72T</th>\n",
       "      <th>72W</th>\n",
       "      <th>72Y</th>\n",
       "      <th>72V</th>\n",
       "    </tr>\n",
       "  </thead>\n",
       "  <tbody>\n",
       "    <tr>\n",
       "      <th>0</th>\n",
       "      <td>A0001</td>\n",
       "      <td>R09</td>\n",
       "      <td>0.583333</td>\n",
       "      <td>Tat1</td>\n",
       "      <td>0.000051</td>\n",
       "      <td>0.002157</td>\n",
       "      <td>0.000051</td>\n",
       "      <td>0.000077</td>\n",
       "      <td>0.002080</td>\n",
       "      <td>0.000051</td>\n",
       "      <td>...</td>\n",
       "      <td>NaN</td>\n",
       "      <td>NaN</td>\n",
       "      <td>NaN</td>\n",
       "      <td>NaN</td>\n",
       "      <td>NaN</td>\n",
       "      <td>NaN</td>\n",
       "      <td>NaN</td>\n",
       "      <td>NaN</td>\n",
       "      <td>NaN</td>\n",
       "      <td>NaN</td>\n",
       "    </tr>\n",
       "    <tr>\n",
       "      <th>1</th>\n",
       "      <td>A0010</td>\n",
       "      <td>R08</td>\n",
       "      <td>1.416667</td>\n",
       "      <td>Tat1</td>\n",
       "      <td>0.000000</td>\n",
       "      <td>0.000000</td>\n",
       "      <td>0.000000</td>\n",
       "      <td>0.000000</td>\n",
       "      <td>0.000000</td>\n",
       "      <td>0.000000</td>\n",
       "      <td>...</td>\n",
       "      <td>NaN</td>\n",
       "      <td>NaN</td>\n",
       "      <td>NaN</td>\n",
       "      <td>NaN</td>\n",
       "      <td>NaN</td>\n",
       "      <td>NaN</td>\n",
       "      <td>NaN</td>\n",
       "      <td>NaN</td>\n",
       "      <td>NaN</td>\n",
       "      <td>NaN</td>\n",
       "    </tr>\n",
       "    <tr>\n",
       "      <th>2</th>\n",
       "      <td>A0013</td>\n",
       "      <td>R09</td>\n",
       "      <td>0.000000</td>\n",
       "      <td>Tat1</td>\n",
       "      <td>0.000000</td>\n",
       "      <td>0.001661</td>\n",
       "      <td>0.000000</td>\n",
       "      <td>0.000000</td>\n",
       "      <td>0.000000</td>\n",
       "      <td>0.000000</td>\n",
       "      <td>...</td>\n",
       "      <td>NaN</td>\n",
       "      <td>NaN</td>\n",
       "      <td>NaN</td>\n",
       "      <td>NaN</td>\n",
       "      <td>NaN</td>\n",
       "      <td>NaN</td>\n",
       "      <td>NaN</td>\n",
       "      <td>NaN</td>\n",
       "      <td>NaN</td>\n",
       "      <td>NaN</td>\n",
       "    </tr>\n",
       "    <tr>\n",
       "      <th>3</th>\n",
       "      <td>A0019</td>\n",
       "      <td>R12</td>\n",
       "      <td>0.250000</td>\n",
       "      <td>Tat1</td>\n",
       "      <td>0.000000</td>\n",
       "      <td>0.001347</td>\n",
       "      <td>0.000673</td>\n",
       "      <td>0.000000</td>\n",
       "      <td>0.000673</td>\n",
       "      <td>0.000000</td>\n",
       "      <td>...</td>\n",
       "      <td>NaN</td>\n",
       "      <td>NaN</td>\n",
       "      <td>NaN</td>\n",
       "      <td>NaN</td>\n",
       "      <td>NaN</td>\n",
       "      <td>NaN</td>\n",
       "      <td>NaN</td>\n",
       "      <td>NaN</td>\n",
       "      <td>NaN</td>\n",
       "      <td>NaN</td>\n",
       "    </tr>\n",
       "    <tr>\n",
       "      <th>4</th>\n",
       "      <td>A0026</td>\n",
       "      <td>R09</td>\n",
       "      <td>0.583333</td>\n",
       "      <td>Tat1</td>\n",
       "      <td>0.000000</td>\n",
       "      <td>0.002994</td>\n",
       "      <td>0.000000</td>\n",
       "      <td>0.000000</td>\n",
       "      <td>0.000000</td>\n",
       "      <td>0.000000</td>\n",
       "      <td>...</td>\n",
       "      <td>NaN</td>\n",
       "      <td>NaN</td>\n",
       "      <td>NaN</td>\n",
       "      <td>NaN</td>\n",
       "      <td>NaN</td>\n",
       "      <td>NaN</td>\n",
       "      <td>NaN</td>\n",
       "      <td>NaN</td>\n",
       "      <td>NaN</td>\n",
       "      <td>NaN</td>\n",
       "    </tr>\n",
       "  </tbody>\n",
       "</table>\n",
       "<p>5 rows × 1444 columns</p>\n",
       "</div>"
      ],
      "text/plain": [
       "  Patient Visit       GDS  Prot        1A        1R        1N        1D  \\\n",
       "0   A0001   R09  0.583333  Tat1  0.000051  0.002157  0.000051  0.000077   \n",
       "1   A0010   R08  1.416667  Tat1  0.000000  0.000000  0.000000  0.000000   \n",
       "2   A0013   R09  0.000000  Tat1  0.000000  0.001661  0.000000  0.000000   \n",
       "3   A0019   R12  0.250000  Tat1  0.000000  0.001347  0.000673  0.000000   \n",
       "4   A0026   R09  0.583333  Tat1  0.000000  0.002994  0.000000  0.000000   \n",
       "\n",
       "         1C        1Q ...   72L  72K  72M  72F  72P  72S  72T  72W  72Y  72V  \n",
       "0  0.002080  0.000051 ...   NaN  NaN  NaN  NaN  NaN  NaN  NaN  NaN  NaN  NaN  \n",
       "1  0.000000  0.000000 ...   NaN  NaN  NaN  NaN  NaN  NaN  NaN  NaN  NaN  NaN  \n",
       "2  0.000000  0.000000 ...   NaN  NaN  NaN  NaN  NaN  NaN  NaN  NaN  NaN  NaN  \n",
       "3  0.000673  0.000000 ...   NaN  NaN  NaN  NaN  NaN  NaN  NaN  NaN  NaN  NaN  \n",
       "4  0.000000  0.000000 ...   NaN  NaN  NaN  NaN  NaN  NaN  NaN  NaN  NaN  NaN  \n",
       "\n",
       "[5 rows x 1444 columns]"
      ]
     },
     "execution_count": 9,
     "metadata": {},
     "output_type": "execute_result"
    }
   ],
   "source": [
    "tat1_length = 72\n",
    "\n",
    "pos1_df = slice_position(DF, 1)\n",
    "DF2 = reformat_section(pos1_df)\n",
    "for i in range(2,tat1_length+1):\n",
    "    pos_df = slice_position(DF, i)\n",
    "    pos_df = reformat_section(pos_df)\n",
    "    DF2 = pd.merge(DF2, pos_df,\n",
    "               left_on=['Patient','Visit','GDS','Prot',],\n",
    "               right_on=['Patient','Visit','GDS','Prot'],\n",
    "               how='outer')\n",
    "    \n",
    "print DF2.shape\n",
    "DF2.head()"
   ]
  },
  {
   "cell_type": "code",
   "execution_count": 14,
   "metadata": {
    "collapsed": false
   },
   "outputs": [
    {
     "name": "stdout",
     "output_type": "stream",
     "text": [
      "(55, 1445)\n"
     ]
    },
    {
     "data": {
      "text/html": [
       "<div>\n",
       "<table border=\"1\" class=\"dataframe\">\n",
       "  <thead>\n",
       "    <tr style=\"text-align: right;\">\n",
       "      <th></th>\n",
       "      <th>Patient</th>\n",
       "      <th>Visit</th>\n",
       "      <th>GDS</th>\n",
       "      <th>Prot</th>\n",
       "      <th>1A</th>\n",
       "      <th>1R</th>\n",
       "      <th>1N</th>\n",
       "      <th>1D</th>\n",
       "      <th>1C</th>\n",
       "      <th>1Q</th>\n",
       "      <th>...</th>\n",
       "      <th>72K</th>\n",
       "      <th>72M</th>\n",
       "      <th>72F</th>\n",
       "      <th>72P</th>\n",
       "      <th>72S</th>\n",
       "      <th>72T</th>\n",
       "      <th>72W</th>\n",
       "      <th>72Y</th>\n",
       "      <th>72V</th>\n",
       "      <th>GDS_Threshold</th>\n",
       "    </tr>\n",
       "  </thead>\n",
       "  <tbody>\n",
       "    <tr>\n",
       "      <th>0</th>\n",
       "      <td>A0001</td>\n",
       "      <td>R09</td>\n",
       "      <td>0.583333</td>\n",
       "      <td>Tat1</td>\n",
       "      <td>0.000051</td>\n",
       "      <td>0.002157</td>\n",
       "      <td>0.000051</td>\n",
       "      <td>0.000077</td>\n",
       "      <td>0.002080</td>\n",
       "      <td>0.000051</td>\n",
       "      <td>...</td>\n",
       "      <td>0.049947</td>\n",
       "      <td>0.000117</td>\n",
       "      <td>0.000115</td>\n",
       "      <td>0.115569</td>\n",
       "      <td>0.00037</td>\n",
       "      <td>0.000166</td>\n",
       "      <td>0</td>\n",
       "      <td>0.000057</td>\n",
       "      <td>0.000062</td>\n",
       "      <td>1</td>\n",
       "    </tr>\n",
       "    <tr>\n",
       "      <th>1</th>\n",
       "      <td>A0010</td>\n",
       "      <td>R08</td>\n",
       "      <td>1.416667</td>\n",
       "      <td>Tat1</td>\n",
       "      <td>0.000000</td>\n",
       "      <td>0.000000</td>\n",
       "      <td>0.000000</td>\n",
       "      <td>0.000000</td>\n",
       "      <td>0.000000</td>\n",
       "      <td>0.000000</td>\n",
       "      <td>...</td>\n",
       "      <td>0.049947</td>\n",
       "      <td>0.000117</td>\n",
       "      <td>0.000115</td>\n",
       "      <td>0.115569</td>\n",
       "      <td>0.00037</td>\n",
       "      <td>0.000166</td>\n",
       "      <td>0</td>\n",
       "      <td>0.000057</td>\n",
       "      <td>0.000062</td>\n",
       "      <td>1</td>\n",
       "    </tr>\n",
       "    <tr>\n",
       "      <th>2</th>\n",
       "      <td>A0013</td>\n",
       "      <td>R09</td>\n",
       "      <td>0.000000</td>\n",
       "      <td>Tat1</td>\n",
       "      <td>0.000000</td>\n",
       "      <td>0.001661</td>\n",
       "      <td>0.000000</td>\n",
       "      <td>0.000000</td>\n",
       "      <td>0.000000</td>\n",
       "      <td>0.000000</td>\n",
       "      <td>...</td>\n",
       "      <td>0.049947</td>\n",
       "      <td>0.000117</td>\n",
       "      <td>0.000115</td>\n",
       "      <td>0.115569</td>\n",
       "      <td>0.00037</td>\n",
       "      <td>0.000166</td>\n",
       "      <td>0</td>\n",
       "      <td>0.000057</td>\n",
       "      <td>0.000062</td>\n",
       "      <td>0</td>\n",
       "    </tr>\n",
       "    <tr>\n",
       "      <th>3</th>\n",
       "      <td>A0019</td>\n",
       "      <td>R12</td>\n",
       "      <td>0.250000</td>\n",
       "      <td>Tat1</td>\n",
       "      <td>0.000000</td>\n",
       "      <td>0.001347</td>\n",
       "      <td>0.000673</td>\n",
       "      <td>0.000000</td>\n",
       "      <td>0.000673</td>\n",
       "      <td>0.000000</td>\n",
       "      <td>...</td>\n",
       "      <td>0.049947</td>\n",
       "      <td>0.000117</td>\n",
       "      <td>0.000115</td>\n",
       "      <td>0.115569</td>\n",
       "      <td>0.00037</td>\n",
       "      <td>0.000166</td>\n",
       "      <td>0</td>\n",
       "      <td>0.000057</td>\n",
       "      <td>0.000062</td>\n",
       "      <td>0</td>\n",
       "    </tr>\n",
       "    <tr>\n",
       "      <th>4</th>\n",
       "      <td>A0026</td>\n",
       "      <td>R09</td>\n",
       "      <td>0.583333</td>\n",
       "      <td>Tat1</td>\n",
       "      <td>0.000000</td>\n",
       "      <td>0.002994</td>\n",
       "      <td>0.000000</td>\n",
       "      <td>0.000000</td>\n",
       "      <td>0.000000</td>\n",
       "      <td>0.000000</td>\n",
       "      <td>...</td>\n",
       "      <td>0.049947</td>\n",
       "      <td>0.000117</td>\n",
       "      <td>0.000115</td>\n",
       "      <td>0.115569</td>\n",
       "      <td>0.00037</td>\n",
       "      <td>0.000166</td>\n",
       "      <td>0</td>\n",
       "      <td>0.000057</td>\n",
       "      <td>0.000062</td>\n",
       "      <td>1</td>\n",
       "    </tr>\n",
       "  </tbody>\n",
       "</table>\n",
       "<p>5 rows × 1445 columns</p>\n",
       "</div>"
      ],
      "text/plain": [
       "  Patient Visit       GDS  Prot        1A        1R        1N        1D  \\\n",
       "0   A0001   R09  0.583333  Tat1  0.000051  0.002157  0.000051  0.000077   \n",
       "1   A0010   R08  1.416667  Tat1  0.000000  0.000000  0.000000  0.000000   \n",
       "2   A0013   R09  0.000000  Tat1  0.000000  0.001661  0.000000  0.000000   \n",
       "3   A0019   R12  0.250000  Tat1  0.000000  0.001347  0.000673  0.000000   \n",
       "4   A0026   R09  0.583333  Tat1  0.000000  0.002994  0.000000  0.000000   \n",
       "\n",
       "         1C        1Q      ...             72K       72M       72F       72P  \\\n",
       "0  0.002080  0.000051      ...        0.049947  0.000117  0.000115  0.115569   \n",
       "1  0.000000  0.000000      ...        0.049947  0.000117  0.000115  0.115569   \n",
       "2  0.000000  0.000000      ...        0.049947  0.000117  0.000115  0.115569   \n",
       "3  0.000673  0.000000      ...        0.049947  0.000117  0.000115  0.115569   \n",
       "4  0.000000  0.000000      ...        0.049947  0.000117  0.000115  0.115569   \n",
       "\n",
       "       72S       72T  72W       72Y       72V  GDS_Threshold  \n",
       "0  0.00037  0.000166    0  0.000057  0.000062              1  \n",
       "1  0.00037  0.000166    0  0.000057  0.000062              1  \n",
       "2  0.00037  0.000166    0  0.000057  0.000062              0  \n",
       "3  0.00037  0.000166    0  0.000057  0.000062              0  \n",
       "4  0.00037  0.000166    0  0.000057  0.000062              1  \n",
       "\n",
       "[5 rows x 1445 columns]"
      ]
     },
     "execution_count": 14,
     "metadata": {},
     "output_type": "execute_result"
    }
   ],
   "source": [
    "DF2.fillna(DF2.mean(), inplace=True)\n",
    "DF2['GDS_Threshold'] = DF2['GDS'] > 0.5\n",
    "DF2['GDS_Threshold'] = DF2['GDS_Threshold'].astype(int)\n",
    "print DF2.shape\n",
    "DF2.head()"
   ]
  },
  {
   "cell_type": "markdown",
   "metadata": {},
   "source": [
    "# Machine Learning approach (classification)"
   ]
  },
  {
   "cell_type": "code",
   "execution_count": 82,
   "metadata": {
    "collapsed": false
   },
   "outputs": [],
   "source": [
    "from sklearn.feature_selection import VarianceThreshold\n",
    "from sklearn import cross_validation\n",
    "from sklearn.neighbors import KNeighborsClassifier\n",
    "from sklearn.svm import SVC\n",
    "from sklearn.tree import DecisionTreeClassifier\n",
    "from sklearn.ensemble import RandomForestClassifier, AdaBoostClassifier\n",
    "from sklearn.naive_bayes import GaussianNB\n",
    "from sklearn.lda import LDA\n",
    "from sklearn.qda import QDA"
   ]
  },
  {
   "cell_type": "markdown",
   "metadata": {},
   "source": [
    "# Data import"
   ]
  },
  {
   "cell_type": "code",
   "execution_count": 83,
   "metadata": {
    "collapsed": false
   },
   "outputs": [
    {
     "name": "stdout",
     "output_type": "stream",
     "text": [
      "(55, 1440)\n",
      "(55,)\n"
     ]
    }
   ],
   "source": [
    "y = np.ravel(DF2['GDS_Threshold'])\n",
    "X = DF2.drop(['Patient','Visit','GDS','Prot','GDS_Threshold'], axis=1)\n",
    "X = X.as_matrix()\n",
    "print X.shape\n",
    "print y.shape"
   ]
  },
  {
   "cell_type": "markdown",
   "metadata": {},
   "source": [
    "# Feature Selection (variance threshold)"
   ]
  },
  {
   "cell_type": "code",
   "execution_count": 84,
   "metadata": {
    "collapsed": false
   },
   "outputs": [
    {
     "name": "stdout",
     "output_type": "stream",
     "text": [
      "0.0 (55, 1308)\n",
      "0.02 (55, 113)\n",
      "0.04 (55, 78)\n",
      "0.06 (55, 61)\n",
      "0.08 (55, 45)\n",
      "0.1 (55, 40)\n",
      "0.12 (55, 29)\n",
      "0.14 (55, 25)\n",
      "0.16 (55, 19)\n",
      "0.18 (55, 13)\n",
      "0.2 (55, 9)\n",
      "0.22 (55, 2)\n",
      "0.24 0.26 0.28 0.3 0.32 0.34 0.36 0.38\n"
     ]
    }
   ],
   "source": [
    "for i in range(20):\n",
    "    try:\n",
    "        selector = VarianceThreshold(threshold=i/50)\n",
    "        print i/50, selector.fit_transform(X).shape\n",
    "        #print X.head()\n",
    "    except ValueError:\n",
    "        continue    "
   ]
  },
  {
   "cell_type": "code",
   "execution_count": 85,
   "metadata": {
    "collapsed": false
   },
   "outputs": [
    {
     "data": {
      "text/plain": [
       "(55, 1308)"
      ]
     },
     "execution_count": 85,
     "metadata": {},
     "output_type": "execute_result"
    }
   ],
   "source": [
    "selector = VarianceThreshold()\n",
    "X = selector.fit_transform(X)\n",
    "X.shape"
   ]
  },
  {
   "cell_type": "markdown",
   "metadata": {},
   "source": [
    "# Test Train Split"
   ]
  },
  {
   "cell_type": "code",
   "execution_count": 86,
   "metadata": {
    "collapsed": false
   },
   "outputs": [
    {
     "name": "stdout",
     "output_type": "stream",
     "text": [
      "(33, 1308) (33,)\n",
      "(22, 1308) (22,)\n"
     ]
    }
   ],
   "source": [
    "X_train, X_test, y_train, y_test = cross_validation.train_test_split(\n",
    "    X, y, test_size=0.4, random_state=0)\n",
    "\n",
    "print X_train.shape, y_train.shape\n",
    "print X_test.shape, y_test.shape"
   ]
  },
  {
   "cell_type": "markdown",
   "metadata": {},
   "source": [
    "# Scoring"
   ]
  },
  {
   "cell_type": "code",
   "execution_count": 90,
   "metadata": {
    "collapsed": false
   },
   "outputs": [
    {
     "ename": "NameError",
     "evalue": "name 'LinearDiscriminantAnalysis' is not defined",
     "output_type": "error",
     "traceback": [
      "\u001b[0;31m---------------------------------------------------------------------------\u001b[0m",
      "\u001b[0;31mNameError\u001b[0m                                 Traceback (most recent call last)",
      "\u001b[0;32m<ipython-input-90-732c400a9185>\u001b[0m in \u001b[0;36m<module>\u001b[0;34m()\u001b[0m\n\u001b[1;32m      6\u001b[0m \u001b[0mAdaBoostClassifier\u001b[0m\u001b[0;34m(\u001b[0m\u001b[0;34m)\u001b[0m\u001b[0;34m,\u001b[0m\u001b[0;34m\u001b[0m\u001b[0m\n\u001b[1;32m      7\u001b[0m \u001b[0mGaussianNB\u001b[0m\u001b[0;34m(\u001b[0m\u001b[0;34m)\u001b[0m\u001b[0;34m,\u001b[0m\u001b[0;34m\u001b[0m\u001b[0m\n\u001b[0;32m----> 8\u001b[0;31m \u001b[0mLinearDiscriminantAnalysis\u001b[0m\u001b[0;34m(\u001b[0m\u001b[0;34m)\u001b[0m\u001b[0;34m,\u001b[0m\u001b[0;34m\u001b[0m\u001b[0m\n\u001b[0m\u001b[1;32m      9\u001b[0m \u001b[0mQuadraticDiscriminantAnalysis\u001b[0m\u001b[0;34m(\u001b[0m\u001b[0;34m)\u001b[0m\u001b[0;34m\u001b[0m\u001b[0m\n",
      "\u001b[0;31mNameError\u001b[0m: name 'LinearDiscriminantAnalysis' is not defined"
     ]
    }
   ],
   "source": [
    "classifiers = [\n",
    "    KNeighborsClassifier(3),\n",
    "    SVC(kernel=\"linear\", C=0.025),\n",
    "    SVC(gamma=2, C=1),\n",
    "    DecisionTreeClassifier(max_depth=5),\n",
    "    RandomForestClassifier(max_depth=5, n_estimators=10, max_features=1),\n",
    "    AdaBoostClassifier(),\n",
    "    GaussianNB(),\n",
    "    LinearDiscriminantAnalysis(),\n",
    "    QuadraticDiscriminantAnalysis()]"
   ]
  },
  {
   "cell_type": "code",
   "execution_count": 95,
   "metadata": {
    "collapsed": false
   },
   "outputs": [
    {
     "data": {
      "text/plain": [
       "0.40909090909090912"
      ]
     },
     "execution_count": 95,
     "metadata": {},
     "output_type": "execute_result"
    }
   ],
   "source": [
    "clf1 = SVC(kernel='linear', C=1).fit(X_train, y_train)\n",
    "clf2 = KNeighborsClassifier(3).fit(X_train, y_train)\n",
    "clf3 = DecisionTreeClassifier(max_depth=5).fit(X_train, y_train)\n",
    "clf4 = RandomForestClassifier(max_depth=5, n_estimators=10, max_features=1).fit(X_train, y_train)\n",
    "clf5 = KNeighborsClassifier(3).fit(X_train, y_train)\n",
    "clf6 = AdaBoostClassifier().fit(X_train, y_train)\n",
    "clf7 = GaussianNB().fit(X_train, y_train)\n",
    "clf8 = LDA().fit(X_train, y_train)\n",
    "clf9 = QDA().fit(X_train, y_train)"
   ]
  },
  {
   "cell_type": "code",
   "execution_count": 96,
   "metadata": {
    "collapsed": true
   },
   "outputs": [],
   "source": [
    "# It will use 5+ different classification algorithms\n",
    "# It will use various test/train splits\n",
    "# It will rank feature importance\n",
    "# It will compare with clinical data"
   ]
  },
  {
   "cell_type": "code",
   "execution_count": null,
   "metadata": {
    "collapsed": true
   },
   "outputs": [],
   "source": []
  }
 ],
 "metadata": {
  "kernelspec": {
   "display_name": "Python 2",
   "language": "python",
   "name": "python2"
  },
  "language_info": {
   "codemirror_mode": {
    "name": "ipython",
    "version": 2
   },
   "file_extension": ".py",
   "mimetype": "text/x-python",
   "name": "python",
   "nbconvert_exporter": "python",
   "pygments_lexer": "ipython2",
   "version": "2.7.11"
  }
 },
 "nbformat": 4,
 "nbformat_minor": 0
}
