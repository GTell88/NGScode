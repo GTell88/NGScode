{
 "cells": [
  {
   "cell_type": "code",
   "execution_count": 1,
   "metadata": {
    "collapsed": true
   },
   "outputs": [],
   "source": [
    "from __future__ import division\n",
    "import glob\n",
    "import pandas as pd\n",
    "import numpy as np\n",
    "import itertools\n",
    "from collections import Counter\n",
    "from Bio.Seq import Seq\n",
    "from Bio.Alphabet import generic_dna\n",
    "import time\n",
    "from collections import defaultdict\n",
    "import csv\n",
    "from itertools import islice\n",
    "import matplotlib.pyplot as plt\n",
    "%matplotlib inline"
   ]
  },
  {
   "cell_type": "markdown",
   "metadata": {},
   "source": [
    "# Define functions"
   ]
  },
  {
   "cell_type": "code",
   "execution_count": 2,
   "metadata": {
    "collapsed": false
   },
   "outputs": [],
   "source": [
    "def makeFreqDict(csv_file):\n",
    "    #intialize dictionary\n",
    "    aminoacids = 'ARNDCQEGHILKMFPSTWYV'\n",
    "    freq_dict = {'Patient':[], 'Visit':[], 'ORF':[], 'Position':[], 'Coverage':[],\n",
    "                 'A':[],'R':[],'N':[],'D':[],'C':[],'Q':[],'E':[],'G':[],'H':[],'I':[],\n",
    "                 'L':[],'K':[],'M':[],'F':[],'P':[],'S':[],'T':[],'W':[],'Y':[],'V':[]}\n",
    "    #csv to dataframe\n",
    "    df = pd.read_csv(csv_file)\n",
    "    for i, group in df.groupby('Position'):  \n",
    "        #convert counts to percentages\n",
    "        total = sum(group['Count'])\n",
    "        group['Percent'] = group['Count']/total\n",
    "        #print group\n",
    "        #get values for each position\n",
    "        patient = list(group['Patient'])[0]\n",
    "        visit = list(group['Visit'])[0]\n",
    "        orf = list(group['ORF'])[0]\n",
    "        pos = list(group['Position'])[0]\n",
    "        cov = total\n",
    "        #fill up dictionary with values\n",
    "        freq_dict['Patient'].append(patient)\n",
    "        freq_dict['Visit'].append(visit)\n",
    "        freq_dict['ORF'].append(orf)\n",
    "        freq_dict['Position'].append(pos)\n",
    "        freq_dict['Coverage'].append(cov)  \n",
    "        #fill up dictionary with frequencies\n",
    "        for aa in aminoacids:\n",
    "            x = group[group['AA'] == aa]\n",
    "            if x.shape[0] == 0:\n",
    "                freq_dict[aa].append(0)\n",
    "            else:\n",
    "                freq_dict[aa].append(list(x['Percent'])[0])\n",
    "    return freq_dict\n",
    "\n",
    "def freqToDataframe(freq_dict):\n",
    "    col_order = ['Patient','Visit','ORF','Position','Coverage',\n",
    "             'A','R','N','D','C','Q','E','G','H','I',\n",
    "             'L','K','M','F','P','S','T','W','Y','V']\n",
    "    df = pd.DataFrame(freq_dict)[col_order]\n",
    "    return df"
   ]
  },
  {
   "cell_type": "markdown",
   "metadata": {},
   "source": [
    "# AA counts to frequency matrix for each sample"
   ]
  },
  {
   "cell_type": "code",
   "execution_count": 12,
   "metadata": {
    "collapsed": false
   },
   "outputs": [
    {
     "name": "stdout",
     "output_type": "stream",
     "text": [
      "134.477634907\n"
     ]
    },
    {
     "name": "stderr",
     "output_type": "stream",
     "text": [
      "/Users/greg/anaconda/lib/python2.7/site-packages/ipykernel/__main__.py:12: SettingWithCopyWarning: \n",
      "A value is trying to be set on a copy of a slice from a DataFrame.\n",
      "Try using .loc[row_indexer,col_indexer] = value instead\n",
      "\n",
      "See the caveats in the documentation: http://pandas.pydata.org/pandas-docs/stable/indexing.html#indexing-view-versus-copy\n"
     ]
    }
   ],
   "source": [
    "t = time.time()\n",
    "\n",
    "csv_files = glob.glob('/Users/greg/Desktop/FullNeuroIllumina/AAcounts/*.csv')\n",
    "\n",
    "for csv_file in csv_files:\n",
    "    out_file = csv_file.replace('/AAcounts/','/PatientFrequencyMatrix/')\n",
    "    out_file = out_file.replace('.AAcounts.','.PatientMatrix.')\n",
    "    #print csv_file\n",
    "    #print out_file\n",
    "    d = makeFreqDict(csv_file)\n",
    "    df = freqToDataframe(d)\n",
    "    df.to_csv(out_file, index=False)\n",
    "    \n",
    "elapsed = time.time() - t\n",
    "print elapsed"
   ]
  },
  {
   "cell_type": "markdown",
   "metadata": {},
   "source": [
    "# Get consensus sequences"
   ]
  },
  {
   "cell_type": "code",
   "execution_count": 31,
   "metadata": {
    "collapsed": false
   },
   "outputs": [
    {
     "name": "stdout",
     "output_type": "stream",
     "text": [
      "MEPVDPSLEPWKHPGSQPRTPCTACYCKKVLLSLPSLLHKKRLRHLLWQEEAGTATKTSSRQRGSSSFSTKA\n",
      "MDPVDPKLEPWKHPGSQPKTACTNCYLYKVLLSLPSLFHNKRLRHLLWQEKAKTETKNSSRRSNSSSFSIKA\n",
      "MEPVDPSLEPWKHPGSQPKTACNSCYCKKVLLSLPSLFHNKRLRHLLWQEEAETATTSFSRQSDRSSFSIKA\n",
      "MDPVDPKLEPWKHPGSQPRTACTKCYCKKVLLSLPSLFHNKSFRHLLWQEEAETATKNSSRQSDSSRFSTKA\n",
      "MEPVDPRLEPWKHPGSQPETPCNACYCYKVLLSLSMVFHKKRLRHLLWQEEAGTATKTSSRQSGSSSSSTKA\n",
      "MEPVDPSLEPWKHPGSQPKTACTNCYCKKVLLSLPSLFRNKRLRHLLWQEEAETATTSSSRQSDSSSFSTKA\n",
      "MEPVDPRLEPWKHPGSQPKTACNNCYCKKVLLSLPSLLHKKRLRHLLWQEEAETATKTCSRQSGSSSLSIKA\n",
      "MEPVDPSLEPWKHPGSQPKTPCTNCYCKTVLLSLPKVFCNKRLRHLLWQEEAETATNSSLRQSDSSRISIKA\n",
      "MEPVDPSLEPWKHPGSQPKTACTLLLLQKVLLSLPSLLHNKRLRHLLWQEEAEQATKSSSRQSDSSSLSIKA\n",
      "MEPVDPRLEPWKHPGSQPKTPCTNCYCKKMLLSLPSLFHKKRLRHLLWQEEAETATTISSRQRDSSSFSIKA\n",
      "MDPVDPRLEPWKHPGSQPKTACNTCYCKTVLLSLPSLFHKKRLRHLLWQEEAETATKSFSRQRDSSRFSIKA\n",
      "MEPVDPRLEPWKHPGSQPKTACTQCYCKKVLLSLPSLFHEKRLRHLLWQEEAGTATKISSRQEDSSSASIKA\n",
      "MEPVDPRLEPWKHPGSQPKTACTACYCKKVLLSLSSLLCNKRLRHLLWQEEAETATKSGSRQSDSSSFSIRA\n",
      "MDPVDPRLEPWKHPGSQPKTACTNCYCKKVLLSLPSLFHAKRLRHLLWQEEAETATKSSSRQKDSSGVSIKA\n",
      "MEPVDPRLEPWKHPGSQPKTPCTKCYCKNMLLSLPSLFHTKRLRHLLWQEEAETATKTSSRQSDSSSLSTKA\n",
      "MEPVDPKLEPWKHPGSQPKTACTNCYCKNMLLSLPSLFHKKRLRHLLWQEEAETATKSSSRRSDRSSFSIKA\n",
      "MEPVDPRLEPWEHPGSQPKTACTTCYCKKVLLSLPSLFHNKRLRHLLWQEEAEKATKSSSRQSDSSSFSIKA\n",
      "MEPVDPRLEPWKHPGSQPATACTSCYCKKVLLSLPSLFHNKRLRHLLWQEEAETATKSSSKQSDSSRFSIKA\n",
      "MEPVDPRLEPWKHPGSQPKTACTPCYCKKVLLSLPSLLLNKRLRHLLWQEEAETATRTSSGQSGSSGFSIKA\n",
      "MEPVDPRLEPWKHPGSQPRTACTKCYCKKVLLSLPSLLHNKSLRHLLWQEEAETATKSSKKQSDSSSFSTKA\n",
      "EPVDPRLEPWKHPGSQPKTPCNKCYCKKRCCFHCYKCFHNKRLRHLLWQEEAETATKSSSGQSGSSRSSIKA\n",
      "MEPVDHKLEPWKHPGSQPKTPCTNCYCKKVLLSLPSLLHKKGLRHLLWQEEAETATKNFSRQRDSSSFSIKA\n",
      "MDPVDPRLEPWKHPGSQPKTACTTCYCKTVLLSLSSLLHNKRLRHLLWQEEAETATKSSSRQRDSSRFSIKA\n",
      "MEPVDPSLEPWKHPGSQPKTACTPCYCKRMLLSLPSLFHNKRLRHLLWQEEAETETKTSERQSASSSSSIKA\n",
      "MEPVDPNLEPWKHPGSQPKTACTKCYCKKVLLSLPSLFHNKRLRHLLWQEEAETATKSFSRQSDSSSFSIKA\n",
      "MEPVDPRLEPWKHPGSQPKTPCTNCYCKKVLLSLPKMFHNKRLRHLLWQEEAETATKSRSRQSDSSSFSIKA\n",
      "MDPVDPRLEPWNHPGSQPKTACTKCYCKKVLPSLPSLFHKKRLRHLLWQEEAETATKNSSRQSDSSSFSTKA\n",
      "MDPVDPRLEPWKHPGSQPKTPCTKCYCKKVLPSLSSVFHNKRLRHLLWQEEAETATKNSSGQSDYSSSCIRA\n",
      "MEPVDPRLEPWKHPGSQPRTACTNCYCKKVLLSLPSLLHNKRLRHLLWQEEAETATKISSGQSDSSSFSTKA\n",
      "MDPVDPSLEPWKHPGSQPKTPCTPCYCKKVLLSLPSLLHYQRLRHLLWQEEVETATKSSSGQSDSSSLSIKA\n",
      "MDPVDPSLEPWKHPGSQPKTACTKCYCKKMLLSLPSLFHNKRLRHLLWQEEAETATKSSSRQSDSSRFSTKA\n",
      "EPVDPRLEPWKHPGSQPKTACTTCYCKKKVLLSLPSLFHTKRLRHLLWQEEAETATKISSRQSDSSSFSIKA\n",
      "MEPVDPRLEPWKHPGSQPKTACTNCYCKKVLLSLPSLFHNKRLRHLLWQEEAETATKSSSERSDSSSFSIKA\n",
      "EPVDPRLEPWKHPGSQPKTACTPCYLLKTVLLSLPSLLHNKRLRHLLWQEEAETATKSSSGQGGSSSFSIKA\n",
      "MEPVDPRLEPWKHPGSQPRTACTNCYCKKCLSSLPSLLHTKRLRHLLWQKEAETETKSSSTQSDKSSFSIKA\n",
      "MEPVDPRLEPWKHPGSQPKTACTPCFCKVVLLSLPSLLHIKRLRHLLWQEEAETATKSSSRQRDSSSFSTKA\n",
      "MDPVDPRLEPWQHPGSQPKTPCTNCYCKKVLLSLPKLFYKKSLRHLLWQEEAETATKSSSGQSDSSGFSIKA\n",
      "MEPVDPRLEPWKHPGSQPRTPCNSCYCKKVLLSLPSLLHNKRLRHLLWQEEARTATKISSRQRDSSSASTKA\n",
      "MEPVDPRLEPWKHPGSQPRTPCTTCYCKKVLLSLPSLFHNKRLRHLLWQEEAETATKNFSRQSDSSSSSTKA\n",
      "MEPVDPRLEPWKHPGSQPQTPCTPCYCKKVLLSLPSLFHKKSLRHLLWQEEAEQATKSSSRQRDSSSFSTRA\n",
      "MEPVDPKLEPWKHPGSQPKTACTPCYCKKVLLSLSSLLHNKRLRHLLWQEEAETATKSSCRKSESSSFSIKA\n",
      "NGASRSNLRPWKHPGSQPKTPCTNCYCKKVLLSLPSLFHNKRLRHLLWQEEAETTTKISSRQSDSSSFSIKA\n",
      "MEPVDPRLEPWKHPGSQPRTACTTCYCKKVLLSLPSLLHNKRLRHLLWQEEAETATKSSSRQSDSSSSSIKA\n",
      "MDPVDPRLEPWKHPGSRPKTACTTCYCKKVLLSLPSLFHNKRLRHLLWQEEAETATKTSSRQSDSSSFSIKA\n",
      "MEPVDPRLEPWKHPGSQPKTACTNCYCKKVLLSLPKMFHNKRLRHLLWQEEVETATKSKSGPSKSSSSSIKA\n",
      "MEPVDPRIEPWNHPGSQPKTACTTCYCKKVLLSLPSLFYVKRLKHFLWQEEAETKTKSSSRQRDSSRLSIKA\n",
      "EPVDPRLEPWKHPGSQPKTPCTNCYCKKKVLLSLPSLFRNKRLRHLLWQEEAGTATKNFSGRSEPSSSSTKA\n",
      "MEPIDPRLEPWKHPGSQPRTPCTNCYCKKVLLSLPSLFYNKRLRHLLWQEEAETATKSFSRQSDSSSFSIKA\n"
     ]
    }
   ],
   "source": [
    "mtx_files = glob.glob('/Users/greg/Desktop/FullNeuroIllumina/PatientFrequencyMatrix/*.csv')\n",
    "\n",
    "cols = ['A','R','N','D','C','Q','E','G','H','I',\n",
    "        'L','K','M','F','P','S','T','W','Y','V']\n",
    "\n",
    "for mtx_file in mtx_files:\n",
    "    mdf = pd.read_csv(mtx_file)\n",
    "    if mdf.shape[0] == 72:\n",
    "        a = mdf[cols].idxmax(axis=1, skipna=True)\n",
    "        print ''.join(list(a))"
   ]
  },
  {
   "cell_type": "markdown",
   "metadata": {},
   "source": [
    "# Matrix for each position"
   ]
  },
  {
   "cell_type": "code",
   "execution_count": 32,
   "metadata": {
    "collapsed": false
   },
   "outputs": [
    {
     "data": {
      "text/plain": [
       "'/Users/greg/Desktop/FullNeuroIllumina/PatientFrequencyMatrix/A0001-R09.PatientMatrix.csv'"
      ]
     },
     "execution_count": 32,
     "metadata": {},
     "output_type": "execute_result"
    }
   ],
   "source": [
    "mtx_files = glob.glob('/Users/greg/Desktop/FullNeuroIllumina/PatientFrequencyMatrix/*.csv')\n",
    "mtx_files[0]"
   ]
  }
 ],
 "metadata": {
  "kernelspec": {
   "display_name": "Python 2",
   "language": "python",
   "name": "python2"
  },
  "language_info": {
   "codemirror_mode": {
    "name": "ipython",
    "version": 2
   },
   "file_extension": ".py",
   "mimetype": "text/x-python",
   "name": "python",
   "nbconvert_exporter": "python",
   "pygments_lexer": "ipython2",
   "version": "2.7.11"
  }
 },
 "nbformat": 4,
 "nbformat_minor": 0
}
