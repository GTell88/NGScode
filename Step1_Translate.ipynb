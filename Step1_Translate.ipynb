{
 "cells": [
  {
   "cell_type": "markdown",
   "metadata": {},
   "source": [
    "# Abstract"
   ]
  },
  {
   "cell_type": "markdown",
   "metadata": {},
   "source": [
    "<p>This notebook processes translates all of the BAM files aligned to Tat exons 1 and 2. All of the translated files are saved in /FullNeuroIllumina/Counts/Tat1/ or /FullNeuroIllumina/Counts/Tat2/, depending on the exon being processed, as a .tsv file.</p>\n",
    "<p>Runing this notebook can take a long time because the translation steps are fairly slow.</p>\n",
    "<p>All of the analysis for this notebook can be considered complete<p>"
   ]
  },
  {
   "cell_type": "markdown",
   "metadata": {},
   "source": [
    "# Requirements"
   ]
  },
  {
   "cell_type": "code",
   "execution_count": 1,
   "metadata": {
    "collapsed": true
   },
   "outputs": [],
   "source": [
    "from __future__ import division\n",
    "import sys\n",
    "import pysam\n",
    "import glob\n",
    "import pandas as pd\n",
    "import numpy as np\n",
    "import itertools\n",
    "from collections import Counter\n",
    "from Bio.Seq import Seq\n",
    "from Bio.Alphabet import generic_dna\n",
    "import time\n",
    "from collections import defaultdict\n",
    "import csv\n",
    "from itertools import islice\n",
    "import matplotlib.pyplot as plt\n",
    "%matplotlib inline"
   ]
  },
  {
   "cell_type": "code",
   "execution_count": 2,
   "metadata": {
    "collapsed": true
   },
   "outputs": [],
   "source": [
    "sys.path.append('/Users/greg/damlarces/')\n",
    "from damlarces.NGSTools import ReadTools"
   ]
  },
  {
   "cell_type": "code",
   "execution_count": 3,
   "metadata": {
    "collapsed": false
   },
   "outputs": [
    {
     "name": "stdout",
     "output_type": "stream",
     "text": [
      "96\n",
      "/Users/greg/Desktop/FullNeuroIllumina/BAMs/A0001-R09.hivsorted.bam\n"
     ]
    }
   ],
   "source": [
    "files = glob.glob('/Users/greg/Desktop/FullNeuroIllumina/BAMs/*.bam')\n",
    "f = files[0]\n",
    "print len(files)\n",
    "print f"
   ]
  },
  {
   "cell_type": "code",
   "execution_count": 6,
   "metadata": {
    "collapsed": false
   },
   "outputs": [
    {
     "name": "stdout",
     "output_type": "stream",
     "text": [
      "/Users/greg/Desktop/tsvcheck.A0001-R09.tsv\n"
     ]
    }
   ],
   "source": [
    "#TESTING AND CHECKING\n",
    "out = '/Users/greg/Desktop/tsvcheck.A0001-R09.tsv'\n",
    "print out\n",
    "samfile = pysam.Samfile(f, mode='rb').fetch(region='HXB2:5800-6060')\n",
    "counts = defaultdict(int)\n",
    "it = ReadTools.SeqReadRecord.translate_from_stream(samfile, [('Tat1', 5830, 6045)])\n",
    "for orf in it:\n",
    "    for (read, ref), l in zip(orf.aligned_pairs, orf.seq):\n",
    "        if l != '-':\n",
    "            counts[(orf.chrom, ref, l)] += 1\n",
    "        if l == '*':\n",
    "            break\n",
    "with open(out, 'w') as handle:\n",
    "    writer = csv.writer(handle, delimiter = '\\t')\n",
    "    writer.writerow(('Prot', 'AAPos', 'AA', 'Count'))\n",
    "    for (prot, pos, l), n in sorted(counts.items()):\n",
    "        writer.writerow((prot, pos, l, n))"
   ]
  },
  {
   "cell_type": "code",
   "execution_count": 4,
   "metadata": {
    "collapsed": false
   },
   "outputs": [
    {
     "data": {
      "text/plain": [
       "[('Vpr', 5558, 5849),\n",
       " ('Tat1', 5830, 6044),\n",
       " ('Tat2', 8378, 8468),\n",
       " ('Rev1', 5969, 6044),\n",
       " ('Rev2', 8378, 8652),\n",
       " ('Vpu', 6061, 6309),\n",
       " ('Env', 6224, 8794)]"
      ]
     },
     "execution_count": 4,
     "metadata": {},
     "output_type": "execute_result"
    }
   ],
   "source": [
    "ReadTools.HXB2_ORFS[3:-1]"
   ]
  },
  {
   "cell_type": "code",
   "execution_count": 18,
   "metadata": {
    "collapsed": false
   },
   "outputs": [
    {
     "name": "stdout",
     "output_type": "stream",
     "text": [
      "/Users/greg/Desktop/FullNeuroIllumina/Counts/Tat1/A0001-R09.Tat1.AAcounts.tsv\n",
      "/Users/greg/Desktop/FullNeuroIllumina/Counts/Tat1/A0002-R11.Tat1.AAcounts.tsv\n",
      "/Users/greg/Desktop/FullNeuroIllumina/Counts/Tat1/A0004-R10.Tat1.AAcounts.tsv\n",
      "/Users/greg/Desktop/FullNeuroIllumina/Counts/Tat1/A0005-R05.Tat1.AAcounts.tsv\n",
      "/Users/greg/Desktop/FullNeuroIllumina/Counts/Tat1/A0010-R08.Tat1.AAcounts.tsv\n",
      "/Users/greg/Desktop/FullNeuroIllumina/Counts/Tat1/A0013-R09.Tat1.AAcounts.tsv\n",
      "/Users/greg/Desktop/FullNeuroIllumina/Counts/Tat1/A0019-R12.Tat1.AAcounts.tsv\n",
      "/Users/greg/Desktop/FullNeuroIllumina/Counts/Tat1/A0026-R09.Tat1.AAcounts.tsv\n",
      "/Users/greg/Desktop/FullNeuroIllumina/Counts/Tat1/A0032-R00-Frag04.Tat1.AAcounts.tsv\n",
      "/Users/greg/Desktop/FullNeuroIllumina/Counts/Tat1/A0032-R05.Tat1.AAcounts.tsv\n",
      "/Users/greg/Desktop/FullNeuroIllumina/Counts/Tat1/A0034-R04.Tat1.AAcounts.tsv\n",
      "/Users/greg/Desktop/FullNeuroIllumina/Counts/Tat1/A0036-R00-Frag04.Tat1.AAcounts.tsv\n",
      "/Users/greg/Desktop/FullNeuroIllumina/Counts/Tat1/A0038-R06.Tat1.AAcounts.tsv\n",
      "/Users/greg/Desktop/FullNeuroIllumina/Counts/Tat1/A0040-R05.Tat1.AAcounts.tsv\n",
      "/Users/greg/Desktop/FullNeuroIllumina/Counts/Tat1/A0044-R10.Tat1.AAcounts.tsv\n",
      "/Users/greg/Desktop/FullNeuroIllumina/Counts/Tat1/A0045-R03.Tat1.AAcounts.tsv\n",
      "/Users/greg/Desktop/FullNeuroIllumina/Counts/Tat1/A0056-R06.Tat1.AAcounts.tsv\n",
      "/Users/greg/Desktop/FullNeuroIllumina/Counts/Tat1/A0059-R08.Tat1.AAcounts.tsv\n",
      "/Users/greg/Desktop/FullNeuroIllumina/Counts/Tat1/A0067-R01-Frag21.Tat1.AAcounts.tsv\n",
      "/Users/greg/Desktop/FullNeuroIllumina/Counts/Tat1/A0068-R03.Tat1.AAcounts.tsv\n",
      "/Users/greg/Desktop/FullNeuroIllumina/Counts/Tat1/A0076-R04.Tat1.AAcounts.tsv\n",
      "/Users/greg/Desktop/FullNeuroIllumina/Counts/Tat1/A0078-R04.Tat1.AAcounts.tsv\n",
      "/Users/greg/Desktop/FullNeuroIllumina/Counts/Tat1/A0082-R06.Tat1.AAcounts.tsv\n",
      "/Users/greg/Desktop/FullNeuroIllumina/Counts/Tat1/A0083-R06.Tat1.AAcounts.tsv\n",
      "/Users/greg/Desktop/FullNeuroIllumina/Counts/Tat1/A0086-R04.Tat1.AAcounts.tsv\n",
      "/Users/greg/Desktop/FullNeuroIllumina/Counts/Tat1/A0093-R00-Frag21.Tat1.AAcounts.tsv\n",
      "/Users/greg/Desktop/FullNeuroIllumina/Counts/Tat1/A0097-R03.Tat1.AAcounts.tsv\n",
      "/Users/greg/Desktop/FullNeuroIllumina/Counts/Tat1/A0100-R08.Tat1.AAcounts.tsv\n",
      "/Users/greg/Desktop/FullNeuroIllumina/Counts/Tat1/A0109-R11.Tat1.AAcounts.tsv\n",
      "/Users/greg/Desktop/FullNeuroIllumina/Counts/Tat1/A0111-R05.Tat1.AAcounts.tsv\n",
      "/Users/greg/Desktop/FullNeuroIllumina/Counts/Tat1/A0120-R08.Tat1.AAcounts.tsv\n",
      "/Users/greg/Desktop/FullNeuroIllumina/Counts/Tat1/A0125-R04.Tat1.AAcounts.tsv\n",
      "/Users/greg/Desktop/FullNeuroIllumina/Counts/Tat1/A0133-R05.Tat1.AAcounts.tsv\n",
      "/Users/greg/Desktop/FullNeuroIllumina/Counts/Tat1/A0138-R06.Tat1.AAcounts.tsv\n",
      "/Users/greg/Desktop/FullNeuroIllumina/Counts/Tat1/A0139-R10.Tat1.AAcounts.tsv\n",
      "/Users/greg/Desktop/FullNeuroIllumina/Counts/Tat1/A0145-R08.Tat1.AAcounts.tsv\n",
      "/Users/greg/Desktop/FullNeuroIllumina/Counts/Tat1/A0151-R03.Tat1.AAcounts.tsv\n",
      "/Users/greg/Desktop/FullNeuroIllumina/Counts/Tat1/A0156-R06.Tat1.AAcounts.tsv\n",
      "/Users/greg/Desktop/FullNeuroIllumina/Counts/Tat1/A0171-R05.Tat1.AAcounts.tsv\n",
      "/Users/greg/Desktop/FullNeuroIllumina/Counts/Tat1/A0184-R06.Tat1.AAcounts.tsv\n",
      "/Users/greg/Desktop/FullNeuroIllumina/Counts/Tat1/A0190-R03.Tat1.AAcounts.tsv\n",
      "/Users/greg/Desktop/FullNeuroIllumina/Counts/Tat1/A0208-R05.Tat1.AAcounts.tsv\n",
      "/Users/greg/Desktop/FullNeuroIllumina/Counts/Tat1/A0209-R07.Tat1.AAcounts.tsv\n",
      "/Users/greg/Desktop/FullNeuroIllumina/Counts/Tat1/A0215-R09.Tat1.AAcounts.tsv\n",
      "/Users/greg/Desktop/FullNeuroIllumina/Counts/Tat1/A0218-R04.Tat1.AAcounts.tsv\n",
      "/Users/greg/Desktop/FullNeuroIllumina/Counts/Tat1/A0219-R03.Tat1.AAcounts.tsv\n",
      "/Users/greg/Desktop/FullNeuroIllumina/Counts/Tat1/A0227-R04.Tat1.AAcounts.tsv\n",
      "/Users/greg/Desktop/FullNeuroIllumina/Counts/Tat1/A0237-R03.Tat1.AAcounts.tsv\n",
      "/Users/greg/Desktop/FullNeuroIllumina/Counts/Tat1/A0239-R05.Tat1.AAcounts.tsv\n",
      "/Users/greg/Desktop/FullNeuroIllumina/Counts/Tat1/A0247-R08.Tat1.AAcounts.tsv\n",
      "/Users/greg/Desktop/FullNeuroIllumina/Counts/Tat1/A0248-R06.Tat1.AAcounts.tsv\n",
      "/Users/greg/Desktop/FullNeuroIllumina/Counts/Tat1/A0254-R03.Tat1.AAcounts.tsv\n",
      "/Users/greg/Desktop/FullNeuroIllumina/Counts/Tat1/A0256-R05.Tat1.AAcounts.tsv\n",
      "/Users/greg/Desktop/FullNeuroIllumina/Counts/Tat1/A0257-R05.Tat1.AAcounts.tsv\n",
      "/Users/greg/Desktop/FullNeuroIllumina/Counts/Tat1/A0258-R04.Tat1.AAcounts.tsv\n",
      "/Users/greg/Desktop/FullNeuroIllumina/Counts/Tat1/A0268-R02.Tat1.AAcounts.tsv\n",
      "/Users/greg/Desktop/FullNeuroIllumina/Counts/Tat1/A0274-R06.Tat1.AAcounts.tsv\n",
      "/Users/greg/Desktop/FullNeuroIllumina/Counts/Tat1/A0278-R05.Tat1.AAcounts.tsv\n",
      "/Users/greg/Desktop/FullNeuroIllumina/Counts/Tat1/A0284-R09.Tat1.AAcounts.tsv\n",
      "/Users/greg/Desktop/FullNeuroIllumina/Counts/Tat1/A0285-R05.Tat1.AAcounts.tsv\n",
      "/Users/greg/Desktop/FullNeuroIllumina/Counts/Tat1/A0303-R02.Tat1.AAcounts.tsv\n",
      "/Users/greg/Desktop/FullNeuroIllumina/Counts/Tat1/A0310-R04.Tat1.AAcounts.tsv\n",
      "/Users/greg/Desktop/FullNeuroIllumina/Counts/Tat1/A0318-R03.Tat1.AAcounts.tsv\n",
      "/Users/greg/Desktop/FullNeuroIllumina/Counts/Tat1/A0325-R03.Tat1.AAcounts.tsv\n",
      "/Users/greg/Desktop/FullNeuroIllumina/Counts/Tat1/A0333-R06.Tat1.AAcounts.tsv\n",
      "/Users/greg/Desktop/FullNeuroIllumina/Counts/Tat1/A0342-R03.Tat1.AAcounts.tsv\n",
      "/Users/greg/Desktop/FullNeuroIllumina/Counts/Tat1/A0343-R05.Tat1.AAcounts.tsv\n",
      "/Users/greg/Desktop/FullNeuroIllumina/Counts/Tat1/A0349-R04.Tat1.AAcounts.tsv\n",
      "/Users/greg/Desktop/FullNeuroIllumina/Counts/Tat1/A0357-R04.Tat1.AAcounts.tsv\n",
      "/Users/greg/Desktop/FullNeuroIllumina/Counts/Tat1/A0359-R07.Tat1.AAcounts.tsv\n",
      "/Users/greg/Desktop/FullNeuroIllumina/Counts/Tat1/A0364-R03.Tat1.AAcounts.tsv\n",
      "/Users/greg/Desktop/FullNeuroIllumina/Counts/Tat1/A0367-R07.Tat1.AAcounts.tsv\n",
      "/Users/greg/Desktop/FullNeuroIllumina/Counts/Tat1/A0379-R06.Tat1.AAcounts.tsv\n",
      "/Users/greg/Desktop/FullNeuroIllumina/Counts/Tat1/A0380-R05.Tat1.AAcounts.tsv\n",
      "/Users/greg/Desktop/FullNeuroIllumina/Counts/Tat1/A0388-R04.Tat1.AAcounts.tsv\n",
      "/Users/greg/Desktop/FullNeuroIllumina/Counts/Tat1/A0389-R07.Tat1.AAcounts.tsv\n",
      "/Users/greg/Desktop/FullNeuroIllumina/Counts/Tat1/A0413-R07.Tat1.AAcounts.tsv\n",
      "/Users/greg/Desktop/FullNeuroIllumina/Counts/Tat1/A0415-R04.Tat1.AAcounts.tsv\n",
      "/Users/greg/Desktop/FullNeuroIllumina/Counts/Tat1/A0417-R03.Tat1.AAcounts.tsv\n",
      "/Users/greg/Desktop/FullNeuroIllumina/Counts/Tat1/A0421-R03.Tat1.AAcounts.tsv\n",
      "/Users/greg/Desktop/FullNeuroIllumina/Counts/Tat1/A0421-R04.Tat1.AAcounts.tsv\n",
      "/Users/greg/Desktop/FullNeuroIllumina/Counts/Tat1/A0429-R04.Tat1.AAcounts.tsv\n",
      "/Users/greg/Desktop/FullNeuroIllumina/Counts/Tat1/A0431-R02.Tat1.AAcounts.tsv\n",
      "/Users/greg/Desktop/FullNeuroIllumina/Counts/Tat1/A0446-R04.Tat1.AAcounts.tsv\n",
      "/Users/greg/Desktop/FullNeuroIllumina/Counts/Tat1/A0451-R03.Tat1.AAcounts.tsv\n",
      "/Users/greg/Desktop/FullNeuroIllumina/Counts/Tat1/A0465-R03.Tat1.AAcounts.tsv\n",
      "/Users/greg/Desktop/FullNeuroIllumina/Counts/Tat1/A0470-R02.Tat1.AAcounts.tsv\n",
      "/Users/greg/Desktop/FullNeuroIllumina/Counts/Tat1/A0474-R03.Tat1.AAcounts.tsv\n",
      "/Users/greg/Desktop/FullNeuroIllumina/Counts/Tat1/A0477-R03.Tat1.AAcounts.tsv\n",
      "/Users/greg/Desktop/FullNeuroIllumina/Counts/Tat1/A0485-R02.Tat1.AAcounts.tsv\n",
      "/Users/greg/Desktop/FullNeuroIllumina/Counts/Tat1/A0490-R02.Tat1.AAcounts.tsv\n",
      "/Users/greg/Desktop/FullNeuroIllumina/Counts/Tat1/A0495-R02.Tat1.AAcounts.tsv\n",
      "/Users/greg/Desktop/FullNeuroIllumina/Counts/Tat1/A0500-R03.Tat1.AAcounts.tsv\n",
      "/Users/greg/Desktop/FullNeuroIllumina/Counts/Tat1/A0503-R04.Tat1.AAcounts.tsv\n",
      "/Users/greg/Desktop/FullNeuroIllumina/Counts/Tat1/A0505-R02.Tat1.AAcounts.tsv\n",
      "/Users/greg/Desktop/FullNeuroIllumina/Counts/Tat1/A0520-R02.Tat1.AAcounts.tsv\n"
     ]
    }
   ],
   "source": [
    "for f in files:\n",
    "    out = f.replace('hivsorted.bam', 'Tat1.AAcounts.tsv').replace('/BAMs/', '/Counts/Tat1/')\n",
    "    print out\n",
    "    samfile = pysam.Samfile(f, mode='rb').fetch(region='HXB2:5800-6060')\n",
    "    counts = defaultdict(int)\n",
    "    it = ReadTools.SeqReadRecord.translate_from_stream(samfile, [('Tat1', 5830, 6044)])\n",
    "    for orf in it:\n",
    "        for (read, ref), l in zip(orf.aligned_pairs, orf.seq):\n",
    "            if l != '-':\n",
    "                counts[(orf.chrom, ref, l)] += 1\n",
    "            if l == '*':\n",
    "                break\n",
    "    with open(out, 'w') as handle:\n",
    "        writer = csv.writer(handle, delimiter = '\\t')\n",
    "        writer.writerow(('Prot', 'AAPos', 'AA', 'Count'))\n",
    "        for (prot, pos, l), n in sorted(counts.items()):\n",
    "            writer.writerow((prot, pos, l, n))"
   ]
  },
  {
   "cell_type": "code",
   "execution_count": 19,
   "metadata": {
    "collapsed": false
   },
   "outputs": [
    {
     "name": "stdout",
     "output_type": "stream",
     "text": [
      "/Users/greg/Desktop/FullNeuroIllumina/Counts/Tat2/A0001-R09.Tat2.AAcounts.tsv\n",
      "/Users/greg/Desktop/FullNeuroIllumina/Counts/Tat2/A0002-R11.Tat2.AAcounts.tsv\n",
      "/Users/greg/Desktop/FullNeuroIllumina/Counts/Tat2/A0004-R10.Tat2.AAcounts.tsv\n",
      "/Users/greg/Desktop/FullNeuroIllumina/Counts/Tat2/A0005-R05.Tat2.AAcounts.tsv\n",
      "/Users/greg/Desktop/FullNeuroIllumina/Counts/Tat2/A0010-R08.Tat2.AAcounts.tsv\n",
      "/Users/greg/Desktop/FullNeuroIllumina/Counts/Tat2/A0013-R09.Tat2.AAcounts.tsv\n",
      "/Users/greg/Desktop/FullNeuroIllumina/Counts/Tat2/A0019-R12.Tat2.AAcounts.tsv\n",
      "/Users/greg/Desktop/FullNeuroIllumina/Counts/Tat2/A0026-R09.Tat2.AAcounts.tsv\n",
      "/Users/greg/Desktop/FullNeuroIllumina/Counts/Tat2/A0032-R00-Frag04.Tat2.AAcounts.tsv\n",
      "/Users/greg/Desktop/FullNeuroIllumina/Counts/Tat2/A0032-R05.Tat2.AAcounts.tsv\n",
      "/Users/greg/Desktop/FullNeuroIllumina/Counts/Tat2/A0034-R04.Tat2.AAcounts.tsv\n",
      "/Users/greg/Desktop/FullNeuroIllumina/Counts/Tat2/A0036-R00-Frag04.Tat2.AAcounts.tsv\n",
      "/Users/greg/Desktop/FullNeuroIllumina/Counts/Tat2/A0038-R06.Tat2.AAcounts.tsv\n",
      "/Users/greg/Desktop/FullNeuroIllumina/Counts/Tat2/A0040-R05.Tat2.AAcounts.tsv\n",
      "/Users/greg/Desktop/FullNeuroIllumina/Counts/Tat2/A0044-R10.Tat2.AAcounts.tsv\n",
      "/Users/greg/Desktop/FullNeuroIllumina/Counts/Tat2/A0045-R03.Tat2.AAcounts.tsv\n",
      "/Users/greg/Desktop/FullNeuroIllumina/Counts/Tat2/A0056-R06.Tat2.AAcounts.tsv\n",
      "/Users/greg/Desktop/FullNeuroIllumina/Counts/Tat2/A0059-R08.Tat2.AAcounts.tsv\n",
      "/Users/greg/Desktop/FullNeuroIllumina/Counts/Tat2/A0067-R01-Frag21.Tat2.AAcounts.tsv\n",
      "/Users/greg/Desktop/FullNeuroIllumina/Counts/Tat2/A0068-R03.Tat2.AAcounts.tsv\n",
      "/Users/greg/Desktop/FullNeuroIllumina/Counts/Tat2/A0076-R04.Tat2.AAcounts.tsv\n",
      "/Users/greg/Desktop/FullNeuroIllumina/Counts/Tat2/A0078-R04.Tat2.AAcounts.tsv\n",
      "/Users/greg/Desktop/FullNeuroIllumina/Counts/Tat2/A0082-R06.Tat2.AAcounts.tsv\n",
      "/Users/greg/Desktop/FullNeuroIllumina/Counts/Tat2/A0083-R06.Tat2.AAcounts.tsv\n",
      "/Users/greg/Desktop/FullNeuroIllumina/Counts/Tat2/A0086-R04.Tat2.AAcounts.tsv\n",
      "/Users/greg/Desktop/FullNeuroIllumina/Counts/Tat2/A0093-R00-Frag21.Tat2.AAcounts.tsv\n",
      "/Users/greg/Desktop/FullNeuroIllumina/Counts/Tat2/A0097-R03.Tat2.AAcounts.tsv\n",
      "/Users/greg/Desktop/FullNeuroIllumina/Counts/Tat2/A0100-R08.Tat2.AAcounts.tsv\n",
      "/Users/greg/Desktop/FullNeuroIllumina/Counts/Tat2/A0109-R11.Tat2.AAcounts.tsv\n",
      "/Users/greg/Desktop/FullNeuroIllumina/Counts/Tat2/A0111-R05.Tat2.AAcounts.tsv\n",
      "/Users/greg/Desktop/FullNeuroIllumina/Counts/Tat2/A0120-R08.Tat2.AAcounts.tsv\n",
      "/Users/greg/Desktop/FullNeuroIllumina/Counts/Tat2/A0125-R04.Tat2.AAcounts.tsv\n",
      "/Users/greg/Desktop/FullNeuroIllumina/Counts/Tat2/A0133-R05.Tat2.AAcounts.tsv\n",
      "/Users/greg/Desktop/FullNeuroIllumina/Counts/Tat2/A0138-R06.Tat2.AAcounts.tsv\n",
      "/Users/greg/Desktop/FullNeuroIllumina/Counts/Tat2/A0139-R10.Tat2.AAcounts.tsv\n",
      "/Users/greg/Desktop/FullNeuroIllumina/Counts/Tat2/A0145-R08.Tat2.AAcounts.tsv\n",
      "/Users/greg/Desktop/FullNeuroIllumina/Counts/Tat2/A0151-R03.Tat2.AAcounts.tsv\n",
      "/Users/greg/Desktop/FullNeuroIllumina/Counts/Tat2/A0156-R06.Tat2.AAcounts.tsv\n",
      "/Users/greg/Desktop/FullNeuroIllumina/Counts/Tat2/A0171-R05.Tat2.AAcounts.tsv\n",
      "/Users/greg/Desktop/FullNeuroIllumina/Counts/Tat2/A0184-R06.Tat2.AAcounts.tsv\n",
      "/Users/greg/Desktop/FullNeuroIllumina/Counts/Tat2/A0190-R03.Tat2.AAcounts.tsv\n",
      "/Users/greg/Desktop/FullNeuroIllumina/Counts/Tat2/A0208-R05.Tat2.AAcounts.tsv\n",
      "/Users/greg/Desktop/FullNeuroIllumina/Counts/Tat2/A0209-R07.Tat2.AAcounts.tsv\n",
      "/Users/greg/Desktop/FullNeuroIllumina/Counts/Tat2/A0215-R09.Tat2.AAcounts.tsv\n",
      "/Users/greg/Desktop/FullNeuroIllumina/Counts/Tat2/A0218-R04.Tat2.AAcounts.tsv\n",
      "/Users/greg/Desktop/FullNeuroIllumina/Counts/Tat2/A0219-R03.Tat2.AAcounts.tsv\n",
      "/Users/greg/Desktop/FullNeuroIllumina/Counts/Tat2/A0227-R04.Tat2.AAcounts.tsv\n",
      "/Users/greg/Desktop/FullNeuroIllumina/Counts/Tat2/A0237-R03.Tat2.AAcounts.tsv\n",
      "/Users/greg/Desktop/FullNeuroIllumina/Counts/Tat2/A0239-R05.Tat2.AAcounts.tsv\n",
      "/Users/greg/Desktop/FullNeuroIllumina/Counts/Tat2/A0247-R08.Tat2.AAcounts.tsv\n",
      "/Users/greg/Desktop/FullNeuroIllumina/Counts/Tat2/A0248-R06.Tat2.AAcounts.tsv\n",
      "/Users/greg/Desktop/FullNeuroIllumina/Counts/Tat2/A0254-R03.Tat2.AAcounts.tsv\n",
      "/Users/greg/Desktop/FullNeuroIllumina/Counts/Tat2/A0256-R05.Tat2.AAcounts.tsv\n",
      "/Users/greg/Desktop/FullNeuroIllumina/Counts/Tat2/A0257-R05.Tat2.AAcounts.tsv\n",
      "/Users/greg/Desktop/FullNeuroIllumina/Counts/Tat2/A0258-R04.Tat2.AAcounts.tsv\n",
      "/Users/greg/Desktop/FullNeuroIllumina/Counts/Tat2/A0268-R02.Tat2.AAcounts.tsv\n",
      "/Users/greg/Desktop/FullNeuroIllumina/Counts/Tat2/A0274-R06.Tat2.AAcounts.tsv\n",
      "/Users/greg/Desktop/FullNeuroIllumina/Counts/Tat2/A0278-R05.Tat2.AAcounts.tsv\n",
      "/Users/greg/Desktop/FullNeuroIllumina/Counts/Tat2/A0284-R09.Tat2.AAcounts.tsv\n",
      "/Users/greg/Desktop/FullNeuroIllumina/Counts/Tat2/A0285-R05.Tat2.AAcounts.tsv\n",
      "/Users/greg/Desktop/FullNeuroIllumina/Counts/Tat2/A0303-R02.Tat2.AAcounts.tsv\n",
      "/Users/greg/Desktop/FullNeuroIllumina/Counts/Tat2/A0310-R04.Tat2.AAcounts.tsv\n",
      "/Users/greg/Desktop/FullNeuroIllumina/Counts/Tat2/A0318-R03.Tat2.AAcounts.tsv\n",
      "/Users/greg/Desktop/FullNeuroIllumina/Counts/Tat2/A0325-R03.Tat2.AAcounts.tsv\n",
      "/Users/greg/Desktop/FullNeuroIllumina/Counts/Tat2/A0333-R06.Tat2.AAcounts.tsv\n",
      "/Users/greg/Desktop/FullNeuroIllumina/Counts/Tat2/A0342-R03.Tat2.AAcounts.tsv\n",
      "/Users/greg/Desktop/FullNeuroIllumina/Counts/Tat2/A0343-R05.Tat2.AAcounts.tsv\n",
      "/Users/greg/Desktop/FullNeuroIllumina/Counts/Tat2/A0349-R04.Tat2.AAcounts.tsv\n",
      "/Users/greg/Desktop/FullNeuroIllumina/Counts/Tat2/A0357-R04.Tat2.AAcounts.tsv\n",
      "/Users/greg/Desktop/FullNeuroIllumina/Counts/Tat2/A0359-R07.Tat2.AAcounts.tsv\n",
      "/Users/greg/Desktop/FullNeuroIllumina/Counts/Tat2/A0364-R03.Tat2.AAcounts.tsv\n",
      "/Users/greg/Desktop/FullNeuroIllumina/Counts/Tat2/A0367-R07.Tat2.AAcounts.tsv\n",
      "/Users/greg/Desktop/FullNeuroIllumina/Counts/Tat2/A0379-R06.Tat2.AAcounts.tsv\n",
      "/Users/greg/Desktop/FullNeuroIllumina/Counts/Tat2/A0380-R05.Tat2.AAcounts.tsv\n",
      "/Users/greg/Desktop/FullNeuroIllumina/Counts/Tat2/A0388-R04.Tat2.AAcounts.tsv\n",
      "/Users/greg/Desktop/FullNeuroIllumina/Counts/Tat2/A0389-R07.Tat2.AAcounts.tsv\n",
      "/Users/greg/Desktop/FullNeuroIllumina/Counts/Tat2/A0413-R07.Tat2.AAcounts.tsv\n",
      "/Users/greg/Desktop/FullNeuroIllumina/Counts/Tat2/A0415-R04.Tat2.AAcounts.tsv\n",
      "/Users/greg/Desktop/FullNeuroIllumina/Counts/Tat2/A0417-R03.Tat2.AAcounts.tsv\n",
      "/Users/greg/Desktop/FullNeuroIllumina/Counts/Tat2/A0421-R03.Tat2.AAcounts.tsv\n",
      "/Users/greg/Desktop/FullNeuroIllumina/Counts/Tat2/A0421-R04.Tat2.AAcounts.tsv\n",
      "/Users/greg/Desktop/FullNeuroIllumina/Counts/Tat2/A0429-R04.Tat2.AAcounts.tsv\n",
      "/Users/greg/Desktop/FullNeuroIllumina/Counts/Tat2/A0431-R02.Tat2.AAcounts.tsv\n",
      "/Users/greg/Desktop/FullNeuroIllumina/Counts/Tat2/A0446-R04.Tat2.AAcounts.tsv\n",
      "/Users/greg/Desktop/FullNeuroIllumina/Counts/Tat2/A0451-R03.Tat2.AAcounts.tsv\n",
      "/Users/greg/Desktop/FullNeuroIllumina/Counts/Tat2/A0465-R03.Tat2.AAcounts.tsv\n",
      "/Users/greg/Desktop/FullNeuroIllumina/Counts/Tat2/A0470-R02.Tat2.AAcounts.tsv\n",
      "/Users/greg/Desktop/FullNeuroIllumina/Counts/Tat2/A0474-R03.Tat2.AAcounts.tsv\n",
      "/Users/greg/Desktop/FullNeuroIllumina/Counts/Tat2/A0477-R03.Tat2.AAcounts.tsv\n",
      "/Users/greg/Desktop/FullNeuroIllumina/Counts/Tat2/A0485-R02.Tat2.AAcounts.tsv\n",
      "/Users/greg/Desktop/FullNeuroIllumina/Counts/Tat2/A0490-R02.Tat2.AAcounts.tsv\n",
      "/Users/greg/Desktop/FullNeuroIllumina/Counts/Tat2/A0495-R02.Tat2.AAcounts.tsv\n",
      "/Users/greg/Desktop/FullNeuroIllumina/Counts/Tat2/A0500-R03.Tat2.AAcounts.tsv\n",
      "/Users/greg/Desktop/FullNeuroIllumina/Counts/Tat2/A0503-R04.Tat2.AAcounts.tsv\n",
      "/Users/greg/Desktop/FullNeuroIllumina/Counts/Tat2/A0505-R02.Tat2.AAcounts.tsv\n",
      "/Users/greg/Desktop/FullNeuroIllumina/Counts/Tat2/A0520-R02.Tat2.AAcounts.tsv\n"
     ]
    }
   ],
   "source": [
    "for f in files:\n",
    "    out = f.replace('hivsorted.bam', 'Tat2.AAcounts.tsv').replace('/BAMs/', '/Counts/Tat2/')\n",
    "    print out\n",
    "    samfile = pysam.Samfile(f, mode='rb').fetch(region='HXB2:8370-8480')\n",
    "    counts = defaultdict(int)\n",
    "    it = ReadTools.SeqReadRecord.translate_from_stream(samfile, [('Tat2', 8378, 8468)])\n",
    "    for orf in it:\n",
    "        for (read, ref), l in zip(orf.aligned_pairs, orf.seq):\n",
    "            if l != '-':\n",
    "                counts[(orf.chrom, ref, l)] += 1\n",
    "            if l == '*':\n",
    "                break\n",
    "    with open(out, 'w') as handle:\n",
    "        writer = csv.writer(handle, delimiter = '\\t')\n",
    "        writer.writerow(('Prot', 'AAPos', 'AA', 'Count'))\n",
    "        for (prot, pos, l), n in sorted(counts.items()):\n",
    "            writer.writerow((prot, pos, l, n))"
   ]
  }
 ],
 "metadata": {
  "kernelspec": {
   "display_name": "Python 2",
   "language": "python",
   "name": "python2"
  },
  "language_info": {
   "codemirror_mode": {
    "name": "ipython",
    "version": 2
   },
   "file_extension": ".py",
   "mimetype": "text/x-python",
   "name": "python",
   "nbconvert_exporter": "python",
   "pygments_lexer": "ipython2",
   "version": "2.7.11"
  }
 },
 "nbformat": 4,
 "nbformat_minor": 0
}
