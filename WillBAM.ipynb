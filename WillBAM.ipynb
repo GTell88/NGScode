{
 "cells": [
  {
   "cell_type": "code",
   "execution_count": 2,
   "metadata": {
    "collapsed": true
   },
   "outputs": [],
   "source": [
    "from __future__ import division\n",
    "import pysam\n",
    "import glob\n",
    "import pandas as pd\n",
    "import numpy as np\n",
    "import itertools\n",
    "from collections import Counter\n",
    "from Bio.Seq import Seq\n",
    "from Bio.Alphabet import generic_dna\n",
    "import time\n",
    "import sys\n",
    "sys.path.append('/Users/greg/damlarces/damlarces/NGSTools')\n",
    "import ReadTools\n",
    "import matplotlib.pyplot as plt\n",
    "%matplotlib inline"
   ]
  },
  {
   "cell_type": "code",
   "execution_count": 3,
   "metadata": {
    "collapsed": false
   },
   "outputs": [
    {
     "name": "stdout",
     "output_type": "stream",
     "text": [
      "/Users/greg/Desktop/FullNeuroIllumina/A0001-R09.hivsorted.bam\n",
      "5830\n",
      "6045\n"
     ]
    }
   ],
   "source": [
    "filepath = '/Users/greg/Desktop/FullNeuroIllumina/A0001-R09.hivsorted.bam'\n",
    "print filepath\n",
    "start=5830\n",
    "stop=6045\n",
    "print start\n",
    "print stop"
   ]
  },
  {
   "cell_type": "code",
   "execution_count": 26,
   "metadata": {
    "collapsed": false
   },
   "outputs": [
    {
     "name": "stdout",
     "output_type": "stream",
     "text": [
      "72 ME----------------------------------------------------------------------\n",
      "72 ME----------------------------------------------------------------------\n",
      "72 ME----------------------------------------------------------------------\n",
      "72 ME----------------------------------------------------------------------\n",
      "72 ME----------------------------------------------------------------------\n",
      "72 ME----------------------------------------------------------------------\n",
      "72 MD----------------------------------------------------------------------\n",
      "72 ME----------------------------------------------------------------------\n",
      "72 ME----------------------------------------------------------------------\n",
      "111043\n"
     ]
    }
   ],
   "source": [
    "r=0\n",
    "samfile = pysam.Samfile(filepath, mode='rb')\n",
    "read_stream = samfile.fetch(reference='HXB2', start=5829, end=6046)\n",
    "for orf in ReadTools.SeqReadRecord.translate_from_stream(\n",
    "    read_stream, [('tat1', 5829, 6045)], chrom='HXB2', clip=True):\n",
    "    r+=1\n",
    "    if r < 10:\n",
    "        print len(orf.seq), orf.seq\n",
    "print r"
   ]
  },
  {
   "cell_type": "code",
   "execution_count": null,
   "metadata": {
    "collapsed": false
   },
   "outputs": [],
   "source": [
    "\n",
    "    "
   ]
  },
  {
   "cell_type": "code",
   "execution_count": null,
   "metadata": {
    "collapsed": false
   },
   "outputs": [],
   "source": []
  },
  {
   "cell_type": "code",
   "execution_count": null,
   "metadata": {
    "collapsed": false
   },
   "outputs": [],
   "source": [
    "samfile = pysam.AlignmentFile(filepath, 'rb')\n",
    "samfile"
   ]
  },
  {
   "cell_type": "code",
   "execution_count": null,
   "metadata": {
    "collapsed": false
   },
   "outputs": [],
   "source": [
    "# old\n",
    "\n",
    "samfile = pysam.AlignmentFile(filepath, 'rb')\n",
    "iter_reads = samfile.fetch(reference='HXB2', start=5831, end=6045)\n",
    "\n",
    "tatorf = [('Tat1', 5831, 6045)]\n",
    "\n",
    "\n",
    "for read in iter_reads:\n",
    "    try:\n",
    "        readrecord = ReadTools.SeqReadRecord.from_pysam(read)\n",
    "    except:\n",
    "        \n",
    "    for orf in readrecord.translate(tatorf):\n",
    "        print str(orf.seq)\n",
    "        break"
   ]
  },
  {
   "cell_type": "code",
   "execution_count": null,
   "metadata": {
    "collapsed": true
   },
   "outputs": [],
   "source": []
  }
 ],
 "metadata": {
  "kernelspec": {
   "display_name": "Python 2",
   "language": "python",
   "name": "python2"
  },
  "language_info": {
   "codemirror_mode": {
    "name": "ipython",
    "version": 2
   },
   "file_extension": ".py",
   "mimetype": "text/x-python",
   "name": "python",
   "nbconvert_exporter": "python",
   "pygments_lexer": "ipython2",
   "version": "2.7.11"
  }
 },
 "nbformat": 4,
 "nbformat_minor": 0
}
