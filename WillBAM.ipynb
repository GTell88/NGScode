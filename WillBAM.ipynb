{
 "cells": [
  {
   "cell_type": "code",
   "execution_count": 1,
   "metadata": {
    "collapsed": true
   },
   "outputs": [],
   "source": [
    "import pysam\n",
    "import sys\n",
    "sys.path.append('/Users/greg/damlarces/damlarces/NGSTools')\n",
    "import ReadTools"
   ]
  },
  {
   "cell_type": "code",
   "execution_count": null,
   "metadata": {
    "collapsed": false
   },
   "outputs": [],
   "source": [
    "filepath = '/Users/greg/Desktop/FullNeuroIllumina/A0001-R09.hivsorted.bam'\n",
    "print filepath\n",
    "\n",
    "samfile = pysam.AlignmentFile(filepath, 'rb')\n",
    "iter_reads = samfile.fetch(reference='HXB2', start=5831, end=6045)\n",
    "\n",
    "tatorf = [('Tat1', 5831, 6045)]\n",
    "\n",
    "\n",
    "for read in iter_reads:\n",
    "    try:\n",
    "        readrecord = ReadTools.SeqReadRecord.from_pysam(read)\n",
    "    except:\n",
    "        \n",
    "    for orf in readrecord.translate(tatorf):\n",
    "        print str(orf.seq)\n",
    "        break"
   ]
  }
 ],
 "metadata": {
  "kernelspec": {
   "display_name": "Python 2",
   "language": "python",
   "name": "python2"
  },
  "language_info": {
   "codemirror_mode": {
    "name": "ipython",
    "version": 2
   },
   "file_extension": ".py",
   "mimetype": "text/x-python",
   "name": "python",
   "nbconvert_exporter": "python",
   "pygments_lexer": "ipython2",
   "version": "2.7.11"
  }
 },
 "nbformat": 4,
 "nbformat_minor": 0
}
